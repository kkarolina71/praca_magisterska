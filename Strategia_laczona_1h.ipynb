{
 "cells": [
  {
   "cell_type": "code",
   "execution_count": 162,
   "id": "529e9241",
   "metadata": {},
   "outputs": [],
   "source": [
    "import pandas as pd\n",
    "import backtesting\n",
    "# from backtesting import Backtest, Strategy\n",
    "from backtesting.lib import SignalStrategy, TrailingStrategy\n",
    "from backtesting import *\n",
    "import numpy as np\n",
    "from datetime import timedelta\n",
    "import warnings\n",
    "warnings.filterwarnings(\"ignore\")\n",
    "\n",
    "import ipywidgets as widgets\n",
    "import matplotlib.pyplot as plt"
   ]
  },
  {
   "cell_type": "code",
   "execution_count": 163,
   "id": "3841eac8",
   "metadata": {},
   "outputs": [],
   "source": [
    "data = pd.read_csv('data/decisions_EURUSD_1H.csv')\n",
    "#data = pd.read_csv('data/decisions_EURUSD_5Y.csv')\n"
   ]
  },
  {
   "cell_type": "code",
   "execution_count": 164,
   "id": "82ab7f20",
   "metadata": {},
   "outputs": [],
   "source": [
    "\n",
    "data = pd.read_csv('data/decisions_EURUSD_1H.csv')\n",
    "#data = pd.read_csv('data/decisions_EURUSD_5Y.csv')\n",
    "\n",
    "\n",
    "data = data.set_index(pd.DatetimeIndex(data['data_datetime']))\n",
    "#data = data.set_index(pd.DatetimeIndex(data['Date']))"
   ]
  },
  {
   "cell_type": "code",
   "execution_count": 156,
   "id": "2b4a306f",
   "metadata": {},
   "outputs": [
    {
     "data": {
      "text/plain": [
       "1284"
      ]
     },
     "execution_count": 156,
     "metadata": {},
     "output_type": "execute_result"
    }
   ],
   "source": [
    "len(data)"
   ]
  },
  {
   "cell_type": "code",
   "execution_count": 135,
   "id": "24c2ef98",
   "metadata": {},
   "outputs": [
    {
     "name": "stdout",
     "output_type": "stream",
     "text": [
      "rsi_count 0\n",
      "williams_count 0\n",
      "ma_count 3\n",
      "macd_count 0\n",
      "bb_count 0\n"
     ]
    }
   ],
   "source": [
    "# Zliczenie przypadków, w których wartości są przeciwne\n",
    "\n",
    "rsi_count = ((data['dec_rsi'] == 1) & (data['Signal_RSI_fuzz_system'] == -1) | (data['dec_rsi'] == -1) & (data['Signal_RSI_fuzz_system'] == 1)).sum()\n",
    "print(\"rsi_count\", rsi_count)\n",
    "\n",
    "williams_count = ((data['dec_will'] == 1) & (data['Signal_william_fuzz_system'] == -1) | (data['dec_will'] == -1) & (data['Signal_william_fuzz_system'] == 1)).sum()\n",
    "print(\"williams_count\", williams_count)\n",
    "\n",
    "# cross_MA - ostre decyzje\n",
    "ma_count = ((data['cross_MA'] == 1) & (data['fuzz_MA_strategy'] == -1) | (data['cross_MA'] == -1) & (data['fuzz_MA_strategy'] == 1)).sum()\n",
    "print(\"ma_count\", ma_count)\n",
    "\n",
    "macd_count = ((data['MACD_decision'] == 1) & (data['fuzz_MACD_strategy'] == -1) | (data['MACD_decision'] == -1) & (data['fuzz_MACD_strategy'] == 1)).sum()\n",
    "print(\"macd_count\", macd_count)\n",
    "\n",
    "\n",
    "bb_count = ((data['dec_bollinger'] == 1) & (data['fuzz_BB_strategy'] == -1) | (data['dec_bollinger'] == -1) & (data['fuzz_BB_strategy'] == 1)).sum()\n",
    "\n",
    "print(\"bb_count\", bb_count)\n"
   ]
  },
  {
   "cell_type": "code",
   "execution_count": 116,
   "id": "ce722589",
   "metadata": {},
   "outputs": [
    {
     "name": "stdout",
     "output_type": "stream",
     "text": [
      "rsi_count 1168\n",
      "williams_count 2894\n",
      "ma_count 43\n",
      "macd_count 11\n",
      "bb_count 442\n"
     ]
    }
   ],
   "source": [
    "# Zliczenie przypadków, w których wartości są takie same\n",
    "\n",
    "rsi_count = ((data['dec_rsi'] == - 1) & (data['Signal_RSI_fuzz_system'] == -1) | (data['dec_rsi'] == 1) & (data['Signal_RSI_fuzz_system'] == 1)).sum()\n",
    "print(\"rsi_count\", rsi_count)\n",
    "\n",
    "williams_count = ((data['dec_will'] == -1) & (data['Signal_william_fuzz_system'] == -1) | (data['dec_will'] == 1) & (data['Signal_william_fuzz_system'] == 1)).sum()\n",
    "print(\"williams_count\", williams_count)\n",
    "\n",
    "# cross_MA - ostre decyzje\n",
    "ma_count = ((data['cross_MA'] == -1) & (data['fuzz_MA_strategy'] == -1) | (data['cross_MA'] == 1) & (data['fuzz_MA_strategy'] == 1)).sum()\n",
    "print(\"ma_count\", ma_count)\n",
    "\n",
    "macd_count = ((data['MACD_decision'] == -1) & (data['fuzz_MACD_strategy'] == -1) | (data['MACD_decision'] == 1) & (data['fuzz_MACD_strategy'] == 1)).sum()\n",
    "print(\"macd_count\", macd_count)\n",
    "\n",
    "\n",
    "bb_count = ((data['dec_bollinger'] == -1) & (data['fuzz_BB_strategy'] == -1) | (data['dec_bollinger'] == 1) & (data['fuzz_BB_strategy'] == 1)).sum()\n",
    "\n",
    "print(\"bb_count\", bb_count)\n"
   ]
  },
  {
   "cell_type": "code",
   "execution_count": 105,
   "id": "78957cbf",
   "metadata": {},
   "outputs": [],
   "source": [
    "# 1 (zgodne znaki) 0 (różne znaki)\n",
    "data['RSI_same_sign'] = (data['dec_rsi'] == data['Signal_RSI_fuzz_system']).astype(int)\n",
    "data['Williams_same_sign'] = (data['dec_will'] == data['Signal_william_fuzz_system']).astype(int)\n",
    "data['MA_same_sign'] = (data['cross_MA'] == data['fuzz_MA_strategy']).astype(int)\n",
    "data['MACD_same_sign'] = (data['MACD_decision'] == data['fuzz_MACD_strategy']).astype(int)\n",
    "data['BB_same_sign'] = (data['dec_bollinger'] == data['fuzz_BB_strategy']).astype(int)\n",
    "\n",
    "# Sprawdzanei czy wszystkie wskazniki maja ten sam znak\n",
    "data['All_same_sign'] = (\n",
    "    data['RSI_same_sign'] & \n",
    "    data['Williams_same_sign'] & \n",
    "    data['MA_same_sign'] & \n",
    "    data['MACD_same_sign'] & \n",
    "    data['BB_same_sign']\n",
    ")"
   ]
  },
  {
   "cell_type": "code",
   "execution_count": 54,
   "id": "b5392156",
   "metadata": {},
   "outputs": [],
   "source": [
    "# Inicjalizacja nowej kolumny z domyślnymi wartościami\n",
    "data['all_decisions'] = np.nan\n",
    "\n",
    "# Sprawdzenie miejsc, gdzie wszystkie wskaźniki są równe -1\n",
    "all_negative_ones = ((data['dec_rsi'] == -1) & (data['Signal_RSI_fuzz_system'] == -1) &\n",
    "                     (data['dec_will'] == -1) & (data['Signal_william_fuzz_system'] == -1) &\n",
    "                     (data['cross_MA'] == -1) & (data['fuzz_MA_strategy'] == -1) &\n",
    "                     (data['MACD_decision'] == -1) & (data['fuzz_MACD_strategy'] == -1) &\n",
    "                     (data['dec_bollinger'] == -1) & (data['fuzz_BB_strategy'] == -1))\n",
    "\n",
    "# Sprawdzenie miejsc, gdzie wszystkie wskaźniki są równe 1\n",
    "all_positive_ones = ((data['dec_rsi'] == 1) & (data['Signal_RSI_fuzz_system'] == 1) &\n",
    "                     (data['dec_will'] == 1) & (data['Signal_william_fuzz_system'] == 1) &\n",
    "                     (data['cross_MA'] == 1) & (data['fuzz_MA_strategy'] == 1) &\n",
    "                     (data['MACD_decision'] == 1) & (data['fuzz_MACD_strategy'] == 1) &\n",
    "                     (data['dec_bollinger'] == 1) & (data['fuzz_BB_strategy'] == 1))\n",
    "\n",
    "# Sprawdzenie miejsc, gdzie wszystkie wskaźniki są równe 0\n",
    "all_zeros = ((data['dec_rsi'] == 0) & (data['Signal_RSI_fuzz_system'] == 0) &\n",
    "             (data['dec_will'] == 0) & (data['Signal_william_fuzz_system'] == 0) &\n",
    "             (data['cross_MA'] == 0) & (data['fuzz_MA_strategy'] == 0) &\n",
    "             (data['MACD_decision'] == 0) & (data['fuzz_MACD_strategy'] == 0) &\n",
    "             (data['dec_bollinger'] == 0) & (data['fuzz_BB_strategy'] == 0))\n",
    "\n",
    "# Aktualizacja nowej kolumny 'all_decisions'\n",
    "data.loc[all_negative_ones, 'all_decisions'] = -1\n",
    "data.loc[all_positive_ones, 'all_decisions'] = 1\n",
    "data.loc[all_zeros, 'all_decisions'] = 0\n"
   ]
  },
  {
   "cell_type": "code",
   "execution_count": 88,
   "id": "12bb9d51",
   "metadata": {},
   "outputs": [
    {
     "data": {
      "text/plain": [
       "False    1284\n",
       "Name: count, dtype: int64"
      ]
     },
     "execution_count": 88,
     "metadata": {},
     "output_type": "execute_result"
    }
   ],
   "source": [
    "all_positive_ones.value_counts()"
   ]
  },
  {
   "cell_type": "code",
   "execution_count": 85,
   "id": "188fe864",
   "metadata": {},
   "outputs": [],
   "source": [
    "# Inicjalizacja nowej kolumny z domyślnymi wartościami\n",
    "data['all_decisions_sharp'] = 0\n",
    "\n",
    "# Sprawdzenie miejsc, gdzie wszystkie wskaźniki są równe -1\n",
    "all_negative_ones = ((data['dec_rsi'] == -1) &\n",
    "                     (data['dec_will'] == -1) & \n",
    "                     (data['cross_MA'] == -1) & \n",
    "                     (data['MACD_decision'] == -1) &\n",
    "                     (data['dec_bollinger'] == -1) )\n",
    "\n",
    "# Sprawdzenie miejsc, gdzie wszystkie wskaźniki są równe 1\n",
    "all_positive_ones = ((data['dec_rsi'] == 1) & \n",
    "                     (data['dec_will'] == 1) & \n",
    "                     (data['cross_MA'] == 1) & \n",
    "                     (data['MACD_decision'] == 1) & \n",
    "                     (data['dec_bollinger'] == 1) )\n",
    "\n",
    "# Sprawdzenie miejsc, gdzie wszystkie wskaźniki są równe 0\n",
    "all_zeros = ((data['dec_rsi'] == 0) & \n",
    "             (data['dec_will'] == 0) & \n",
    "             (data['cross_MA'] == 0) & \n",
    "             (data['MACD_decision'] == 0) & \n",
    "             (data['dec_bollinger'] == 0) )\n",
    "\n",
    "# Aktualizacja nowej kolumny 'all_decisions'\n",
    "data.loc[all_negative_ones, 'all_decisions_sharp'] = -1\n",
    "data.loc[all_positive_ones, 'all_decisions_sharp'] = 1\n",
    "data.loc[all_zeros, 'all_decisions_sharp'] = 0\n"
   ]
  },
  {
   "cell_type": "code",
   "execution_count": 86,
   "id": "85a84129",
   "metadata": {},
   "outputs": [
    {
     "data": {
      "text/plain": [
       "all_decisions_sharp\n",
       "0    1284\n",
       "Name: count, dtype: int64"
      ]
     },
     "execution_count": 86,
     "metadata": {},
     "output_type": "execute_result"
    }
   ],
   "source": [
    "data.all_decisions_sharp.value_counts()"
   ]
  },
  {
   "cell_type": "code",
   "execution_count": 141,
   "id": "17df81f4",
   "metadata": {},
   "outputs": [],
   "source": [
    "# Inicjalizacja nowej kolumny z domyślnymi wartościami\n",
    "data['all_decisions_fuzz'] = 0\n",
    "\n",
    "# Sprawdzenie miejsc, gdzie wszystkie wskaźniki są równe -1\n",
    "all_negative_ones = ( (data['Signal_RSI_fuzz_system'] == -1) &\n",
    "                     (data['Signal_william_fuzz_system'] == -1) &\n",
    "                     (data['fuzz_MA_strategy'] == -1) &\n",
    "                     (data['fuzz_MACD_strategy'] == -1) &\n",
    "                     (data['fuzz_BB_strategy'] == -1))\n",
    "\n",
    "# Sprawdzenie miejsc, gdzie wszystkie wskaźniki są równe 1\n",
    "all_positive_ones = ((data['Signal_RSI_fuzz_system'] == 1) &\n",
    "                     (data['Signal_william_fuzz_system'] == 1) &\n",
    "                     (data['fuzz_MA_strategy'] == 1) &\n",
    "                     (data['fuzz_MACD_strategy'] == 1) &\n",
    "                     (data['fuzz_BB_strategy'] == 1))\n",
    "\n",
    "# Sprawdzenie miejsc, gdzie wszystkie wskaźniki są równe 0\n",
    "# all_zeros = ((data['dec_rsi'] == 0) & (data['Signal_RSI_fuzz_system'] == 0) &\n",
    "#              (data['dec_will'] == 0) & (data['Signal_william_fuzz_system'] == 0) &\n",
    "#              (data['cross_MA'] == 0) & (data['fuzz_MA_strategy'] == 0) &\n",
    "#              (data['MACD_decision'] == 0) & (data['fuzz_MACD_strategy'] == 0) &\n",
    "#              (data['dec_bollinger'] == 0) & (data['fuzz_BB_strategy'] == 0))\n",
    "\n",
    "# Aktualizacja nowej kolumny 'all_decisions'\n",
    "data.loc[all_negative_ones, 'all_decisions_fuzz'] = -1\n",
    "data.loc[all_positive_ones, 'all_decisions_fuzz'] = 1\n",
    "#data.loc[all_zeros, 'all_decisions_fuzz'] = 0\n"
   ]
  },
  {
   "cell_type": "code",
   "execution_count": 142,
   "id": "7b02b014",
   "metadata": {},
   "outputs": [
    {
     "data": {
      "text/plain": [
       "all_decisions_fuzz\n",
       "0    5298\n",
       "Name: count, dtype: int64"
      ]
     },
     "execution_count": 142,
     "metadata": {},
     "output_type": "execute_result"
    }
   ],
   "source": [
    "data.all_decisions_fuzz.value_counts()"
   ]
  },
  {
   "cell_type": "markdown",
   "id": "98e10f6a",
   "metadata": {},
   "source": [
    "# Kombinacje 2 wskaznikow\n",
    "## FUZZY"
   ]
  },
  {
   "cell_type": "code",
   "execution_count": 197,
   "id": "70ac3d35",
   "metadata": {},
   "outputs": [],
   "source": [
    "\n",
    "data = pd.read_csv('data/decisions_EURUSD_1H.csv')\n",
    "#data = pd.read_csv('data/decisions_EURUSD_5Y.csv')\n",
    "\n",
    "\n",
    "data = data.set_index(pd.DatetimeIndex(data['data_datetime']))\n",
    "#data = data.set_index(pd.DatetimeIndex(data['Date']))"
   ]
  },
  {
   "cell_type": "code",
   "execution_count": 182,
   "id": "1521a266",
   "metadata": {},
   "outputs": [
    {
     "data": {
      "text/plain": [
       "all_decisions_fuzz\n",
       " 0    4075\n",
       "-1     686\n",
       " 1     537\n",
       "Name: count, dtype: int64"
      ]
     },
     "execution_count": 182,
     "metadata": {},
     "output_type": "execute_result"
    }
   ],
   "source": [
    "# Inicjalizacja nowej kolumny z domyślnymi wartościami\n",
    "data['all_decisions_fuzz'] = 0\n",
    "\n",
    "# Sprawdzenie miejsc, gdzie oba wskaźniki są równe -1\n",
    "all_negative_ones = ( (data['Signal_RSI_fuzz_system'] == -1) &\n",
    "                     (data['Signal_william_fuzz_system'] == -1) )\n",
    "\n",
    "# Sprawdzenie miejsc, gdzie oba wskaźniki są równe 1\n",
    "all_positive_ones = ((data['Signal_RSI_fuzz_system'] == 1) &\n",
    "                     (data['Signal_william_fuzz_system'] == 1) )\n",
    "\n",
    "# Aktualizacja nowej kolumny 'all_decisions'\n",
    "data.loc[all_negative_ones, 'all_decisions_fuzz'] = -1\n",
    "data.loc[all_positive_ones, 'all_decisions_fuzz'] = 1\n",
    "data.all_decisions_fuzz.value_counts()"
   ]
  },
  {
   "cell_type": "code",
   "execution_count": 184,
   "id": "62fc0a9a",
   "metadata": {},
   "outputs": [
    {
     "data": {
      "text/plain": [
       "all_decisions_fuzz\n",
       " 0    5286\n",
       " 1       7\n",
       "-1       5\n",
       "Name: count, dtype: int64"
      ]
     },
     "execution_count": 184,
     "metadata": {},
     "output_type": "execute_result"
    }
   ],
   "source": [
    "# Inicjalizacja nowej kolumny z domyślnymi wartościami\n",
    "data['all_decisions_fuzz'] = 0\n",
    "\n",
    "# Sprawdzenie miejsc, gdzie oba wskaźniki są równe -1\n",
    "all_negative_ones = ( (data['Signal_RSI_fuzz_system'] == -1) &\n",
    "                     (data['fuzz_MA_strategy'] == -1) )\n",
    "\n",
    "# Sprawdzenie miejsc, gdzie oba wskaźniki są równe 1\n",
    "all_positive_ones = ((data['Signal_RSI_fuzz_system'] == 1) &\n",
    "                     (data['fuzz_MA_strategy'] == 1) )\n",
    "\n",
    "# Aktualizacja nowej kolumny 'all_decisions'\n",
    "data.loc[all_negative_ones, 'all_decisions_fuzz'] = -1\n",
    "data.loc[all_positive_ones, 'all_decisions_fuzz'] = 1\n",
    "data.all_decisions_fuzz.value_counts()"
   ]
  },
  {
   "cell_type": "code",
   "execution_count": 186,
   "id": "04268e9b",
   "metadata": {},
   "outputs": [
    {
     "data": {
      "text/plain": [
       "all_decisions_fuzz\n",
       "0    5298\n",
       "Name: count, dtype: int64"
      ]
     },
     "execution_count": 186,
     "metadata": {},
     "output_type": "execute_result"
    }
   ],
   "source": [
    "# Inicjalizacja nowej kolumny z domyślnymi wartościami\n",
    "data['all_decisions_fuzz'] = 0\n",
    "\n",
    "# Sprawdzenie miejsc, gdzie oba wskaźniki są równe -1\n",
    "all_negative_ones = ( (data['Signal_RSI_fuzz_system'] == -1) &\n",
    "                     (data['fuzz_MACD_strategy'] == -1) )\n",
    "\n",
    "# Sprawdzenie miejsc, gdzie oba wskaźniki są równe 1\n",
    "all_positive_ones = ((data['Signal_RSI_fuzz_system'] == 1) &\n",
    "                     (data['fuzz_MACD_strategy'] == 1) )\n",
    "\n",
    "# Aktualizacja nowej kolumny 'all_decisions'\n",
    "data.loc[all_negative_ones, 'all_decisions_fuzz'] = -1\n",
    "data.loc[all_positive_ones, 'all_decisions_fuzz'] = 1\n",
    "data.all_decisions_fuzz.value_counts()"
   ]
  },
  {
   "cell_type": "code",
   "execution_count": 188,
   "id": "5fa5d158",
   "metadata": {},
   "outputs": [
    {
     "data": {
      "text/plain": [
       "all_decisions_fuzz\n",
       " 0    5015\n",
       "-1     199\n",
       " 1      84\n",
       "Name: count, dtype: int64"
      ]
     },
     "execution_count": 188,
     "metadata": {},
     "output_type": "execute_result"
    }
   ],
   "source": [
    "# Inicjalizacja nowej kolumny z domyślnymi wartościami\n",
    "data['all_decisions_fuzz'] = 0\n",
    "\n",
    "# Sprawdzenie miejsc, gdzie oba wskaźniki są równe -1\n",
    "all_negative_ones = ( (data['Signal_RSI_fuzz_system'] == -1) &\n",
    "                     (data['fuzz_BB_strategy'] == -1) )\n",
    "\n",
    "# Sprawdzenie miejsc, gdzie oba wskaźniki są równe 1\n",
    "all_positive_ones = ((data['Signal_RSI_fuzz_system'] == 1) &\n",
    "                     (data['fuzz_BB_strategy'] == 1) )\n",
    "\n",
    "# Aktualizacja nowej kolumny 'all_decisions'\n",
    "data.loc[all_negative_ones, 'all_decisions_fuzz'] = -1\n",
    "data.loc[all_positive_ones, 'all_decisions_fuzz'] = 1\n",
    "data.all_decisions_fuzz.value_counts()"
   ]
  },
  {
   "cell_type": "code",
   "execution_count": 191,
   "id": "47f5ce61",
   "metadata": {},
   "outputs": [
    {
     "data": {
      "text/plain": [
       "all_decisions_fuzz\n",
       " 0    5285\n",
       "-1       9\n",
       " 1       4\n",
       "Name: count, dtype: int64"
      ]
     },
     "execution_count": 191,
     "metadata": {},
     "output_type": "execute_result"
    }
   ],
   "source": [
    "# Inicjalizacja nowej kolumny z domyślnymi wartościami\n",
    "data['all_decisions_fuzz'] = 0\n",
    "\n",
    "# Sprawdzenie miejsc, gdzie oba wskaźniki są równe -1\n",
    "all_negative_ones = ( (data['Signal_william_fuzz_system'] == -1) &\n",
    "                     (data['fuzz_MA_strategy'] == -1) )\n",
    "\n",
    "# Sprawdzenie miejsc, gdzie oba wskaźniki są równe 1\n",
    "all_positive_ones = ((data['Signal_william_fuzz_system'] == 1) &\n",
    "                     (data['fuzz_MA_strategy'] == 1) )\n",
    "\n",
    "# Aktualizacja nowej kolumny 'all_decisions'\n",
    "data.loc[all_negative_ones, 'all_decisions_fuzz'] = -1\n",
    "data.loc[all_positive_ones, 'all_decisions_fuzz'] = 1\n",
    "data.all_decisions_fuzz.value_counts()"
   ]
  },
  {
   "cell_type": "code",
   "execution_count": 192,
   "id": "272986c4",
   "metadata": {},
   "outputs": [
    {
     "data": {
      "text/plain": [
       "all_decisions_fuzz\n",
       "0    5298\n",
       "Name: count, dtype: int64"
      ]
     },
     "execution_count": 192,
     "metadata": {},
     "output_type": "execute_result"
    }
   ],
   "source": [
    "# Inicjalizacja nowej kolumny z domyślnymi wartościami\n",
    "data['all_decisions_fuzz'] = 0\n",
    "\n",
    "# Sprawdzenie miejsc, gdzie oba wskaźniki są równe -1\n",
    "all_negative_ones = ( (data['Signal_william_fuzz_system'] == -1) &\n",
    "                     (data['fuzz_MACD_strategy'] == -1) )\n",
    "\n",
    "# Sprawdzenie miejsc, gdzie oba wskaźniki są równe 1\n",
    "all_positive_ones = ((data['Signal_william_fuzz_system'] == 1) &\n",
    "                     (data['fuzz_MACD_strategy'] == 1) )\n",
    "\n",
    "# Aktualizacja nowej kolumny 'all_decisions'\n",
    "data.loc[all_negative_ones, 'all_decisions_fuzz'] = -1\n",
    "data.loc[all_positive_ones, 'all_decisions_fuzz'] = 1\n",
    "data.all_decisions_fuzz.value_counts()"
   ]
  },
  {
   "cell_type": "code",
   "execution_count": 193,
   "id": "b2fe8c52",
   "metadata": {},
   "outputs": [
    {
     "data": {
      "text/plain": [
       "all_decisions_fuzz\n",
       " 0    4870\n",
       "-1     311\n",
       " 1     117\n",
       "Name: count, dtype: int64"
      ]
     },
     "execution_count": 193,
     "metadata": {},
     "output_type": "execute_result"
    }
   ],
   "source": [
    "# Inicjalizacja nowej kolumny z domyślnymi wartościami\n",
    "data['all_decisions_fuzz'] = 0\n",
    "\n",
    "# Sprawdzenie miejsc, gdzie oba wskaźniki są równe -1\n",
    "all_negative_ones = ( (data['Signal_william_fuzz_system'] == -1) &\n",
    "                     (data['fuzz_BB_strategy'] == -1) )\n",
    "\n",
    "# Sprawdzenie miejsc, gdzie oba wskaźniki są równe 1\n",
    "all_positive_ones = ((data['Signal_william_fuzz_system'] == 1) &\n",
    "                     (data['fuzz_BB_strategy'] == 1) )\n",
    "\n",
    "# Aktualizacja nowej kolumny 'all_decisions'\n",
    "data.loc[all_negative_ones, 'all_decisions_fuzz'] = -1\n",
    "data.loc[all_positive_ones, 'all_decisions_fuzz'] = 1\n",
    "data.all_decisions_fuzz.value_counts()"
   ]
  },
  {
   "cell_type": "code",
   "execution_count": 194,
   "id": "8daa91b6",
   "metadata": {},
   "outputs": [
    {
     "data": {
      "text/plain": [
       "all_decisions_fuzz\n",
       " 0    5295\n",
       "-1       2\n",
       " 1       1\n",
       "Name: count, dtype: int64"
      ]
     },
     "execution_count": 194,
     "metadata": {},
     "output_type": "execute_result"
    }
   ],
   "source": [
    "# Inicjalizacja nowej kolumny z domyślnymi wartościami\n",
    "data['all_decisions_fuzz'] = 0\n",
    "\n",
    "# Sprawdzenie miejsc, gdzie oba wskaźniki są równe -1\n",
    "all_negative_ones = ( (data['fuzz_MA_strategy'] == -1) &\n",
    "                     (data['fuzz_MACD_strategy'] == -1) )\n",
    "\n",
    "# Sprawdzenie miejsc, gdzie oba wskaźniki są równe 1\n",
    "all_positive_ones = ((data['fuzz_MA_strategy'] == 1) &\n",
    "                     (data['fuzz_MACD_strategy'] == 1) )\n",
    "\n",
    "# Aktualizacja nowej kolumny 'all_decisions'\n",
    "data.loc[all_negative_ones, 'all_decisions_fuzz'] = -1\n",
    "data.loc[all_positive_ones, 'all_decisions_fuzz'] = 1\n",
    "data.all_decisions_fuzz.value_counts()"
   ]
  },
  {
   "cell_type": "code",
   "execution_count": 195,
   "id": "07578524",
   "metadata": {},
   "outputs": [
    {
     "data": {
      "text/plain": [
       "all_decisions_fuzz\n",
       "0    5298\n",
       "Name: count, dtype: int64"
      ]
     },
     "execution_count": 195,
     "metadata": {},
     "output_type": "execute_result"
    }
   ],
   "source": [
    "# Inicjalizacja nowej kolumny z domyślnymi wartościami\n",
    "data['all_decisions_fuzz'] = 0\n",
    "\n",
    "# Sprawdzenie miejsc, gdzie oba wskaźniki są równe -1\n",
    "all_negative_ones = ( (data['fuzz_MACD_strategy'] == -1) &\n",
    "                     (data['fuzz_BB_strategy'] == -1) )\n",
    "\n",
    "# Sprawdzenie miejsc, gdzie oba wskaźniki są równe 1\n",
    "all_positive_ones = ((data['fuzz_MACD_strategy'] == 1) &\n",
    "                     (data['fuzz_BB_strategy'] == 1) )\n",
    "\n",
    "# Aktualizacja nowej kolumny 'all_decisions'\n",
    "data.loc[all_negative_ones, 'all_decisions_fuzz'] = -1\n",
    "data.loc[all_positive_ones, 'all_decisions_fuzz'] = 1\n",
    "data.all_decisions_fuzz.value_counts()"
   ]
  },
  {
   "cell_type": "code",
   "execution_count": 199,
   "id": "54f6ab97",
   "metadata": {},
   "outputs": [
    {
     "data": {
      "text/plain": [
       "all_decisions_fuzz\n",
       "0    5298\n",
       "Name: count, dtype: int64"
      ]
     },
     "execution_count": 199,
     "metadata": {},
     "output_type": "execute_result"
    }
   ],
   "source": [
    "# Inicjalizacja nowej kolumny z domyślnymi wartościami\n",
    "data['all_decisions_fuzz'] = 0\n",
    "\n",
    "# Sprawdzenie miejsc, gdzie oba wskaźniki są równe -1\n",
    "all_negative_ones = ( (data['fuzz_MA_strategy'] == -1) &\n",
    "                     (data['fuzz_BB_strategy'] == -1) )\n",
    "\n",
    "# Sprawdzenie miejsc, gdzie oba wskaźniki są równe 1\n",
    "all_positive_ones = ((data['fuzz_MA_strategy'] == 1) &\n",
    "                     (data['fuzz_BB_strategy'] == 1) )\n",
    "\n",
    "# Aktualizacja nowej kolumny 'all_decisions'\n",
    "data.loc[all_negative_ones, 'all_decisions_fuzz'] = -1\n",
    "data.loc[all_positive_ones, 'all_decisions_fuzz'] = 1\n",
    "data.all_decisions_fuzz.value_counts()"
   ]
  },
  {
   "cell_type": "markdown",
   "id": "aeefc4d0",
   "metadata": {},
   "source": [
    "## 3 Wskaźniki - kombinacje\n",
    "rozmyte"
   ]
  },
  {
   "cell_type": "code",
   "execution_count": 221,
   "id": "b2194dfe",
   "metadata": {},
   "outputs": [],
   "source": [
    "\n",
    "data = pd.read_csv('data/decisions_EURUSD_1H.csv')\n",
    "#data = pd.read_csv('data/decisions_EURUSD_5Y.csv')\n",
    "\n",
    "\n",
    "data = data.set_index(pd.DatetimeIndex(data['data_datetime']))\n",
    "#data = data.set_index(pd.DatetimeIndex(data['Date']))"
   ]
  },
  {
   "cell_type": "code",
   "execution_count": null,
   "id": "ccb5dfb5",
   "metadata": {},
   "outputs": [],
   "source": [
    "RSI %R MA -1 3\n",
    "RSI %R MACD 0 \n",
    "RSI %R BB -1  197  1 82\n",
    "RSI MA MACD 0 \n",
    "RSI MA BB 0\n",
    "RSI MACD BB 0 \n",
    "%R MA MACD 0\n",
    "%R MA BB 0\n",
    "%R MACD BB 0\n",
    "MA MACD BB 0"
   ]
  },
  {
   "cell_type": "code",
   "execution_count": 203,
   "id": "facd3b3b",
   "metadata": {},
   "outputs": [
    {
     "data": {
      "text/plain": [
       "all_decisions_fuzz\n",
       " 0    5295\n",
       "-1       3\n",
       "Name: count, dtype: int64"
      ]
     },
     "execution_count": 203,
     "metadata": {},
     "output_type": "execute_result"
    }
   ],
   "source": [
    "# Inicjalizacja nowej kolumny z domyślnymi wartościami\n",
    "data['all_decisions_fuzz'] = 0\n",
    "\n",
    "# Sprawdzenie miejsc, gdzie wszystkie wskaźniki są równe -1\n",
    "all_negative_ones = ( (data['Signal_RSI_fuzz_system'] == -1) &\n",
    "                     (data['Signal_william_fuzz_system'] == -1) &\n",
    "                     (data['fuzz_MA_strategy'] == -1) )\n",
    "\n",
    "# Sprawdzenie miejsc, gdzie wszystkie wskaźniki są równe 1\n",
    "all_positive_ones = ((data['Signal_RSI_fuzz_system'] == 1) &\n",
    "                     (data['Signal_william_fuzz_system'] == 1) &\n",
    "                     (data['fuzz_MA_strategy'] == 1) )\n",
    "\n",
    "# Aktualizacja nowej kolumny 'all_decisions_fuzz'\n",
    "data.loc[all_negative_ones, 'all_decisions_fuzz'] = -1\n",
    "data.loc[all_positive_ones, 'all_decisions_fuzz'] = 1\n",
    "data.all_decisions_fuzz.value_counts()"
   ]
  },
  {
   "cell_type": "code",
   "execution_count": 208,
   "id": "62acf58f",
   "metadata": {},
   "outputs": [
    {
     "data": {
      "text/plain": [
       "all_decisions_fuzz\n",
       "0    5298\n",
       "Name: count, dtype: int64"
      ]
     },
     "execution_count": 208,
     "metadata": {},
     "output_type": "execute_result"
    }
   ],
   "source": [
    "# Inicjalizacja nowej kolumny z domyślnymi wartościami\n",
    "data['all_decisions_fuzz'] = 0\n",
    "\n",
    "# Sprawdzenie miejsc, gdzie wszystkie wskaźniki są równe -1\n",
    "all_negative_ones = ( (data['Signal_RSI_fuzz_system'] == -1) &\n",
    "                     (data['Signal_william_fuzz_system'] == -1) &\n",
    "                     (data['fuzz_MACD_strategy'] == -1) )\n",
    "\n",
    "# Sprawdzenie miejsc, gdzie wszystkie wskaźniki są równe 1\n",
    "all_positive_ones = ((data['Signal_RSI_fuzz_system'] == 1) &\n",
    "                     (data['Signal_william_fuzz_system'] == 1) &\n",
    "                     (data['fuzz_MACD_strategy'] == 1) )\n",
    "\n",
    "# Aktualizacja nowej kolumny 'all_decisions_fuzz'\n",
    "data.loc[all_negative_ones, 'all_decisions_fuzz'] = -1\n",
    "data.loc[all_positive_ones, 'all_decisions_fuzz'] = 1\n",
    "data.all_decisions_fuzz.value_counts()"
   ]
  },
  {
   "cell_type": "code",
   "execution_count": 210,
   "id": "0b066fe1",
   "metadata": {},
   "outputs": [
    {
     "data": {
      "text/plain": [
       "all_decisions_fuzz\n",
       " 0    5019\n",
       "-1     197\n",
       " 1      82\n",
       "Name: count, dtype: int64"
      ]
     },
     "execution_count": 210,
     "metadata": {},
     "output_type": "execute_result"
    }
   ],
   "source": [
    "# Inicjalizacja nowej kolumny z domyślnymi wartościami\n",
    "data['all_decisions_fuzz'] = 0\n",
    "\n",
    "# Sprawdzenie miejsc, gdzie wszystkie wskaźniki są równe -1\n",
    "all_negative_ones = ( (data['Signal_RSI_fuzz_system'] == -1) &\n",
    "                     (data['Signal_william_fuzz_system'] == -1) &\n",
    "                     (data['fuzz_BB_strategy'] == -1) )\n",
    "\n",
    "# Sprawdzenie miejsc, gdzie wszystkie wskaźniki są równe 1\n",
    "all_positive_ones = ((data['Signal_RSI_fuzz_system'] == 1) &\n",
    "                     (data['Signal_william_fuzz_system'] == 1) &\n",
    "                     (data['fuzz_BB_strategy'] == 1) )\n",
    "\n",
    "# Aktualizacja nowej kolumny 'all_decisions_fuzz'\n",
    "data.loc[all_negative_ones, 'all_decisions_fuzz'] = -1\n",
    "data.loc[all_positive_ones, 'all_decisions_fuzz'] = 1\n",
    "data.all_decisions_fuzz.value_counts()"
   ]
  },
  {
   "cell_type": "code",
   "execution_count": 212,
   "id": "59f37790",
   "metadata": {},
   "outputs": [
    {
     "data": {
      "text/plain": [
       "all_decisions_fuzz\n",
       "0    5298\n",
       "Name: count, dtype: int64"
      ]
     },
     "execution_count": 212,
     "metadata": {},
     "output_type": "execute_result"
    }
   ],
   "source": [
    "# Inicjalizacja nowej kolumny z domyślnymi wartościami\n",
    "data['all_decisions_fuzz'] = 0\n",
    "\n",
    "# Sprawdzenie miejsc, gdzie wszystkie wskaźniki są równe -1\n",
    "all_negative_ones = ( (data['Signal_RSI_fuzz_system'] == -1) &\n",
    "                     (data['fuzz_MA_strategy'] == -1) &\n",
    "                     (data['fuzz_MACD_strategy'] == -1) )\n",
    "\n",
    "# Sprawdzenie miejsc, gdzie wszystkie wskaźniki są równe 1\n",
    "all_positive_ones = ((data['Signal_RSI_fuzz_system'] == 1) &\n",
    "                     (data['fuzz_MA_strategy'] == 1) &\n",
    "                     (data['fuzz_MACD_strategy'] == 1) )\n",
    "\n",
    "# Aktualizacja nowej kolumny 'all_decisions_fuzz'\n",
    "data.loc[all_negative_ones, 'all_decisions_fuzz'] = -1\n",
    "data.loc[all_positive_ones, 'all_decisions_fuzz'] = 1\n",
    "\n",
    "data.all_decisions_fuzz.value_counts()"
   ]
  },
  {
   "cell_type": "code",
   "execution_count": 213,
   "id": "1c1fe2ab",
   "metadata": {},
   "outputs": [
    {
     "data": {
      "text/plain": [
       "all_decisions_fuzz\n",
       "0    5298\n",
       "Name: count, dtype: int64"
      ]
     },
     "execution_count": 213,
     "metadata": {},
     "output_type": "execute_result"
    }
   ],
   "source": [
    "# Inicjalizacja nowej kolumny z domyślnymi wartościami\n",
    "data['all_decisions_fuzz'] = 0\n",
    "\n",
    "# Sprawdzenie miejsc, gdzie wszystkie wskaźniki są równe -1\n",
    "all_negative_ones = ( (data['Signal_RSI_fuzz_system'] == -1) &\n",
    "                     (data['fuzz_MA_strategy'] == -1) &\n",
    "                     (data['fuzz_BB_strategy'] == -1) )\n",
    "\n",
    "# Sprawdzenie miejsc, gdzie wszystkie wskaźniki są równe 1\n",
    "all_positive_ones = ((data['Signal_RSI_fuzz_system'] == 1) &\n",
    "                     (data['fuzz_MA_strategy'] == 1) &\n",
    "                     (data['fuzz_BB_strategy'] == 1) )\n",
    "\n",
    "# Aktualizacja nowej kolumny 'all_decisions_fuzz'\n",
    "data.loc[all_negative_ones, 'all_decisions_fuzz'] = -1\n",
    "data.loc[all_positive_ones, 'all_decisions_fuzz'] = 1\n",
    "data.all_decisions_fuzz.value_counts()"
   ]
  },
  {
   "cell_type": "code",
   "execution_count": 215,
   "id": "d67ebfe7",
   "metadata": {
    "scrolled": true
   },
   "outputs": [
    {
     "data": {
      "text/plain": [
       "all_decisions_fuzz\n",
       "0    5298\n",
       "Name: count, dtype: int64"
      ]
     },
     "execution_count": 215,
     "metadata": {},
     "output_type": "execute_result"
    }
   ],
   "source": [
    "# Inicjalizacja nowej kolumny z domyślnymi wartościami\n",
    "data['all_decisions_fuzz'] = 0\n",
    "\n",
    "# Sprawdzenie miejsc, gdzie wszystkie wskaźniki są równe -1\n",
    "all_negative_ones = ( (data['Signal_RSI_fuzz_system'] == -1) &\n",
    "                     (data['fuzz_MACD_strategy'] == -1) &\n",
    "                     (data['fuzz_BB_strategy'] == -1) )\n",
    "\n",
    "# Sprawdzenie miejsc, gdzie wszystkie wskaźniki są równe 1\n",
    "all_positive_ones = ((data['Signal_RSI_fuzz_system'] == 1) &\n",
    "                     (data['fuzz_MACD_strategy'] == 1) &\n",
    "                     (data['fuzz_BB_strategy'] == 1) )\n",
    "\n",
    "# Aktualizacja nowej kolumny 'all_decisions_fuzz'\n",
    "data.loc[all_negative_ones, 'all_decisions_fuzz'] = -1\n",
    "data.loc[all_positive_ones, 'all_decisions_fuzz'] = 1\n",
    "data.all_decisions_fuzz.value_counts()"
   ]
  },
  {
   "cell_type": "code",
   "execution_count": 217,
   "id": "6dc2cfc4",
   "metadata": {},
   "outputs": [
    {
     "data": {
      "text/plain": [
       "all_decisions_fuzz\n",
       "0    5298\n",
       "Name: count, dtype: int64"
      ]
     },
     "execution_count": 217,
     "metadata": {},
     "output_type": "execute_result"
    }
   ],
   "source": [
    "# Inicjalizacja nowej kolumny z domyślnymi wartościami\n",
    "data['all_decisions_fuzz'] = 0\n",
    "\n",
    "# Sprawdzenie miejsc, gdzie wszystkie wskaźniki są równe -1\n",
    "all_negative_ones = ( (data['Signal_william_fuzz_system'] == -1) &\n",
    "                     (data['fuzz_MA_strategy'] == -1) &\n",
    "                     (data['fuzz_MACD_strategy'] == -1) )\n",
    "\n",
    "# Sprawdzenie miejsc, gdzie wszystkie wskaźniki są równe 1\n",
    "all_positive_ones = ((data['Signal_william_fuzz_system'] == 1) &\n",
    "                     (data['fuzz_MA_strategy'] == 1) &\n",
    "                     (data['fuzz_MACD_strategy'] == 1) )\n",
    "\n",
    "# Aktualizacja nowej kolumny 'all_decisions_fuzz'\n",
    "data.loc[all_negative_ones, 'all_decisions_fuzz'] = -1\n",
    "data.loc[all_positive_ones, 'all_decisions_fuzz'] = 1\n",
    "data.all_decisions_fuzz.value_counts()"
   ]
  },
  {
   "cell_type": "code",
   "execution_count": 218,
   "id": "5bb275fa",
   "metadata": {},
   "outputs": [
    {
     "data": {
      "text/plain": [
       "all_decisions_fuzz\n",
       "0    5298\n",
       "Name: count, dtype: int64"
      ]
     },
     "execution_count": 218,
     "metadata": {},
     "output_type": "execute_result"
    }
   ],
   "source": [
    "# Inicjalizacja nowej kolumny z domyślnymi wartościami\n",
    "data['all_decisions_fuzz'] = 0\n",
    "\n",
    "# Sprawdzenie miejsc, gdzie wszystkie wskaźniki są równe -1\n",
    "all_negative_ones = ( (data['Signal_william_fuzz_system'] == -1) &\n",
    "                     (data['fuzz_MA_strategy'] == -1) &\n",
    "                     (data['fuzz_BB_strategy'] == -1) )\n",
    "\n",
    "# Sprawdzenie miejsc, gdzie wszystkie wskaźniki są równe 1\n",
    "all_positive_ones = ((data['Signal_william_fuzz_system'] == 1) &\n",
    "                     (data['fuzz_MA_strategy'] == 1) &\n",
    "                     (data['fuzz_BB_strategy'] == 1) )\n",
    "\n",
    "# Aktualizacja nowej kolumny 'all_decisions_fuzz'\n",
    "data.loc[all_negative_ones, 'all_decisions_fuzz'] = -1\n",
    "data.loc[all_positive_ones, 'all_decisions_fuzz'] = 1\n",
    "data.all_decisions_fuzz.value_counts()"
   ]
  },
  {
   "cell_type": "code",
   "execution_count": 219,
   "id": "fa4b8496",
   "metadata": {},
   "outputs": [
    {
     "data": {
      "text/plain": [
       "all_decisions_fuzz\n",
       "0    5298\n",
       "Name: count, dtype: int64"
      ]
     },
     "execution_count": 219,
     "metadata": {},
     "output_type": "execute_result"
    }
   ],
   "source": [
    "# Inicjalizacja nowej kolumny z domyślnymi wartościami\n",
    "data['all_decisions_fuzz'] = 0\n",
    "\n",
    "# Sprawdzenie miejsc, gdzie wszystkie wskaźniki są równe -1\n",
    "all_negative_ones = ( (data['Signal_william_fuzz_system'] == -1) &\n",
    "                     (data['fuzz_MACD_strategy'] == -1) &\n",
    "                     (data['fuzz_BB_strategy'] == -1) )\n",
    "\n",
    "# Sprawdzenie miejsc, gdzie wszystkie wskaźniki są równe 1\n",
    "all_positive_ones = ((data['Signal_william_fuzz_system'] == 1) &\n",
    "                     (data['fuzz_MACD_strategy'] == 1) &\n",
    "                     (data['fuzz_BB_strategy'] == 1) )\n",
    "\n",
    "# Aktualizacja nowej kolumny 'all_decisions_fuzz'\n",
    "data.loc[all_negative_ones, 'all_decisions_fuzz'] = -1\n",
    "data.loc[all_positive_ones, 'all_decisions_fuzz'] = 1\n",
    "data.all_decisions_fuzz.value_counts()"
   ]
  },
  {
   "cell_type": "code",
   "execution_count": 222,
   "id": "628917cc",
   "metadata": {},
   "outputs": [
    {
     "data": {
      "text/plain": [
       "all_decisions_fuzz\n",
       "0    5298\n",
       "Name: count, dtype: int64"
      ]
     },
     "execution_count": 222,
     "metadata": {},
     "output_type": "execute_result"
    }
   ],
   "source": [
    "# Inicjalizacja nowej kolumny z domyślnymi wartościami\n",
    "data['all_decisions_fuzz'] = 0\n",
    "\n",
    "# Sprawdzenie miejsc, gdzie wszystkie wskaźniki są równe -1\n",
    "all_negative_ones = ( (data['fuzz_MA_strategy'] == -1) &\n",
    "                     (data['fuzz_MACD_strategy'] == -1) &\n",
    "                     (data['fuzz_BB_strategy'] == -1) )\n",
    "\n",
    "# Sprawdzenie miejsc, gdzie wszystkie wskaźniki są równe 1\n",
    "all_positive_ones = ((data['fuzz_MA_strategy'] == 1) &\n",
    "                     (data['fuzz_MACD_strategy'] == 1) &\n",
    "                     (data['fuzz_BB_strategy'] == 1) )\n",
    "\n",
    "# Aktualizacja nowej kolumny 'all_decisions_fuzz'\n",
    "data.loc[all_negative_ones, 'all_decisions_fuzz'] = -1\n",
    "data.loc[all_positive_ones, 'all_decisions_fuzz'] = 1\n",
    "data.all_decisions_fuzz.value_counts()"
   ]
  },
  {
   "cell_type": "markdown",
   "id": "2fbe1df5",
   "metadata": {},
   "source": [
    "# ostre"
   ]
  },
  {
   "cell_type": "code",
   "execution_count": null,
   "id": "949541a7",
   "metadata": {},
   "outputs": [],
   "source": [
    "RSI %R MA -1 3\n",
    "RSI %R MACD 0 \n",
    "RSI %R BB -1  197  1 82\n",
    "RSI MA MACD 0 \n",
    "RSI MA BB 0\n",
    "RSI MACD BB 0 \n",
    "%R MA MACD 0\n",
    "%R MA BB 0\n",
    "%R MACD BB 0\n",
    "MA MACD BB 0"
   ]
  },
  {
   "cell_type": "code",
   "execution_count": 237,
   "id": "60531fe7",
   "metadata": {},
   "outputs": [],
   "source": [
    "\n",
    "data = pd.read_csv('data/decisions_EURUSD_1H.csv')\n",
    "#data = pd.read_csv('data/decisions_EURUSD_5Y.csv')\n",
    "\n",
    "\n",
    "data = data.set_index(pd.DatetimeIndex(data['data_datetime']))\n",
    "#data = data.set_index(pd.DatetimeIndex(data['Date']))"
   ]
  },
  {
   "cell_type": "code",
   "execution_count": 226,
   "id": "eaff72ca",
   "metadata": {},
   "outputs": [
    {
     "data": {
      "text/plain": [
       "all_decisions\n",
       "0    5298\n",
       "Name: count, dtype: int64"
      ]
     },
     "execution_count": 226,
     "metadata": {},
     "output_type": "execute_result"
    }
   ],
   "source": [
    "# Inicjalizacja nowej kolumny z domyślnymi wartościami\n",
    "data['all_decisions'] = 0\n",
    "\n",
    "# Sprawdzenie miejsc, gdzie wszystkie wskaźniki są równe -1\n",
    "all_negative_ones = ( (data['dec_rsi'] == -1) &\n",
    "                     (data['dec_will'] == -1) &\n",
    "                     (data['cross_MA'] == -1) )\n",
    "\n",
    "# Sprawdzenie miejsc, gdzie wszystkie wskaźniki są równe 1\n",
    "all_positive_ones = ((data['dec_rsi'] == 1) &\n",
    "                     (data['dec_will'] == 1) &\n",
    "                     (data['cross_MA'] == 1) )\n",
    "\n",
    "# Aktualizacja nowej kolumny 'all_decisions'\n",
    "data.loc[all_negative_ones, 'all_decisions'] = -1\n",
    "data.loc[all_positive_ones, 'all_decisions'] = 1\n",
    "data.all_decisions.value_counts()"
   ]
  },
  {
   "cell_type": "code",
   "execution_count": 227,
   "id": "94d83e53",
   "metadata": {},
   "outputs": [
    {
     "data": {
      "text/plain": [
       "all_decisions\n",
       " 0    5286\n",
       "-1       7\n",
       " 1       5\n",
       "Name: count, dtype: int64"
      ]
     },
     "execution_count": 227,
     "metadata": {},
     "output_type": "execute_result"
    }
   ],
   "source": [
    "# Inicjalizacja nowej kolumny z domyślnymi wartościami\n",
    "data['all_decisions'] = 0\n",
    "\n",
    "# Sprawdzenie miejsc, gdzie wszystkie wskaźniki są równe -1\n",
    "all_negative_ones = ( (data['dec_rsi'] == -1) &\n",
    "                     (data['dec_will'] == -1) &\n",
    "                     (data['MACD_decision'] == -1) )\n",
    "\n",
    "# Sprawdzenie miejsc, gdzie wszystkie wskaźniki są równe 1\n",
    "all_positive_ones = ((data['dec_rsi'] == 1) &\n",
    "                     (data['dec_will'] == 1) &\n",
    "                     (data['MACD_decision'] == 1) )\n",
    "\n",
    "# Aktualizacja nowej kolumny 'all_decisions'\n",
    "data.loc[all_negative_ones, 'all_decisions'] = -1\n",
    "data.loc[all_positive_ones, 'all_decisions'] = 1\n",
    "data.all_decisions.value_counts()"
   ]
  },
  {
   "cell_type": "code",
   "execution_count": 233,
   "id": "ef17a70c",
   "metadata": {},
   "outputs": [
    {
     "data": {
      "text/plain": [
       "all_decisions\n",
       " 0    5029\n",
       "-1     140\n",
       " 1     129\n",
       "Name: count, dtype: int64"
      ]
     },
     "execution_count": 233,
     "metadata": {},
     "output_type": "execute_result"
    }
   ],
   "source": [
    "# Inicjalizacja nowej kolumny z domyślnymi wartościami\n",
    "data['all_decisions'] = 0\n",
    "\n",
    "# Sprawdzenie miejsc, gdzie wszystkie wskaźniki są równe -1\n",
    "all_negative_ones = ( (data['dec_rsi'] == -1) &\n",
    "                     (data['dec_will'] == -1) &\n",
    "                     (data['dec_bollinger'] == -1) )\n",
    "\n",
    "# Sprawdzenie miejsc, gdzie wszystkie wskaźniki są równe 1\n",
    "all_positive_ones = ((data['dec_rsi'] == 1) &\n",
    "                     (data['dec_will'] == 1) &\n",
    "                     (data['dec_bollinger'] == 1) )\n",
    "\n",
    "# Aktualizacja nowej kolumny 'all_decisions'\n",
    "data.loc[all_negative_ones, 'all_decisions'] = -1\n",
    "data.loc[all_positive_ones, 'all_decisions'] = 1\n",
    "data.all_decisions.value_counts()"
   ]
  },
  {
   "cell_type": "code",
   "execution_count": 229,
   "id": "1a2b027c",
   "metadata": {},
   "outputs": [
    {
     "data": {
      "text/plain": [
       "all_decisions\n",
       "0    5298\n",
       "Name: count, dtype: int64"
      ]
     },
     "execution_count": 229,
     "metadata": {},
     "output_type": "execute_result"
    }
   ],
   "source": [
    "# Inicjalizacja nowej kolumny z domyślnymi wartościami\n",
    "data['all_decisions'] = 0\n",
    "\n",
    "# Sprawdzenie miejsc, gdzie wszystkie wskaźniki są równe -1\n",
    "all_negative_ones = ( (data['dec_rsi'] == -1) &\n",
    "                     (data['cross_MA'] == -1) &\n",
    "                     (data['MACD_decision'] == -1) )\n",
    "\n",
    "# Sprawdzenie miejsc, gdzie wszystkie wskaźniki są równe 1\n",
    "all_positive_ones = ((data['dec_rsi'] == 1) &\n",
    "                     (data['cross_MA'] == 1) &\n",
    "                     (data['MACD_decision'] == 1) )\n",
    "\n",
    "# Aktualizacja nowej kolumny 'all_decisions'\n",
    "data.loc[all_negative_ones, 'all_decisions'] = -1\n",
    "data.loc[all_positive_ones, 'all_decisions'] = 1\n",
    "\n",
    "data.all_decisions.value_counts()"
   ]
  },
  {
   "cell_type": "code",
   "execution_count": 230,
   "id": "fdb71ec6",
   "metadata": {},
   "outputs": [
    {
     "data": {
      "text/plain": [
       "all_decisions\n",
       "0    5298\n",
       "Name: count, dtype: int64"
      ]
     },
     "execution_count": 230,
     "metadata": {},
     "output_type": "execute_result"
    }
   ],
   "source": [
    "# Inicjalizacja nowej kolumny z domyślnymi wartościami\n",
    "data['all_decisions'] = 0\n",
    "\n",
    "# Sprawdzenie miejsc, gdzie wszystkie wskaźniki są równe -1\n",
    "all_negative_ones = ( (data['dec_rsi'] == -1) &\n",
    "                     (data['cross_MA'] == -1) &\n",
    "                     (data['dec_bollinger'] == -1) )\n",
    "\n",
    "# Sprawdzenie miejsc, gdzie wszystkie wskaźniki są równe 1\n",
    "all_positive_ones = ((data['dec_rsi'] == 1) &\n",
    "                     (data['cross_MA'] == 1) &\n",
    "                     (data['dec_bollinger'] == 1) )\n",
    "\n",
    "# Aktualizacja nowej kolumny 'all_decisions'\n",
    "data.loc[all_negative_ones, 'all_decisions'] = -1\n",
    "data.loc[all_positive_ones, 'all_decisions'] = 1\n",
    "data.all_decisions.value_counts()"
   ]
  },
  {
   "cell_type": "code",
   "execution_count": 231,
   "id": "3c8e90f0",
   "metadata": {
    "scrolled": true
   },
   "outputs": [
    {
     "data": {
      "text/plain": [
       "all_decisions\n",
       "0    5298\n",
       "Name: count, dtype: int64"
      ]
     },
     "execution_count": 231,
     "metadata": {},
     "output_type": "execute_result"
    }
   ],
   "source": [
    "# Inicjalizacja nowej kolumny z domyślnymi wartościami\n",
    "data['all_decisions'] = 0\n",
    "\n",
    "# Sprawdzenie miejsc, gdzie wszystkie wskaźniki są równe -1\n",
    "all_negative_ones = ( (data['dec_rsi'] == -1) &\n",
    "                     (data['MACD_decision'] == -1) &\n",
    "                     (data['dec_bollinger'] == -1) )\n",
    "\n",
    "# Sprawdzenie miejsc, gdzie wszystkie wskaźniki są równe 1\n",
    "all_positive_ones = ((data['dec_rsi'] == 1) &\n",
    "                     (data['MACD_decision'] == 1) &\n",
    "                     (data['dec_bollinger'] == 1) )\n",
    "\n",
    "# Aktualizacja nowej kolumny 'all_decisions'\n",
    "data.loc[all_negative_ones, 'all_decisions'] = -1\n",
    "data.loc[all_positive_ones, 'all_decisions'] = 1\n",
    "data.all_decisions.value_counts()"
   ]
  },
  {
   "cell_type": "code",
   "execution_count": 232,
   "id": "30b16db7",
   "metadata": {},
   "outputs": [
    {
     "data": {
      "text/plain": [
       "all_decisions\n",
       "0    5298\n",
       "Name: count, dtype: int64"
      ]
     },
     "execution_count": 232,
     "metadata": {},
     "output_type": "execute_result"
    }
   ],
   "source": [
    "# Inicjalizacja nowej kolumny z domyślnymi wartościami\n",
    "data['all_decisions'] = 0\n",
    "\n",
    "# Sprawdzenie miejsc, gdzie wszystkie wskaźniki są równe -1\n",
    "all_negative_ones = ( (data['dec_will'] == -1) &\n",
    "                     (data['cross_MA'] == -1) &\n",
    "                     (data['MACD_decision'] == -1) )\n",
    "\n",
    "# Sprawdzenie miejsc, gdzie wszystkie wskaźniki są równe 1\n",
    "all_positive_ones = ((data['dec_will'] == 1) &\n",
    "                     (data['cross_MA'] == 1) &\n",
    "                     (data['MACD_decision'] == 1) )\n",
    "\n",
    "# Aktualizacja nowej kolumny 'all_decisions'\n",
    "data.loc[all_negative_ones, 'all_decisions'] = -1\n",
    "data.loc[all_positive_ones, 'all_decisions'] = 1\n",
    "data.all_decisions.value_counts()"
   ]
  },
  {
   "cell_type": "code",
   "execution_count": 234,
   "id": "d13f5a5a",
   "metadata": {},
   "outputs": [
    {
     "data": {
      "text/plain": [
       "all_decisions\n",
       "0    5298\n",
       "Name: count, dtype: int64"
      ]
     },
     "execution_count": 234,
     "metadata": {},
     "output_type": "execute_result"
    }
   ],
   "source": [
    "# Inicjalizacja nowej kolumny z domyślnymi wartościami\n",
    "data['all_decisions'] = 0\n",
    "\n",
    "# Sprawdzenie miejsc, gdzie wszystkie wskaźniki są równe -1\n",
    "all_negative_ones = ( (data['dec_will'] == -1) &\n",
    "                     (data['cross_MA'] == -1) &\n",
    "                     (data['dec_bollinger'] == -1) )\n",
    "\n",
    "# Sprawdzenie miejsc, gdzie wszystkie wskaźniki są równe 1\n",
    "all_positive_ones = ((data['dec_will'] == 1) &\n",
    "                     (data['cross_MA'] == 1) &\n",
    "                     (data['dec_bollinger'] == 1) )\n",
    "\n",
    "# Aktualizacja nowej kolumny 'all_decisions'\n",
    "data.loc[all_negative_ones, 'all_decisions'] = -1\n",
    "data.loc[all_positive_ones, 'all_decisions'] = 1\n",
    "data.all_decisions.value_counts()"
   ]
  },
  {
   "cell_type": "code",
   "execution_count": 235,
   "id": "83ef613c",
   "metadata": {},
   "outputs": [
    {
     "data": {
      "text/plain": [
       "all_decisions\n",
       "0    5298\n",
       "Name: count, dtype: int64"
      ]
     },
     "execution_count": 235,
     "metadata": {},
     "output_type": "execute_result"
    }
   ],
   "source": [
    "# Inicjalizacja nowej kolumny z domyślnymi wartościami\n",
    "data['all_decisions'] = 0\n",
    "\n",
    "# Sprawdzenie miejsc, gdzie wszystkie wskaźniki są równe -1\n",
    "all_negative_ones = ( (data['dec_will'] == -1) &\n",
    "                     (data['MACD_decision'] == -1) &\n",
    "                     (data['dec_bollinger'] == -1) )\n",
    "\n",
    "# Sprawdzenie miejsc, gdzie wszystkie wskaźniki są równe 1\n",
    "all_positive_ones = ((data['dec_will'] == 1) &\n",
    "                     (data['MACD_decision'] == 1) &\n",
    "                     (data['dec_bollinger'] == 1) )\n",
    "\n",
    "# Aktualizacja nowej kolumny 'all_decisions'\n",
    "data.loc[all_negative_ones, 'all_decisions'] = -1\n",
    "data.loc[all_positive_ones, 'all_decisions'] = 1\n",
    "data.all_decisions.value_counts()"
   ]
  },
  {
   "cell_type": "code",
   "execution_count": 238,
   "id": "4c4c70cf",
   "metadata": {},
   "outputs": [
    {
     "data": {
      "text/plain": [
       "all_decisions\n",
       "0    5298\n",
       "Name: count, dtype: int64"
      ]
     },
     "execution_count": 238,
     "metadata": {},
     "output_type": "execute_result"
    }
   ],
   "source": [
    "# Inicjalizacja nowej kolumny z domyślnymi wartościami\n",
    "data['all_decisions'] = 0\n",
    "\n",
    "# Sprawdzenie miejsc, gdzie wszystkie wskaźniki są równe -1\n",
    "all_negative_ones = ( (data['cross_MA'] == -1) &\n",
    "                     (data['MACD_decision'] == -1) &\n",
    "                     (data['dec_bollinger'] == -1) )\n",
    "\n",
    "# Sprawdzenie miejsc, gdzie wszystkie wskaźniki są równe 1\n",
    "all_positive_ones = ((data['cross_MA'] == 1) &\n",
    "                     (data['MACD_decision'] == 1) &\n",
    "                     (data['dec_bollinger'] == 1) )\n",
    "\n",
    "# Aktualizacja nowej kolumny 'all_decisions'\n",
    "data.loc[all_negative_ones, 'all_decisions'] = -1\n",
    "data.loc[all_positive_ones, 'all_decisions'] = 1\n",
    "data.all_decisions.value_counts()"
   ]
  },
  {
   "cell_type": "code",
   "execution_count": null,
   "id": "fd2b6b56",
   "metadata": {},
   "outputs": [],
   "source": []
  },
  {
   "cell_type": "code",
   "execution_count": null,
   "id": "6a529242",
   "metadata": {},
   "outputs": [],
   "source": []
  }
 ],
 "metadata": {
  "kernelspec": {
   "display_name": "Python 3 (ipykernel)",
   "language": "python",
   "name": "python3"
  },
  "language_info": {
   "codemirror_mode": {
    "name": "ipython",
    "version": 3
   },
   "file_extension": ".py",
   "mimetype": "text/x-python",
   "name": "python",
   "nbconvert_exporter": "python",
   "pygments_lexer": "ipython3",
   "version": "3.10.11"
  }
 },
 "nbformat": 4,
 "nbformat_minor": 5
}
