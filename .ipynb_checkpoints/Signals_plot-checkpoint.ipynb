{
 "cells": [
  {
   "cell_type": "code",
   "execution_count": 1,
   "id": "5e90294d",
   "metadata": {},
   "outputs": [
    {
     "name": "stdout",
     "output_type": "stream",
     "text": [
      "Requirement already satisfied: matplotlib in c:\\users\\karolina\\anaconda3\\envs\\magisterka\\lib\\site-packages (3.7.1)\n",
      "Requirement already satisfied: pandas in c:\\users\\karolina\\anaconda3\\envs\\magisterka\\lib\\site-packages (2.0.1)\n",
      "Collecting technical-analysis\n",
      "  Downloading technical_analysis-0.0.5-py3-none-any.whl (26 kB)\n",
      "Requirement already satisfied: fonttools>=4.22.0 in c:\\users\\karolina\\anaconda3\\envs\\magisterka\\lib\\site-packages (from matplotlib) (4.39.4)\n",
      "Requirement already satisfied: contourpy>=1.0.1 in c:\\users\\karolina\\anaconda3\\envs\\magisterka\\lib\\site-packages (from matplotlib) (1.0.7)\n",
      "Requirement already satisfied: kiwisolver>=1.0.1 in c:\\users\\karolina\\anaconda3\\envs\\magisterka\\lib\\site-packages (from matplotlib) (1.4.4)\n",
      "Requirement already satisfied: pillow>=6.2.0 in c:\\users\\karolina\\anaconda3\\envs\\magisterka\\lib\\site-packages (from matplotlib) (9.5.0)\n",
      "Requirement already satisfied: cycler>=0.10 in c:\\users\\karolina\\anaconda3\\envs\\magisterka\\lib\\site-packages (from matplotlib) (0.11.0)\n",
      "Requirement already satisfied: pyparsing>=2.3.1 in c:\\users\\karolina\\anaconda3\\envs\\magisterka\\lib\\site-packages (from matplotlib) (3.0.9)\n",
      "Requirement already satisfied: packaging>=20.0 in c:\\users\\karolina\\anaconda3\\envs\\magisterka\\lib\\site-packages (from matplotlib) (23.0)\n",
      "Requirement already satisfied: python-dateutil>=2.7 in c:\\users\\karolina\\anaconda3\\envs\\magisterka\\lib\\site-packages (from matplotlib) (2.8.2)\n",
      "Requirement already satisfied: numpy>=1.20 in c:\\users\\karolina\\anaconda3\\envs\\magisterka\\lib\\site-packages (from matplotlib) (1.26.4)\n",
      "Requirement already satisfied: tzdata>=2022.1 in c:\\users\\karolina\\anaconda3\\envs\\magisterka\\lib\\site-packages (from pandas) (2023.3)\n",
      "Requirement already satisfied: pytz>=2020.1 in c:\\users\\karolina\\anaconda3\\envs\\magisterka\\lib\\site-packages (from pandas) (2022.7)\n",
      "Requirement already satisfied: six>=1.5 in c:\\users\\karolina\\anaconda3\\envs\\magisterka\\lib\\site-packages (from python-dateutil>=2.7->matplotlib) (1.16.0)\n",
      "Installing collected packages: technical-analysis\n",
      "Successfully installed technical-analysis-0.0.5\n",
      "Note: you may need to restart the kernel to use updated packages.\n"
     ]
    }
   ],
   "source": [
    "pip install matplotlib pandas technical-analysis\n"
   ]
  },
  {
   "cell_type": "code",
   "execution_count": 110,
   "id": "3c5114ec",
   "metadata": {},
   "outputs": [],
   "source": [
    "import pandas as pd\n",
    "import numpy as np\n",
    "import matplotlib.pyplot as plt\n",
    "import ta\n",
    "from datetime import timedelta\n",
    "import warnings\n",
    "warnings.filterwarnings(\"ignore\")\n",
    "import plotly.graph_objects as go\n",
    "import plotly.express as px\n",
    "\n",
    "import ipywidgets as widgets\n",
    "\n"
   ]
  },
  {
   "cell_type": "code",
   "execution_count": 125,
   "id": "e08b4b0f",
   "metadata": {},
   "outputs": [
    {
     "data": {
      "text/html": [
       "<div>\n",
       "<style scoped>\n",
       "    .dataframe tbody tr th:only-of-type {\n",
       "        vertical-align: middle;\n",
       "    }\n",
       "\n",
       "    .dataframe tbody tr th {\n",
       "        vertical-align: top;\n",
       "    }\n",
       "\n",
       "    .dataframe thead th {\n",
       "        text-align: right;\n",
       "    }\n",
       "</style>\n",
       "<table border=\"1\" class=\"dataframe\">\n",
       "  <thead>\n",
       "    <tr style=\"text-align: right;\">\n",
       "      <th></th>\n",
       "      <th>Date</th>\n",
       "      <th>Open</th>\n",
       "      <th>High</th>\n",
       "      <th>Low</th>\n",
       "      <th>Close</th>\n",
       "      <th>Adj Close</th>\n",
       "      <th>Volume</th>\n",
       "      <th>Name</th>\n",
       "      <th>Return</th>\n",
       "      <th>Up</th>\n",
       "      <th>...</th>\n",
       "      <th>MACD_decision</th>\n",
       "      <th>diff_MACD</th>\n",
       "      <th>diff_MACD_prev</th>\n",
       "      <th>fuzz_MACD_strategy</th>\n",
       "      <th>dec_bollinger</th>\n",
       "      <th>diff_cl_BU</th>\n",
       "      <th>diff_cl_BL</th>\n",
       "      <th>prev_diff_cl_BU</th>\n",
       "      <th>prev_diff_cl_BL</th>\n",
       "      <th>fuzz_BB_strategy</th>\n",
       "    </tr>\n",
       "    <tr>\n",
       "      <th>Date</th>\n",
       "      <th></th>\n",
       "      <th></th>\n",
       "      <th></th>\n",
       "      <th></th>\n",
       "      <th></th>\n",
       "      <th></th>\n",
       "      <th></th>\n",
       "      <th></th>\n",
       "      <th></th>\n",
       "      <th></th>\n",
       "      <th></th>\n",
       "      <th></th>\n",
       "      <th></th>\n",
       "      <th></th>\n",
       "      <th></th>\n",
       "      <th></th>\n",
       "      <th></th>\n",
       "      <th></th>\n",
       "      <th></th>\n",
       "      <th></th>\n",
       "      <th></th>\n",
       "    </tr>\n",
       "  </thead>\n",
       "  <tbody>\n",
       "    <tr>\n",
       "      <th>2019-05-02</th>\n",
       "      <td>2019-05-02</td>\n",
       "      <td>1.120185</td>\n",
       "      <td>1.121818</td>\n",
       "      <td>1.117356</td>\n",
       "      <td>1.120084</td>\n",
       "      <td>1.120084</td>\n",
       "      <td>0</td>\n",
       "      <td>EURUSD=X</td>\n",
       "      <td>-0.001356</td>\n",
       "      <td>0.000000</td>\n",
       "      <td>...</td>\n",
       "      <td>0</td>\n",
       "      <td>0.000048</td>\n",
       "      <td>0.000000</td>\n",
       "      <td>0</td>\n",
       "      <td>0</td>\n",
       "      <td>-0.013554</td>\n",
       "      <td>0.006675</td>\n",
       "      <td>-0.012144</td>\n",
       "      <td>0.007844</td>\n",
       "      <td>0</td>\n",
       "    </tr>\n",
       "    <tr>\n",
       "      <th>2019-05-03</th>\n",
       "      <td>2019-05-03</td>\n",
       "      <td>1.117256</td>\n",
       "      <td>1.120072</td>\n",
       "      <td>1.114132</td>\n",
       "      <td>1.117356</td>\n",
       "      <td>1.117356</td>\n",
       "      <td>0</td>\n",
       "      <td>EURUSD=X</td>\n",
       "      <td>-0.002439</td>\n",
       "      <td>0.000000</td>\n",
       "      <td>...</td>\n",
       "      <td>-1</td>\n",
       "      <td>-0.000081</td>\n",
       "      <td>0.000048</td>\n",
       "      <td>0</td>\n",
       "      <td>0</td>\n",
       "      <td>-0.016387</td>\n",
       "      <td>0.004574</td>\n",
       "      <td>-0.013554</td>\n",
       "      <td>0.006675</td>\n",
       "      <td>0</td>\n",
       "    </tr>\n",
       "    <tr>\n",
       "      <th>2019-05-06</th>\n",
       "      <td>2019-05-06</td>\n",
       "      <td>1.118706</td>\n",
       "      <td>1.120448</td>\n",
       "      <td>1.117993</td>\n",
       "      <td>1.118581</td>\n",
       "      <td>1.118581</td>\n",
       "      <td>0</td>\n",
       "      <td>EURUSD=X</td>\n",
       "      <td>0.001096</td>\n",
       "      <td>0.001096</td>\n",
       "      <td>...</td>\n",
       "      <td>0</td>\n",
       "      <td>-0.000063</td>\n",
       "      <td>-0.000081</td>\n",
       "      <td>0</td>\n",
       "      <td>0</td>\n",
       "      <td>-0.015189</td>\n",
       "      <td>0.006163</td>\n",
       "      <td>-0.016387</td>\n",
       "      <td>0.004574</td>\n",
       "      <td>0</td>\n",
       "    </tr>\n",
       "    <tr>\n",
       "      <th>2019-05-07</th>\n",
       "      <td>2019-05-07</td>\n",
       "      <td>1.120448</td>\n",
       "      <td>1.121957</td>\n",
       "      <td>1.117606</td>\n",
       "      <td>1.120185</td>\n",
       "      <td>1.120185</td>\n",
       "      <td>0</td>\n",
       "      <td>EURUSD=X</td>\n",
       "      <td>0.001433</td>\n",
       "      <td>0.001433</td>\n",
       "      <td>...</td>\n",
       "      <td>1</td>\n",
       "      <td>0.000072</td>\n",
       "      <td>-0.000063</td>\n",
       "      <td>0</td>\n",
       "      <td>0</td>\n",
       "      <td>-0.013316</td>\n",
       "      <td>0.008045</td>\n",
       "      <td>-0.015189</td>\n",
       "      <td>0.006163</td>\n",
       "      <td>0</td>\n",
       "    </tr>\n",
       "    <tr>\n",
       "      <th>2019-05-08</th>\n",
       "      <td>2019-05-08</td>\n",
       "      <td>1.118956</td>\n",
       "      <td>1.121500</td>\n",
       "      <td>1.118956</td>\n",
       "      <td>1.119107</td>\n",
       "      <td>1.119107</td>\n",
       "      <td>0</td>\n",
       "      <td>EURUSD=X</td>\n",
       "      <td>-0.000963</td>\n",
       "      <td>0.000000</td>\n",
       "      <td>...</td>\n",
       "      <td>0</td>\n",
       "      <td>0.000100</td>\n",
       "      <td>0.000072</td>\n",
       "      <td>0</td>\n",
       "      <td>0</td>\n",
       "      <td>-0.013974</td>\n",
       "      <td>0.007306</td>\n",
       "      <td>-0.013316</td>\n",
       "      <td>0.008045</td>\n",
       "      <td>0</td>\n",
       "    </tr>\n",
       "  </tbody>\n",
       "</table>\n",
       "<p>5 rows × 48 columns</p>\n",
       "</div>"
      ],
      "text/plain": [
       "                  Date      Open      High       Low     Close  Adj Close   \n",
       "Date                                                                        \n",
       "2019-05-02  2019-05-02  1.120185  1.121818  1.117356  1.120084   1.120084  \\\n",
       "2019-05-03  2019-05-03  1.117256  1.120072  1.114132  1.117356   1.117356   \n",
       "2019-05-06  2019-05-06  1.118706  1.120448  1.117993  1.118581   1.118581   \n",
       "2019-05-07  2019-05-07  1.120448  1.121957  1.117606  1.120185   1.120185   \n",
       "2019-05-08  2019-05-08  1.118956  1.121500  1.118956  1.119107   1.119107   \n",
       "\n",
       "            Volume      Name    Return        Up  ...  MACD_decision   \n",
       "Date                                              ...                  \n",
       "2019-05-02       0  EURUSD=X -0.001356  0.000000  ...              0  \\\n",
       "2019-05-03       0  EURUSD=X -0.002439  0.000000  ...             -1   \n",
       "2019-05-06       0  EURUSD=X  0.001096  0.001096  ...              0   \n",
       "2019-05-07       0  EURUSD=X  0.001433  0.001433  ...              1   \n",
       "2019-05-08       0  EURUSD=X -0.000963  0.000000  ...              0   \n",
       "\n",
       "            diff_MACD  diff_MACD_prev  fuzz_MACD_strategy  dec_bollinger   \n",
       "Date                                                                       \n",
       "2019-05-02   0.000048        0.000000                   0              0  \\\n",
       "2019-05-03  -0.000081        0.000048                   0              0   \n",
       "2019-05-06  -0.000063       -0.000081                   0              0   \n",
       "2019-05-07   0.000072       -0.000063                   0              0   \n",
       "2019-05-08   0.000100        0.000072                   0              0   \n",
       "\n",
       "            diff_cl_BU  diff_cl_BL  prev_diff_cl_BU  prev_diff_cl_BL   \n",
       "Date                                                                   \n",
       "2019-05-02   -0.013554    0.006675        -0.012144         0.007844  \\\n",
       "2019-05-03   -0.016387    0.004574        -0.013554         0.006675   \n",
       "2019-05-06   -0.015189    0.006163        -0.016387         0.004574   \n",
       "2019-05-07   -0.013316    0.008045        -0.015189         0.006163   \n",
       "2019-05-08   -0.013974    0.007306        -0.013316         0.008045   \n",
       "\n",
       "            fuzz_BB_strategy  \n",
       "Date                          \n",
       "2019-05-02                 0  \n",
       "2019-05-03                 0  \n",
       "2019-05-06                 0  \n",
       "2019-05-07                 0  \n",
       "2019-05-08                 0  \n",
       "\n",
       "[5 rows x 48 columns]"
      ]
     },
     "execution_count": 125,
     "metadata": {},
     "output_type": "execute_result"
    }
   ],
   "source": [
    "data = pd.read_csv('data/decisions_EURUSD_5Y.csv')\n",
    "\n",
    "data = data.set_index(pd.DatetimeIndex(data['Date']))\n",
    "data.head()"
   ]
  },
  {
   "cell_type": "code",
   "execution_count": 112,
   "id": "dfc41a1f",
   "metadata": {},
   "outputs": [],
   "source": [
    "df = data[['Date', 'Open', 'High', 'Low', 'Close']]"
   ]
  },
  {
   "cell_type": "code",
   "execution_count": 113,
   "id": "bf383ddc",
   "metadata": {},
   "outputs": [
    {
     "data": {
      "text/html": [
       "<div>\n",
       "<style scoped>\n",
       "    .dataframe tbody tr th:only-of-type {\n",
       "        vertical-align: middle;\n",
       "    }\n",
       "\n",
       "    .dataframe tbody tr th {\n",
       "        vertical-align: top;\n",
       "    }\n",
       "\n",
       "    .dataframe thead th {\n",
       "        text-align: right;\n",
       "    }\n",
       "</style>\n",
       "<table border=\"1\" class=\"dataframe\">\n",
       "  <thead>\n",
       "    <tr style=\"text-align: right;\">\n",
       "      <th></th>\n",
       "      <th>Date</th>\n",
       "      <th>Open</th>\n",
       "      <th>High</th>\n",
       "      <th>Low</th>\n",
       "      <th>Close</th>\n",
       "    </tr>\n",
       "    <tr>\n",
       "      <th>Date</th>\n",
       "      <th></th>\n",
       "      <th></th>\n",
       "      <th></th>\n",
       "      <th></th>\n",
       "      <th></th>\n",
       "    </tr>\n",
       "  </thead>\n",
       "  <tbody>\n",
       "    <tr>\n",
       "      <th>2019-05-02</th>\n",
       "      <td>2019-05-02</td>\n",
       "      <td>1.120185</td>\n",
       "      <td>1.121818</td>\n",
       "      <td>1.117356</td>\n",
       "      <td>1.120084</td>\n",
       "    </tr>\n",
       "    <tr>\n",
       "      <th>2019-05-03</th>\n",
       "      <td>2019-05-03</td>\n",
       "      <td>1.117256</td>\n",
       "      <td>1.120072</td>\n",
       "      <td>1.114132</td>\n",
       "      <td>1.117356</td>\n",
       "    </tr>\n",
       "    <tr>\n",
       "      <th>2019-05-06</th>\n",
       "      <td>2019-05-06</td>\n",
       "      <td>1.118706</td>\n",
       "      <td>1.120448</td>\n",
       "      <td>1.117993</td>\n",
       "      <td>1.118581</td>\n",
       "    </tr>\n",
       "    <tr>\n",
       "      <th>2019-05-07</th>\n",
       "      <td>2019-05-07</td>\n",
       "      <td>1.120448</td>\n",
       "      <td>1.121957</td>\n",
       "      <td>1.117606</td>\n",
       "      <td>1.120185</td>\n",
       "    </tr>\n",
       "    <tr>\n",
       "      <th>2019-05-08</th>\n",
       "      <td>2019-05-08</td>\n",
       "      <td>1.118956</td>\n",
       "      <td>1.121500</td>\n",
       "      <td>1.118956</td>\n",
       "      <td>1.119107</td>\n",
       "    </tr>\n",
       "    <tr>\n",
       "      <th>...</th>\n",
       "      <td>...</td>\n",
       "      <td>...</td>\n",
       "      <td>...</td>\n",
       "      <td>...</td>\n",
       "      <td>...</td>\n",
       "    </tr>\n",
       "    <tr>\n",
       "      <th>2024-03-28</th>\n",
       "      <td>2024-03-28</td>\n",
       "      <td>1.081338</td>\n",
       "      <td>1.082837</td>\n",
       "      <td>1.077551</td>\n",
       "      <td>1.081338</td>\n",
       "    </tr>\n",
       "    <tr>\n",
       "      <th>2024-03-29</th>\n",
       "      <td>2024-03-29</td>\n",
       "      <td>1.079447</td>\n",
       "      <td>1.080731</td>\n",
       "      <td>1.076890</td>\n",
       "      <td>1.079447</td>\n",
       "    </tr>\n",
       "    <tr>\n",
       "      <th>2024-04-01</th>\n",
       "      <td>2024-04-01</td>\n",
       "      <td>1.079273</td>\n",
       "      <td>1.080147</td>\n",
       "      <td>1.073157</td>\n",
       "      <td>1.079273</td>\n",
       "    </tr>\n",
       "    <tr>\n",
       "      <th>2024-04-02</th>\n",
       "      <td>2024-04-02</td>\n",
       "      <td>1.073722</td>\n",
       "      <td>1.077877</td>\n",
       "      <td>1.072536</td>\n",
       "      <td>1.073722</td>\n",
       "    </tr>\n",
       "    <tr>\n",
       "      <th>2024-04-03</th>\n",
       "      <td>2024-04-03</td>\n",
       "      <td>1.076855</td>\n",
       "      <td>1.083189</td>\n",
       "      <td>1.076473</td>\n",
       "      <td>1.076855</td>\n",
       "    </tr>\n",
       "  </tbody>\n",
       "</table>\n",
       "<p>1284 rows × 5 columns</p>\n",
       "</div>"
      ],
      "text/plain": [
       "                  Date      Open      High       Low     Close\n",
       "Date                                                          \n",
       "2019-05-02  2019-05-02  1.120185  1.121818  1.117356  1.120084\n",
       "2019-05-03  2019-05-03  1.117256  1.120072  1.114132  1.117356\n",
       "2019-05-06  2019-05-06  1.118706  1.120448  1.117993  1.118581\n",
       "2019-05-07  2019-05-07  1.120448  1.121957  1.117606  1.120185\n",
       "2019-05-08  2019-05-08  1.118956  1.121500  1.118956  1.119107\n",
       "...                ...       ...       ...       ...       ...\n",
       "2024-03-28  2024-03-28  1.081338  1.082837  1.077551  1.081338\n",
       "2024-03-29  2024-03-29  1.079447  1.080731  1.076890  1.079447\n",
       "2024-04-01  2024-04-01  1.079273  1.080147  1.073157  1.079273\n",
       "2024-04-02  2024-04-02  1.073722  1.077877  1.072536  1.073722\n",
       "2024-04-03  2024-04-03  1.076855  1.083189  1.076473  1.076855\n",
       "\n",
       "[1284 rows x 5 columns]"
      ]
     },
     "execution_count": 113,
     "metadata": {},
     "output_type": "execute_result"
    }
   ],
   "source": [
    "df"
   ]
  },
  {
   "cell_type": "code",
   "execution_count": 114,
   "id": "c54d8abc",
   "metadata": {},
   "outputs": [
    {
     "data": {
      "text/html": [
       "<div>\n",
       "<style scoped>\n",
       "    .dataframe tbody tr th:only-of-type {\n",
       "        vertical-align: middle;\n",
       "    }\n",
       "\n",
       "    .dataframe tbody tr th {\n",
       "        vertical-align: top;\n",
       "    }\n",
       "\n",
       "    .dataframe thead th {\n",
       "        text-align: right;\n",
       "    }\n",
       "</style>\n",
       "<table border=\"1\" class=\"dataframe\">\n",
       "  <thead>\n",
       "    <tr style=\"text-align: right;\">\n",
       "      <th></th>\n",
       "      <th>Date</th>\n",
       "      <th>Open</th>\n",
       "      <th>High</th>\n",
       "      <th>Low</th>\n",
       "      <th>Close</th>\n",
       "      <th>RSI</th>\n",
       "      <th>%R</th>\n",
       "      <th>MA</th>\n",
       "      <th>MACD</th>\n",
       "      <th>Signal</th>\n",
       "      <th>bb_bbm</th>\n",
       "      <th>bb_bbh</th>\n",
       "      <th>bb_bbl</th>\n",
       "    </tr>\n",
       "    <tr>\n",
       "      <th>Date</th>\n",
       "      <th></th>\n",
       "      <th></th>\n",
       "      <th></th>\n",
       "      <th></th>\n",
       "      <th></th>\n",
       "      <th></th>\n",
       "      <th></th>\n",
       "      <th></th>\n",
       "      <th></th>\n",
       "      <th></th>\n",
       "      <th></th>\n",
       "      <th></th>\n",
       "      <th></th>\n",
       "    </tr>\n",
       "  </thead>\n",
       "  <tbody>\n",
       "    <tr>\n",
       "      <th>2019-05-02</th>\n",
       "      <td>2019-05-02</td>\n",
       "      <td>1.120185</td>\n",
       "      <td>1.121818</td>\n",
       "      <td>1.117356</td>\n",
       "      <td>1.120084</td>\n",
       "      <td>NaN</td>\n",
       "      <td>NaN</td>\n",
       "      <td>NaN</td>\n",
       "      <td>NaN</td>\n",
       "      <td>NaN</td>\n",
       "      <td>NaN</td>\n",
       "      <td>NaN</td>\n",
       "      <td>NaN</td>\n",
       "    </tr>\n",
       "    <tr>\n",
       "      <th>2019-05-03</th>\n",
       "      <td>2019-05-03</td>\n",
       "      <td>1.117256</td>\n",
       "      <td>1.120072</td>\n",
       "      <td>1.114132</td>\n",
       "      <td>1.117356</td>\n",
       "      <td>NaN</td>\n",
       "      <td>NaN</td>\n",
       "      <td>NaN</td>\n",
       "      <td>NaN</td>\n",
       "      <td>NaN</td>\n",
       "      <td>NaN</td>\n",
       "      <td>NaN</td>\n",
       "      <td>NaN</td>\n",
       "    </tr>\n",
       "    <tr>\n",
       "      <th>2019-05-06</th>\n",
       "      <td>2019-05-06</td>\n",
       "      <td>1.118706</td>\n",
       "      <td>1.120448</td>\n",
       "      <td>1.117993</td>\n",
       "      <td>1.118581</td>\n",
       "      <td>NaN</td>\n",
       "      <td>NaN</td>\n",
       "      <td>NaN</td>\n",
       "      <td>NaN</td>\n",
       "      <td>NaN</td>\n",
       "      <td>NaN</td>\n",
       "      <td>NaN</td>\n",
       "      <td>NaN</td>\n",
       "    </tr>\n",
       "    <tr>\n",
       "      <th>2019-05-07</th>\n",
       "      <td>2019-05-07</td>\n",
       "      <td>1.120448</td>\n",
       "      <td>1.121957</td>\n",
       "      <td>1.117606</td>\n",
       "      <td>1.120185</td>\n",
       "      <td>NaN</td>\n",
       "      <td>NaN</td>\n",
       "      <td>NaN</td>\n",
       "      <td>NaN</td>\n",
       "      <td>NaN</td>\n",
       "      <td>NaN</td>\n",
       "      <td>NaN</td>\n",
       "      <td>NaN</td>\n",
       "    </tr>\n",
       "    <tr>\n",
       "      <th>2019-05-08</th>\n",
       "      <td>2019-05-08</td>\n",
       "      <td>1.118956</td>\n",
       "      <td>1.121500</td>\n",
       "      <td>1.118956</td>\n",
       "      <td>1.119107</td>\n",
       "      <td>NaN</td>\n",
       "      <td>NaN</td>\n",
       "      <td>NaN</td>\n",
       "      <td>NaN</td>\n",
       "      <td>NaN</td>\n",
       "      <td>NaN</td>\n",
       "      <td>NaN</td>\n",
       "      <td>NaN</td>\n",
       "    </tr>\n",
       "    <tr>\n",
       "      <th>...</th>\n",
       "      <td>...</td>\n",
       "      <td>...</td>\n",
       "      <td>...</td>\n",
       "      <td>...</td>\n",
       "      <td>...</td>\n",
       "      <td>...</td>\n",
       "      <td>...</td>\n",
       "      <td>...</td>\n",
       "      <td>...</td>\n",
       "      <td>...</td>\n",
       "      <td>...</td>\n",
       "      <td>...</td>\n",
       "      <td>...</td>\n",
       "    </tr>\n",
       "    <tr>\n",
       "      <th>2024-03-28</th>\n",
       "      <td>2024-03-28</td>\n",
       "      <td>1.081338</td>\n",
       "      <td>1.082837</td>\n",
       "      <td>1.077551</td>\n",
       "      <td>1.081338</td>\n",
       "      <td>43.681252</td>\n",
       "      <td>-78.866240</td>\n",
       "      <td>1.087801</td>\n",
       "      <td>-0.001162</td>\n",
       "      <td>-0.000433</td>\n",
       "      <td>1.087801</td>\n",
       "      <td>1.097352</td>\n",
       "      <td>1.078250</td>\n",
       "    </tr>\n",
       "    <tr>\n",
       "      <th>2024-03-29</th>\n",
       "      <td>2024-03-29</td>\n",
       "      <td>1.079447</td>\n",
       "      <td>1.080731</td>\n",
       "      <td>1.076890</td>\n",
       "      <td>1.079447</td>\n",
       "      <td>41.551196</td>\n",
       "      <td>-86.235989</td>\n",
       "      <td>1.087749</td>\n",
       "      <td>-0.001309</td>\n",
       "      <td>-0.000608</td>\n",
       "      <td>1.087749</td>\n",
       "      <td>1.097469</td>\n",
       "      <td>1.078028</td>\n",
       "    </tr>\n",
       "    <tr>\n",
       "      <th>2024-04-01</th>\n",
       "      <td>2024-04-01</td>\n",
       "      <td>1.079273</td>\n",
       "      <td>1.080147</td>\n",
       "      <td>1.073157</td>\n",
       "      <td>1.079273</td>\n",
       "      <td>41.350649</td>\n",
       "      <td>-72.592494</td>\n",
       "      <td>1.087499</td>\n",
       "      <td>-0.001349</td>\n",
       "      <td>-0.000756</td>\n",
       "      <td>1.087499</td>\n",
       "      <td>1.097804</td>\n",
       "      <td>1.077194</td>\n",
       "    </tr>\n",
       "    <tr>\n",
       "      <th>2024-04-02</th>\n",
       "      <td>2024-04-02</td>\n",
       "      <td>1.073722</td>\n",
       "      <td>1.077877</td>\n",
       "      <td>1.072536</td>\n",
       "      <td>1.073722</td>\n",
       "      <td>35.487806</td>\n",
       "      <td>-94.827694</td>\n",
       "      <td>1.086909</td>\n",
       "      <td>-0.001659</td>\n",
       "      <td>-0.000937</td>\n",
       "      <td>1.086909</td>\n",
       "      <td>1.098824</td>\n",
       "      <td>1.074993</td>\n",
       "    </tr>\n",
       "    <tr>\n",
       "      <th>2024-04-03</th>\n",
       "      <td>2024-04-03</td>\n",
       "      <td>1.076855</td>\n",
       "      <td>1.083189</td>\n",
       "      <td>1.076473</td>\n",
       "      <td>1.076855</td>\n",
       "      <td>40.607022</td>\n",
       "      <td>-80.289597</td>\n",
       "      <td>1.086472</td>\n",
       "      <td>-0.001564</td>\n",
       "      <td>-0.001062</td>\n",
       "      <td>1.086472</td>\n",
       "      <td>1.099164</td>\n",
       "      <td>1.073780</td>\n",
       "    </tr>\n",
       "  </tbody>\n",
       "</table>\n",
       "<p>1284 rows × 13 columns</p>\n",
       "</div>"
      ],
      "text/plain": [
       "                  Date      Open      High       Low     Close        RSI   \n",
       "Date                                                                        \n",
       "2019-05-02  2019-05-02  1.120185  1.121818  1.117356  1.120084        NaN  \\\n",
       "2019-05-03  2019-05-03  1.117256  1.120072  1.114132  1.117356        NaN   \n",
       "2019-05-06  2019-05-06  1.118706  1.120448  1.117993  1.118581        NaN   \n",
       "2019-05-07  2019-05-07  1.120448  1.121957  1.117606  1.120185        NaN   \n",
       "2019-05-08  2019-05-08  1.118956  1.121500  1.118956  1.119107        NaN   \n",
       "...                ...       ...       ...       ...       ...        ...   \n",
       "2024-03-28  2024-03-28  1.081338  1.082837  1.077551  1.081338  43.681252   \n",
       "2024-03-29  2024-03-29  1.079447  1.080731  1.076890  1.079447  41.551196   \n",
       "2024-04-01  2024-04-01  1.079273  1.080147  1.073157  1.079273  41.350649   \n",
       "2024-04-02  2024-04-02  1.073722  1.077877  1.072536  1.073722  35.487806   \n",
       "2024-04-03  2024-04-03  1.076855  1.083189  1.076473  1.076855  40.607022   \n",
       "\n",
       "                   %R        MA      MACD    Signal    bb_bbm    bb_bbh   \n",
       "Date                                                                      \n",
       "2019-05-02        NaN       NaN       NaN       NaN       NaN       NaN  \\\n",
       "2019-05-03        NaN       NaN       NaN       NaN       NaN       NaN   \n",
       "2019-05-06        NaN       NaN       NaN       NaN       NaN       NaN   \n",
       "2019-05-07        NaN       NaN       NaN       NaN       NaN       NaN   \n",
       "2019-05-08        NaN       NaN       NaN       NaN       NaN       NaN   \n",
       "...               ...       ...       ...       ...       ...       ...   \n",
       "2024-03-28 -78.866240  1.087801 -0.001162 -0.000433  1.087801  1.097352   \n",
       "2024-03-29 -86.235989  1.087749 -0.001309 -0.000608  1.087749  1.097469   \n",
       "2024-04-01 -72.592494  1.087499 -0.001349 -0.000756  1.087499  1.097804   \n",
       "2024-04-02 -94.827694  1.086909 -0.001659 -0.000937  1.086909  1.098824   \n",
       "2024-04-03 -80.289597  1.086472 -0.001564 -0.001062  1.086472  1.099164   \n",
       "\n",
       "              bb_bbl  \n",
       "Date                  \n",
       "2019-05-02       NaN  \n",
       "2019-05-03       NaN  \n",
       "2019-05-06       NaN  \n",
       "2019-05-07       NaN  \n",
       "2019-05-08       NaN  \n",
       "...              ...  \n",
       "2024-03-28  1.078250  \n",
       "2024-03-29  1.078028  \n",
       "2024-04-01  1.077194  \n",
       "2024-04-02  1.074993  \n",
       "2024-04-03  1.073780  \n",
       "\n",
       "[1284 rows x 13 columns]"
      ]
     },
     "execution_count": 114,
     "metadata": {},
     "output_type": "execute_result"
    }
   ],
   "source": [
    "# RSI (Relative Strength Index)\n",
    "df['RSI'] = ta.momentum.rsi(close=df['Close'], window=14)\n",
    "\n",
    "# %R (Williams %R)\n",
    "df['%R'] = ta.momentum.williams_r(high=df['High'], low=df['Low'], close=df['Close'], lbp=14)\n",
    "\n",
    "# Moving Average (MA)\n",
    "df['MA'] = ta.trend.sma_indicator(close=df['Close'], window=20)\n",
    "\n",
    "# MACD (Moving Average Convergence Divergence)\n",
    "df['MACD'] = ta.trend.macd_diff(close=df['Close'], window_fast=12, window_slow=26, window_sign=9)\n",
    "df['Signal'] = df['MACD'].ewm(span=signal_period, min_periods=9).mean()\n",
    "\n",
    "# Bollinger Bands\n",
    "df['bb_bbm'] = ta.volatility.bollinger_mavg(close=df['Close'], window=20)\n",
    "df['bb_bbh'] = ta.volatility.bollinger_hband(close=df['Close'], window=20)\n",
    "df['bb_bbl'] = ta.volatility.bollinger_lband(close=df['Close'], window=20)\n",
    "df"
   ]
  },
  {
   "cell_type": "code",
   "execution_count": 126,
   "id": "1cc2dbff",
   "metadata": {},
   "outputs": [],
   "source": [
    "start_date = '2023-01-01'\n",
    "end_date = '2023-12-31'\n",
    "df_month = data.loc[start_date:end_date]"
   ]
  },
  {
   "cell_type": "code",
   "execution_count": 87,
   "id": "a5d84d32",
   "metadata": {},
   "outputs": [],
   "source": [
    "# Sygnały kupna i sprzedaży\n",
    "df['RSI_Buy_Signal'] = np.where(df['RSI'] > 70, 1, 0)\n",
    "df['RSI_Sell_Signal'] = np.where(df['RSI'] < 30, 1, 0)\n",
    "\n",
    "df['%R_Buy_Signal'] = np.where(df['%R'] > -20, 1, 0)\n",
    "df['%R_Sell_Signal'] = np.where(df['%R'] < -80, 1, 0)\n",
    "\n",
    "# Sygnały kupna i sprzedaży dla MA\n",
    "df['MA_Buy_Signal'] = np.where((df['Close'] > df['MA']) & (df['Close'].shift(1) <= df['MA'].shift(1)), 1, 0)\n",
    "df['MA_Sell_Signal'] = np.where((df['Close'] < df['MA']) & (df['Close'].shift(1) >= df['MA'].shift(1)), 1, 0)\n",
    "\n",
    "# Sygnały kupna i sprzedaży dla MACD\n",
    "df['MACD_Buy_Signal'] = np.where((df['MACD'] > df['Signal']) & (df['MACD'].shift(1) <= df['Signal'].shift(1)), 1, 0)\n",
    "df['MACD_Sell_Signal'] = np.where((df['MACD'] < df['Signal']) & (df['MACD'].shift(1) >= df['Signal'].shift(1)), 1, 0)\n",
    "\n",
    "\n",
    "df['BB_Buy_Signal'] = np.where((df['Close'] < df['bb_bbl']) & (df['Close'].shift(1) > df['bb_bbl'].shift(1)), 1, 0)\n",
    "df['BB_Sell_Signal'] = np.where((df['Close'] > df['bb_bbh']) & (df['Close'].shift(1) < df['bb_bbh'].shift(1)), 1, 0)\n"
   ]
  },
  {
   "cell_type": "code",
   "execution_count": 90,
   "id": "9775609d",
   "metadata": {},
   "outputs": [
    {
     "data": {
      "application/vnd.plotly.v1+json": {
       "config": {
        "plotlyServerURL": "https://plot.ly"
       },
       "data": [
        {
         "line": {
          "color": "lightblue",
          "width": 3
         },
         "mode": "lines",
         "name": "Close Price",
         "type": "scatter",
         "x": [
          "2023-01-02",
          "2023-01-03",
          "2023-01-04",
          "2023-01-05",
          "2023-01-06",
          "2023-01-09",
          "2023-01-10",
          "2023-01-11",
          "2023-01-12",
          "2023-01-13",
          "2023-01-16",
          "2023-01-17",
          "2023-01-18",
          "2023-01-19",
          "2023-01-20",
          "2023-01-23",
          "2023-01-24",
          "2023-01-25",
          "2023-01-26",
          "2023-01-27",
          "2023-01-30",
          "2023-01-31",
          "2023-02-01",
          "2023-02-02",
          "2023-02-03",
          "2023-02-06",
          "2023-02-07",
          "2023-02-08",
          "2023-02-09",
          "2023-02-10",
          "2023-02-13",
          "2023-02-14",
          "2023-02-15",
          "2023-02-16",
          "2023-02-17",
          "2023-02-20",
          "2023-02-21",
          "2023-02-22",
          "2023-02-23",
          "2023-02-24",
          "2023-02-27",
          "2023-02-28",
          "2023-03-01",
          "2023-03-02",
          "2023-03-03",
          "2023-03-06",
          "2023-03-07",
          "2023-03-08",
          "2023-03-09",
          "2023-03-10",
          "2023-03-13",
          "2023-03-14",
          "2023-03-15",
          "2023-03-16",
          "2023-03-17",
          "2023-03-20",
          "2023-03-21",
          "2023-03-22",
          "2023-03-23",
          "2023-03-24",
          "2023-03-27",
          "2023-03-28",
          "2023-03-29",
          "2023-03-30",
          "2023-03-31",
          "2023-04-03",
          "2023-04-04",
          "2023-04-05",
          "2023-04-06",
          "2023-04-07",
          "2023-04-10",
          "2023-04-11",
          "2023-04-12",
          "2023-04-13",
          "2023-04-14",
          "2023-04-17",
          "2023-04-18",
          "2023-04-19",
          "2023-04-20",
          "2023-04-21",
          "2023-04-24",
          "2023-04-25",
          "2023-04-26",
          "2023-04-27",
          "2023-04-28",
          "2023-05-01",
          "2023-05-02",
          "2023-05-03",
          "2023-05-04",
          "2023-05-05",
          "2023-05-08",
          "2023-05-09",
          "2023-05-10",
          "2023-05-11",
          "2023-05-12",
          "2023-05-15",
          "2023-05-16",
          "2023-05-17",
          "2023-05-18",
          "2023-05-19",
          "2023-05-22",
          "2023-05-23",
          "2023-05-24",
          "2023-05-25",
          "2023-05-26",
          "2023-05-29",
          "2023-05-30",
          "2023-05-31",
          "2023-06-01",
          "2023-06-02",
          "2023-06-05",
          "2023-06-06",
          "2023-06-07",
          "2023-06-08",
          "2023-06-09",
          "2023-06-12",
          "2023-06-13",
          "2023-06-14",
          "2023-06-15",
          "2023-06-16",
          "2023-06-19",
          "2023-06-20",
          "2023-06-21",
          "2023-06-22",
          "2023-06-23",
          "2023-06-26",
          "2023-06-27",
          "2023-06-28",
          "2023-06-29",
          "2023-06-30",
          "2023-07-03",
          "2023-07-04",
          "2023-07-05",
          "2023-07-06",
          "2023-07-07",
          "2023-07-10",
          "2023-07-11",
          "2023-07-12",
          "2023-07-13",
          "2023-07-14",
          "2023-07-17",
          "2023-07-18",
          "2023-07-19",
          "2023-07-20",
          "2023-07-21",
          "2023-07-24",
          "2023-07-25",
          "2023-07-26",
          "2023-07-27",
          "2023-07-28",
          "2023-07-31",
          "2023-08-01",
          "2023-08-02",
          "2023-08-03",
          "2023-08-04",
          "2023-08-07",
          "2023-08-08",
          "2023-08-09",
          "2023-08-10",
          "2023-08-11",
          "2023-08-14",
          "2023-08-15",
          "2023-08-16",
          "2023-08-17",
          "2023-08-18",
          "2023-08-21",
          "2023-08-22",
          "2023-08-23",
          "2023-08-24",
          "2023-08-25",
          "2023-08-28",
          "2023-08-29",
          "2023-08-30",
          "2023-08-31",
          "2023-09-01",
          "2023-09-04",
          "2023-09-05",
          "2023-09-06",
          "2023-09-07",
          "2023-09-08",
          "2023-09-11",
          "2023-09-12",
          "2023-09-13",
          "2023-09-14",
          "2023-09-15",
          "2023-09-18",
          "2023-09-19",
          "2023-09-20",
          "2023-09-21",
          "2023-09-22",
          "2023-09-25",
          "2023-09-26",
          "2023-09-27",
          "2023-09-28",
          "2023-09-29",
          "2023-10-02",
          "2023-10-03",
          "2023-10-04",
          "2023-10-05",
          "2023-10-06",
          "2023-10-09",
          "2023-10-10",
          "2023-10-11",
          "2023-10-12",
          "2023-10-13",
          "2023-10-16",
          "2023-10-17",
          "2023-10-18",
          "2023-10-19",
          "2023-10-20",
          "2023-10-23",
          "2023-10-24",
          "2023-10-25",
          "2023-10-26",
          "2023-10-27",
          "2023-10-30",
          "2023-10-31",
          "2023-11-01",
          "2023-11-02",
          "2023-11-03",
          "2023-11-06",
          "2023-11-07",
          "2023-11-08",
          "2023-11-09",
          "2023-11-10",
          "2023-11-13",
          "2023-11-14",
          "2023-11-15",
          "2023-11-16",
          "2023-11-17",
          "2023-11-20",
          "2023-11-21",
          "2023-11-22",
          "2023-11-23",
          "2023-11-24",
          "2023-11-27",
          "2023-11-28",
          "2023-11-29",
          "2023-11-30",
          "2023-12-01",
          "2023-12-04",
          "2023-12-05",
          "2023-12-06",
          "2023-12-07",
          "2023-12-08",
          "2023-12-11",
          "2023-12-12",
          "2023-12-13",
          "2023-12-14",
          "2023-12-15",
          "2023-12-18",
          "2023-12-19",
          "2023-12-20",
          "2023-12-21",
          "2023-12-22",
          "2023-12-25",
          "2023-12-26",
          "2023-12-27",
          "2023-12-28",
          "2023-12-29"
         ],
         "y": [
          1.0709733963012695,
          1.0677714347839355,
          1.0546854734420776,
          1.0606365203857422,
          1.0522217750549316,
          1.0656323432922363,
          1.073318362236023,
          1.0738946199417114,
          1.0766000747680664,
          1.0860239267349243,
          1.082461953163147,
          1.083012938499451,
          1.0793308019638062,
          1.0797853469848633,
          1.083388328552246,
          1.086507797241211,
          1.0874292850494385,
          1.088814616203308,
          1.0922038555145264,
          1.0894432067871094,
          1.0871455669403076,
          1.0850694179534912,
          1.0860947370529177,
          1.1012852191925049,
          1.09051251411438,
          1.079086184501648,
          1.0730764865875244,
          1.0729728937149048,
          1.0715816020965576,
          1.0742292404174805,
          1.0677714347839355,
          1.073041915893555,
          1.0735719203948977,
          1.0691757202148438,
          1.0665756464004517,
          1.0684444904327393,
          1.068261981010437,
          1.065200924873352,
          1.0605803728103638,
          1.0598047971725464,
          1.055475831031799,
          1.0611205101013184,
          1.0577309131622314,
          1.066894292831421,
          1.0599732398986816,
          1.0626201629638672,
          1.0688328742980957,
          1.05507493019104,
          1.0549525022506714,
          1.0584698915481567,
          1.0683646202087402,
          1.0725010633468628,
          1.0727657079696655,
          1.0583354234695437,
          1.0614134073257446,
          1.0678855180740356,
          1.071914792060852,
          1.0774236917495728,
          1.0870392322540283,
          1.0835057497024536,
          1.077818512916565,
          1.0807071924209597,
          1.0839520692825315,
          1.0843634605407717,
          1.0904649496078491,
          1.080333590507507,
          1.091226577758789,
          1.0960105657577517,
          1.090334177017212,
          1.0920130014419556,
          1.0913575887680054,
          1.086932897567749,
          1.0917507410049438,
          1.0999890565872192,
          1.1054610013961792,
          1.098659634590149,
          1.0925379991531372,
          1.0975382328033447,
          1.095218300819397,
          1.0970927476882937,
          1.0992271900177002,
          1.1059499979019165,
          1.0978394746780396,
          1.1047282218933103,
          1.1032048463821411,
          1.1010911464691162,
          1.0969241857528689,
          1.1010911464691162,
          1.1068925857543943,
          1.102292776107788,
          1.10186767578125,
          1.0996140241622925,
          1.096467137336731,
          1.098406195640564,
          1.0912145376205444,
          1.0852696895599363,
          1.0873701572418213,
          1.0865668058395386,
          1.0838346481323242,
          1.0775396823883057,
          1.0822745561599731,
          1.0811045169830322,
          1.076971173286438,
          1.0757315158843994,
          1.072443604469299,
          1.0723055601119995,
          1.0707669258117676,
          1.073306918144226,
          1.0695186853408811,
          1.0760787725448608,
          1.0698620080947876,
          1.0711798667907717,
          1.0698047876358032,
          1.0707440376281738,
          1.078271746635437,
          1.0750954151153564,
          1.0762988328933716,
          1.078934907913208,
          1.084304690361023,
          1.0945948362350464,
          1.0942115783691406,
          1.0924304723739624,
          1.0920368432998655,
          1.0992635488510132,
          1.0958904027938845,
          1.0906671285629272,
          1.091048002243042,
          1.0957223176956177,
          1.0915838479995728,
          1.086802959442139,
          1.0907504558563232,
          1.091309905052185,
          1.0884946584701538,
          1.0856584310531616,
          1.0890636444091797,
          1.0969723463058472,
          1.100594401359558,
          1.101406455039978,
          1.1144545078277588,
          1.1223469972610474,
          1.1227755546569824,
          1.123759627342224,
          1.1228890419006348,
          1.120523452758789,
          1.113709807395935,
          1.112532615661621,
          1.1063170433044434,
          1.1050456762313845,
          1.1078368425369265,
          1.0978755950927734,
          1.1024264097213743,
          1.0997591018676758,
          1.100788116455078,
          1.0944151878356934,
          1.095158338546753,
          1.1002674102783203,
          1.100315809249878,
          1.0958904027938845,
          1.0977671146392822,
          1.0981649160385132,
          1.094439148902893,
          1.0909883975982666,
          1.0904173851013184,
          1.0874884128570557,
          1.0874648094177246,
          1.087559461593628,
          1.0898351669311523,
          1.0846692323684692,
          1.086578607559204,
          1.07991361618042,
          1.0797386169433594,
          1.082555651664734,
          1.0869210958480835,
          1.0932546854019165,
          1.0844104290008545,
          1.07758629322052,
          1.0794472694396973,
          1.0726161003112793,
          1.0724204778671265,
          1.0697818994522097,
          1.071811318397522,
          1.0750375986099243,
          1.075326681137085,
          1.073422074317932,
          1.0637166500091553,
          1.0668259859085083,
          1.0692671537399292,
          1.0682048797607422,
          1.065303087234497,
          1.0661548376083374,
          1.0648492574691772,
          1.0591648817062378,
          1.0569483041763306,
          1.0505305528640747,
          1.0562450885772705,
          1.0565240383148191,
          1.0480751991271973,
          1.0472300052642822,
          1.0507071018218994,
          1.0546631813049316,
          1.056747317314148,
          1.0578875541687012,
          1.0604791641235352,
          1.0624282360076904,
          1.0536741018295288,
          1.052155375480652,
          1.055431246757507,
          1.057305932044983,
          1.053851842880249,
          1.0586491823196411,
          1.0589966773986816,
          1.0669853687286377,
          1.059535264968872,
          1.056725025177002,
          1.0564459562301636,
          1.0562450885772705,
          1.061503529548645,
          1.0579099655151367,
          1.05870521068573,
          1.061909317970276,
          1.073214769363403,
          1.0721560716629028,
          1.0696102380752563,
          1.07104229927063,
          1.0667576789855957,
          1.069015622138977,
          1.0701825618743896,
          1.0878314971923828,
          1.0854581594467163,
          1.0853756666183472,
          1.090702772140503,
          1.0945948362350464,
          1.0918222665786743,
          1.0890873670578003,
          1.0906314849853516,
          1.0940439701080322,
          1.095842361450195,
          1.100594401359558,
          1.0973695516586304,
          1.089205980300903,
          1.088814616203308,
          1.0837758779525757,
          1.0793657302856443,
          1.076669692993164,
          1.079214334487915,
          1.0765769481658936,
          1.076658010482788,
          1.0798670053482056,
          1.0886130332946775,
          1.0993602275848389,
          1.0895264148712158,
          1.092382788658142,
          1.0981045961380005,
          1.094570875167847,
          1.100618600845337,
          1.102657437324524,
          1.1020255088806152,
          1.1043012142181396,
          1.110864281654358,
          1.1068191528320312
         ]
        },
        {
         "line": {
          "color": "lightgray",
          "width": 2
         },
         "mode": "lines",
         "name": "RSI",
         "type": "scatter",
         "x": [
          "2023-01-02",
          "2023-01-03",
          "2023-01-04",
          "2023-01-05",
          "2023-01-06",
          "2023-01-09",
          "2023-01-10",
          "2023-01-11",
          "2023-01-12",
          "2023-01-13",
          "2023-01-16",
          "2023-01-17",
          "2023-01-18",
          "2023-01-19",
          "2023-01-20",
          "2023-01-23",
          "2023-01-24",
          "2023-01-25",
          "2023-01-26",
          "2023-01-27",
          "2023-01-30",
          "2023-01-31",
          "2023-02-01",
          "2023-02-02",
          "2023-02-03",
          "2023-02-06",
          "2023-02-07",
          "2023-02-08",
          "2023-02-09",
          "2023-02-10",
          "2023-02-13",
          "2023-02-14",
          "2023-02-15",
          "2023-02-16",
          "2023-02-17",
          "2023-02-20",
          "2023-02-21",
          "2023-02-22",
          "2023-02-23",
          "2023-02-24",
          "2023-02-27",
          "2023-02-28",
          "2023-03-01",
          "2023-03-02",
          "2023-03-03",
          "2023-03-06",
          "2023-03-07",
          "2023-03-08",
          "2023-03-09",
          "2023-03-10",
          "2023-03-13",
          "2023-03-14",
          "2023-03-15",
          "2023-03-16",
          "2023-03-17",
          "2023-03-20",
          "2023-03-21",
          "2023-03-22",
          "2023-03-23",
          "2023-03-24",
          "2023-03-27",
          "2023-03-28",
          "2023-03-29",
          "2023-03-30",
          "2023-03-31",
          "2023-04-03",
          "2023-04-04",
          "2023-04-05",
          "2023-04-06",
          "2023-04-07",
          "2023-04-10",
          "2023-04-11",
          "2023-04-12",
          "2023-04-13",
          "2023-04-14",
          "2023-04-17",
          "2023-04-18",
          "2023-04-19",
          "2023-04-20",
          "2023-04-21",
          "2023-04-24",
          "2023-04-25",
          "2023-04-26",
          "2023-04-27",
          "2023-04-28",
          "2023-05-01",
          "2023-05-02",
          "2023-05-03",
          "2023-05-04",
          "2023-05-05",
          "2023-05-08",
          "2023-05-09",
          "2023-05-10",
          "2023-05-11",
          "2023-05-12",
          "2023-05-15",
          "2023-05-16",
          "2023-05-17",
          "2023-05-18",
          "2023-05-19",
          "2023-05-22",
          "2023-05-23",
          "2023-05-24",
          "2023-05-25",
          "2023-05-26",
          "2023-05-29",
          "2023-05-30",
          "2023-05-31",
          "2023-06-01",
          "2023-06-02",
          "2023-06-05",
          "2023-06-06",
          "2023-06-07",
          "2023-06-08",
          "2023-06-09",
          "2023-06-12",
          "2023-06-13",
          "2023-06-14",
          "2023-06-15",
          "2023-06-16",
          "2023-06-19",
          "2023-06-20",
          "2023-06-21",
          "2023-06-22",
          "2023-06-23",
          "2023-06-26",
          "2023-06-27",
          "2023-06-28",
          "2023-06-29",
          "2023-06-30",
          "2023-07-03",
          "2023-07-04",
          "2023-07-05",
          "2023-07-06",
          "2023-07-07",
          "2023-07-10",
          "2023-07-11",
          "2023-07-12",
          "2023-07-13",
          "2023-07-14",
          "2023-07-17",
          "2023-07-18",
          "2023-07-19",
          "2023-07-20",
          "2023-07-21",
          "2023-07-24",
          "2023-07-25",
          "2023-07-26",
          "2023-07-27",
          "2023-07-28",
          "2023-07-31",
          "2023-08-01",
          "2023-08-02",
          "2023-08-03",
          "2023-08-04",
          "2023-08-07",
          "2023-08-08",
          "2023-08-09",
          "2023-08-10",
          "2023-08-11",
          "2023-08-14",
          "2023-08-15",
          "2023-08-16",
          "2023-08-17",
          "2023-08-18",
          "2023-08-21",
          "2023-08-22",
          "2023-08-23",
          "2023-08-24",
          "2023-08-25",
          "2023-08-28",
          "2023-08-29",
          "2023-08-30",
          "2023-08-31",
          "2023-09-01",
          "2023-09-04",
          "2023-09-05",
          "2023-09-06",
          "2023-09-07",
          "2023-09-08",
          "2023-09-11",
          "2023-09-12",
          "2023-09-13",
          "2023-09-14",
          "2023-09-15",
          "2023-09-18",
          "2023-09-19",
          "2023-09-20",
          "2023-09-21",
          "2023-09-22",
          "2023-09-25",
          "2023-09-26",
          "2023-09-27",
          "2023-09-28",
          "2023-09-29",
          "2023-10-02",
          "2023-10-03",
          "2023-10-04",
          "2023-10-05",
          "2023-10-06",
          "2023-10-09",
          "2023-10-10",
          "2023-10-11",
          "2023-10-12",
          "2023-10-13",
          "2023-10-16",
          "2023-10-17",
          "2023-10-18",
          "2023-10-19",
          "2023-10-20",
          "2023-10-23",
          "2023-10-24",
          "2023-10-25",
          "2023-10-26",
          "2023-10-27",
          "2023-10-30",
          "2023-10-31",
          "2023-11-01",
          "2023-11-02",
          "2023-11-03",
          "2023-11-06",
          "2023-11-07",
          "2023-11-08",
          "2023-11-09",
          "2023-11-10",
          "2023-11-13",
          "2023-11-14",
          "2023-11-15",
          "2023-11-16",
          "2023-11-17",
          "2023-11-20",
          "2023-11-21",
          "2023-11-22",
          "2023-11-23",
          "2023-11-24",
          "2023-11-27",
          "2023-11-28",
          "2023-11-29",
          "2023-11-30",
          "2023-12-01",
          "2023-12-04",
          "2023-12-05",
          "2023-12-06",
          "2023-12-07",
          "2023-12-08",
          "2023-12-11",
          "2023-12-12",
          "2023-12-13",
          "2023-12-14",
          "2023-12-15",
          "2023-12-18",
          "2023-12-19",
          "2023-12-20",
          "2023-12-21",
          "2023-12-22",
          "2023-12-25",
          "2023-12-26",
          "2023-12-27",
          "2023-12-28",
          "2023-12-29"
         ],
         "y": [
          67.20567882599043,
          63.16932343718785,
          49.96241766466369,
          54.61000359846475,
          47.84319941167307,
          56.990043813061995,
          61.19085687678644,
          61.494516407435974,
          62.95984129437392,
          67.58689771646932,
          64.31649491812804,
          64.60182895973634,
          61.08642436151435,
          61.36591216832044,
          63.597736145864154,
          65.45826617278361,
          66.01090517940045,
          66.86908735885365,
          68.9355915862378,
          65.35952666389325,
          62.45558008638941,
          59.867189341600685,
          60.73270473222809,
          70.78522502870766,
          59.208941322089586,
          49.8892743675748,
          45.8055037656939,
          45.73600544679374,
          44.75389473536598,
          47.082658358310056,
          42.389229307981516,
          47.03018785159995,
          47.4883023568981,
          44.08268220834671,
          42.15705282057639,
          44.04889719919616,
          43.897897655995,
          41.33834334755926,
          37.75941396123432,
          37.17758384479237,
          34.02601529086465,
          41.04401355482772,
          38.40226847246095,
          48.12317522900196,
          42.64862700051288,
          45.215506564824565,
          50.78347954989057,
          40.87596834222597,
          40.79968834832024,
          44.03125235756901,
          51.97341240362119,
          54.85736303972857,
          55.043366308072756,
          44.32002457544854,
          46.70502021487787,
          51.4173338206162,
          54.13617416745264,
          57.62763974778788,
          62.931969531227445,
          59.96144016897747,
          55.426582411534966,
          57.19728516604743,
          59.15992152693759,
          59.41401071356789,
          63.08257764516334,
          54.30496513779246,
          60.64549305773978,
          63.06916221201441,
          58.46803648047457,
          59.41116623066887,
          58.84931077646796,
          55.0633837850853,
          58.21548813571467,
          62.99546306504167,
          65.79441401653628,
          59.74540798248539,
          54.85683927342976,
          57.88788029440646,
          56.00888197515294,
          57.21722505825072,
          58.61135247898111,
          62.73076219842204,
          55.547801588988214,
          59.762179078346186,
          58.44264248514556,
          56.576053466829926,
          52.98336810355306,
          55.99286768767498,
          59.84647517410317,
          55.68300137742625,
          55.300106558672645,
          53.21110317944242,
          50.350884088443294,
          52.060828488599284,
          45.76533271161866,
          41.317491972195526,
          43.41020953049664,
          42.78181072769856,
          40.627782090048925,
          36.11585104114092,
          41.38842242708569,
          40.49891530886433,
          37.43788480475189,
          36.54571890957969,
          34.21668727338279,
          34.118374387811315,
          32.980913183346644,
          36.730833626762326,
          33.70204644243634,
          42.538404226516825,
          37.44501710692654,
          39.10944334608115,
          37.9740836275395,
          39.270924535946286,
          48.554716192531714,
          45.40086954740571,
          46.81051602712797,
          49.86403013996787,
          55.47183120322087,
          63.822656143220605,
          63.34614946200371,
          61.06441200767834,
          60.54536293008926,
          66.22201030704362,
          61.75568570965757,
          55.512179271434896,
          55.86259310913413,
          60.024182336450274,
          55.07311866670238,
          49.94757229381052,
          53.773114014734496,
          54.3061410359852,
          51.112250276102834,
          48.04646423552851,
          51.78568256697844,
          59.14096539667382,
          62.00013508855629,
          62.631487746805035,
          70.97587940000957,
          74.66158990561846,
          74.84836033694114,
          75.29860961648536,
          74.03591571518706,
          70.57284505668375,
          61.63071472313305,
          60.21122199249414,
          53.23881180560631,
          51.91456414049262,
          54.585333752194565,
          44.982869059313515,
          49.36530008784728,
          47.00208652613444,
          48.035609413126345,
          42.506908991438536,
          43.32606318997284,
          48.733973124091904,
          48.78383079383277,
          44.520365321925404,
          46.649741970661914,
          47.11310392102305,
          43.31830006015958,
          40.096924800324295,
          39.572503794938676,
          36.90612533956056,
          36.88455695836696,
          37.04344822486688,
          40.89602407420093,
          35.57417389259952,
          38.7469285148995,
          32.694329242601555,
          32.55055394663104,
          37.328310010976544,
          43.953727398401945,
          51.89889479277613,
          42.779117544124425,
          37.32858795627291,
          39.58906592258952,
          34.648724656376075,
          34.5158907005373,
          32.6951774249337,
          35.512797292375666,
          39.82563198650719,
          40.21147580665174,
          38.46164506383129,
          31.047424729624822,
          35.34735791500154,
          38.58550649017892,
          37.70062993358484,
          35.317935805318186,
          36.58483904081961,
          35.43901711605682,
          30.901124717541492,
          29.324294518920496,
          25.29899219394224,
          33.98811289484918,
          34.38930621047339,
          28.699891783984,
          28.197322432489088,
          33.36685363849291,
          38.76841099937708,
          41.46070149185974,
          42.93892477637332,
          46.26050938405357,
          48.68005838850256,
          39.974544275586105,
          38.682121420536404,
          42.965539172152575,
          45.31961839446217,
          41.888991447654064,
          47.79936125096168,
          48.21025816715649,
          56.65697521830116,
          48.682715774780526,
          46.04983727890578,
          45.785028531508885,
          45.581849286225626,
          51.63298409994841,
          47.72716806803758,
          48.65284884897115,
          52.31673441255192,
          62.487747843659534,
          61.171860609549285,
          58.00843465720155,
          59.283956217411955,
          53.998938935035866,
          56.214214352336654,
          57.35716135688914,
          70.07846426589796,
          67.17626608586517,
          67.07229155602798,
          70.27217413470221,
          72.38376769541986,
          68.64324615987843,
          65.07115072053531,
          66.14243500735105,
          68.4457498471795,
          69.61875851521968,
          72.52518107377448,
          67.78595893417892,
          57.53617663926634,
          57.09049557513741,
          51.55358448716817,
          47.23552610549998,
          44.766960365376875,
          47.55296768076898,
          45.01839282243222,
          45.11522269264685,
          48.94821168488018,
          57.63267909584969,
          65.41763040796724,
          55.388641949968054,
          57.43011023623009,
          61.254974520754374,
          57.800899264609974,
          61.773703533293784,
          63.03708691233967,
          62.34926741525268,
          63.87783594924416,
          67.92254188968302,
          63.22357469400242
         ],
         "yaxis": "y2"
        },
        {
         "marker": {
          "color": "green",
          "size": 10,
          "symbol": "triangle-up"
         },
         "mode": "markers",
         "name": "Buy Signal",
         "type": "scatter",
         "x": [
          "2023-09-29",
          "2023-10-05"
         ],
         "y": [
          1.0562450885772705,
          1.0507071018218994
         ]
        },
        {
         "marker": {
          "color": "red",
          "size": 10,
          "symbol": "triangle-down"
         },
         "mode": "markers",
         "name": "Sell Signal",
         "type": "scatter",
         "x": [
          "2023-02-03",
          "2023-07-21",
          "2023-11-16",
          "2023-11-22",
          "2023-11-30"
         ],
         "y": [
          1.09051251411438,
          1.113709807395935,
          1.0854581594467163,
          1.0918222665786743,
          1.0973695516586304
         ]
        }
       ],
       "layout": {
        "annotations": [
         {
          "arrowhead": 2,
          "ax": 20,
          "ay": -30,
          "showarrow": true,
          "text": "Overbought (70)",
          "x": "2023-01-02",
          "xref": "x",
          "y": 70,
          "yref": "y2"
         },
         {
          "arrowhead": 2,
          "ax": 20,
          "ay": 30,
          "showarrow": true,
          "text": "Oversold (30)",
          "x": "2023-01-02",
          "xref": "x",
          "y": 30,
          "yref": "y2"
         }
        ],
        "shapes": [
         {
          "line": {
           "color": "grey",
           "dash": "dash"
          },
          "type": "line",
          "x0": "2023-01-02",
          "x1": "2023-12-29",
          "y0": 70,
          "y1": 70,
          "yref": "y2"
         },
         {
          "line": {
           "color": "grey",
           "dash": "dash"
          },
          "type": "line",
          "x0": "2023-01-02",
          "x1": "2023-12-29",
          "y0": 30,
          "y1": 30,
          "yref": "y2"
         }
        ],
        "showlegend": true,
        "template": {
         "data": {
          "bar": [
           {
            "error_x": {
             "color": "#2a3f5f"
            },
            "error_y": {
             "color": "#2a3f5f"
            },
            "marker": {
             "line": {
              "color": "#E5ECF6",
              "width": 0.5
             },
             "pattern": {
              "fillmode": "overlay",
              "size": 10,
              "solidity": 0.2
             }
            },
            "type": "bar"
           }
          ],
          "barpolar": [
           {
            "marker": {
             "line": {
              "color": "#E5ECF6",
              "width": 0.5
             },
             "pattern": {
              "fillmode": "overlay",
              "size": 10,
              "solidity": 0.2
             }
            },
            "type": "barpolar"
           }
          ],
          "carpet": [
           {
            "aaxis": {
             "endlinecolor": "#2a3f5f",
             "gridcolor": "white",
             "linecolor": "white",
             "minorgridcolor": "white",
             "startlinecolor": "#2a3f5f"
            },
            "baxis": {
             "endlinecolor": "#2a3f5f",
             "gridcolor": "white",
             "linecolor": "white",
             "minorgridcolor": "white",
             "startlinecolor": "#2a3f5f"
            },
            "type": "carpet"
           }
          ],
          "choropleth": [
           {
            "colorbar": {
             "outlinewidth": 0,
             "ticks": ""
            },
            "type": "choropleth"
           }
          ],
          "contour": [
           {
            "colorbar": {
             "outlinewidth": 0,
             "ticks": ""
            },
            "colorscale": [
             [
              0,
              "#0d0887"
             ],
             [
              0.1111111111111111,
              "#46039f"
             ],
             [
              0.2222222222222222,
              "#7201a8"
             ],
             [
              0.3333333333333333,
              "#9c179e"
             ],
             [
              0.4444444444444444,
              "#bd3786"
             ],
             [
              0.5555555555555556,
              "#d8576b"
             ],
             [
              0.6666666666666666,
              "#ed7953"
             ],
             [
              0.7777777777777778,
              "#fb9f3a"
             ],
             [
              0.8888888888888888,
              "#fdca26"
             ],
             [
              1,
              "#f0f921"
             ]
            ],
            "type": "contour"
           }
          ],
          "contourcarpet": [
           {
            "colorbar": {
             "outlinewidth": 0,
             "ticks": ""
            },
            "type": "contourcarpet"
           }
          ],
          "heatmap": [
           {
            "colorbar": {
             "outlinewidth": 0,
             "ticks": ""
            },
            "colorscale": [
             [
              0,
              "#0d0887"
             ],
             [
              0.1111111111111111,
              "#46039f"
             ],
             [
              0.2222222222222222,
              "#7201a8"
             ],
             [
              0.3333333333333333,
              "#9c179e"
             ],
             [
              0.4444444444444444,
              "#bd3786"
             ],
             [
              0.5555555555555556,
              "#d8576b"
             ],
             [
              0.6666666666666666,
              "#ed7953"
             ],
             [
              0.7777777777777778,
              "#fb9f3a"
             ],
             [
              0.8888888888888888,
              "#fdca26"
             ],
             [
              1,
              "#f0f921"
             ]
            ],
            "type": "heatmap"
           }
          ],
          "heatmapgl": [
           {
            "colorbar": {
             "outlinewidth": 0,
             "ticks": ""
            },
            "colorscale": [
             [
              0,
              "#0d0887"
             ],
             [
              0.1111111111111111,
              "#46039f"
             ],
             [
              0.2222222222222222,
              "#7201a8"
             ],
             [
              0.3333333333333333,
              "#9c179e"
             ],
             [
              0.4444444444444444,
              "#bd3786"
             ],
             [
              0.5555555555555556,
              "#d8576b"
             ],
             [
              0.6666666666666666,
              "#ed7953"
             ],
             [
              0.7777777777777778,
              "#fb9f3a"
             ],
             [
              0.8888888888888888,
              "#fdca26"
             ],
             [
              1,
              "#f0f921"
             ]
            ],
            "type": "heatmapgl"
           }
          ],
          "histogram": [
           {
            "marker": {
             "pattern": {
              "fillmode": "overlay",
              "size": 10,
              "solidity": 0.2
             }
            },
            "type": "histogram"
           }
          ],
          "histogram2d": [
           {
            "colorbar": {
             "outlinewidth": 0,
             "ticks": ""
            },
            "colorscale": [
             [
              0,
              "#0d0887"
             ],
             [
              0.1111111111111111,
              "#46039f"
             ],
             [
              0.2222222222222222,
              "#7201a8"
             ],
             [
              0.3333333333333333,
              "#9c179e"
             ],
             [
              0.4444444444444444,
              "#bd3786"
             ],
             [
              0.5555555555555556,
              "#d8576b"
             ],
             [
              0.6666666666666666,
              "#ed7953"
             ],
             [
              0.7777777777777778,
              "#fb9f3a"
             ],
             [
              0.8888888888888888,
              "#fdca26"
             ],
             [
              1,
              "#f0f921"
             ]
            ],
            "type": "histogram2d"
           }
          ],
          "histogram2dcontour": [
           {
            "colorbar": {
             "outlinewidth": 0,
             "ticks": ""
            },
            "colorscale": [
             [
              0,
              "#0d0887"
             ],
             [
              0.1111111111111111,
              "#46039f"
             ],
             [
              0.2222222222222222,
              "#7201a8"
             ],
             [
              0.3333333333333333,
              "#9c179e"
             ],
             [
              0.4444444444444444,
              "#bd3786"
             ],
             [
              0.5555555555555556,
              "#d8576b"
             ],
             [
              0.6666666666666666,
              "#ed7953"
             ],
             [
              0.7777777777777778,
              "#fb9f3a"
             ],
             [
              0.8888888888888888,
              "#fdca26"
             ],
             [
              1,
              "#f0f921"
             ]
            ],
            "type": "histogram2dcontour"
           }
          ],
          "mesh3d": [
           {
            "colorbar": {
             "outlinewidth": 0,
             "ticks": ""
            },
            "type": "mesh3d"
           }
          ],
          "parcoords": [
           {
            "line": {
             "colorbar": {
              "outlinewidth": 0,
              "ticks": ""
             }
            },
            "type": "parcoords"
           }
          ],
          "pie": [
           {
            "automargin": true,
            "type": "pie"
           }
          ],
          "scatter": [
           {
            "fillpattern": {
             "fillmode": "overlay",
             "size": 10,
             "solidity": 0.2
            },
            "type": "scatter"
           }
          ],
          "scatter3d": [
           {
            "line": {
             "colorbar": {
              "outlinewidth": 0,
              "ticks": ""
             }
            },
            "marker": {
             "colorbar": {
              "outlinewidth": 0,
              "ticks": ""
             }
            },
            "type": "scatter3d"
           }
          ],
          "scattercarpet": [
           {
            "marker": {
             "colorbar": {
              "outlinewidth": 0,
              "ticks": ""
             }
            },
            "type": "scattercarpet"
           }
          ],
          "scattergeo": [
           {
            "marker": {
             "colorbar": {
              "outlinewidth": 0,
              "ticks": ""
             }
            },
            "type": "scattergeo"
           }
          ],
          "scattergl": [
           {
            "marker": {
             "colorbar": {
              "outlinewidth": 0,
              "ticks": ""
             }
            },
            "type": "scattergl"
           }
          ],
          "scattermapbox": [
           {
            "marker": {
             "colorbar": {
              "outlinewidth": 0,
              "ticks": ""
             }
            },
            "type": "scattermapbox"
           }
          ],
          "scatterpolar": [
           {
            "marker": {
             "colorbar": {
              "outlinewidth": 0,
              "ticks": ""
             }
            },
            "type": "scatterpolar"
           }
          ],
          "scatterpolargl": [
           {
            "marker": {
             "colorbar": {
              "outlinewidth": 0,
              "ticks": ""
             }
            },
            "type": "scatterpolargl"
           }
          ],
          "scatterternary": [
           {
            "marker": {
             "colorbar": {
              "outlinewidth": 0,
              "ticks": ""
             }
            },
            "type": "scatterternary"
           }
          ],
          "surface": [
           {
            "colorbar": {
             "outlinewidth": 0,
             "ticks": ""
            },
            "colorscale": [
             [
              0,
              "#0d0887"
             ],
             [
              0.1111111111111111,
              "#46039f"
             ],
             [
              0.2222222222222222,
              "#7201a8"
             ],
             [
              0.3333333333333333,
              "#9c179e"
             ],
             [
              0.4444444444444444,
              "#bd3786"
             ],
             [
              0.5555555555555556,
              "#d8576b"
             ],
             [
              0.6666666666666666,
              "#ed7953"
             ],
             [
              0.7777777777777778,
              "#fb9f3a"
             ],
             [
              0.8888888888888888,
              "#fdca26"
             ],
             [
              1,
              "#f0f921"
             ]
            ],
            "type": "surface"
           }
          ],
          "table": [
           {
            "cells": {
             "fill": {
              "color": "#EBF0F8"
             },
             "line": {
              "color": "white"
             }
            },
            "header": {
             "fill": {
              "color": "#C8D4E3"
             },
             "line": {
              "color": "white"
             }
            },
            "type": "table"
           }
          ]
         },
         "layout": {
          "annotationdefaults": {
           "arrowcolor": "#2a3f5f",
           "arrowhead": 0,
           "arrowwidth": 1
          },
          "autotypenumbers": "strict",
          "coloraxis": {
           "colorbar": {
            "outlinewidth": 0,
            "ticks": ""
           }
          },
          "colorscale": {
           "diverging": [
            [
             0,
             "#8e0152"
            ],
            [
             0.1,
             "#c51b7d"
            ],
            [
             0.2,
             "#de77ae"
            ],
            [
             0.3,
             "#f1b6da"
            ],
            [
             0.4,
             "#fde0ef"
            ],
            [
             0.5,
             "#f7f7f7"
            ],
            [
             0.6,
             "#e6f5d0"
            ],
            [
             0.7,
             "#b8e186"
            ],
            [
             0.8,
             "#7fbc41"
            ],
            [
             0.9,
             "#4d9221"
            ],
            [
             1,
             "#276419"
            ]
           ],
           "sequential": [
            [
             0,
             "#0d0887"
            ],
            [
             0.1111111111111111,
             "#46039f"
            ],
            [
             0.2222222222222222,
             "#7201a8"
            ],
            [
             0.3333333333333333,
             "#9c179e"
            ],
            [
             0.4444444444444444,
             "#bd3786"
            ],
            [
             0.5555555555555556,
             "#d8576b"
            ],
            [
             0.6666666666666666,
             "#ed7953"
            ],
            [
             0.7777777777777778,
             "#fb9f3a"
            ],
            [
             0.8888888888888888,
             "#fdca26"
            ],
            [
             1,
             "#f0f921"
            ]
           ],
           "sequentialminus": [
            [
             0,
             "#0d0887"
            ],
            [
             0.1111111111111111,
             "#46039f"
            ],
            [
             0.2222222222222222,
             "#7201a8"
            ],
            [
             0.3333333333333333,
             "#9c179e"
            ],
            [
             0.4444444444444444,
             "#bd3786"
            ],
            [
             0.5555555555555556,
             "#d8576b"
            ],
            [
             0.6666666666666666,
             "#ed7953"
            ],
            [
             0.7777777777777778,
             "#fb9f3a"
            ],
            [
             0.8888888888888888,
             "#fdca26"
            ],
            [
             1,
             "#f0f921"
            ]
           ]
          },
          "colorway": [
           "#636efa",
           "#EF553B",
           "#00cc96",
           "#ab63fa",
           "#FFA15A",
           "#19d3f3",
           "#FF6692",
           "#B6E880",
           "#FF97FF",
           "#FECB52"
          ],
          "font": {
           "color": "#2a3f5f"
          },
          "geo": {
           "bgcolor": "white",
           "lakecolor": "white",
           "landcolor": "#E5ECF6",
           "showlakes": true,
           "showland": true,
           "subunitcolor": "white"
          },
          "hoverlabel": {
           "align": "left"
          },
          "hovermode": "closest",
          "mapbox": {
           "style": "light"
          },
          "paper_bgcolor": "white",
          "plot_bgcolor": "#E5ECF6",
          "polar": {
           "angularaxis": {
            "gridcolor": "white",
            "linecolor": "white",
            "ticks": ""
           },
           "bgcolor": "#E5ECF6",
           "radialaxis": {
            "gridcolor": "white",
            "linecolor": "white",
            "ticks": ""
           }
          },
          "scene": {
           "xaxis": {
            "backgroundcolor": "#E5ECF6",
            "gridcolor": "white",
            "gridwidth": 2,
            "linecolor": "white",
            "showbackground": true,
            "ticks": "",
            "zerolinecolor": "white"
           },
           "yaxis": {
            "backgroundcolor": "#E5ECF6",
            "gridcolor": "white",
            "gridwidth": 2,
            "linecolor": "white",
            "showbackground": true,
            "ticks": "",
            "zerolinecolor": "white"
           },
           "zaxis": {
            "backgroundcolor": "#E5ECF6",
            "gridcolor": "white",
            "gridwidth": 2,
            "linecolor": "white",
            "showbackground": true,
            "ticks": "",
            "zerolinecolor": "white"
           }
          },
          "shapedefaults": {
           "line": {
            "color": "#2a3f5f"
           }
          },
          "ternary": {
           "aaxis": {
            "gridcolor": "white",
            "linecolor": "white",
            "ticks": ""
           },
           "baxis": {
            "gridcolor": "white",
            "linecolor": "white",
            "ticks": ""
           },
           "bgcolor": "#E5ECF6",
           "caxis": {
            "gridcolor": "white",
            "linecolor": "white",
            "ticks": ""
           }
          },
          "title": {
           "x": 0.05
          },
          "xaxis": {
           "automargin": true,
           "gridcolor": "white",
           "linecolor": "white",
           "ticks": "",
           "title": {
            "standoff": 15
           },
           "zerolinecolor": "white",
           "zerolinewidth": 2
          },
          "yaxis": {
           "automargin": true,
           "gridcolor": "white",
           "linecolor": "white",
           "ticks": "",
           "title": {
            "standoff": 15
           },
           "zerolinecolor": "white",
           "zerolinewidth": 2
          }
         }
        },
        "title": {
         "text": "Line Chart with RSI and Trading Signals"
        },
        "xaxis": {
         "rangeslider": {
          "visible": false
         },
         "title": {
          "text": "Date"
         }
        },
        "yaxis": {
         "side": "left",
         "title": {
          "text": "Price"
         }
        },
        "yaxis2": {
         "overlaying": "y",
         "range": [
          0,
          100
         ],
         "side": "right",
         "title": {
          "text": "RSI"
         }
        }
       }
      },
      "text/html": [
       "<div>                            <div id=\"c1d3865b-f921-41ee-89c1-6bb19960288a\" class=\"plotly-graph-div\" style=\"height:525px; width:100%;\"></div>            <script type=\"text/javascript\">                require([\"plotly\"], function(Plotly) {                    window.PLOTLYENV=window.PLOTLYENV || {};                                    if (document.getElementById(\"c1d3865b-f921-41ee-89c1-6bb19960288a\")) {                    Plotly.newPlot(                        \"c1d3865b-f921-41ee-89c1-6bb19960288a\",                        [{\"line\":{\"color\":\"lightblue\",\"width\":3},\"mode\":\"lines\",\"name\":\"Close Price\",\"x\":[\"2023-01-02\",\"2023-01-03\",\"2023-01-04\",\"2023-01-05\",\"2023-01-06\",\"2023-01-09\",\"2023-01-10\",\"2023-01-11\",\"2023-01-12\",\"2023-01-13\",\"2023-01-16\",\"2023-01-17\",\"2023-01-18\",\"2023-01-19\",\"2023-01-20\",\"2023-01-23\",\"2023-01-24\",\"2023-01-25\",\"2023-01-26\",\"2023-01-27\",\"2023-01-30\",\"2023-01-31\",\"2023-02-01\",\"2023-02-02\",\"2023-02-03\",\"2023-02-06\",\"2023-02-07\",\"2023-02-08\",\"2023-02-09\",\"2023-02-10\",\"2023-02-13\",\"2023-02-14\",\"2023-02-15\",\"2023-02-16\",\"2023-02-17\",\"2023-02-20\",\"2023-02-21\",\"2023-02-22\",\"2023-02-23\",\"2023-02-24\",\"2023-02-27\",\"2023-02-28\",\"2023-03-01\",\"2023-03-02\",\"2023-03-03\",\"2023-03-06\",\"2023-03-07\",\"2023-03-08\",\"2023-03-09\",\"2023-03-10\",\"2023-03-13\",\"2023-03-14\",\"2023-03-15\",\"2023-03-16\",\"2023-03-17\",\"2023-03-20\",\"2023-03-21\",\"2023-03-22\",\"2023-03-23\",\"2023-03-24\",\"2023-03-27\",\"2023-03-28\",\"2023-03-29\",\"2023-03-30\",\"2023-03-31\",\"2023-04-03\",\"2023-04-04\",\"2023-04-05\",\"2023-04-06\",\"2023-04-07\",\"2023-04-10\",\"2023-04-11\",\"2023-04-12\",\"2023-04-13\",\"2023-04-14\",\"2023-04-17\",\"2023-04-18\",\"2023-04-19\",\"2023-04-20\",\"2023-04-21\",\"2023-04-24\",\"2023-04-25\",\"2023-04-26\",\"2023-04-27\",\"2023-04-28\",\"2023-05-01\",\"2023-05-02\",\"2023-05-03\",\"2023-05-04\",\"2023-05-05\",\"2023-05-08\",\"2023-05-09\",\"2023-05-10\",\"2023-05-11\",\"2023-05-12\",\"2023-05-15\",\"2023-05-16\",\"2023-05-17\",\"2023-05-18\",\"2023-05-19\",\"2023-05-22\",\"2023-05-23\",\"2023-05-24\",\"2023-05-25\",\"2023-05-26\",\"2023-05-29\",\"2023-05-30\",\"2023-05-31\",\"2023-06-01\",\"2023-06-02\",\"2023-06-05\",\"2023-06-06\",\"2023-06-07\",\"2023-06-08\",\"2023-06-09\",\"2023-06-12\",\"2023-06-13\",\"2023-06-14\",\"2023-06-15\",\"2023-06-16\",\"2023-06-19\",\"2023-06-20\",\"2023-06-21\",\"2023-06-22\",\"2023-06-23\",\"2023-06-26\",\"2023-06-27\",\"2023-06-28\",\"2023-06-29\",\"2023-06-30\",\"2023-07-03\",\"2023-07-04\",\"2023-07-05\",\"2023-07-06\",\"2023-07-07\",\"2023-07-10\",\"2023-07-11\",\"2023-07-12\",\"2023-07-13\",\"2023-07-14\",\"2023-07-17\",\"2023-07-18\",\"2023-07-19\",\"2023-07-20\",\"2023-07-21\",\"2023-07-24\",\"2023-07-25\",\"2023-07-26\",\"2023-07-27\",\"2023-07-28\",\"2023-07-31\",\"2023-08-01\",\"2023-08-02\",\"2023-08-03\",\"2023-08-04\",\"2023-08-07\",\"2023-08-08\",\"2023-08-09\",\"2023-08-10\",\"2023-08-11\",\"2023-08-14\",\"2023-08-15\",\"2023-08-16\",\"2023-08-17\",\"2023-08-18\",\"2023-08-21\",\"2023-08-22\",\"2023-08-23\",\"2023-08-24\",\"2023-08-25\",\"2023-08-28\",\"2023-08-29\",\"2023-08-30\",\"2023-08-31\",\"2023-09-01\",\"2023-09-04\",\"2023-09-05\",\"2023-09-06\",\"2023-09-07\",\"2023-09-08\",\"2023-09-11\",\"2023-09-12\",\"2023-09-13\",\"2023-09-14\",\"2023-09-15\",\"2023-09-18\",\"2023-09-19\",\"2023-09-20\",\"2023-09-21\",\"2023-09-22\",\"2023-09-25\",\"2023-09-26\",\"2023-09-27\",\"2023-09-28\",\"2023-09-29\",\"2023-10-02\",\"2023-10-03\",\"2023-10-04\",\"2023-10-05\",\"2023-10-06\",\"2023-10-09\",\"2023-10-10\",\"2023-10-11\",\"2023-10-12\",\"2023-10-13\",\"2023-10-16\",\"2023-10-17\",\"2023-10-18\",\"2023-10-19\",\"2023-10-20\",\"2023-10-23\",\"2023-10-24\",\"2023-10-25\",\"2023-10-26\",\"2023-10-27\",\"2023-10-30\",\"2023-10-31\",\"2023-11-01\",\"2023-11-02\",\"2023-11-03\",\"2023-11-06\",\"2023-11-07\",\"2023-11-08\",\"2023-11-09\",\"2023-11-10\",\"2023-11-13\",\"2023-11-14\",\"2023-11-15\",\"2023-11-16\",\"2023-11-17\",\"2023-11-20\",\"2023-11-21\",\"2023-11-22\",\"2023-11-23\",\"2023-11-24\",\"2023-11-27\",\"2023-11-28\",\"2023-11-29\",\"2023-11-30\",\"2023-12-01\",\"2023-12-04\",\"2023-12-05\",\"2023-12-06\",\"2023-12-07\",\"2023-12-08\",\"2023-12-11\",\"2023-12-12\",\"2023-12-13\",\"2023-12-14\",\"2023-12-15\",\"2023-12-18\",\"2023-12-19\",\"2023-12-20\",\"2023-12-21\",\"2023-12-22\",\"2023-12-25\",\"2023-12-26\",\"2023-12-27\",\"2023-12-28\",\"2023-12-29\"],\"y\":[1.0709733963012695,1.0677714347839355,1.0546854734420776,1.0606365203857422,1.0522217750549316,1.0656323432922363,1.073318362236023,1.0738946199417114,1.0766000747680664,1.0860239267349243,1.082461953163147,1.083012938499451,1.0793308019638062,1.0797853469848633,1.083388328552246,1.086507797241211,1.0874292850494385,1.088814616203308,1.0922038555145264,1.0894432067871094,1.0871455669403076,1.0850694179534912,1.0860947370529177,1.1012852191925049,1.09051251411438,1.079086184501648,1.0730764865875244,1.0729728937149048,1.0715816020965576,1.0742292404174805,1.0677714347839355,1.073041915893555,1.0735719203948977,1.0691757202148438,1.0665756464004517,1.0684444904327393,1.068261981010437,1.065200924873352,1.0605803728103638,1.0598047971725464,1.055475831031799,1.0611205101013184,1.0577309131622314,1.066894292831421,1.0599732398986816,1.0626201629638672,1.0688328742980957,1.05507493019104,1.0549525022506714,1.0584698915481567,1.0683646202087402,1.0725010633468628,1.0727657079696655,1.0583354234695437,1.0614134073257446,1.0678855180740356,1.071914792060852,1.0774236917495728,1.0870392322540283,1.0835057497024536,1.077818512916565,1.0807071924209597,1.0839520692825315,1.0843634605407717,1.0904649496078491,1.080333590507507,1.091226577758789,1.0960105657577517,1.090334177017212,1.0920130014419556,1.0913575887680054,1.086932897567749,1.0917507410049438,1.0999890565872192,1.1054610013961792,1.098659634590149,1.0925379991531372,1.0975382328033447,1.095218300819397,1.0970927476882937,1.0992271900177002,1.1059499979019165,1.0978394746780396,1.1047282218933103,1.1032048463821411,1.1010911464691162,1.0969241857528689,1.1010911464691162,1.1068925857543943,1.102292776107788,1.10186767578125,1.0996140241622925,1.096467137336731,1.098406195640564,1.0912145376205444,1.0852696895599363,1.0873701572418213,1.0865668058395386,1.0838346481323242,1.0775396823883057,1.0822745561599731,1.0811045169830322,1.076971173286438,1.0757315158843994,1.072443604469299,1.0723055601119995,1.0707669258117676,1.073306918144226,1.0695186853408811,1.0760787725448608,1.0698620080947876,1.0711798667907717,1.0698047876358032,1.0707440376281738,1.078271746635437,1.0750954151153564,1.0762988328933716,1.078934907913208,1.084304690361023,1.0945948362350464,1.0942115783691406,1.0924304723739624,1.0920368432998655,1.0992635488510132,1.0958904027938845,1.0906671285629272,1.091048002243042,1.0957223176956177,1.0915838479995728,1.086802959442139,1.0907504558563232,1.091309905052185,1.0884946584701538,1.0856584310531616,1.0890636444091797,1.0969723463058472,1.100594401359558,1.101406455039978,1.1144545078277588,1.1223469972610474,1.1227755546569824,1.123759627342224,1.1228890419006348,1.120523452758789,1.113709807395935,1.112532615661621,1.1063170433044434,1.1050456762313845,1.1078368425369265,1.0978755950927734,1.1024264097213743,1.0997591018676758,1.100788116455078,1.0944151878356934,1.095158338546753,1.1002674102783203,1.100315809249878,1.0958904027938845,1.0977671146392822,1.0981649160385132,1.094439148902893,1.0909883975982666,1.0904173851013184,1.0874884128570557,1.0874648094177246,1.087559461593628,1.0898351669311523,1.0846692323684692,1.086578607559204,1.07991361618042,1.0797386169433594,1.082555651664734,1.0869210958480835,1.0932546854019165,1.0844104290008545,1.07758629322052,1.0794472694396973,1.0726161003112793,1.0724204778671265,1.0697818994522097,1.071811318397522,1.0750375986099243,1.075326681137085,1.073422074317932,1.0637166500091553,1.0668259859085083,1.0692671537399292,1.0682048797607422,1.065303087234497,1.0661548376083374,1.0648492574691772,1.0591648817062378,1.0569483041763306,1.0505305528640747,1.0562450885772705,1.0565240383148191,1.0480751991271973,1.0472300052642822,1.0507071018218994,1.0546631813049316,1.056747317314148,1.0578875541687012,1.0604791641235352,1.0624282360076904,1.0536741018295288,1.052155375480652,1.055431246757507,1.057305932044983,1.053851842880249,1.0586491823196411,1.0589966773986816,1.0669853687286377,1.059535264968872,1.056725025177002,1.0564459562301636,1.0562450885772705,1.061503529548645,1.0579099655151367,1.05870521068573,1.061909317970276,1.073214769363403,1.0721560716629028,1.0696102380752563,1.07104229927063,1.0667576789855957,1.069015622138977,1.0701825618743896,1.0878314971923828,1.0854581594467163,1.0853756666183472,1.090702772140503,1.0945948362350464,1.0918222665786743,1.0890873670578003,1.0906314849853516,1.0940439701080322,1.095842361450195,1.100594401359558,1.0973695516586304,1.089205980300903,1.088814616203308,1.0837758779525757,1.0793657302856443,1.076669692993164,1.079214334487915,1.0765769481658936,1.076658010482788,1.0798670053482056,1.0886130332946775,1.0993602275848389,1.0895264148712158,1.092382788658142,1.0981045961380005,1.094570875167847,1.100618600845337,1.102657437324524,1.1020255088806152,1.1043012142181396,1.110864281654358,1.1068191528320312],\"type\":\"scatter\"},{\"line\":{\"color\":\"lightgray\",\"width\":2},\"mode\":\"lines\",\"name\":\"RSI\",\"x\":[\"2023-01-02\",\"2023-01-03\",\"2023-01-04\",\"2023-01-05\",\"2023-01-06\",\"2023-01-09\",\"2023-01-10\",\"2023-01-11\",\"2023-01-12\",\"2023-01-13\",\"2023-01-16\",\"2023-01-17\",\"2023-01-18\",\"2023-01-19\",\"2023-01-20\",\"2023-01-23\",\"2023-01-24\",\"2023-01-25\",\"2023-01-26\",\"2023-01-27\",\"2023-01-30\",\"2023-01-31\",\"2023-02-01\",\"2023-02-02\",\"2023-02-03\",\"2023-02-06\",\"2023-02-07\",\"2023-02-08\",\"2023-02-09\",\"2023-02-10\",\"2023-02-13\",\"2023-02-14\",\"2023-02-15\",\"2023-02-16\",\"2023-02-17\",\"2023-02-20\",\"2023-02-21\",\"2023-02-22\",\"2023-02-23\",\"2023-02-24\",\"2023-02-27\",\"2023-02-28\",\"2023-03-01\",\"2023-03-02\",\"2023-03-03\",\"2023-03-06\",\"2023-03-07\",\"2023-03-08\",\"2023-03-09\",\"2023-03-10\",\"2023-03-13\",\"2023-03-14\",\"2023-03-15\",\"2023-03-16\",\"2023-03-17\",\"2023-03-20\",\"2023-03-21\",\"2023-03-22\",\"2023-03-23\",\"2023-03-24\",\"2023-03-27\",\"2023-03-28\",\"2023-03-29\",\"2023-03-30\",\"2023-03-31\",\"2023-04-03\",\"2023-04-04\",\"2023-04-05\",\"2023-04-06\",\"2023-04-07\",\"2023-04-10\",\"2023-04-11\",\"2023-04-12\",\"2023-04-13\",\"2023-04-14\",\"2023-04-17\",\"2023-04-18\",\"2023-04-19\",\"2023-04-20\",\"2023-04-21\",\"2023-04-24\",\"2023-04-25\",\"2023-04-26\",\"2023-04-27\",\"2023-04-28\",\"2023-05-01\",\"2023-05-02\",\"2023-05-03\",\"2023-05-04\",\"2023-05-05\",\"2023-05-08\",\"2023-05-09\",\"2023-05-10\",\"2023-05-11\",\"2023-05-12\",\"2023-05-15\",\"2023-05-16\",\"2023-05-17\",\"2023-05-18\",\"2023-05-19\",\"2023-05-22\",\"2023-05-23\",\"2023-05-24\",\"2023-05-25\",\"2023-05-26\",\"2023-05-29\",\"2023-05-30\",\"2023-05-31\",\"2023-06-01\",\"2023-06-02\",\"2023-06-05\",\"2023-06-06\",\"2023-06-07\",\"2023-06-08\",\"2023-06-09\",\"2023-06-12\",\"2023-06-13\",\"2023-06-14\",\"2023-06-15\",\"2023-06-16\",\"2023-06-19\",\"2023-06-20\",\"2023-06-21\",\"2023-06-22\",\"2023-06-23\",\"2023-06-26\",\"2023-06-27\",\"2023-06-28\",\"2023-06-29\",\"2023-06-30\",\"2023-07-03\",\"2023-07-04\",\"2023-07-05\",\"2023-07-06\",\"2023-07-07\",\"2023-07-10\",\"2023-07-11\",\"2023-07-12\",\"2023-07-13\",\"2023-07-14\",\"2023-07-17\",\"2023-07-18\",\"2023-07-19\",\"2023-07-20\",\"2023-07-21\",\"2023-07-24\",\"2023-07-25\",\"2023-07-26\",\"2023-07-27\",\"2023-07-28\",\"2023-07-31\",\"2023-08-01\",\"2023-08-02\",\"2023-08-03\",\"2023-08-04\",\"2023-08-07\",\"2023-08-08\",\"2023-08-09\",\"2023-08-10\",\"2023-08-11\",\"2023-08-14\",\"2023-08-15\",\"2023-08-16\",\"2023-08-17\",\"2023-08-18\",\"2023-08-21\",\"2023-08-22\",\"2023-08-23\",\"2023-08-24\",\"2023-08-25\",\"2023-08-28\",\"2023-08-29\",\"2023-08-30\",\"2023-08-31\",\"2023-09-01\",\"2023-09-04\",\"2023-09-05\",\"2023-09-06\",\"2023-09-07\",\"2023-09-08\",\"2023-09-11\",\"2023-09-12\",\"2023-09-13\",\"2023-09-14\",\"2023-09-15\",\"2023-09-18\",\"2023-09-19\",\"2023-09-20\",\"2023-09-21\",\"2023-09-22\",\"2023-09-25\",\"2023-09-26\",\"2023-09-27\",\"2023-09-28\",\"2023-09-29\",\"2023-10-02\",\"2023-10-03\",\"2023-10-04\",\"2023-10-05\",\"2023-10-06\",\"2023-10-09\",\"2023-10-10\",\"2023-10-11\",\"2023-10-12\",\"2023-10-13\",\"2023-10-16\",\"2023-10-17\",\"2023-10-18\",\"2023-10-19\",\"2023-10-20\",\"2023-10-23\",\"2023-10-24\",\"2023-10-25\",\"2023-10-26\",\"2023-10-27\",\"2023-10-30\",\"2023-10-31\",\"2023-11-01\",\"2023-11-02\",\"2023-11-03\",\"2023-11-06\",\"2023-11-07\",\"2023-11-08\",\"2023-11-09\",\"2023-11-10\",\"2023-11-13\",\"2023-11-14\",\"2023-11-15\",\"2023-11-16\",\"2023-11-17\",\"2023-11-20\",\"2023-11-21\",\"2023-11-22\",\"2023-11-23\",\"2023-11-24\",\"2023-11-27\",\"2023-11-28\",\"2023-11-29\",\"2023-11-30\",\"2023-12-01\",\"2023-12-04\",\"2023-12-05\",\"2023-12-06\",\"2023-12-07\",\"2023-12-08\",\"2023-12-11\",\"2023-12-12\",\"2023-12-13\",\"2023-12-14\",\"2023-12-15\",\"2023-12-18\",\"2023-12-19\",\"2023-12-20\",\"2023-12-21\",\"2023-12-22\",\"2023-12-25\",\"2023-12-26\",\"2023-12-27\",\"2023-12-28\",\"2023-12-29\"],\"y\":[67.20567882599043,63.16932343718785,49.96241766466369,54.61000359846475,47.84319941167307,56.990043813061995,61.19085687678644,61.494516407435974,62.95984129437392,67.58689771646932,64.31649491812804,64.60182895973634,61.08642436151435,61.36591216832044,63.597736145864154,65.45826617278361,66.01090517940045,66.86908735885365,68.9355915862378,65.35952666389325,62.45558008638941,59.867189341600685,60.73270473222809,70.78522502870766,59.208941322089586,49.8892743675748,45.8055037656939,45.73600544679374,44.75389473536598,47.082658358310056,42.389229307981516,47.03018785159995,47.4883023568981,44.08268220834671,42.15705282057639,44.04889719919616,43.897897655995,41.33834334755926,37.75941396123432,37.17758384479237,34.02601529086465,41.04401355482772,38.40226847246095,48.12317522900196,42.64862700051288,45.215506564824565,50.78347954989057,40.87596834222597,40.79968834832024,44.03125235756901,51.97341240362119,54.85736303972857,55.043366308072756,44.32002457544854,46.70502021487787,51.4173338206162,54.13617416745264,57.62763974778788,62.931969531227445,59.96144016897747,55.426582411534966,57.19728516604743,59.15992152693759,59.41401071356789,63.08257764516334,54.30496513779246,60.64549305773978,63.06916221201441,58.46803648047457,59.41116623066887,58.84931077646796,55.0633837850853,58.21548813571467,62.99546306504167,65.79441401653628,59.74540798248539,54.85683927342976,57.88788029440646,56.00888197515294,57.21722505825072,58.61135247898111,62.73076219842204,55.547801588988214,59.762179078346186,58.44264248514556,56.576053466829926,52.98336810355306,55.99286768767498,59.84647517410317,55.68300137742625,55.300106558672645,53.21110317944242,50.350884088443294,52.060828488599284,45.76533271161866,41.317491972195526,43.41020953049664,42.78181072769856,40.627782090048925,36.11585104114092,41.38842242708569,40.49891530886433,37.43788480475189,36.54571890957969,34.21668727338279,34.118374387811315,32.980913183346644,36.730833626762326,33.70204644243634,42.538404226516825,37.44501710692654,39.10944334608115,37.9740836275395,39.270924535946286,48.554716192531714,45.40086954740571,46.81051602712797,49.86403013996787,55.47183120322087,63.822656143220605,63.34614946200371,61.06441200767834,60.54536293008926,66.22201030704362,61.75568570965757,55.512179271434896,55.86259310913413,60.024182336450274,55.07311866670238,49.94757229381052,53.773114014734496,54.3061410359852,51.112250276102834,48.04646423552851,51.78568256697844,59.14096539667382,62.00013508855629,62.631487746805035,70.97587940000957,74.66158990561846,74.84836033694114,75.29860961648536,74.03591571518706,70.57284505668375,61.63071472313305,60.21122199249414,53.23881180560631,51.91456414049262,54.585333752194565,44.982869059313515,49.36530008784728,47.00208652613444,48.035609413126345,42.506908991438536,43.32606318997284,48.733973124091904,48.78383079383277,44.520365321925404,46.649741970661914,47.11310392102305,43.31830006015958,40.096924800324295,39.572503794938676,36.90612533956056,36.88455695836696,37.04344822486688,40.89602407420093,35.57417389259952,38.7469285148995,32.694329242601555,32.55055394663104,37.328310010976544,43.953727398401945,51.89889479277613,42.779117544124425,37.32858795627291,39.58906592258952,34.648724656376075,34.5158907005373,32.6951774249337,35.512797292375666,39.82563198650719,40.21147580665174,38.46164506383129,31.047424729624822,35.34735791500154,38.58550649017892,37.70062993358484,35.317935805318186,36.58483904081961,35.43901711605682,30.901124717541492,29.324294518920496,25.29899219394224,33.98811289484918,34.38930621047339,28.699891783984,28.197322432489088,33.36685363849291,38.76841099937708,41.46070149185974,42.93892477637332,46.26050938405357,48.68005838850256,39.974544275586105,38.682121420536404,42.965539172152575,45.31961839446217,41.888991447654064,47.79936125096168,48.21025816715649,56.65697521830116,48.682715774780526,46.04983727890578,45.785028531508885,45.581849286225626,51.63298409994841,47.72716806803758,48.65284884897115,52.31673441255192,62.487747843659534,61.171860609549285,58.00843465720155,59.283956217411955,53.998938935035866,56.214214352336654,57.35716135688914,70.07846426589796,67.17626608586517,67.07229155602798,70.27217413470221,72.38376769541986,68.64324615987843,65.07115072053531,66.14243500735105,68.4457498471795,69.61875851521968,72.52518107377448,67.78595893417892,57.53617663926634,57.09049557513741,51.55358448716817,47.23552610549998,44.766960365376875,47.55296768076898,45.01839282243222,45.11522269264685,48.94821168488018,57.63267909584969,65.41763040796724,55.388641949968054,57.43011023623009,61.254974520754374,57.800899264609974,61.773703533293784,63.03708691233967,62.34926741525268,63.87783594924416,67.92254188968302,63.22357469400242],\"yaxis\":\"y2\",\"type\":\"scatter\"},{\"marker\":{\"color\":\"green\",\"size\":10,\"symbol\":\"triangle-up\"},\"mode\":\"markers\",\"name\":\"Buy Signal\",\"x\":[\"2023-09-29\",\"2023-10-05\"],\"y\":[1.0562450885772705,1.0507071018218994],\"type\":\"scatter\"},{\"marker\":{\"color\":\"red\",\"size\":10,\"symbol\":\"triangle-down\"},\"mode\":\"markers\",\"name\":\"Sell Signal\",\"x\":[\"2023-02-03\",\"2023-07-21\",\"2023-11-16\",\"2023-11-22\",\"2023-11-30\"],\"y\":[1.09051251411438,1.113709807395935,1.0854581594467163,1.0918222665786743,1.0973695516586304],\"type\":\"scatter\"}],                        {\"template\":{\"data\":{\"histogram2dcontour\":[{\"type\":\"histogram2dcontour\",\"colorbar\":{\"outlinewidth\":0,\"ticks\":\"\"},\"colorscale\":[[0.0,\"#0d0887\"],[0.1111111111111111,\"#46039f\"],[0.2222222222222222,\"#7201a8\"],[0.3333333333333333,\"#9c179e\"],[0.4444444444444444,\"#bd3786\"],[0.5555555555555556,\"#d8576b\"],[0.6666666666666666,\"#ed7953\"],[0.7777777777777778,\"#fb9f3a\"],[0.8888888888888888,\"#fdca26\"],[1.0,\"#f0f921\"]]}],\"choropleth\":[{\"type\":\"choropleth\",\"colorbar\":{\"outlinewidth\":0,\"ticks\":\"\"}}],\"histogram2d\":[{\"type\":\"histogram2d\",\"colorbar\":{\"outlinewidth\":0,\"ticks\":\"\"},\"colorscale\":[[0.0,\"#0d0887\"],[0.1111111111111111,\"#46039f\"],[0.2222222222222222,\"#7201a8\"],[0.3333333333333333,\"#9c179e\"],[0.4444444444444444,\"#bd3786\"],[0.5555555555555556,\"#d8576b\"],[0.6666666666666666,\"#ed7953\"],[0.7777777777777778,\"#fb9f3a\"],[0.8888888888888888,\"#fdca26\"],[1.0,\"#f0f921\"]]}],\"heatmap\":[{\"type\":\"heatmap\",\"colorbar\":{\"outlinewidth\":0,\"ticks\":\"\"},\"colorscale\":[[0.0,\"#0d0887\"],[0.1111111111111111,\"#46039f\"],[0.2222222222222222,\"#7201a8\"],[0.3333333333333333,\"#9c179e\"],[0.4444444444444444,\"#bd3786\"],[0.5555555555555556,\"#d8576b\"],[0.6666666666666666,\"#ed7953\"],[0.7777777777777778,\"#fb9f3a\"],[0.8888888888888888,\"#fdca26\"],[1.0,\"#f0f921\"]]}],\"heatmapgl\":[{\"type\":\"heatmapgl\",\"colorbar\":{\"outlinewidth\":0,\"ticks\":\"\"},\"colorscale\":[[0.0,\"#0d0887\"],[0.1111111111111111,\"#46039f\"],[0.2222222222222222,\"#7201a8\"],[0.3333333333333333,\"#9c179e\"],[0.4444444444444444,\"#bd3786\"],[0.5555555555555556,\"#d8576b\"],[0.6666666666666666,\"#ed7953\"],[0.7777777777777778,\"#fb9f3a\"],[0.8888888888888888,\"#fdca26\"],[1.0,\"#f0f921\"]]}],\"contourcarpet\":[{\"type\":\"contourcarpet\",\"colorbar\":{\"outlinewidth\":0,\"ticks\":\"\"}}],\"contour\":[{\"type\":\"contour\",\"colorbar\":{\"outlinewidth\":0,\"ticks\":\"\"},\"colorscale\":[[0.0,\"#0d0887\"],[0.1111111111111111,\"#46039f\"],[0.2222222222222222,\"#7201a8\"],[0.3333333333333333,\"#9c179e\"],[0.4444444444444444,\"#bd3786\"],[0.5555555555555556,\"#d8576b\"],[0.6666666666666666,\"#ed7953\"],[0.7777777777777778,\"#fb9f3a\"],[0.8888888888888888,\"#fdca26\"],[1.0,\"#f0f921\"]]}],\"surface\":[{\"type\":\"surface\",\"colorbar\":{\"outlinewidth\":0,\"ticks\":\"\"},\"colorscale\":[[0.0,\"#0d0887\"],[0.1111111111111111,\"#46039f\"],[0.2222222222222222,\"#7201a8\"],[0.3333333333333333,\"#9c179e\"],[0.4444444444444444,\"#bd3786\"],[0.5555555555555556,\"#d8576b\"],[0.6666666666666666,\"#ed7953\"],[0.7777777777777778,\"#fb9f3a\"],[0.8888888888888888,\"#fdca26\"],[1.0,\"#f0f921\"]]}],\"mesh3d\":[{\"type\":\"mesh3d\",\"colorbar\":{\"outlinewidth\":0,\"ticks\":\"\"}}],\"scatter\":[{\"fillpattern\":{\"fillmode\":\"overlay\",\"size\":10,\"solidity\":0.2},\"type\":\"scatter\"}],\"parcoords\":[{\"type\":\"parcoords\",\"line\":{\"colorbar\":{\"outlinewidth\":0,\"ticks\":\"\"}}}],\"scatterpolargl\":[{\"type\":\"scatterpolargl\",\"marker\":{\"colorbar\":{\"outlinewidth\":0,\"ticks\":\"\"}}}],\"bar\":[{\"error_x\":{\"color\":\"#2a3f5f\"},\"error_y\":{\"color\":\"#2a3f5f\"},\"marker\":{\"line\":{\"color\":\"#E5ECF6\",\"width\":0.5},\"pattern\":{\"fillmode\":\"overlay\",\"size\":10,\"solidity\":0.2}},\"type\":\"bar\"}],\"scattergeo\":[{\"type\":\"scattergeo\",\"marker\":{\"colorbar\":{\"outlinewidth\":0,\"ticks\":\"\"}}}],\"scatterpolar\":[{\"type\":\"scatterpolar\",\"marker\":{\"colorbar\":{\"outlinewidth\":0,\"ticks\":\"\"}}}],\"histogram\":[{\"marker\":{\"pattern\":{\"fillmode\":\"overlay\",\"size\":10,\"solidity\":0.2}},\"type\":\"histogram\"}],\"scattergl\":[{\"type\":\"scattergl\",\"marker\":{\"colorbar\":{\"outlinewidth\":0,\"ticks\":\"\"}}}],\"scatter3d\":[{\"type\":\"scatter3d\",\"line\":{\"colorbar\":{\"outlinewidth\":0,\"ticks\":\"\"}},\"marker\":{\"colorbar\":{\"outlinewidth\":0,\"ticks\":\"\"}}}],\"scattermapbox\":[{\"type\":\"scattermapbox\",\"marker\":{\"colorbar\":{\"outlinewidth\":0,\"ticks\":\"\"}}}],\"scatterternary\":[{\"type\":\"scatterternary\",\"marker\":{\"colorbar\":{\"outlinewidth\":0,\"ticks\":\"\"}}}],\"scattercarpet\":[{\"type\":\"scattercarpet\",\"marker\":{\"colorbar\":{\"outlinewidth\":0,\"ticks\":\"\"}}}],\"carpet\":[{\"aaxis\":{\"endlinecolor\":\"#2a3f5f\",\"gridcolor\":\"white\",\"linecolor\":\"white\",\"minorgridcolor\":\"white\",\"startlinecolor\":\"#2a3f5f\"},\"baxis\":{\"endlinecolor\":\"#2a3f5f\",\"gridcolor\":\"white\",\"linecolor\":\"white\",\"minorgridcolor\":\"white\",\"startlinecolor\":\"#2a3f5f\"},\"type\":\"carpet\"}],\"table\":[{\"cells\":{\"fill\":{\"color\":\"#EBF0F8\"},\"line\":{\"color\":\"white\"}},\"header\":{\"fill\":{\"color\":\"#C8D4E3\"},\"line\":{\"color\":\"white\"}},\"type\":\"table\"}],\"barpolar\":[{\"marker\":{\"line\":{\"color\":\"#E5ECF6\",\"width\":0.5},\"pattern\":{\"fillmode\":\"overlay\",\"size\":10,\"solidity\":0.2}},\"type\":\"barpolar\"}],\"pie\":[{\"automargin\":true,\"type\":\"pie\"}]},\"layout\":{\"autotypenumbers\":\"strict\",\"colorway\":[\"#636efa\",\"#EF553B\",\"#00cc96\",\"#ab63fa\",\"#FFA15A\",\"#19d3f3\",\"#FF6692\",\"#B6E880\",\"#FF97FF\",\"#FECB52\"],\"font\":{\"color\":\"#2a3f5f\"},\"hovermode\":\"closest\",\"hoverlabel\":{\"align\":\"left\"},\"paper_bgcolor\":\"white\",\"plot_bgcolor\":\"#E5ECF6\",\"polar\":{\"bgcolor\":\"#E5ECF6\",\"angularaxis\":{\"gridcolor\":\"white\",\"linecolor\":\"white\",\"ticks\":\"\"},\"radialaxis\":{\"gridcolor\":\"white\",\"linecolor\":\"white\",\"ticks\":\"\"}},\"ternary\":{\"bgcolor\":\"#E5ECF6\",\"aaxis\":{\"gridcolor\":\"white\",\"linecolor\":\"white\",\"ticks\":\"\"},\"baxis\":{\"gridcolor\":\"white\",\"linecolor\":\"white\",\"ticks\":\"\"},\"caxis\":{\"gridcolor\":\"white\",\"linecolor\":\"white\",\"ticks\":\"\"}},\"coloraxis\":{\"colorbar\":{\"outlinewidth\":0,\"ticks\":\"\"}},\"colorscale\":{\"sequential\":[[0.0,\"#0d0887\"],[0.1111111111111111,\"#46039f\"],[0.2222222222222222,\"#7201a8\"],[0.3333333333333333,\"#9c179e\"],[0.4444444444444444,\"#bd3786\"],[0.5555555555555556,\"#d8576b\"],[0.6666666666666666,\"#ed7953\"],[0.7777777777777778,\"#fb9f3a\"],[0.8888888888888888,\"#fdca26\"],[1.0,\"#f0f921\"]],\"sequentialminus\":[[0.0,\"#0d0887\"],[0.1111111111111111,\"#46039f\"],[0.2222222222222222,\"#7201a8\"],[0.3333333333333333,\"#9c179e\"],[0.4444444444444444,\"#bd3786\"],[0.5555555555555556,\"#d8576b\"],[0.6666666666666666,\"#ed7953\"],[0.7777777777777778,\"#fb9f3a\"],[0.8888888888888888,\"#fdca26\"],[1.0,\"#f0f921\"]],\"diverging\":[[0,\"#8e0152\"],[0.1,\"#c51b7d\"],[0.2,\"#de77ae\"],[0.3,\"#f1b6da\"],[0.4,\"#fde0ef\"],[0.5,\"#f7f7f7\"],[0.6,\"#e6f5d0\"],[0.7,\"#b8e186\"],[0.8,\"#7fbc41\"],[0.9,\"#4d9221\"],[1,\"#276419\"]]},\"xaxis\":{\"gridcolor\":\"white\",\"linecolor\":\"white\",\"ticks\":\"\",\"title\":{\"standoff\":15},\"zerolinecolor\":\"white\",\"automargin\":true,\"zerolinewidth\":2},\"yaxis\":{\"gridcolor\":\"white\",\"linecolor\":\"white\",\"ticks\":\"\",\"title\":{\"standoff\":15},\"zerolinecolor\":\"white\",\"automargin\":true,\"zerolinewidth\":2},\"scene\":{\"xaxis\":{\"backgroundcolor\":\"#E5ECF6\",\"gridcolor\":\"white\",\"linecolor\":\"white\",\"showbackground\":true,\"ticks\":\"\",\"zerolinecolor\":\"white\",\"gridwidth\":2},\"yaxis\":{\"backgroundcolor\":\"#E5ECF6\",\"gridcolor\":\"white\",\"linecolor\":\"white\",\"showbackground\":true,\"ticks\":\"\",\"zerolinecolor\":\"white\",\"gridwidth\":2},\"zaxis\":{\"backgroundcolor\":\"#E5ECF6\",\"gridcolor\":\"white\",\"linecolor\":\"white\",\"showbackground\":true,\"ticks\":\"\",\"zerolinecolor\":\"white\",\"gridwidth\":2}},\"shapedefaults\":{\"line\":{\"color\":\"#2a3f5f\"}},\"annotationdefaults\":{\"arrowcolor\":\"#2a3f5f\",\"arrowhead\":0,\"arrowwidth\":1},\"geo\":{\"bgcolor\":\"white\",\"landcolor\":\"#E5ECF6\",\"subunitcolor\":\"white\",\"showland\":true,\"showlakes\":true,\"lakecolor\":\"white\"},\"title\":{\"x\":0.05},\"mapbox\":{\"style\":\"light\"}}},\"shapes\":[{\"line\":{\"color\":\"grey\",\"dash\":\"dash\"},\"type\":\"line\",\"x0\":\"2023-01-02\",\"x1\":\"2023-12-29\",\"y0\":70,\"y1\":70,\"yref\":\"y2\"},{\"line\":{\"color\":\"grey\",\"dash\":\"dash\"},\"type\":\"line\",\"x0\":\"2023-01-02\",\"x1\":\"2023-12-29\",\"y0\":30,\"y1\":30,\"yref\":\"y2\"}],\"annotations\":[{\"arrowhead\":2,\"ax\":20,\"ay\":-30,\"showarrow\":true,\"text\":\"Overbought (70)\",\"x\":\"2023-01-02\",\"xref\":\"x\",\"y\":70,\"yref\":\"y2\"},{\"arrowhead\":2,\"ax\":20,\"ay\":30,\"showarrow\":true,\"text\":\"Oversold (30)\",\"x\":\"2023-01-02\",\"xref\":\"x\",\"y\":30,\"yref\":\"y2\"}],\"xaxis\":{\"rangeslider\":{\"visible\":false},\"title\":{\"text\":\"Date\"}},\"yaxis\":{\"title\":{\"text\":\"Price\"},\"side\":\"left\"},\"yaxis2\":{\"title\":{\"text\":\"RSI\"},\"overlaying\":\"y\",\"side\":\"right\",\"range\":[0,100]},\"title\":{\"text\":\"Line Chart with RSI and Trading Signals\"},\"showlegend\":true},                        {\"responsive\": true}                    ).then(function(){\n",
       "                            \n",
       "var gd = document.getElementById('c1d3865b-f921-41ee-89c1-6bb19960288a');\n",
       "var x = new MutationObserver(function (mutations, observer) {{\n",
       "        var display = window.getComputedStyle(gd).display;\n",
       "        if (!display || display === 'none') {{\n",
       "            console.log([gd, 'removed!']);\n",
       "            Plotly.purge(gd);\n",
       "            observer.disconnect();\n",
       "        }}\n",
       "}});\n",
       "\n",
       "// Listen for the removal of the full notebook cells\n",
       "var notebookContainer = gd.closest('#notebook-container');\n",
       "if (notebookContainer) {{\n",
       "    x.observe(notebookContainer, {childList: true});\n",
       "}}\n",
       "\n",
       "// Listen for the clearing of the current output cell\n",
       "var outputEl = gd.closest('.output');\n",
       "if (outputEl) {{\n",
       "    x.observe(outputEl, {childList: true});\n",
       "}}\n",
       "\n",
       "                        })                };                });            </script>        </div>"
      ]
     },
     "metadata": {},
     "output_type": "display_data"
    }
   ],
   "source": [
    "fig = go.Figure()\n",
    "\n",
    "# Cena zamknięcia\n",
    "fig.add_trace(go.Scatter(x=df_month['Date'], y=df_month['Close'], mode='lines', name='Close Price', line=dict(color='lightblue', width=3)))\n",
    "\n",
    "# RSI\n",
    "fig.add_trace(go.Scatter(x=df_month['Date'], y=df_month['RSI'], mode='lines', name='RSI', yaxis='y2', line=dict(color='lightgray', width=2)))\n",
    "\n",
    "# Linie poziome dla poziomów wykupienia i wyprzedania\n",
    "fig.add_shape(type='line', x0=df_month['Date'].iloc[0], y0=70, x1=df_month['Date'].iloc[-1], y1=70,\n",
    "              line=dict(color='grey', dash='dash'), yref='y2')\n",
    "fig.add_annotation(\n",
    "    x=df_month['Date'].iloc[0],\n",
    "    y=70,\n",
    "    xref=\"x\",\n",
    "    yref=\"y2\",\n",
    "    text=\"Overbought (70)\",\n",
    "    showarrow=True,\n",
    "    arrowhead=2,\n",
    "    ax=20,\n",
    "    ay=-30\n",
    ")\n",
    "\n",
    "fig.add_shape(type='line', x0=df_month['Date'].iloc[0], y0=30, x1=df_month['Date'].iloc[-1], y1=30,\n",
    "              line=dict(color='grey', dash='dash'), yref='y2')\n",
    "fig.add_annotation(\n",
    "    x=df_month['Date'].iloc[0],\n",
    "    y=30,\n",
    "    xref=\"x\",\n",
    "    yref=\"y2\",\n",
    "    text=\"Oversold (30)\",\n",
    "    showarrow=True,\n",
    "    arrowhead=2,\n",
    "    ax=20,\n",
    "    ay=30\n",
    ")\n",
    "\n",
    "# Sygnały kupna i sprzedaży\n",
    "buy_signals = df_month[(df_month['RSI'].shift(1) < 30) & (df_month['RSI'] > 30)]\n",
    "sell_signals = df_month[(df_month['RSI'].shift(1) > 70) & (df_month['RSI'] < 70)]\n",
    "\n",
    "fig.add_trace(go.Scatter(x=buy_signals['Date'], y=buy_signals['Close'], mode='markers', name='Buy Signal',\n",
    "                         marker=dict(symbol='triangle-up', color='green', size=10)))\n",
    "fig.add_trace(go.Scatter(x=sell_signals['Date'], y=sell_signals['Close'], mode='markers', name='Sell Signal',\n",
    "                         marker=dict(symbol='triangle-down', color='red', size=10)))\n",
    "\n",
    "# Dodanie drugiej osi Y\n",
    "fig.update_layout(\n",
    "    title='Line Chart with RSI and Trading Signals',\n",
    "    xaxis_rangeslider_visible=False,\n",
    "    xaxis_title='Date',\n",
    "    yaxis=dict(\n",
    "        title='Price',\n",
    "        side='left'\n",
    "    ),\n",
    "    yaxis2=dict(\n",
    "        title='RSI',\n",
    "        overlaying='y',\n",
    "        side='right',\n",
    "        range=[0, 100]\n",
    "    ),\n",
    "    showlegend=True\n",
    ")\n",
    "\n",
    "fig.show()"
   ]
  },
  {
   "cell_type": "code",
   "execution_count": 91,
   "id": "4daba6ef",
   "metadata": {},
   "outputs": [
    {
     "data": {
      "application/vnd.plotly.v1+json": {
       "config": {
        "plotlyServerURL": "https://plot.ly"
       },
       "data": [
        {
         "line": {
          "color": "lightblue",
          "width": 3
         },
         "mode": "lines",
         "name": "Close Price",
         "type": "scatter",
         "x": [
          "2023-01-02",
          "2023-01-03",
          "2023-01-04",
          "2023-01-05",
          "2023-01-06",
          "2023-01-09",
          "2023-01-10",
          "2023-01-11",
          "2023-01-12",
          "2023-01-13",
          "2023-01-16",
          "2023-01-17",
          "2023-01-18",
          "2023-01-19",
          "2023-01-20",
          "2023-01-23",
          "2023-01-24",
          "2023-01-25",
          "2023-01-26",
          "2023-01-27",
          "2023-01-30",
          "2023-01-31",
          "2023-02-01",
          "2023-02-02",
          "2023-02-03",
          "2023-02-06",
          "2023-02-07",
          "2023-02-08",
          "2023-02-09",
          "2023-02-10",
          "2023-02-13",
          "2023-02-14",
          "2023-02-15",
          "2023-02-16",
          "2023-02-17",
          "2023-02-20",
          "2023-02-21",
          "2023-02-22",
          "2023-02-23",
          "2023-02-24",
          "2023-02-27",
          "2023-02-28",
          "2023-03-01",
          "2023-03-02",
          "2023-03-03",
          "2023-03-06",
          "2023-03-07",
          "2023-03-08",
          "2023-03-09",
          "2023-03-10",
          "2023-03-13",
          "2023-03-14",
          "2023-03-15",
          "2023-03-16",
          "2023-03-17",
          "2023-03-20",
          "2023-03-21",
          "2023-03-22",
          "2023-03-23",
          "2023-03-24",
          "2023-03-27",
          "2023-03-28",
          "2023-03-29",
          "2023-03-30",
          "2023-03-31",
          "2023-04-03",
          "2023-04-04",
          "2023-04-05",
          "2023-04-06",
          "2023-04-07",
          "2023-04-10",
          "2023-04-11",
          "2023-04-12",
          "2023-04-13",
          "2023-04-14",
          "2023-04-17",
          "2023-04-18",
          "2023-04-19",
          "2023-04-20",
          "2023-04-21",
          "2023-04-24",
          "2023-04-25",
          "2023-04-26",
          "2023-04-27",
          "2023-04-28",
          "2023-05-01",
          "2023-05-02",
          "2023-05-03",
          "2023-05-04",
          "2023-05-05",
          "2023-05-08",
          "2023-05-09",
          "2023-05-10",
          "2023-05-11",
          "2023-05-12",
          "2023-05-15",
          "2023-05-16",
          "2023-05-17",
          "2023-05-18",
          "2023-05-19",
          "2023-05-22",
          "2023-05-23",
          "2023-05-24",
          "2023-05-25",
          "2023-05-26",
          "2023-05-29",
          "2023-05-30",
          "2023-05-31",
          "2023-06-01",
          "2023-06-02",
          "2023-06-05",
          "2023-06-06",
          "2023-06-07",
          "2023-06-08",
          "2023-06-09",
          "2023-06-12",
          "2023-06-13",
          "2023-06-14",
          "2023-06-15",
          "2023-06-16",
          "2023-06-19",
          "2023-06-20",
          "2023-06-21",
          "2023-06-22",
          "2023-06-23",
          "2023-06-26",
          "2023-06-27",
          "2023-06-28",
          "2023-06-29",
          "2023-06-30",
          "2023-07-03",
          "2023-07-04",
          "2023-07-05",
          "2023-07-06",
          "2023-07-07",
          "2023-07-10",
          "2023-07-11",
          "2023-07-12",
          "2023-07-13",
          "2023-07-14",
          "2023-07-17",
          "2023-07-18",
          "2023-07-19",
          "2023-07-20",
          "2023-07-21",
          "2023-07-24",
          "2023-07-25",
          "2023-07-26",
          "2023-07-27",
          "2023-07-28",
          "2023-07-31",
          "2023-08-01",
          "2023-08-02",
          "2023-08-03",
          "2023-08-04",
          "2023-08-07",
          "2023-08-08",
          "2023-08-09",
          "2023-08-10",
          "2023-08-11",
          "2023-08-14",
          "2023-08-15",
          "2023-08-16",
          "2023-08-17",
          "2023-08-18",
          "2023-08-21",
          "2023-08-22",
          "2023-08-23",
          "2023-08-24",
          "2023-08-25",
          "2023-08-28",
          "2023-08-29",
          "2023-08-30",
          "2023-08-31",
          "2023-09-01",
          "2023-09-04",
          "2023-09-05",
          "2023-09-06",
          "2023-09-07",
          "2023-09-08",
          "2023-09-11",
          "2023-09-12",
          "2023-09-13",
          "2023-09-14",
          "2023-09-15",
          "2023-09-18",
          "2023-09-19",
          "2023-09-20",
          "2023-09-21",
          "2023-09-22",
          "2023-09-25",
          "2023-09-26",
          "2023-09-27",
          "2023-09-28",
          "2023-09-29",
          "2023-10-02",
          "2023-10-03",
          "2023-10-04",
          "2023-10-05",
          "2023-10-06",
          "2023-10-09",
          "2023-10-10",
          "2023-10-11",
          "2023-10-12",
          "2023-10-13",
          "2023-10-16",
          "2023-10-17",
          "2023-10-18",
          "2023-10-19",
          "2023-10-20",
          "2023-10-23",
          "2023-10-24",
          "2023-10-25",
          "2023-10-26",
          "2023-10-27",
          "2023-10-30",
          "2023-10-31",
          "2023-11-01",
          "2023-11-02",
          "2023-11-03",
          "2023-11-06",
          "2023-11-07",
          "2023-11-08",
          "2023-11-09",
          "2023-11-10",
          "2023-11-13",
          "2023-11-14",
          "2023-11-15",
          "2023-11-16",
          "2023-11-17",
          "2023-11-20",
          "2023-11-21",
          "2023-11-22",
          "2023-11-23",
          "2023-11-24",
          "2023-11-27",
          "2023-11-28",
          "2023-11-29",
          "2023-11-30",
          "2023-12-01",
          "2023-12-04",
          "2023-12-05",
          "2023-12-06",
          "2023-12-07",
          "2023-12-08",
          "2023-12-11",
          "2023-12-12",
          "2023-12-13",
          "2023-12-14",
          "2023-12-15",
          "2023-12-18",
          "2023-12-19",
          "2023-12-20",
          "2023-12-21",
          "2023-12-22",
          "2023-12-25",
          "2023-12-26",
          "2023-12-27",
          "2023-12-28",
          "2023-12-29"
         ],
         "y": [
          1.0709733963012695,
          1.0677714347839355,
          1.0546854734420776,
          1.0606365203857422,
          1.0522217750549316,
          1.0656323432922363,
          1.073318362236023,
          1.0738946199417114,
          1.0766000747680664,
          1.0860239267349243,
          1.082461953163147,
          1.083012938499451,
          1.0793308019638062,
          1.0797853469848633,
          1.083388328552246,
          1.086507797241211,
          1.0874292850494385,
          1.088814616203308,
          1.0922038555145264,
          1.0894432067871094,
          1.0871455669403076,
          1.0850694179534912,
          1.0860947370529177,
          1.1012852191925049,
          1.09051251411438,
          1.079086184501648,
          1.0730764865875244,
          1.0729728937149048,
          1.0715816020965576,
          1.0742292404174805,
          1.0677714347839355,
          1.073041915893555,
          1.0735719203948977,
          1.0691757202148438,
          1.0665756464004517,
          1.0684444904327393,
          1.068261981010437,
          1.065200924873352,
          1.0605803728103638,
          1.0598047971725464,
          1.055475831031799,
          1.0611205101013184,
          1.0577309131622314,
          1.066894292831421,
          1.0599732398986816,
          1.0626201629638672,
          1.0688328742980957,
          1.05507493019104,
          1.0549525022506714,
          1.0584698915481567,
          1.0683646202087402,
          1.0725010633468628,
          1.0727657079696655,
          1.0583354234695437,
          1.0614134073257446,
          1.0678855180740356,
          1.071914792060852,
          1.0774236917495728,
          1.0870392322540283,
          1.0835057497024536,
          1.077818512916565,
          1.0807071924209597,
          1.0839520692825315,
          1.0843634605407717,
          1.0904649496078491,
          1.080333590507507,
          1.091226577758789,
          1.0960105657577517,
          1.090334177017212,
          1.0920130014419556,
          1.0913575887680054,
          1.086932897567749,
          1.0917507410049438,
          1.0999890565872192,
          1.1054610013961792,
          1.098659634590149,
          1.0925379991531372,
          1.0975382328033447,
          1.095218300819397,
          1.0970927476882937,
          1.0992271900177002,
          1.1059499979019165,
          1.0978394746780396,
          1.1047282218933103,
          1.1032048463821411,
          1.1010911464691162,
          1.0969241857528689,
          1.1010911464691162,
          1.1068925857543943,
          1.102292776107788,
          1.10186767578125,
          1.0996140241622925,
          1.096467137336731,
          1.098406195640564,
          1.0912145376205444,
          1.0852696895599363,
          1.0873701572418213,
          1.0865668058395386,
          1.0838346481323242,
          1.0775396823883057,
          1.0822745561599731,
          1.0811045169830322,
          1.076971173286438,
          1.0757315158843994,
          1.072443604469299,
          1.0723055601119995,
          1.0707669258117676,
          1.073306918144226,
          1.0695186853408811,
          1.0760787725448608,
          1.0698620080947876,
          1.0711798667907717,
          1.0698047876358032,
          1.0707440376281738,
          1.078271746635437,
          1.0750954151153564,
          1.0762988328933716,
          1.078934907913208,
          1.084304690361023,
          1.0945948362350464,
          1.0942115783691406,
          1.0924304723739624,
          1.0920368432998655,
          1.0992635488510132,
          1.0958904027938845,
          1.0906671285629272,
          1.091048002243042,
          1.0957223176956177,
          1.0915838479995728,
          1.086802959442139,
          1.0907504558563232,
          1.091309905052185,
          1.0884946584701538,
          1.0856584310531616,
          1.0890636444091797,
          1.0969723463058472,
          1.100594401359558,
          1.101406455039978,
          1.1144545078277588,
          1.1223469972610474,
          1.1227755546569824,
          1.123759627342224,
          1.1228890419006348,
          1.120523452758789,
          1.113709807395935,
          1.112532615661621,
          1.1063170433044434,
          1.1050456762313845,
          1.1078368425369265,
          1.0978755950927734,
          1.1024264097213743,
          1.0997591018676758,
          1.100788116455078,
          1.0944151878356934,
          1.095158338546753,
          1.1002674102783203,
          1.100315809249878,
          1.0958904027938845,
          1.0977671146392822,
          1.0981649160385132,
          1.094439148902893,
          1.0909883975982666,
          1.0904173851013184,
          1.0874884128570557,
          1.0874648094177246,
          1.087559461593628,
          1.0898351669311523,
          1.0846692323684692,
          1.086578607559204,
          1.07991361618042,
          1.0797386169433594,
          1.082555651664734,
          1.0869210958480835,
          1.0932546854019165,
          1.0844104290008545,
          1.07758629322052,
          1.0794472694396973,
          1.0726161003112793,
          1.0724204778671265,
          1.0697818994522097,
          1.071811318397522,
          1.0750375986099243,
          1.075326681137085,
          1.073422074317932,
          1.0637166500091553,
          1.0668259859085083,
          1.0692671537399292,
          1.0682048797607422,
          1.065303087234497,
          1.0661548376083374,
          1.0648492574691772,
          1.0591648817062378,
          1.0569483041763306,
          1.0505305528640747,
          1.0562450885772705,
          1.0565240383148191,
          1.0480751991271973,
          1.0472300052642822,
          1.0507071018218994,
          1.0546631813049316,
          1.056747317314148,
          1.0578875541687012,
          1.0604791641235352,
          1.0624282360076904,
          1.0536741018295288,
          1.052155375480652,
          1.055431246757507,
          1.057305932044983,
          1.053851842880249,
          1.0586491823196411,
          1.0589966773986816,
          1.0669853687286377,
          1.059535264968872,
          1.056725025177002,
          1.0564459562301636,
          1.0562450885772705,
          1.061503529548645,
          1.0579099655151367,
          1.05870521068573,
          1.061909317970276,
          1.073214769363403,
          1.0721560716629028,
          1.0696102380752563,
          1.07104229927063,
          1.0667576789855957,
          1.069015622138977,
          1.0701825618743896,
          1.0878314971923828,
          1.0854581594467163,
          1.0853756666183472,
          1.090702772140503,
          1.0945948362350464,
          1.0918222665786743,
          1.0890873670578003,
          1.0906314849853516,
          1.0940439701080322,
          1.095842361450195,
          1.100594401359558,
          1.0973695516586304,
          1.089205980300903,
          1.088814616203308,
          1.0837758779525757,
          1.0793657302856443,
          1.076669692993164,
          1.079214334487915,
          1.0765769481658936,
          1.076658010482788,
          1.0798670053482056,
          1.0886130332946775,
          1.0993602275848389,
          1.0895264148712158,
          1.092382788658142,
          1.0981045961380005,
          1.094570875167847,
          1.100618600845337,
          1.102657437324524,
          1.1020255088806152,
          1.1043012142181396,
          1.110864281654358,
          1.1068191528320312
         ]
        },
        {
         "line": {
          "color": "lightgray",
          "width": 2
         },
         "mode": "lines",
         "name": "%R",
         "type": "scatter",
         "x": [
          "2023-01-02",
          "2023-01-03",
          "2023-01-04",
          "2023-01-05",
          "2023-01-06",
          "2023-01-09",
          "2023-01-10",
          "2023-01-11",
          "2023-01-12",
          "2023-01-13",
          "2023-01-16",
          "2023-01-17",
          "2023-01-18",
          "2023-01-19",
          "2023-01-20",
          "2023-01-23",
          "2023-01-24",
          "2023-01-25",
          "2023-01-26",
          "2023-01-27",
          "2023-01-30",
          "2023-01-31",
          "2023-02-01",
          "2023-02-02",
          "2023-02-03",
          "2023-02-06",
          "2023-02-07",
          "2023-02-08",
          "2023-02-09",
          "2023-02-10",
          "2023-02-13",
          "2023-02-14",
          "2023-02-15",
          "2023-02-16",
          "2023-02-17",
          "2023-02-20",
          "2023-02-21",
          "2023-02-22",
          "2023-02-23",
          "2023-02-24",
          "2023-02-27",
          "2023-02-28",
          "2023-03-01",
          "2023-03-02",
          "2023-03-03",
          "2023-03-06",
          "2023-03-07",
          "2023-03-08",
          "2023-03-09",
          "2023-03-10",
          "2023-03-13",
          "2023-03-14",
          "2023-03-15",
          "2023-03-16",
          "2023-03-17",
          "2023-03-20",
          "2023-03-21",
          "2023-03-22",
          "2023-03-23",
          "2023-03-24",
          "2023-03-27",
          "2023-03-28",
          "2023-03-29",
          "2023-03-30",
          "2023-03-31",
          "2023-04-03",
          "2023-04-04",
          "2023-04-05",
          "2023-04-06",
          "2023-04-07",
          "2023-04-10",
          "2023-04-11",
          "2023-04-12",
          "2023-04-13",
          "2023-04-14",
          "2023-04-17",
          "2023-04-18",
          "2023-04-19",
          "2023-04-20",
          "2023-04-21",
          "2023-04-24",
          "2023-04-25",
          "2023-04-26",
          "2023-04-27",
          "2023-04-28",
          "2023-05-01",
          "2023-05-02",
          "2023-05-03",
          "2023-05-04",
          "2023-05-05",
          "2023-05-08",
          "2023-05-09",
          "2023-05-10",
          "2023-05-11",
          "2023-05-12",
          "2023-05-15",
          "2023-05-16",
          "2023-05-17",
          "2023-05-18",
          "2023-05-19",
          "2023-05-22",
          "2023-05-23",
          "2023-05-24",
          "2023-05-25",
          "2023-05-26",
          "2023-05-29",
          "2023-05-30",
          "2023-05-31",
          "2023-06-01",
          "2023-06-02",
          "2023-06-05",
          "2023-06-06",
          "2023-06-07",
          "2023-06-08",
          "2023-06-09",
          "2023-06-12",
          "2023-06-13",
          "2023-06-14",
          "2023-06-15",
          "2023-06-16",
          "2023-06-19",
          "2023-06-20",
          "2023-06-21",
          "2023-06-22",
          "2023-06-23",
          "2023-06-26",
          "2023-06-27",
          "2023-06-28",
          "2023-06-29",
          "2023-06-30",
          "2023-07-03",
          "2023-07-04",
          "2023-07-05",
          "2023-07-06",
          "2023-07-07",
          "2023-07-10",
          "2023-07-11",
          "2023-07-12",
          "2023-07-13",
          "2023-07-14",
          "2023-07-17",
          "2023-07-18",
          "2023-07-19",
          "2023-07-20",
          "2023-07-21",
          "2023-07-24",
          "2023-07-25",
          "2023-07-26",
          "2023-07-27",
          "2023-07-28",
          "2023-07-31",
          "2023-08-01",
          "2023-08-02",
          "2023-08-03",
          "2023-08-04",
          "2023-08-07",
          "2023-08-08",
          "2023-08-09",
          "2023-08-10",
          "2023-08-11",
          "2023-08-14",
          "2023-08-15",
          "2023-08-16",
          "2023-08-17",
          "2023-08-18",
          "2023-08-21",
          "2023-08-22",
          "2023-08-23",
          "2023-08-24",
          "2023-08-25",
          "2023-08-28",
          "2023-08-29",
          "2023-08-30",
          "2023-08-31",
          "2023-09-01",
          "2023-09-04",
          "2023-09-05",
          "2023-09-06",
          "2023-09-07",
          "2023-09-08",
          "2023-09-11",
          "2023-09-12",
          "2023-09-13",
          "2023-09-14",
          "2023-09-15",
          "2023-09-18",
          "2023-09-19",
          "2023-09-20",
          "2023-09-21",
          "2023-09-22",
          "2023-09-25",
          "2023-09-26",
          "2023-09-27",
          "2023-09-28",
          "2023-09-29",
          "2023-10-02",
          "2023-10-03",
          "2023-10-04",
          "2023-10-05",
          "2023-10-06",
          "2023-10-09",
          "2023-10-10",
          "2023-10-11",
          "2023-10-12",
          "2023-10-13",
          "2023-10-16",
          "2023-10-17",
          "2023-10-18",
          "2023-10-19",
          "2023-10-20",
          "2023-10-23",
          "2023-10-24",
          "2023-10-25",
          "2023-10-26",
          "2023-10-27",
          "2023-10-30",
          "2023-10-31",
          "2023-11-01",
          "2023-11-02",
          "2023-11-03",
          "2023-11-06",
          "2023-11-07",
          "2023-11-08",
          "2023-11-09",
          "2023-11-10",
          "2023-11-13",
          "2023-11-14",
          "2023-11-15",
          "2023-11-16",
          "2023-11-17",
          "2023-11-20",
          "2023-11-21",
          "2023-11-22",
          "2023-11-23",
          "2023-11-24",
          "2023-11-27",
          "2023-11-28",
          "2023-11-29",
          "2023-11-30",
          "2023-12-01",
          "2023-12-04",
          "2023-12-05",
          "2023-12-06",
          "2023-12-07",
          "2023-12-08",
          "2023-12-11",
          "2023-12-12",
          "2023-12-13",
          "2023-12-14",
          "2023-12-15",
          "2023-12-18",
          "2023-12-19",
          "2023-12-20",
          "2023-12-21",
          "2023-12-22",
          "2023-12-25",
          "2023-12-26",
          "2023-12-27",
          "2023-12-28",
          "2023-12-29"
         ],
         "y": [
          -10.683098082376665,
          -23.4629429464523,
          -86.74088373284457,
          -53.867448495604634,
          -83.72647203938736,
          -37.625780764399316,
          -9.600848463247024,
          -12.35286365021705,
          -20.489412273120138,
          -1.974795415308482,
          -13.03270625469698,
          -11.620710091708919,
          -22.83589889066396,
          -21.69729907281604,
          -12.672111321797034,
          -12.539493874503496,
          -10.417598827330448,
          -7.885297821192811,
          -3.756418724564805,
          -17.374553042570998,
          -29.699797160243406,
          -42.078846896315525,
          -43.26173703847569,
          -5.2873088052913975,
          -46.795737448898656,
          -76.47265850102296,
          -82.84522879482917,
          -83.13535385909738,
          -87.03184364629448,
          -79.56605731406627,
          -94.45432451012985,
          -80.18442550197308,
          -78.74943113414845,
          -90.29112792783525,
          -87.4119169188827,
          -82.8844465494536,
          -83.3265947369637,
          -88.30968965391489,
          -89.10035168963844,
          -76.86693767805127,
          -91.98383627478417,
          -70.67624850377544,
          -83.47133098737322,
          -48.8813190175767,
          -75.00697488142701,
          -56.09239544799932,
          -17.974064692989383,
          -86.52366923066685,
          -87.20821724234482,
          -66.24382196158352,
          -25.441153992040263,
          -10.03660191497759,
          -13.528537263266758,
          -73.71558697911136,
          -60.877671872436274,
          -33.88324557609025,
          -25.51550420487015,
          -9.686556531768378,
          -14.340846705619132,
          -22.98730204106636,
          -36.90400833112123,
          -29.83539034628356,
          -21.8951550562852,
          -20.888477907651193,
          -5.958093526753809,
          -30.749596716558646,
          -14.255665606854533,
          -3.2104798976141513,
          -20.13571400960751,
          -19.31494665897948,
          -22.978123260662436,
          -40.48564663264247,
          -28.9841418705772,
          -21.53376990479924,
          -7.275697254320206,
          -31.050475670585097,
          -52.449193047667066,
          -34.97043466665556,
          -43.07996182967534,
          -43.011776251225776,
          -34.22620215897939,
          -6.554465161923455,
          -44.22578337517714,
          -17.895173306238235,
          -27.448033663429257,
          -45.36347857741837,
          -68.08617136765072,
          -45.36347857741837,
          -13.7278737332054,
          -40.49458412745783,
          -42.91324430095566,
          -61.316847862584595,
          -83.83885963151269,
          -57.08004823300185,
          -76.30452823020087,
          -98.32152689101514,
          -89.65241298051042,
          -80.68415692657756,
          -77.628407906526,
          -95.64801651162959,
          -81.31616739674818,
          -84.85772431063225,
          -93.40532096119509,
          -86.21205546973984,
          -92.6054729346532,
          -93.06155082235806,
          -89.46049150169672,
          -71.28831105486013,
          -82.72508730917474,
          -56.683765699088575,
          -79.02174260421216,
          -69.60841613091647,
          -74.09700722394221,
          -68.85116015846067,
          -22.76329656432235,
          -32.779661016950165,
          -34.84076699787875,
          -33.38639627636565,
          -33.284434322949565,
          -7.844762256741068,
          -9.044957871827322,
          -15.21803319450488,
          -16.673994974875104,
          -5.386522425061979,
          -15.197725420848506,
          -30.52168977201102,
          -32.58229293661962,
          -19.48254404361513,
          -34.43261143863608,
          -57.11336380977663,
          -44.029877199645526,
          -47.39610943370134,
          -72.24766103221668,
          -87.42583202977507,
          -68.16575867090998,
          -23.433707319704407,
          -10.278562123280413,
          -38.369050636533856,
          -14.275830942113256,
          -5.196525194085511,
          -5.607326937708444,
          -8.641225085075856,
          -10.613622859612164,
          -15.973099983795171,
          -31.41009020688165,
          -34.07713498622589,
          -48.15913142116351,
          -55.33549038841578,
          -59.58747822581739,
          -90.34749874883043,
          -76.50303544617863,
          -84.61750476895068,
          -75.24790274777779,
          -91.55735789310836,
          -89.50537025638324,
          -72.68328161719826,
          -71.65750794866089,
          -80.98857034288878,
          -73.11730648080558,
          -71.44885653430397,
          -75.62793121417405,
          -88.19828035435123,
          -85.24851575833053,
          -93.61257053901643,
          -86.69891444963068,
          -86.25232015298857,
          -71.32315832532046,
          -82.88784030393406,
          -75.41223857330216,
          -88.87935332532346,
          -89.47927649592559,
          -79.82206638386833,
          -56.86749526016431,
          -14.355100834749205,
          -57.693310051862085,
          -94.87280365418597,
          -63.46673213847287,
          -91.2562749260898,
          -85.81930830405031,
          -96.05326428703447,
          -88.18198631403736,
          -75.66857776955798,
          -74.54734603292029,
          -72.74518577510021,
          -99.19911319430327,
          -89.19454875321716,
          -80.98831529172705,
          -80.75306106633585,
          -82.13474402901812,
          -74.82657572967766,
          -62.159062103929024,
          -88.08500867127219,
          -76.42999632648696,
          -95.0845603775476,
          -74.19524927989681,
          -73.17555701779314,
          -89.8783036743304,
          -91.90442593612335,
          -79.35624311674009,
          -65.07950165198238,
          -57.558249587004404,
          -42.341094357717516,
          -30.117760929182126,
          -15.146207648498486,
          -54.088993328335896,
          -62.11515078970009,
          -44.80284254493633,
          -34.89551505377098,
          -53.14966830675852,
          -27.796712677423656,
          -29.634622250126185,
          -9.995036819871189,
          -46.06235139315312,
          -63.41716248543213,
          -64.85309452248052,
          -65.8866466294547,
          -38.82966325216218,
          -57.32012513034411,
          -59.40240271075059,
          -55.06586346275799,
          -10.616359886963448,
          -15.138369103083072,
          -26.01237302375315,
          -19.895618523892225,
          -38.19649176404695,
          -28.552152549708495,
          -48.03003759893089,
          -2.469987897026594,
          -10.611312608222153,
          -10.833619784053637,
          -9.01942737110768,
          -5.578221130954613,
          -13.953858716459948,
          -24.6884348398567,
          -19.701467253413455,
          -8.680318938002017,
          -13.944159233170254,
          -3.0379066224572093,
          -12.284791357044535,
          -38.60416405460688,
          -60.94640820980616,
          -76.45376500582677,
          -91.60123092578905,
          -96.51423236304599,
          -78.73605947955451,
          -87.97711039639181,
          -87.69307881876347,
          -76.44918758614988,
          -45.80426882753549,
          -8.147529342968193,
          -42.60390125725775,
          -29.916137185840412,
          -9.070734005915202,
          -21.94460971870499,
          -11.124651474892774,
          -5.0904574050858935,
          -7.122729938928363,
          -20.32315595323396,
          -7.776129775654429,
          -18.871438718333202
         ],
         "yaxis": "y2"
        },
        {
         "marker": {
          "color": "green",
          "size": 10,
          "symbol": "triangle-up"
         },
         "mode": "markers",
         "name": "Buy Signal",
         "type": "scatter",
         "x": [
          "2023-01-05",
          "2023-01-09",
          "2023-02-10",
          "2023-02-15",
          "2023-02-24",
          "2023-02-28",
          "2023-03-02",
          "2023-03-10",
          "2023-05-11",
          "2023-05-18",
          "2023-05-31",
          "2023-06-02",
          "2023-07-07",
          "2023-07-31",
          "2023-08-02",
          "2023-08-07",
          "2023-08-10",
          "2023-08-22",
          "2023-08-24",
          "2023-08-29",
          "2023-09-05",
          "2023-09-12",
          "2023-09-22",
          "2023-09-27",
          "2023-09-29",
          "2023-10-05",
          "2023-12-08",
          "2023-12-13"
         ],
         "y": [
          1.0606365203857422,
          1.0656323432922363,
          1.0742292404174805,
          1.0735719203948977,
          1.0598047971725464,
          1.0611205101013184,
          1.066894292831421,
          1.0584698915481567,
          1.098406195640564,
          1.0838346481323242,
          1.073306918144226,
          1.0760787725448608,
          1.0890636444091797,
          1.1024264097213743,
          1.100788116455078,
          1.1002674102783203,
          1.0977671146392822,
          1.0898351669311523,
          1.086578607559204,
          1.082555651664734,
          1.0794472694396973,
          1.0750375986099243,
          1.0661548376083374,
          1.0569483041763306,
          1.0562450885772705,
          1.0507071018218994,
          1.079214334487915,
          1.0798670053482056
         ]
        },
        {
         "marker": {
          "color": "red",
          "size": 10,
          "symbol": "triangle-down"
         },
         "mode": "markers",
         "name": "Sell Signal",
         "type": "scatter",
         "x": [
          "2023-01-03",
          "2023-01-12",
          "2023-01-18",
          "2023-01-30",
          "2023-02-03",
          "2023-03-08",
          "2023-03-16",
          "2023-03-24",
          "2023-04-03",
          "2023-04-06",
          "2023-04-10",
          "2023-04-17",
          "2023-04-26",
          "2023-04-28",
          "2023-05-05",
          "2023-06-26",
          "2023-06-29",
          "2023-07-12",
          "2023-07-21",
          "2023-09-01",
          "2023-10-13",
          "2023-10-25",
          "2023-11-08",
          "2023-11-10",
          "2023-11-23",
          "2023-12-01",
          "2023-12-18",
          "2023-12-21",
          "2023-12-27"
         ],
         "y": [
          1.0677714347839355,
          1.0766000747680664,
          1.0793308019638062,
          1.0871455669403076,
          1.09051251411438,
          1.05507493019104,
          1.0583354234695437,
          1.0835057497024536,
          1.080333590507507,
          1.090334177017212,
          1.0913575887680054,
          1.098659634590149,
          1.0978394746780396,
          1.1032048463821411,
          1.102292776107788,
          1.0906671285629272,
          1.0915838479995728,
          1.101406455039978,
          1.113709807395935,
          1.0844104290008545,
          1.0536741018295288,
          1.059535264968872,
          1.0696102380752563,
          1.0667576789855957,
          1.0890873670578003,
          1.089205980300903,
          1.0895264148712158,
          1.094570875167847,
          1.1043012142181396
         ]
        }
       ],
       "layout": {
        "annotations": [
         {
          "arrowhead": 2,
          "ax": 20,
          "ay": 30,
          "showarrow": true,
          "text": "Oversold (-20)",
          "x": "2023-01-02",
          "xref": "x",
          "y": -20,
          "yref": "y2"
         },
         {
          "arrowhead": 2,
          "ax": 20,
          "ay": -30,
          "showarrow": true,
          "text": "Overbought (-80)",
          "x": "2023-01-02",
          "xref": "x",
          "y": -80,
          "yref": "y2"
         }
        ],
        "shapes": [
         {
          "line": {
           "color": "grey",
           "dash": "dash"
          },
          "type": "line",
          "x0": "2023-01-02",
          "x1": "2023-12-29",
          "y0": -20,
          "y1": -20,
          "yref": "y2"
         },
         {
          "line": {
           "color": "grey",
           "dash": "dash"
          },
          "type": "line",
          "x0": "2023-01-02",
          "x1": "2023-12-29",
          "y0": -80,
          "y1": -80,
          "yref": "y2"
         }
        ],
        "showlegend": true,
        "template": {
         "data": {
          "bar": [
           {
            "error_x": {
             "color": "#2a3f5f"
            },
            "error_y": {
             "color": "#2a3f5f"
            },
            "marker": {
             "line": {
              "color": "#E5ECF6",
              "width": 0.5
             },
             "pattern": {
              "fillmode": "overlay",
              "size": 10,
              "solidity": 0.2
             }
            },
            "type": "bar"
           }
          ],
          "barpolar": [
           {
            "marker": {
             "line": {
              "color": "#E5ECF6",
              "width": 0.5
             },
             "pattern": {
              "fillmode": "overlay",
              "size": 10,
              "solidity": 0.2
             }
            },
            "type": "barpolar"
           }
          ],
          "carpet": [
           {
            "aaxis": {
             "endlinecolor": "#2a3f5f",
             "gridcolor": "white",
             "linecolor": "white",
             "minorgridcolor": "white",
             "startlinecolor": "#2a3f5f"
            },
            "baxis": {
             "endlinecolor": "#2a3f5f",
             "gridcolor": "white",
             "linecolor": "white",
             "minorgridcolor": "white",
             "startlinecolor": "#2a3f5f"
            },
            "type": "carpet"
           }
          ],
          "choropleth": [
           {
            "colorbar": {
             "outlinewidth": 0,
             "ticks": ""
            },
            "type": "choropleth"
           }
          ],
          "contour": [
           {
            "colorbar": {
             "outlinewidth": 0,
             "ticks": ""
            },
            "colorscale": [
             [
              0,
              "#0d0887"
             ],
             [
              0.1111111111111111,
              "#46039f"
             ],
             [
              0.2222222222222222,
              "#7201a8"
             ],
             [
              0.3333333333333333,
              "#9c179e"
             ],
             [
              0.4444444444444444,
              "#bd3786"
             ],
             [
              0.5555555555555556,
              "#d8576b"
             ],
             [
              0.6666666666666666,
              "#ed7953"
             ],
             [
              0.7777777777777778,
              "#fb9f3a"
             ],
             [
              0.8888888888888888,
              "#fdca26"
             ],
             [
              1,
              "#f0f921"
             ]
            ],
            "type": "contour"
           }
          ],
          "contourcarpet": [
           {
            "colorbar": {
             "outlinewidth": 0,
             "ticks": ""
            },
            "type": "contourcarpet"
           }
          ],
          "heatmap": [
           {
            "colorbar": {
             "outlinewidth": 0,
             "ticks": ""
            },
            "colorscale": [
             [
              0,
              "#0d0887"
             ],
             [
              0.1111111111111111,
              "#46039f"
             ],
             [
              0.2222222222222222,
              "#7201a8"
             ],
             [
              0.3333333333333333,
              "#9c179e"
             ],
             [
              0.4444444444444444,
              "#bd3786"
             ],
             [
              0.5555555555555556,
              "#d8576b"
             ],
             [
              0.6666666666666666,
              "#ed7953"
             ],
             [
              0.7777777777777778,
              "#fb9f3a"
             ],
             [
              0.8888888888888888,
              "#fdca26"
             ],
             [
              1,
              "#f0f921"
             ]
            ],
            "type": "heatmap"
           }
          ],
          "heatmapgl": [
           {
            "colorbar": {
             "outlinewidth": 0,
             "ticks": ""
            },
            "colorscale": [
             [
              0,
              "#0d0887"
             ],
             [
              0.1111111111111111,
              "#46039f"
             ],
             [
              0.2222222222222222,
              "#7201a8"
             ],
             [
              0.3333333333333333,
              "#9c179e"
             ],
             [
              0.4444444444444444,
              "#bd3786"
             ],
             [
              0.5555555555555556,
              "#d8576b"
             ],
             [
              0.6666666666666666,
              "#ed7953"
             ],
             [
              0.7777777777777778,
              "#fb9f3a"
             ],
             [
              0.8888888888888888,
              "#fdca26"
             ],
             [
              1,
              "#f0f921"
             ]
            ],
            "type": "heatmapgl"
           }
          ],
          "histogram": [
           {
            "marker": {
             "pattern": {
              "fillmode": "overlay",
              "size": 10,
              "solidity": 0.2
             }
            },
            "type": "histogram"
           }
          ],
          "histogram2d": [
           {
            "colorbar": {
             "outlinewidth": 0,
             "ticks": ""
            },
            "colorscale": [
             [
              0,
              "#0d0887"
             ],
             [
              0.1111111111111111,
              "#46039f"
             ],
             [
              0.2222222222222222,
              "#7201a8"
             ],
             [
              0.3333333333333333,
              "#9c179e"
             ],
             [
              0.4444444444444444,
              "#bd3786"
             ],
             [
              0.5555555555555556,
              "#d8576b"
             ],
             [
              0.6666666666666666,
              "#ed7953"
             ],
             [
              0.7777777777777778,
              "#fb9f3a"
             ],
             [
              0.8888888888888888,
              "#fdca26"
             ],
             [
              1,
              "#f0f921"
             ]
            ],
            "type": "histogram2d"
           }
          ],
          "histogram2dcontour": [
           {
            "colorbar": {
             "outlinewidth": 0,
             "ticks": ""
            },
            "colorscale": [
             [
              0,
              "#0d0887"
             ],
             [
              0.1111111111111111,
              "#46039f"
             ],
             [
              0.2222222222222222,
              "#7201a8"
             ],
             [
              0.3333333333333333,
              "#9c179e"
             ],
             [
              0.4444444444444444,
              "#bd3786"
             ],
             [
              0.5555555555555556,
              "#d8576b"
             ],
             [
              0.6666666666666666,
              "#ed7953"
             ],
             [
              0.7777777777777778,
              "#fb9f3a"
             ],
             [
              0.8888888888888888,
              "#fdca26"
             ],
             [
              1,
              "#f0f921"
             ]
            ],
            "type": "histogram2dcontour"
           }
          ],
          "mesh3d": [
           {
            "colorbar": {
             "outlinewidth": 0,
             "ticks": ""
            },
            "type": "mesh3d"
           }
          ],
          "parcoords": [
           {
            "line": {
             "colorbar": {
              "outlinewidth": 0,
              "ticks": ""
             }
            },
            "type": "parcoords"
           }
          ],
          "pie": [
           {
            "automargin": true,
            "type": "pie"
           }
          ],
          "scatter": [
           {
            "fillpattern": {
             "fillmode": "overlay",
             "size": 10,
             "solidity": 0.2
            },
            "type": "scatter"
           }
          ],
          "scatter3d": [
           {
            "line": {
             "colorbar": {
              "outlinewidth": 0,
              "ticks": ""
             }
            },
            "marker": {
             "colorbar": {
              "outlinewidth": 0,
              "ticks": ""
             }
            },
            "type": "scatter3d"
           }
          ],
          "scattercarpet": [
           {
            "marker": {
             "colorbar": {
              "outlinewidth": 0,
              "ticks": ""
             }
            },
            "type": "scattercarpet"
           }
          ],
          "scattergeo": [
           {
            "marker": {
             "colorbar": {
              "outlinewidth": 0,
              "ticks": ""
             }
            },
            "type": "scattergeo"
           }
          ],
          "scattergl": [
           {
            "marker": {
             "colorbar": {
              "outlinewidth": 0,
              "ticks": ""
             }
            },
            "type": "scattergl"
           }
          ],
          "scattermapbox": [
           {
            "marker": {
             "colorbar": {
              "outlinewidth": 0,
              "ticks": ""
             }
            },
            "type": "scattermapbox"
           }
          ],
          "scatterpolar": [
           {
            "marker": {
             "colorbar": {
              "outlinewidth": 0,
              "ticks": ""
             }
            },
            "type": "scatterpolar"
           }
          ],
          "scatterpolargl": [
           {
            "marker": {
             "colorbar": {
              "outlinewidth": 0,
              "ticks": ""
             }
            },
            "type": "scatterpolargl"
           }
          ],
          "scatterternary": [
           {
            "marker": {
             "colorbar": {
              "outlinewidth": 0,
              "ticks": ""
             }
            },
            "type": "scatterternary"
           }
          ],
          "surface": [
           {
            "colorbar": {
             "outlinewidth": 0,
             "ticks": ""
            },
            "colorscale": [
             [
              0,
              "#0d0887"
             ],
             [
              0.1111111111111111,
              "#46039f"
             ],
             [
              0.2222222222222222,
              "#7201a8"
             ],
             [
              0.3333333333333333,
              "#9c179e"
             ],
             [
              0.4444444444444444,
              "#bd3786"
             ],
             [
              0.5555555555555556,
              "#d8576b"
             ],
             [
              0.6666666666666666,
              "#ed7953"
             ],
             [
              0.7777777777777778,
              "#fb9f3a"
             ],
             [
              0.8888888888888888,
              "#fdca26"
             ],
             [
              1,
              "#f0f921"
             ]
            ],
            "type": "surface"
           }
          ],
          "table": [
           {
            "cells": {
             "fill": {
              "color": "#EBF0F8"
             },
             "line": {
              "color": "white"
             }
            },
            "header": {
             "fill": {
              "color": "#C8D4E3"
             },
             "line": {
              "color": "white"
             }
            },
            "type": "table"
           }
          ]
         },
         "layout": {
          "annotationdefaults": {
           "arrowcolor": "#2a3f5f",
           "arrowhead": 0,
           "arrowwidth": 1
          },
          "autotypenumbers": "strict",
          "coloraxis": {
           "colorbar": {
            "outlinewidth": 0,
            "ticks": ""
           }
          },
          "colorscale": {
           "diverging": [
            [
             0,
             "#8e0152"
            ],
            [
             0.1,
             "#c51b7d"
            ],
            [
             0.2,
             "#de77ae"
            ],
            [
             0.3,
             "#f1b6da"
            ],
            [
             0.4,
             "#fde0ef"
            ],
            [
             0.5,
             "#f7f7f7"
            ],
            [
             0.6,
             "#e6f5d0"
            ],
            [
             0.7,
             "#b8e186"
            ],
            [
             0.8,
             "#7fbc41"
            ],
            [
             0.9,
             "#4d9221"
            ],
            [
             1,
             "#276419"
            ]
           ],
           "sequential": [
            [
             0,
             "#0d0887"
            ],
            [
             0.1111111111111111,
             "#46039f"
            ],
            [
             0.2222222222222222,
             "#7201a8"
            ],
            [
             0.3333333333333333,
             "#9c179e"
            ],
            [
             0.4444444444444444,
             "#bd3786"
            ],
            [
             0.5555555555555556,
             "#d8576b"
            ],
            [
             0.6666666666666666,
             "#ed7953"
            ],
            [
             0.7777777777777778,
             "#fb9f3a"
            ],
            [
             0.8888888888888888,
             "#fdca26"
            ],
            [
             1,
             "#f0f921"
            ]
           ],
           "sequentialminus": [
            [
             0,
             "#0d0887"
            ],
            [
             0.1111111111111111,
             "#46039f"
            ],
            [
             0.2222222222222222,
             "#7201a8"
            ],
            [
             0.3333333333333333,
             "#9c179e"
            ],
            [
             0.4444444444444444,
             "#bd3786"
            ],
            [
             0.5555555555555556,
             "#d8576b"
            ],
            [
             0.6666666666666666,
             "#ed7953"
            ],
            [
             0.7777777777777778,
             "#fb9f3a"
            ],
            [
             0.8888888888888888,
             "#fdca26"
            ],
            [
             1,
             "#f0f921"
            ]
           ]
          },
          "colorway": [
           "#636efa",
           "#EF553B",
           "#00cc96",
           "#ab63fa",
           "#FFA15A",
           "#19d3f3",
           "#FF6692",
           "#B6E880",
           "#FF97FF",
           "#FECB52"
          ],
          "font": {
           "color": "#2a3f5f"
          },
          "geo": {
           "bgcolor": "white",
           "lakecolor": "white",
           "landcolor": "#E5ECF6",
           "showlakes": true,
           "showland": true,
           "subunitcolor": "white"
          },
          "hoverlabel": {
           "align": "left"
          },
          "hovermode": "closest",
          "mapbox": {
           "style": "light"
          },
          "paper_bgcolor": "white",
          "plot_bgcolor": "#E5ECF6",
          "polar": {
           "angularaxis": {
            "gridcolor": "white",
            "linecolor": "white",
            "ticks": ""
           },
           "bgcolor": "#E5ECF6",
           "radialaxis": {
            "gridcolor": "white",
            "linecolor": "white",
            "ticks": ""
           }
          },
          "scene": {
           "xaxis": {
            "backgroundcolor": "#E5ECF6",
            "gridcolor": "white",
            "gridwidth": 2,
            "linecolor": "white",
            "showbackground": true,
            "ticks": "",
            "zerolinecolor": "white"
           },
           "yaxis": {
            "backgroundcolor": "#E5ECF6",
            "gridcolor": "white",
            "gridwidth": 2,
            "linecolor": "white",
            "showbackground": true,
            "ticks": "",
            "zerolinecolor": "white"
           },
           "zaxis": {
            "backgroundcolor": "#E5ECF6",
            "gridcolor": "white",
            "gridwidth": 2,
            "linecolor": "white",
            "showbackground": true,
            "ticks": "",
            "zerolinecolor": "white"
           }
          },
          "shapedefaults": {
           "line": {
            "color": "#2a3f5f"
           }
          },
          "ternary": {
           "aaxis": {
            "gridcolor": "white",
            "linecolor": "white",
            "ticks": ""
           },
           "baxis": {
            "gridcolor": "white",
            "linecolor": "white",
            "ticks": ""
           },
           "bgcolor": "#E5ECF6",
           "caxis": {
            "gridcolor": "white",
            "linecolor": "white",
            "ticks": ""
           }
          },
          "title": {
           "x": 0.05
          },
          "xaxis": {
           "automargin": true,
           "gridcolor": "white",
           "linecolor": "white",
           "ticks": "",
           "title": {
            "standoff": 15
           },
           "zerolinecolor": "white",
           "zerolinewidth": 2
          },
          "yaxis": {
           "automargin": true,
           "gridcolor": "white",
           "linecolor": "white",
           "ticks": "",
           "title": {
            "standoff": 15
           },
           "zerolinecolor": "white",
           "zerolinewidth": 2
          }
         }
        },
        "title": {
         "text": "Line Chart with %R and Trading Signals"
        },
        "xaxis": {
         "rangeslider": {
          "visible": false
         },
         "title": {
          "text": "Date"
         }
        },
        "yaxis": {
         "side": "left",
         "title": {
          "text": "Price"
         }
        },
        "yaxis2": {
         "overlaying": "y",
         "range": [
          -100,
          0
         ],
         "side": "right",
         "title": {
          "text": "%R"
         }
        }
       }
      },
      "text/html": [
       "<div>                            <div id=\"4a97867f-d3c0-4e3f-8f70-96c53086e6af\" class=\"plotly-graph-div\" style=\"height:525px; width:100%;\"></div>            <script type=\"text/javascript\">                require([\"plotly\"], function(Plotly) {                    window.PLOTLYENV=window.PLOTLYENV || {};                                    if (document.getElementById(\"4a97867f-d3c0-4e3f-8f70-96c53086e6af\")) {                    Plotly.newPlot(                        \"4a97867f-d3c0-4e3f-8f70-96c53086e6af\",                        [{\"line\":{\"color\":\"lightblue\",\"width\":3},\"mode\":\"lines\",\"name\":\"Close Price\",\"x\":[\"2023-01-02\",\"2023-01-03\",\"2023-01-04\",\"2023-01-05\",\"2023-01-06\",\"2023-01-09\",\"2023-01-10\",\"2023-01-11\",\"2023-01-12\",\"2023-01-13\",\"2023-01-16\",\"2023-01-17\",\"2023-01-18\",\"2023-01-19\",\"2023-01-20\",\"2023-01-23\",\"2023-01-24\",\"2023-01-25\",\"2023-01-26\",\"2023-01-27\",\"2023-01-30\",\"2023-01-31\",\"2023-02-01\",\"2023-02-02\",\"2023-02-03\",\"2023-02-06\",\"2023-02-07\",\"2023-02-08\",\"2023-02-09\",\"2023-02-10\",\"2023-02-13\",\"2023-02-14\",\"2023-02-15\",\"2023-02-16\",\"2023-02-17\",\"2023-02-20\",\"2023-02-21\",\"2023-02-22\",\"2023-02-23\",\"2023-02-24\",\"2023-02-27\",\"2023-02-28\",\"2023-03-01\",\"2023-03-02\",\"2023-03-03\",\"2023-03-06\",\"2023-03-07\",\"2023-03-08\",\"2023-03-09\",\"2023-03-10\",\"2023-03-13\",\"2023-03-14\",\"2023-03-15\",\"2023-03-16\",\"2023-03-17\",\"2023-03-20\",\"2023-03-21\",\"2023-03-22\",\"2023-03-23\",\"2023-03-24\",\"2023-03-27\",\"2023-03-28\",\"2023-03-29\",\"2023-03-30\",\"2023-03-31\",\"2023-04-03\",\"2023-04-04\",\"2023-04-05\",\"2023-04-06\",\"2023-04-07\",\"2023-04-10\",\"2023-04-11\",\"2023-04-12\",\"2023-04-13\",\"2023-04-14\",\"2023-04-17\",\"2023-04-18\",\"2023-04-19\",\"2023-04-20\",\"2023-04-21\",\"2023-04-24\",\"2023-04-25\",\"2023-04-26\",\"2023-04-27\",\"2023-04-28\",\"2023-05-01\",\"2023-05-02\",\"2023-05-03\",\"2023-05-04\",\"2023-05-05\",\"2023-05-08\",\"2023-05-09\",\"2023-05-10\",\"2023-05-11\",\"2023-05-12\",\"2023-05-15\",\"2023-05-16\",\"2023-05-17\",\"2023-05-18\",\"2023-05-19\",\"2023-05-22\",\"2023-05-23\",\"2023-05-24\",\"2023-05-25\",\"2023-05-26\",\"2023-05-29\",\"2023-05-30\",\"2023-05-31\",\"2023-06-01\",\"2023-06-02\",\"2023-06-05\",\"2023-06-06\",\"2023-06-07\",\"2023-06-08\",\"2023-06-09\",\"2023-06-12\",\"2023-06-13\",\"2023-06-14\",\"2023-06-15\",\"2023-06-16\",\"2023-06-19\",\"2023-06-20\",\"2023-06-21\",\"2023-06-22\",\"2023-06-23\",\"2023-06-26\",\"2023-06-27\",\"2023-06-28\",\"2023-06-29\",\"2023-06-30\",\"2023-07-03\",\"2023-07-04\",\"2023-07-05\",\"2023-07-06\",\"2023-07-07\",\"2023-07-10\",\"2023-07-11\",\"2023-07-12\",\"2023-07-13\",\"2023-07-14\",\"2023-07-17\",\"2023-07-18\",\"2023-07-19\",\"2023-07-20\",\"2023-07-21\",\"2023-07-24\",\"2023-07-25\",\"2023-07-26\",\"2023-07-27\",\"2023-07-28\",\"2023-07-31\",\"2023-08-01\",\"2023-08-02\",\"2023-08-03\",\"2023-08-04\",\"2023-08-07\",\"2023-08-08\",\"2023-08-09\",\"2023-08-10\",\"2023-08-11\",\"2023-08-14\",\"2023-08-15\",\"2023-08-16\",\"2023-08-17\",\"2023-08-18\",\"2023-08-21\",\"2023-08-22\",\"2023-08-23\",\"2023-08-24\",\"2023-08-25\",\"2023-08-28\",\"2023-08-29\",\"2023-08-30\",\"2023-08-31\",\"2023-09-01\",\"2023-09-04\",\"2023-09-05\",\"2023-09-06\",\"2023-09-07\",\"2023-09-08\",\"2023-09-11\",\"2023-09-12\",\"2023-09-13\",\"2023-09-14\",\"2023-09-15\",\"2023-09-18\",\"2023-09-19\",\"2023-09-20\",\"2023-09-21\",\"2023-09-22\",\"2023-09-25\",\"2023-09-26\",\"2023-09-27\",\"2023-09-28\",\"2023-09-29\",\"2023-10-02\",\"2023-10-03\",\"2023-10-04\",\"2023-10-05\",\"2023-10-06\",\"2023-10-09\",\"2023-10-10\",\"2023-10-11\",\"2023-10-12\",\"2023-10-13\",\"2023-10-16\",\"2023-10-17\",\"2023-10-18\",\"2023-10-19\",\"2023-10-20\",\"2023-10-23\",\"2023-10-24\",\"2023-10-25\",\"2023-10-26\",\"2023-10-27\",\"2023-10-30\",\"2023-10-31\",\"2023-11-01\",\"2023-11-02\",\"2023-11-03\",\"2023-11-06\",\"2023-11-07\",\"2023-11-08\",\"2023-11-09\",\"2023-11-10\",\"2023-11-13\",\"2023-11-14\",\"2023-11-15\",\"2023-11-16\",\"2023-11-17\",\"2023-11-20\",\"2023-11-21\",\"2023-11-22\",\"2023-11-23\",\"2023-11-24\",\"2023-11-27\",\"2023-11-28\",\"2023-11-29\",\"2023-11-30\",\"2023-12-01\",\"2023-12-04\",\"2023-12-05\",\"2023-12-06\",\"2023-12-07\",\"2023-12-08\",\"2023-12-11\",\"2023-12-12\",\"2023-12-13\",\"2023-12-14\",\"2023-12-15\",\"2023-12-18\",\"2023-12-19\",\"2023-12-20\",\"2023-12-21\",\"2023-12-22\",\"2023-12-25\",\"2023-12-26\",\"2023-12-27\",\"2023-12-28\",\"2023-12-29\"],\"y\":[1.0709733963012695,1.0677714347839355,1.0546854734420776,1.0606365203857422,1.0522217750549316,1.0656323432922363,1.073318362236023,1.0738946199417114,1.0766000747680664,1.0860239267349243,1.082461953163147,1.083012938499451,1.0793308019638062,1.0797853469848633,1.083388328552246,1.086507797241211,1.0874292850494385,1.088814616203308,1.0922038555145264,1.0894432067871094,1.0871455669403076,1.0850694179534912,1.0860947370529177,1.1012852191925049,1.09051251411438,1.079086184501648,1.0730764865875244,1.0729728937149048,1.0715816020965576,1.0742292404174805,1.0677714347839355,1.073041915893555,1.0735719203948977,1.0691757202148438,1.0665756464004517,1.0684444904327393,1.068261981010437,1.065200924873352,1.0605803728103638,1.0598047971725464,1.055475831031799,1.0611205101013184,1.0577309131622314,1.066894292831421,1.0599732398986816,1.0626201629638672,1.0688328742980957,1.05507493019104,1.0549525022506714,1.0584698915481567,1.0683646202087402,1.0725010633468628,1.0727657079696655,1.0583354234695437,1.0614134073257446,1.0678855180740356,1.071914792060852,1.0774236917495728,1.0870392322540283,1.0835057497024536,1.077818512916565,1.0807071924209597,1.0839520692825315,1.0843634605407717,1.0904649496078491,1.080333590507507,1.091226577758789,1.0960105657577517,1.090334177017212,1.0920130014419556,1.0913575887680054,1.086932897567749,1.0917507410049438,1.0999890565872192,1.1054610013961792,1.098659634590149,1.0925379991531372,1.0975382328033447,1.095218300819397,1.0970927476882937,1.0992271900177002,1.1059499979019165,1.0978394746780396,1.1047282218933103,1.1032048463821411,1.1010911464691162,1.0969241857528689,1.1010911464691162,1.1068925857543943,1.102292776107788,1.10186767578125,1.0996140241622925,1.096467137336731,1.098406195640564,1.0912145376205444,1.0852696895599363,1.0873701572418213,1.0865668058395386,1.0838346481323242,1.0775396823883057,1.0822745561599731,1.0811045169830322,1.076971173286438,1.0757315158843994,1.072443604469299,1.0723055601119995,1.0707669258117676,1.073306918144226,1.0695186853408811,1.0760787725448608,1.0698620080947876,1.0711798667907717,1.0698047876358032,1.0707440376281738,1.078271746635437,1.0750954151153564,1.0762988328933716,1.078934907913208,1.084304690361023,1.0945948362350464,1.0942115783691406,1.0924304723739624,1.0920368432998655,1.0992635488510132,1.0958904027938845,1.0906671285629272,1.091048002243042,1.0957223176956177,1.0915838479995728,1.086802959442139,1.0907504558563232,1.091309905052185,1.0884946584701538,1.0856584310531616,1.0890636444091797,1.0969723463058472,1.100594401359558,1.101406455039978,1.1144545078277588,1.1223469972610474,1.1227755546569824,1.123759627342224,1.1228890419006348,1.120523452758789,1.113709807395935,1.112532615661621,1.1063170433044434,1.1050456762313845,1.1078368425369265,1.0978755950927734,1.1024264097213743,1.0997591018676758,1.100788116455078,1.0944151878356934,1.095158338546753,1.1002674102783203,1.100315809249878,1.0958904027938845,1.0977671146392822,1.0981649160385132,1.094439148902893,1.0909883975982666,1.0904173851013184,1.0874884128570557,1.0874648094177246,1.087559461593628,1.0898351669311523,1.0846692323684692,1.086578607559204,1.07991361618042,1.0797386169433594,1.082555651664734,1.0869210958480835,1.0932546854019165,1.0844104290008545,1.07758629322052,1.0794472694396973,1.0726161003112793,1.0724204778671265,1.0697818994522097,1.071811318397522,1.0750375986099243,1.075326681137085,1.073422074317932,1.0637166500091553,1.0668259859085083,1.0692671537399292,1.0682048797607422,1.065303087234497,1.0661548376083374,1.0648492574691772,1.0591648817062378,1.0569483041763306,1.0505305528640747,1.0562450885772705,1.0565240383148191,1.0480751991271973,1.0472300052642822,1.0507071018218994,1.0546631813049316,1.056747317314148,1.0578875541687012,1.0604791641235352,1.0624282360076904,1.0536741018295288,1.052155375480652,1.055431246757507,1.057305932044983,1.053851842880249,1.0586491823196411,1.0589966773986816,1.0669853687286377,1.059535264968872,1.056725025177002,1.0564459562301636,1.0562450885772705,1.061503529548645,1.0579099655151367,1.05870521068573,1.061909317970276,1.073214769363403,1.0721560716629028,1.0696102380752563,1.07104229927063,1.0667576789855957,1.069015622138977,1.0701825618743896,1.0878314971923828,1.0854581594467163,1.0853756666183472,1.090702772140503,1.0945948362350464,1.0918222665786743,1.0890873670578003,1.0906314849853516,1.0940439701080322,1.095842361450195,1.100594401359558,1.0973695516586304,1.089205980300903,1.088814616203308,1.0837758779525757,1.0793657302856443,1.076669692993164,1.079214334487915,1.0765769481658936,1.076658010482788,1.0798670053482056,1.0886130332946775,1.0993602275848389,1.0895264148712158,1.092382788658142,1.0981045961380005,1.094570875167847,1.100618600845337,1.102657437324524,1.1020255088806152,1.1043012142181396,1.110864281654358,1.1068191528320312],\"type\":\"scatter\"},{\"line\":{\"color\":\"lightgray\",\"width\":2},\"mode\":\"lines\",\"name\":\"%R\",\"x\":[\"2023-01-02\",\"2023-01-03\",\"2023-01-04\",\"2023-01-05\",\"2023-01-06\",\"2023-01-09\",\"2023-01-10\",\"2023-01-11\",\"2023-01-12\",\"2023-01-13\",\"2023-01-16\",\"2023-01-17\",\"2023-01-18\",\"2023-01-19\",\"2023-01-20\",\"2023-01-23\",\"2023-01-24\",\"2023-01-25\",\"2023-01-26\",\"2023-01-27\",\"2023-01-30\",\"2023-01-31\",\"2023-02-01\",\"2023-02-02\",\"2023-02-03\",\"2023-02-06\",\"2023-02-07\",\"2023-02-08\",\"2023-02-09\",\"2023-02-10\",\"2023-02-13\",\"2023-02-14\",\"2023-02-15\",\"2023-02-16\",\"2023-02-17\",\"2023-02-20\",\"2023-02-21\",\"2023-02-22\",\"2023-02-23\",\"2023-02-24\",\"2023-02-27\",\"2023-02-28\",\"2023-03-01\",\"2023-03-02\",\"2023-03-03\",\"2023-03-06\",\"2023-03-07\",\"2023-03-08\",\"2023-03-09\",\"2023-03-10\",\"2023-03-13\",\"2023-03-14\",\"2023-03-15\",\"2023-03-16\",\"2023-03-17\",\"2023-03-20\",\"2023-03-21\",\"2023-03-22\",\"2023-03-23\",\"2023-03-24\",\"2023-03-27\",\"2023-03-28\",\"2023-03-29\",\"2023-03-30\",\"2023-03-31\",\"2023-04-03\",\"2023-04-04\",\"2023-04-05\",\"2023-04-06\",\"2023-04-07\",\"2023-04-10\",\"2023-04-11\",\"2023-04-12\",\"2023-04-13\",\"2023-04-14\",\"2023-04-17\",\"2023-04-18\",\"2023-04-19\",\"2023-04-20\",\"2023-04-21\",\"2023-04-24\",\"2023-04-25\",\"2023-04-26\",\"2023-04-27\",\"2023-04-28\",\"2023-05-01\",\"2023-05-02\",\"2023-05-03\",\"2023-05-04\",\"2023-05-05\",\"2023-05-08\",\"2023-05-09\",\"2023-05-10\",\"2023-05-11\",\"2023-05-12\",\"2023-05-15\",\"2023-05-16\",\"2023-05-17\",\"2023-05-18\",\"2023-05-19\",\"2023-05-22\",\"2023-05-23\",\"2023-05-24\",\"2023-05-25\",\"2023-05-26\",\"2023-05-29\",\"2023-05-30\",\"2023-05-31\",\"2023-06-01\",\"2023-06-02\",\"2023-06-05\",\"2023-06-06\",\"2023-06-07\",\"2023-06-08\",\"2023-06-09\",\"2023-06-12\",\"2023-06-13\",\"2023-06-14\",\"2023-06-15\",\"2023-06-16\",\"2023-06-19\",\"2023-06-20\",\"2023-06-21\",\"2023-06-22\",\"2023-06-23\",\"2023-06-26\",\"2023-06-27\",\"2023-06-28\",\"2023-06-29\",\"2023-06-30\",\"2023-07-03\",\"2023-07-04\",\"2023-07-05\",\"2023-07-06\",\"2023-07-07\",\"2023-07-10\",\"2023-07-11\",\"2023-07-12\",\"2023-07-13\",\"2023-07-14\",\"2023-07-17\",\"2023-07-18\",\"2023-07-19\",\"2023-07-20\",\"2023-07-21\",\"2023-07-24\",\"2023-07-25\",\"2023-07-26\",\"2023-07-27\",\"2023-07-28\",\"2023-07-31\",\"2023-08-01\",\"2023-08-02\",\"2023-08-03\",\"2023-08-04\",\"2023-08-07\",\"2023-08-08\",\"2023-08-09\",\"2023-08-10\",\"2023-08-11\",\"2023-08-14\",\"2023-08-15\",\"2023-08-16\",\"2023-08-17\",\"2023-08-18\",\"2023-08-21\",\"2023-08-22\",\"2023-08-23\",\"2023-08-24\",\"2023-08-25\",\"2023-08-28\",\"2023-08-29\",\"2023-08-30\",\"2023-08-31\",\"2023-09-01\",\"2023-09-04\",\"2023-09-05\",\"2023-09-06\",\"2023-09-07\",\"2023-09-08\",\"2023-09-11\",\"2023-09-12\",\"2023-09-13\",\"2023-09-14\",\"2023-09-15\",\"2023-09-18\",\"2023-09-19\",\"2023-09-20\",\"2023-09-21\",\"2023-09-22\",\"2023-09-25\",\"2023-09-26\",\"2023-09-27\",\"2023-09-28\",\"2023-09-29\",\"2023-10-02\",\"2023-10-03\",\"2023-10-04\",\"2023-10-05\",\"2023-10-06\",\"2023-10-09\",\"2023-10-10\",\"2023-10-11\",\"2023-10-12\",\"2023-10-13\",\"2023-10-16\",\"2023-10-17\",\"2023-10-18\",\"2023-10-19\",\"2023-10-20\",\"2023-10-23\",\"2023-10-24\",\"2023-10-25\",\"2023-10-26\",\"2023-10-27\",\"2023-10-30\",\"2023-10-31\",\"2023-11-01\",\"2023-11-02\",\"2023-11-03\",\"2023-11-06\",\"2023-11-07\",\"2023-11-08\",\"2023-11-09\",\"2023-11-10\",\"2023-11-13\",\"2023-11-14\",\"2023-11-15\",\"2023-11-16\",\"2023-11-17\",\"2023-11-20\",\"2023-11-21\",\"2023-11-22\",\"2023-11-23\",\"2023-11-24\",\"2023-11-27\",\"2023-11-28\",\"2023-11-29\",\"2023-11-30\",\"2023-12-01\",\"2023-12-04\",\"2023-12-05\",\"2023-12-06\",\"2023-12-07\",\"2023-12-08\",\"2023-12-11\",\"2023-12-12\",\"2023-12-13\",\"2023-12-14\",\"2023-12-15\",\"2023-12-18\",\"2023-12-19\",\"2023-12-20\",\"2023-12-21\",\"2023-12-22\",\"2023-12-25\",\"2023-12-26\",\"2023-12-27\",\"2023-12-28\",\"2023-12-29\"],\"y\":[-10.683098082376665,-23.4629429464523,-86.74088373284457,-53.867448495604634,-83.72647203938736,-37.625780764399316,-9.600848463247024,-12.35286365021705,-20.489412273120138,-1.974795415308482,-13.03270625469698,-11.620710091708919,-22.83589889066396,-21.69729907281604,-12.672111321797034,-12.539493874503496,-10.417598827330448,-7.885297821192811,-3.756418724564805,-17.374553042570998,-29.699797160243406,-42.078846896315525,-43.26173703847569,-5.2873088052913975,-46.795737448898656,-76.47265850102296,-82.84522879482917,-83.13535385909738,-87.03184364629448,-79.56605731406627,-94.45432451012985,-80.18442550197308,-78.74943113414845,-90.29112792783525,-87.4119169188827,-82.8844465494536,-83.3265947369637,-88.30968965391489,-89.10035168963844,-76.86693767805127,-91.98383627478417,-70.67624850377544,-83.47133098737322,-48.8813190175767,-75.00697488142701,-56.09239544799932,-17.974064692989383,-86.52366923066685,-87.20821724234482,-66.24382196158352,-25.441153992040263,-10.03660191497759,-13.528537263266758,-73.71558697911136,-60.877671872436274,-33.88324557609025,-25.51550420487015,-9.686556531768378,-14.340846705619132,-22.98730204106636,-36.90400833112123,-29.83539034628356,-21.8951550562852,-20.888477907651193,-5.958093526753809,-30.749596716558646,-14.255665606854533,-3.2104798976141513,-20.13571400960751,-19.31494665897948,-22.978123260662436,-40.48564663264247,-28.9841418705772,-21.53376990479924,-7.275697254320206,-31.050475670585097,-52.449193047667066,-34.97043466665556,-43.07996182967534,-43.011776251225776,-34.22620215897939,-6.554465161923455,-44.22578337517714,-17.895173306238235,-27.448033663429257,-45.36347857741837,-68.08617136765072,-45.36347857741837,-13.7278737332054,-40.49458412745783,-42.91324430095566,-61.316847862584595,-83.83885963151269,-57.08004823300185,-76.30452823020087,-98.32152689101514,-89.65241298051042,-80.68415692657756,-77.628407906526,-95.64801651162959,-81.31616739674818,-84.85772431063225,-93.40532096119509,-86.21205546973984,-92.6054729346532,-93.06155082235806,-89.46049150169672,-71.28831105486013,-82.72508730917474,-56.683765699088575,-79.02174260421216,-69.60841613091647,-74.09700722394221,-68.85116015846067,-22.76329656432235,-32.779661016950165,-34.84076699787875,-33.38639627636565,-33.284434322949565,-7.844762256741068,-9.044957871827322,-15.21803319450488,-16.673994974875104,-5.386522425061979,-15.197725420848506,-30.52168977201102,-32.58229293661962,-19.48254404361513,-34.43261143863608,-57.11336380977663,-44.029877199645526,-47.39610943370134,-72.24766103221668,-87.42583202977507,-68.16575867090998,-23.433707319704407,-10.278562123280413,-38.369050636533856,-14.275830942113256,-5.196525194085511,-5.607326937708444,-8.641225085075856,-10.613622859612164,-15.973099983795171,-31.41009020688165,-34.07713498622589,-48.15913142116351,-55.33549038841578,-59.58747822581739,-90.34749874883043,-76.50303544617863,-84.61750476895068,-75.24790274777779,-91.55735789310836,-89.50537025638324,-72.68328161719826,-71.65750794866089,-80.98857034288878,-73.11730648080558,-71.44885653430397,-75.62793121417405,-88.19828035435123,-85.24851575833053,-93.61257053901643,-86.69891444963068,-86.25232015298857,-71.32315832532046,-82.88784030393406,-75.41223857330216,-88.87935332532346,-89.47927649592559,-79.82206638386833,-56.86749526016431,-14.355100834749205,-57.693310051862085,-94.87280365418597,-63.46673213847287,-91.2562749260898,-85.81930830405031,-96.05326428703447,-88.18198631403736,-75.66857776955798,-74.54734603292029,-72.74518577510021,-99.19911319430327,-89.19454875321716,-80.98831529172705,-80.75306106633585,-82.13474402901812,-74.82657572967766,-62.159062103929024,-88.08500867127219,-76.42999632648696,-95.0845603775476,-74.19524927989681,-73.17555701779314,-89.8783036743304,-91.90442593612335,-79.35624311674009,-65.07950165198238,-57.558249587004404,-42.341094357717516,-30.117760929182126,-15.146207648498486,-54.088993328335896,-62.11515078970009,-44.80284254493633,-34.89551505377098,-53.14966830675852,-27.796712677423656,-29.634622250126185,-9.995036819871189,-46.06235139315312,-63.41716248543213,-64.85309452248052,-65.8866466294547,-38.82966325216218,-57.32012513034411,-59.40240271075059,-55.06586346275799,-10.616359886963448,-15.138369103083072,-26.01237302375315,-19.895618523892225,-38.19649176404695,-28.552152549708495,-48.03003759893089,-2.469987897026594,-10.611312608222153,-10.833619784053637,-9.01942737110768,-5.578221130954613,-13.953858716459948,-24.6884348398567,-19.701467253413455,-8.680318938002017,-13.944159233170254,-3.0379066224572093,-12.284791357044535,-38.60416405460688,-60.94640820980616,-76.45376500582677,-91.60123092578905,-96.51423236304599,-78.73605947955451,-87.97711039639181,-87.69307881876347,-76.44918758614988,-45.80426882753549,-8.147529342968193,-42.60390125725775,-29.916137185840412,-9.070734005915202,-21.94460971870499,-11.124651474892774,-5.0904574050858935,-7.122729938928363,-20.32315595323396,-7.776129775654429,-18.871438718333202],\"yaxis\":\"y2\",\"type\":\"scatter\"},{\"marker\":{\"color\":\"green\",\"size\":10,\"symbol\":\"triangle-up\"},\"mode\":\"markers\",\"name\":\"Buy Signal\",\"x\":[\"2023-01-05\",\"2023-01-09\",\"2023-02-10\",\"2023-02-15\",\"2023-02-24\",\"2023-02-28\",\"2023-03-02\",\"2023-03-10\",\"2023-05-11\",\"2023-05-18\",\"2023-05-31\",\"2023-06-02\",\"2023-07-07\",\"2023-07-31\",\"2023-08-02\",\"2023-08-07\",\"2023-08-10\",\"2023-08-22\",\"2023-08-24\",\"2023-08-29\",\"2023-09-05\",\"2023-09-12\",\"2023-09-22\",\"2023-09-27\",\"2023-09-29\",\"2023-10-05\",\"2023-12-08\",\"2023-12-13\"],\"y\":[1.0606365203857422,1.0656323432922363,1.0742292404174805,1.0735719203948977,1.0598047971725464,1.0611205101013184,1.066894292831421,1.0584698915481567,1.098406195640564,1.0838346481323242,1.073306918144226,1.0760787725448608,1.0890636444091797,1.1024264097213743,1.100788116455078,1.1002674102783203,1.0977671146392822,1.0898351669311523,1.086578607559204,1.082555651664734,1.0794472694396973,1.0750375986099243,1.0661548376083374,1.0569483041763306,1.0562450885772705,1.0507071018218994,1.079214334487915,1.0798670053482056],\"type\":\"scatter\"},{\"marker\":{\"color\":\"red\",\"size\":10,\"symbol\":\"triangle-down\"},\"mode\":\"markers\",\"name\":\"Sell Signal\",\"x\":[\"2023-01-03\",\"2023-01-12\",\"2023-01-18\",\"2023-01-30\",\"2023-02-03\",\"2023-03-08\",\"2023-03-16\",\"2023-03-24\",\"2023-04-03\",\"2023-04-06\",\"2023-04-10\",\"2023-04-17\",\"2023-04-26\",\"2023-04-28\",\"2023-05-05\",\"2023-06-26\",\"2023-06-29\",\"2023-07-12\",\"2023-07-21\",\"2023-09-01\",\"2023-10-13\",\"2023-10-25\",\"2023-11-08\",\"2023-11-10\",\"2023-11-23\",\"2023-12-01\",\"2023-12-18\",\"2023-12-21\",\"2023-12-27\"],\"y\":[1.0677714347839355,1.0766000747680664,1.0793308019638062,1.0871455669403076,1.09051251411438,1.05507493019104,1.0583354234695437,1.0835057497024536,1.080333590507507,1.090334177017212,1.0913575887680054,1.098659634590149,1.0978394746780396,1.1032048463821411,1.102292776107788,1.0906671285629272,1.0915838479995728,1.101406455039978,1.113709807395935,1.0844104290008545,1.0536741018295288,1.059535264968872,1.0696102380752563,1.0667576789855957,1.0890873670578003,1.089205980300903,1.0895264148712158,1.094570875167847,1.1043012142181396],\"type\":\"scatter\"}],                        {\"template\":{\"data\":{\"histogram2dcontour\":[{\"type\":\"histogram2dcontour\",\"colorbar\":{\"outlinewidth\":0,\"ticks\":\"\"},\"colorscale\":[[0.0,\"#0d0887\"],[0.1111111111111111,\"#46039f\"],[0.2222222222222222,\"#7201a8\"],[0.3333333333333333,\"#9c179e\"],[0.4444444444444444,\"#bd3786\"],[0.5555555555555556,\"#d8576b\"],[0.6666666666666666,\"#ed7953\"],[0.7777777777777778,\"#fb9f3a\"],[0.8888888888888888,\"#fdca26\"],[1.0,\"#f0f921\"]]}],\"choropleth\":[{\"type\":\"choropleth\",\"colorbar\":{\"outlinewidth\":0,\"ticks\":\"\"}}],\"histogram2d\":[{\"type\":\"histogram2d\",\"colorbar\":{\"outlinewidth\":0,\"ticks\":\"\"},\"colorscale\":[[0.0,\"#0d0887\"],[0.1111111111111111,\"#46039f\"],[0.2222222222222222,\"#7201a8\"],[0.3333333333333333,\"#9c179e\"],[0.4444444444444444,\"#bd3786\"],[0.5555555555555556,\"#d8576b\"],[0.6666666666666666,\"#ed7953\"],[0.7777777777777778,\"#fb9f3a\"],[0.8888888888888888,\"#fdca26\"],[1.0,\"#f0f921\"]]}],\"heatmap\":[{\"type\":\"heatmap\",\"colorbar\":{\"outlinewidth\":0,\"ticks\":\"\"},\"colorscale\":[[0.0,\"#0d0887\"],[0.1111111111111111,\"#46039f\"],[0.2222222222222222,\"#7201a8\"],[0.3333333333333333,\"#9c179e\"],[0.4444444444444444,\"#bd3786\"],[0.5555555555555556,\"#d8576b\"],[0.6666666666666666,\"#ed7953\"],[0.7777777777777778,\"#fb9f3a\"],[0.8888888888888888,\"#fdca26\"],[1.0,\"#f0f921\"]]}],\"heatmapgl\":[{\"type\":\"heatmapgl\",\"colorbar\":{\"outlinewidth\":0,\"ticks\":\"\"},\"colorscale\":[[0.0,\"#0d0887\"],[0.1111111111111111,\"#46039f\"],[0.2222222222222222,\"#7201a8\"],[0.3333333333333333,\"#9c179e\"],[0.4444444444444444,\"#bd3786\"],[0.5555555555555556,\"#d8576b\"],[0.6666666666666666,\"#ed7953\"],[0.7777777777777778,\"#fb9f3a\"],[0.8888888888888888,\"#fdca26\"],[1.0,\"#f0f921\"]]}],\"contourcarpet\":[{\"type\":\"contourcarpet\",\"colorbar\":{\"outlinewidth\":0,\"ticks\":\"\"}}],\"contour\":[{\"type\":\"contour\",\"colorbar\":{\"outlinewidth\":0,\"ticks\":\"\"},\"colorscale\":[[0.0,\"#0d0887\"],[0.1111111111111111,\"#46039f\"],[0.2222222222222222,\"#7201a8\"],[0.3333333333333333,\"#9c179e\"],[0.4444444444444444,\"#bd3786\"],[0.5555555555555556,\"#d8576b\"],[0.6666666666666666,\"#ed7953\"],[0.7777777777777778,\"#fb9f3a\"],[0.8888888888888888,\"#fdca26\"],[1.0,\"#f0f921\"]]}],\"surface\":[{\"type\":\"surface\",\"colorbar\":{\"outlinewidth\":0,\"ticks\":\"\"},\"colorscale\":[[0.0,\"#0d0887\"],[0.1111111111111111,\"#46039f\"],[0.2222222222222222,\"#7201a8\"],[0.3333333333333333,\"#9c179e\"],[0.4444444444444444,\"#bd3786\"],[0.5555555555555556,\"#d8576b\"],[0.6666666666666666,\"#ed7953\"],[0.7777777777777778,\"#fb9f3a\"],[0.8888888888888888,\"#fdca26\"],[1.0,\"#f0f921\"]]}],\"mesh3d\":[{\"type\":\"mesh3d\",\"colorbar\":{\"outlinewidth\":0,\"ticks\":\"\"}}],\"scatter\":[{\"fillpattern\":{\"fillmode\":\"overlay\",\"size\":10,\"solidity\":0.2},\"type\":\"scatter\"}],\"parcoords\":[{\"type\":\"parcoords\",\"line\":{\"colorbar\":{\"outlinewidth\":0,\"ticks\":\"\"}}}],\"scatterpolargl\":[{\"type\":\"scatterpolargl\",\"marker\":{\"colorbar\":{\"outlinewidth\":0,\"ticks\":\"\"}}}],\"bar\":[{\"error_x\":{\"color\":\"#2a3f5f\"},\"error_y\":{\"color\":\"#2a3f5f\"},\"marker\":{\"line\":{\"color\":\"#E5ECF6\",\"width\":0.5},\"pattern\":{\"fillmode\":\"overlay\",\"size\":10,\"solidity\":0.2}},\"type\":\"bar\"}],\"scattergeo\":[{\"type\":\"scattergeo\",\"marker\":{\"colorbar\":{\"outlinewidth\":0,\"ticks\":\"\"}}}],\"scatterpolar\":[{\"type\":\"scatterpolar\",\"marker\":{\"colorbar\":{\"outlinewidth\":0,\"ticks\":\"\"}}}],\"histogram\":[{\"marker\":{\"pattern\":{\"fillmode\":\"overlay\",\"size\":10,\"solidity\":0.2}},\"type\":\"histogram\"}],\"scattergl\":[{\"type\":\"scattergl\",\"marker\":{\"colorbar\":{\"outlinewidth\":0,\"ticks\":\"\"}}}],\"scatter3d\":[{\"type\":\"scatter3d\",\"line\":{\"colorbar\":{\"outlinewidth\":0,\"ticks\":\"\"}},\"marker\":{\"colorbar\":{\"outlinewidth\":0,\"ticks\":\"\"}}}],\"scattermapbox\":[{\"type\":\"scattermapbox\",\"marker\":{\"colorbar\":{\"outlinewidth\":0,\"ticks\":\"\"}}}],\"scatterternary\":[{\"type\":\"scatterternary\",\"marker\":{\"colorbar\":{\"outlinewidth\":0,\"ticks\":\"\"}}}],\"scattercarpet\":[{\"type\":\"scattercarpet\",\"marker\":{\"colorbar\":{\"outlinewidth\":0,\"ticks\":\"\"}}}],\"carpet\":[{\"aaxis\":{\"endlinecolor\":\"#2a3f5f\",\"gridcolor\":\"white\",\"linecolor\":\"white\",\"minorgridcolor\":\"white\",\"startlinecolor\":\"#2a3f5f\"},\"baxis\":{\"endlinecolor\":\"#2a3f5f\",\"gridcolor\":\"white\",\"linecolor\":\"white\",\"minorgridcolor\":\"white\",\"startlinecolor\":\"#2a3f5f\"},\"type\":\"carpet\"}],\"table\":[{\"cells\":{\"fill\":{\"color\":\"#EBF0F8\"},\"line\":{\"color\":\"white\"}},\"header\":{\"fill\":{\"color\":\"#C8D4E3\"},\"line\":{\"color\":\"white\"}},\"type\":\"table\"}],\"barpolar\":[{\"marker\":{\"line\":{\"color\":\"#E5ECF6\",\"width\":0.5},\"pattern\":{\"fillmode\":\"overlay\",\"size\":10,\"solidity\":0.2}},\"type\":\"barpolar\"}],\"pie\":[{\"automargin\":true,\"type\":\"pie\"}]},\"layout\":{\"autotypenumbers\":\"strict\",\"colorway\":[\"#636efa\",\"#EF553B\",\"#00cc96\",\"#ab63fa\",\"#FFA15A\",\"#19d3f3\",\"#FF6692\",\"#B6E880\",\"#FF97FF\",\"#FECB52\"],\"font\":{\"color\":\"#2a3f5f\"},\"hovermode\":\"closest\",\"hoverlabel\":{\"align\":\"left\"},\"paper_bgcolor\":\"white\",\"plot_bgcolor\":\"#E5ECF6\",\"polar\":{\"bgcolor\":\"#E5ECF6\",\"angularaxis\":{\"gridcolor\":\"white\",\"linecolor\":\"white\",\"ticks\":\"\"},\"radialaxis\":{\"gridcolor\":\"white\",\"linecolor\":\"white\",\"ticks\":\"\"}},\"ternary\":{\"bgcolor\":\"#E5ECF6\",\"aaxis\":{\"gridcolor\":\"white\",\"linecolor\":\"white\",\"ticks\":\"\"},\"baxis\":{\"gridcolor\":\"white\",\"linecolor\":\"white\",\"ticks\":\"\"},\"caxis\":{\"gridcolor\":\"white\",\"linecolor\":\"white\",\"ticks\":\"\"}},\"coloraxis\":{\"colorbar\":{\"outlinewidth\":0,\"ticks\":\"\"}},\"colorscale\":{\"sequential\":[[0.0,\"#0d0887\"],[0.1111111111111111,\"#46039f\"],[0.2222222222222222,\"#7201a8\"],[0.3333333333333333,\"#9c179e\"],[0.4444444444444444,\"#bd3786\"],[0.5555555555555556,\"#d8576b\"],[0.6666666666666666,\"#ed7953\"],[0.7777777777777778,\"#fb9f3a\"],[0.8888888888888888,\"#fdca26\"],[1.0,\"#f0f921\"]],\"sequentialminus\":[[0.0,\"#0d0887\"],[0.1111111111111111,\"#46039f\"],[0.2222222222222222,\"#7201a8\"],[0.3333333333333333,\"#9c179e\"],[0.4444444444444444,\"#bd3786\"],[0.5555555555555556,\"#d8576b\"],[0.6666666666666666,\"#ed7953\"],[0.7777777777777778,\"#fb9f3a\"],[0.8888888888888888,\"#fdca26\"],[1.0,\"#f0f921\"]],\"diverging\":[[0,\"#8e0152\"],[0.1,\"#c51b7d\"],[0.2,\"#de77ae\"],[0.3,\"#f1b6da\"],[0.4,\"#fde0ef\"],[0.5,\"#f7f7f7\"],[0.6,\"#e6f5d0\"],[0.7,\"#b8e186\"],[0.8,\"#7fbc41\"],[0.9,\"#4d9221\"],[1,\"#276419\"]]},\"xaxis\":{\"gridcolor\":\"white\",\"linecolor\":\"white\",\"ticks\":\"\",\"title\":{\"standoff\":15},\"zerolinecolor\":\"white\",\"automargin\":true,\"zerolinewidth\":2},\"yaxis\":{\"gridcolor\":\"white\",\"linecolor\":\"white\",\"ticks\":\"\",\"title\":{\"standoff\":15},\"zerolinecolor\":\"white\",\"automargin\":true,\"zerolinewidth\":2},\"scene\":{\"xaxis\":{\"backgroundcolor\":\"#E5ECF6\",\"gridcolor\":\"white\",\"linecolor\":\"white\",\"showbackground\":true,\"ticks\":\"\",\"zerolinecolor\":\"white\",\"gridwidth\":2},\"yaxis\":{\"backgroundcolor\":\"#E5ECF6\",\"gridcolor\":\"white\",\"linecolor\":\"white\",\"showbackground\":true,\"ticks\":\"\",\"zerolinecolor\":\"white\",\"gridwidth\":2},\"zaxis\":{\"backgroundcolor\":\"#E5ECF6\",\"gridcolor\":\"white\",\"linecolor\":\"white\",\"showbackground\":true,\"ticks\":\"\",\"zerolinecolor\":\"white\",\"gridwidth\":2}},\"shapedefaults\":{\"line\":{\"color\":\"#2a3f5f\"}},\"annotationdefaults\":{\"arrowcolor\":\"#2a3f5f\",\"arrowhead\":0,\"arrowwidth\":1},\"geo\":{\"bgcolor\":\"white\",\"landcolor\":\"#E5ECF6\",\"subunitcolor\":\"white\",\"showland\":true,\"showlakes\":true,\"lakecolor\":\"white\"},\"title\":{\"x\":0.05},\"mapbox\":{\"style\":\"light\"}}},\"shapes\":[{\"line\":{\"color\":\"grey\",\"dash\":\"dash\"},\"type\":\"line\",\"x0\":\"2023-01-02\",\"x1\":\"2023-12-29\",\"y0\":-20,\"y1\":-20,\"yref\":\"y2\"},{\"line\":{\"color\":\"grey\",\"dash\":\"dash\"},\"type\":\"line\",\"x0\":\"2023-01-02\",\"x1\":\"2023-12-29\",\"y0\":-80,\"y1\":-80,\"yref\":\"y2\"}],\"annotations\":[{\"arrowhead\":2,\"ax\":20,\"ay\":30,\"showarrow\":true,\"text\":\"Oversold (-20)\",\"x\":\"2023-01-02\",\"xref\":\"x\",\"y\":-20,\"yref\":\"y2\"},{\"arrowhead\":2,\"ax\":20,\"ay\":-30,\"showarrow\":true,\"text\":\"Overbought (-80)\",\"x\":\"2023-01-02\",\"xref\":\"x\",\"y\":-80,\"yref\":\"y2\"}],\"xaxis\":{\"rangeslider\":{\"visible\":false},\"title\":{\"text\":\"Date\"}},\"yaxis\":{\"title\":{\"text\":\"Price\"},\"side\":\"left\"},\"yaxis2\":{\"title\":{\"text\":\"%R\"},\"overlaying\":\"y\",\"side\":\"right\",\"range\":[-100,0]},\"title\":{\"text\":\"Line Chart with %R and Trading Signals\"},\"showlegend\":true},                        {\"responsive\": true}                    ).then(function(){\n",
       "                            \n",
       "var gd = document.getElementById('4a97867f-d3c0-4e3f-8f70-96c53086e6af');\n",
       "var x = new MutationObserver(function (mutations, observer) {{\n",
       "        var display = window.getComputedStyle(gd).display;\n",
       "        if (!display || display === 'none') {{\n",
       "            console.log([gd, 'removed!']);\n",
       "            Plotly.purge(gd);\n",
       "            observer.disconnect();\n",
       "        }}\n",
       "}});\n",
       "\n",
       "// Listen for the removal of the full notebook cells\n",
       "var notebookContainer = gd.closest('#notebook-container');\n",
       "if (notebookContainer) {{\n",
       "    x.observe(notebookContainer, {childList: true});\n",
       "}}\n",
       "\n",
       "// Listen for the clearing of the current output cell\n",
       "var outputEl = gd.closest('.output');\n",
       "if (outputEl) {{\n",
       "    x.observe(outputEl, {childList: true});\n",
       "}}\n",
       "\n",
       "                        })                };                });            </script>        </div>"
      ]
     },
     "metadata": {},
     "output_type": "display_data"
    }
   ],
   "source": [
    "fig = go.Figure()\n",
    "\n",
    "# Cena zamknięcia\n",
    "fig.add_trace(go.Scatter(x=df_month['Date'], y=df_month['Close'], mode='lines', name='Close Price', line=dict(color='lightblue', width=3)))\n",
    "\n",
    "# %R\n",
    "fig.add_trace(go.Scatter(x=df_month['Date'], y=df_month['%R'], mode='lines', name='%R', yaxis='y2', line=dict(color='lightgray', width=2)))\n",
    "\n",
    "# Linie poziome dla poziomów wykupienia i wyprzedania\n",
    "fig.add_shape(type='line', x0=df_month['Date'].iloc[0], y0=-20, x1=df_month['Date'].iloc[-1], y1=-20,\n",
    "              line=dict(color='grey', dash='dash'), yref='y2')\n",
    "fig.add_annotation(\n",
    "    x=df_month['Date'].iloc[0],\n",
    "    y=-20,\n",
    "    xref=\"x\",\n",
    "    yref=\"y2\",\n",
    "    text=\"Oversold (-20)\",\n",
    "    showarrow=True,\n",
    "    arrowhead=2,\n",
    "    ax=20,\n",
    "    ay=30\n",
    ")\n",
    "\n",
    "fig.add_shape(type='line', x0=df_month['Date'].iloc[0], y0=-80, x1=df_month['Date'].iloc[-1], y1=-80,\n",
    "              line=dict(color='grey', dash='dash'), yref='y2')\n",
    "fig.add_annotation(\n",
    "    x=df_month['Date'].iloc[0],\n",
    "    y=-80,\n",
    "    xref=\"x\",\n",
    "    yref=\"y2\",\n",
    "    text=\"Overbought (-80)\",\n",
    "    showarrow=True,\n",
    "    arrowhead=2,\n",
    "    ax=20,\n",
    "    ay=-30\n",
    ")\n",
    "\n",
    "# Sygnały kupna i sprzedaży\n",
    "buy_signals = df_month[(df_month['%R'].shift(1) < -80) & (df_month['%R'] > -80)]\n",
    "sell_signals = df_month[(df_month['%R'].shift(1) > -20) & (df_month['%R'] < -20)]\n",
    "\n",
    "fig.add_trace(go.Scatter(x=buy_signals['Date'], y=buy_signals['Close'], mode='markers', name='Buy Signal',\n",
    "                         marker=dict(symbol='triangle-up', color='green', size=10)))\n",
    "fig.add_trace(go.Scatter(x=sell_signals['Date'], y=sell_signals['Close'], mode='markers', name='Sell Signal',\n",
    "                         marker=dict(symbol='triangle-down', color='red', size=10)))\n",
    "\n",
    "# Dodanie drugiej osi Y\n",
    "fig.update_layout(\n",
    "    title='Line Chart with %R and Trading Signals',\n",
    "    xaxis_rangeslider_visible=False,\n",
    "    xaxis_title='Date',\n",
    "    yaxis=dict(\n",
    "        title='Price',\n",
    "        side='left'\n",
    "    ),\n",
    "    yaxis2=dict(\n",
    "        title='%R',\n",
    "        overlaying='y',\n",
    "        side='right',\n",
    "        range=[-100, 0]\n",
    "    ),\n",
    "    showlegend=True\n",
    ")\n",
    "\n",
    "fig.show()"
   ]
  },
  {
   "cell_type": "code",
   "execution_count": 108,
   "id": "3c624970",
   "metadata": {},
   "outputs": [
    {
     "data": {
      "application/vnd.plotly.v1+json": {
       "config": {
        "plotlyServerURL": "https://plot.ly"
       },
       "data": [
        {
         "line": {
          "color": "lightblue",
          "width": 3
         },
         "mode": "lines",
         "name": "Close Price",
         "type": "scatter",
         "x": [
          "2023-01-02T00:00:00",
          "2023-01-03T00:00:00",
          "2023-01-04T00:00:00",
          "2023-01-05T00:00:00",
          "2023-01-06T00:00:00",
          "2023-01-09T00:00:00",
          "2023-01-10T00:00:00",
          "2023-01-11T00:00:00",
          "2023-01-12T00:00:00",
          "2023-01-13T00:00:00",
          "2023-01-16T00:00:00",
          "2023-01-17T00:00:00",
          "2023-01-18T00:00:00",
          "2023-01-19T00:00:00",
          "2023-01-20T00:00:00",
          "2023-01-23T00:00:00",
          "2023-01-24T00:00:00",
          "2023-01-25T00:00:00",
          "2023-01-26T00:00:00",
          "2023-01-27T00:00:00",
          "2023-01-30T00:00:00",
          "2023-01-31T00:00:00",
          "2023-02-01T00:00:00",
          "2023-02-02T00:00:00",
          "2023-02-03T00:00:00",
          "2023-02-06T00:00:00",
          "2023-02-07T00:00:00",
          "2023-02-08T00:00:00",
          "2023-02-09T00:00:00",
          "2023-02-10T00:00:00",
          "2023-02-13T00:00:00",
          "2023-02-14T00:00:00",
          "2023-02-15T00:00:00",
          "2023-02-16T00:00:00",
          "2023-02-17T00:00:00",
          "2023-02-20T00:00:00",
          "2023-02-21T00:00:00",
          "2023-02-22T00:00:00",
          "2023-02-23T00:00:00",
          "2023-02-24T00:00:00",
          "2023-02-27T00:00:00",
          "2023-02-28T00:00:00",
          "2023-03-01T00:00:00",
          "2023-03-02T00:00:00",
          "2023-03-03T00:00:00",
          "2023-03-06T00:00:00",
          "2023-03-07T00:00:00",
          "2023-03-08T00:00:00",
          "2023-03-09T00:00:00",
          "2023-03-10T00:00:00",
          "2023-03-13T00:00:00",
          "2023-03-14T00:00:00",
          "2023-03-15T00:00:00",
          "2023-03-16T00:00:00",
          "2023-03-17T00:00:00",
          "2023-03-20T00:00:00",
          "2023-03-21T00:00:00",
          "2023-03-22T00:00:00",
          "2023-03-23T00:00:00",
          "2023-03-24T00:00:00",
          "2023-03-27T00:00:00",
          "2023-03-28T00:00:00",
          "2023-03-29T00:00:00",
          "2023-03-30T00:00:00",
          "2023-03-31T00:00:00",
          "2023-04-03T00:00:00",
          "2023-04-04T00:00:00",
          "2023-04-05T00:00:00",
          "2023-04-06T00:00:00",
          "2023-04-07T00:00:00",
          "2023-04-10T00:00:00",
          "2023-04-11T00:00:00",
          "2023-04-12T00:00:00",
          "2023-04-13T00:00:00",
          "2023-04-14T00:00:00",
          "2023-04-17T00:00:00",
          "2023-04-18T00:00:00",
          "2023-04-19T00:00:00",
          "2023-04-20T00:00:00",
          "2023-04-21T00:00:00",
          "2023-04-24T00:00:00",
          "2023-04-25T00:00:00",
          "2023-04-26T00:00:00",
          "2023-04-27T00:00:00",
          "2023-04-28T00:00:00",
          "2023-05-01T00:00:00",
          "2023-05-02T00:00:00",
          "2023-05-03T00:00:00",
          "2023-05-04T00:00:00",
          "2023-05-05T00:00:00",
          "2023-05-08T00:00:00",
          "2023-05-09T00:00:00",
          "2023-05-10T00:00:00",
          "2023-05-11T00:00:00",
          "2023-05-12T00:00:00",
          "2023-05-15T00:00:00",
          "2023-05-16T00:00:00",
          "2023-05-17T00:00:00",
          "2023-05-18T00:00:00",
          "2023-05-19T00:00:00",
          "2023-05-22T00:00:00",
          "2023-05-23T00:00:00",
          "2023-05-24T00:00:00",
          "2023-05-25T00:00:00",
          "2023-05-26T00:00:00",
          "2023-05-29T00:00:00",
          "2023-05-30T00:00:00",
          "2023-05-31T00:00:00",
          "2023-06-01T00:00:00",
          "2023-06-02T00:00:00",
          "2023-06-05T00:00:00",
          "2023-06-06T00:00:00",
          "2023-06-07T00:00:00",
          "2023-06-08T00:00:00",
          "2023-06-09T00:00:00",
          "2023-06-12T00:00:00",
          "2023-06-13T00:00:00",
          "2023-06-14T00:00:00",
          "2023-06-15T00:00:00",
          "2023-06-16T00:00:00",
          "2023-06-19T00:00:00",
          "2023-06-20T00:00:00",
          "2023-06-21T00:00:00",
          "2023-06-22T00:00:00",
          "2023-06-23T00:00:00",
          "2023-06-26T00:00:00",
          "2023-06-27T00:00:00",
          "2023-06-28T00:00:00",
          "2023-06-29T00:00:00",
          "2023-06-30T00:00:00",
          "2023-07-03T00:00:00",
          "2023-07-04T00:00:00",
          "2023-07-05T00:00:00",
          "2023-07-06T00:00:00",
          "2023-07-07T00:00:00",
          "2023-07-10T00:00:00",
          "2023-07-11T00:00:00",
          "2023-07-12T00:00:00",
          "2023-07-13T00:00:00",
          "2023-07-14T00:00:00",
          "2023-07-17T00:00:00",
          "2023-07-18T00:00:00",
          "2023-07-19T00:00:00",
          "2023-07-20T00:00:00",
          "2023-07-21T00:00:00",
          "2023-07-24T00:00:00",
          "2023-07-25T00:00:00",
          "2023-07-26T00:00:00",
          "2023-07-27T00:00:00",
          "2023-07-28T00:00:00",
          "2023-07-31T00:00:00",
          "2023-08-01T00:00:00",
          "2023-08-02T00:00:00",
          "2023-08-03T00:00:00",
          "2023-08-04T00:00:00",
          "2023-08-07T00:00:00",
          "2023-08-08T00:00:00",
          "2023-08-09T00:00:00",
          "2023-08-10T00:00:00",
          "2023-08-11T00:00:00",
          "2023-08-14T00:00:00",
          "2023-08-15T00:00:00",
          "2023-08-16T00:00:00",
          "2023-08-17T00:00:00",
          "2023-08-18T00:00:00",
          "2023-08-21T00:00:00",
          "2023-08-22T00:00:00",
          "2023-08-23T00:00:00",
          "2023-08-24T00:00:00",
          "2023-08-25T00:00:00",
          "2023-08-28T00:00:00",
          "2023-08-29T00:00:00",
          "2023-08-30T00:00:00",
          "2023-08-31T00:00:00",
          "2023-09-01T00:00:00",
          "2023-09-04T00:00:00",
          "2023-09-05T00:00:00",
          "2023-09-06T00:00:00",
          "2023-09-07T00:00:00",
          "2023-09-08T00:00:00",
          "2023-09-11T00:00:00",
          "2023-09-12T00:00:00",
          "2023-09-13T00:00:00",
          "2023-09-14T00:00:00",
          "2023-09-15T00:00:00",
          "2023-09-18T00:00:00",
          "2023-09-19T00:00:00",
          "2023-09-20T00:00:00",
          "2023-09-21T00:00:00",
          "2023-09-22T00:00:00",
          "2023-09-25T00:00:00",
          "2023-09-26T00:00:00",
          "2023-09-27T00:00:00",
          "2023-09-28T00:00:00",
          "2023-09-29T00:00:00",
          "2023-10-02T00:00:00",
          "2023-10-03T00:00:00",
          "2023-10-04T00:00:00",
          "2023-10-05T00:00:00",
          "2023-10-06T00:00:00",
          "2023-10-09T00:00:00",
          "2023-10-10T00:00:00",
          "2023-10-11T00:00:00",
          "2023-10-12T00:00:00",
          "2023-10-13T00:00:00",
          "2023-10-16T00:00:00",
          "2023-10-17T00:00:00",
          "2023-10-18T00:00:00",
          "2023-10-19T00:00:00",
          "2023-10-20T00:00:00",
          "2023-10-23T00:00:00",
          "2023-10-24T00:00:00",
          "2023-10-25T00:00:00",
          "2023-10-26T00:00:00",
          "2023-10-27T00:00:00",
          "2023-10-30T00:00:00",
          "2023-10-31T00:00:00",
          "2023-11-01T00:00:00",
          "2023-11-02T00:00:00",
          "2023-11-03T00:00:00",
          "2023-11-06T00:00:00",
          "2023-11-07T00:00:00",
          "2023-11-08T00:00:00",
          "2023-11-09T00:00:00",
          "2023-11-10T00:00:00",
          "2023-11-13T00:00:00",
          "2023-11-14T00:00:00",
          "2023-11-15T00:00:00",
          "2023-11-16T00:00:00",
          "2023-11-17T00:00:00",
          "2023-11-20T00:00:00",
          "2023-11-21T00:00:00",
          "2023-11-22T00:00:00",
          "2023-11-23T00:00:00",
          "2023-11-24T00:00:00",
          "2023-11-27T00:00:00",
          "2023-11-28T00:00:00",
          "2023-11-29T00:00:00",
          "2023-11-30T00:00:00",
          "2023-12-01T00:00:00",
          "2023-12-04T00:00:00",
          "2023-12-05T00:00:00",
          "2023-12-06T00:00:00",
          "2023-12-07T00:00:00",
          "2023-12-08T00:00:00",
          "2023-12-11T00:00:00",
          "2023-12-12T00:00:00",
          "2023-12-13T00:00:00",
          "2023-12-14T00:00:00",
          "2023-12-15T00:00:00",
          "2023-12-18T00:00:00",
          "2023-12-19T00:00:00",
          "2023-12-20T00:00:00",
          "2023-12-21T00:00:00",
          "2023-12-22T00:00:00",
          "2023-12-25T00:00:00",
          "2023-12-26T00:00:00",
          "2023-12-27T00:00:00",
          "2023-12-28T00:00:00",
          "2023-12-29T00:00:00"
         ],
         "y": [
          1.0709733963012695,
          1.0677714347839355,
          1.0546854734420776,
          1.0606365203857422,
          1.0522217750549316,
          1.0656323432922363,
          1.073318362236023,
          1.0738946199417114,
          1.0766000747680664,
          1.0860239267349243,
          1.082461953163147,
          1.083012938499451,
          1.0793308019638062,
          1.0797853469848633,
          1.083388328552246,
          1.086507797241211,
          1.0874292850494385,
          1.088814616203308,
          1.0922038555145264,
          1.0894432067871094,
          1.0871455669403076,
          1.0850694179534912,
          1.0860947370529177,
          1.1012852191925049,
          1.09051251411438,
          1.079086184501648,
          1.0730764865875244,
          1.0729728937149048,
          1.0715816020965576,
          1.0742292404174805,
          1.0677714347839355,
          1.073041915893555,
          1.0735719203948977,
          1.0691757202148438,
          1.0665756464004517,
          1.0684444904327393,
          1.068261981010437,
          1.065200924873352,
          1.0605803728103638,
          1.0598047971725464,
          1.055475831031799,
          1.0611205101013184,
          1.0577309131622314,
          1.066894292831421,
          1.0599732398986816,
          1.0626201629638672,
          1.0688328742980957,
          1.05507493019104,
          1.0549525022506714,
          1.0584698915481567,
          1.0683646202087402,
          1.0725010633468628,
          1.0727657079696655,
          1.0583354234695437,
          1.0614134073257446,
          1.0678855180740356,
          1.071914792060852,
          1.0774236917495728,
          1.0870392322540283,
          1.0835057497024536,
          1.077818512916565,
          1.0807071924209597,
          1.0839520692825315,
          1.0843634605407717,
          1.0904649496078491,
          1.080333590507507,
          1.091226577758789,
          1.0960105657577517,
          1.090334177017212,
          1.0920130014419556,
          1.0913575887680054,
          1.086932897567749,
          1.0917507410049438,
          1.0999890565872192,
          1.1054610013961792,
          1.098659634590149,
          1.0925379991531372,
          1.0975382328033447,
          1.095218300819397,
          1.0970927476882937,
          1.0992271900177002,
          1.1059499979019165,
          1.0978394746780396,
          1.1047282218933103,
          1.1032048463821411,
          1.1010911464691162,
          1.0969241857528689,
          1.1010911464691162,
          1.1068925857543943,
          1.102292776107788,
          1.10186767578125,
          1.0996140241622925,
          1.096467137336731,
          1.098406195640564,
          1.0912145376205444,
          1.0852696895599363,
          1.0873701572418213,
          1.0865668058395386,
          1.0838346481323242,
          1.0775396823883057,
          1.0822745561599731,
          1.0811045169830322,
          1.076971173286438,
          1.0757315158843994,
          1.072443604469299,
          1.0723055601119995,
          1.0707669258117676,
          1.073306918144226,
          1.0695186853408811,
          1.0760787725448608,
          1.0698620080947876,
          1.0711798667907717,
          1.0698047876358032,
          1.0707440376281738,
          1.078271746635437,
          1.0750954151153564,
          1.0762988328933716,
          1.078934907913208,
          1.084304690361023,
          1.0945948362350464,
          1.0942115783691406,
          1.0924304723739624,
          1.0920368432998655,
          1.0992635488510132,
          1.0958904027938845,
          1.0906671285629272,
          1.091048002243042,
          1.0957223176956177,
          1.0915838479995728,
          1.086802959442139,
          1.0907504558563232,
          1.091309905052185,
          1.0884946584701538,
          1.0856584310531616,
          1.0890636444091797,
          1.0969723463058472,
          1.100594401359558,
          1.101406455039978,
          1.1144545078277588,
          1.1223469972610474,
          1.1227755546569824,
          1.123759627342224,
          1.1228890419006348,
          1.120523452758789,
          1.113709807395935,
          1.112532615661621,
          1.1063170433044434,
          1.1050456762313845,
          1.1078368425369265,
          1.0978755950927734,
          1.1024264097213743,
          1.0997591018676758,
          1.100788116455078,
          1.0944151878356934,
          1.095158338546753,
          1.1002674102783203,
          1.100315809249878,
          1.0958904027938845,
          1.0977671146392822,
          1.0981649160385132,
          1.094439148902893,
          1.0909883975982666,
          1.0904173851013184,
          1.0874884128570557,
          1.0874648094177246,
          1.087559461593628,
          1.0898351669311523,
          1.0846692323684692,
          1.086578607559204,
          1.07991361618042,
          1.0797386169433594,
          1.082555651664734,
          1.0869210958480835,
          1.0932546854019165,
          1.0844104290008545,
          1.07758629322052,
          1.0794472694396973,
          1.0726161003112793,
          1.0724204778671265,
          1.0697818994522097,
          1.071811318397522,
          1.0750375986099243,
          1.075326681137085,
          1.073422074317932,
          1.0637166500091553,
          1.0668259859085083,
          1.0692671537399292,
          1.0682048797607422,
          1.065303087234497,
          1.0661548376083374,
          1.0648492574691772,
          1.0591648817062378,
          1.0569483041763306,
          1.0505305528640747,
          1.0562450885772705,
          1.0565240383148191,
          1.0480751991271973,
          1.0472300052642822,
          1.0507071018218994,
          1.0546631813049316,
          1.056747317314148,
          1.0578875541687012,
          1.0604791641235352,
          1.0624282360076904,
          1.0536741018295288,
          1.052155375480652,
          1.055431246757507,
          1.057305932044983,
          1.053851842880249,
          1.0586491823196411,
          1.0589966773986816,
          1.0669853687286377,
          1.059535264968872,
          1.056725025177002,
          1.0564459562301636,
          1.0562450885772705,
          1.061503529548645,
          1.0579099655151367,
          1.05870521068573,
          1.061909317970276,
          1.073214769363403,
          1.0721560716629028,
          1.0696102380752563,
          1.07104229927063,
          1.0667576789855957,
          1.069015622138977,
          1.0701825618743896,
          1.0878314971923828,
          1.0854581594467163,
          1.0853756666183472,
          1.090702772140503,
          1.0945948362350464,
          1.0918222665786743,
          1.0890873670578003,
          1.0906314849853516,
          1.0940439701080322,
          1.095842361450195,
          1.100594401359558,
          1.0973695516586304,
          1.089205980300903,
          1.088814616203308,
          1.0837758779525757,
          1.0793657302856443,
          1.076669692993164,
          1.079214334487915,
          1.0765769481658936,
          1.076658010482788,
          1.0798670053482056,
          1.0886130332946775,
          1.0993602275848389,
          1.0895264148712158,
          1.092382788658142,
          1.0981045961380005,
          1.094570875167847,
          1.100618600845337,
          1.102657437324524,
          1.1020255088806152,
          1.1043012142181396,
          1.110864281654358,
          1.1068191528320312
         ]
        },
        {
         "line": {
          "color": "purple",
          "width": 2
         },
         "mode": "lines",
         "name": "MA5",
         "type": "scatter",
         "x": [
          "2023-01-02T00:00:00",
          "2023-01-03T00:00:00",
          "2023-01-04T00:00:00",
          "2023-01-05T00:00:00",
          "2023-01-06T00:00:00",
          "2023-01-09T00:00:00",
          "2023-01-10T00:00:00",
          "2023-01-11T00:00:00",
          "2023-01-12T00:00:00",
          "2023-01-13T00:00:00",
          "2023-01-16T00:00:00",
          "2023-01-17T00:00:00",
          "2023-01-18T00:00:00",
          "2023-01-19T00:00:00",
          "2023-01-20T00:00:00",
          "2023-01-23T00:00:00",
          "2023-01-24T00:00:00",
          "2023-01-25T00:00:00",
          "2023-01-26T00:00:00",
          "2023-01-27T00:00:00",
          "2023-01-30T00:00:00",
          "2023-01-31T00:00:00",
          "2023-02-01T00:00:00",
          "2023-02-02T00:00:00",
          "2023-02-03T00:00:00",
          "2023-02-06T00:00:00",
          "2023-02-07T00:00:00",
          "2023-02-08T00:00:00",
          "2023-02-09T00:00:00",
          "2023-02-10T00:00:00",
          "2023-02-13T00:00:00",
          "2023-02-14T00:00:00",
          "2023-02-15T00:00:00",
          "2023-02-16T00:00:00",
          "2023-02-17T00:00:00",
          "2023-02-20T00:00:00",
          "2023-02-21T00:00:00",
          "2023-02-22T00:00:00",
          "2023-02-23T00:00:00",
          "2023-02-24T00:00:00",
          "2023-02-27T00:00:00",
          "2023-02-28T00:00:00",
          "2023-03-01T00:00:00",
          "2023-03-02T00:00:00",
          "2023-03-03T00:00:00",
          "2023-03-06T00:00:00",
          "2023-03-07T00:00:00",
          "2023-03-08T00:00:00",
          "2023-03-09T00:00:00",
          "2023-03-10T00:00:00",
          "2023-03-13T00:00:00",
          "2023-03-14T00:00:00",
          "2023-03-15T00:00:00",
          "2023-03-16T00:00:00",
          "2023-03-17T00:00:00",
          "2023-03-20T00:00:00",
          "2023-03-21T00:00:00",
          "2023-03-22T00:00:00",
          "2023-03-23T00:00:00",
          "2023-03-24T00:00:00",
          "2023-03-27T00:00:00",
          "2023-03-28T00:00:00",
          "2023-03-29T00:00:00",
          "2023-03-30T00:00:00",
          "2023-03-31T00:00:00",
          "2023-04-03T00:00:00",
          "2023-04-04T00:00:00",
          "2023-04-05T00:00:00",
          "2023-04-06T00:00:00",
          "2023-04-07T00:00:00",
          "2023-04-10T00:00:00",
          "2023-04-11T00:00:00",
          "2023-04-12T00:00:00",
          "2023-04-13T00:00:00",
          "2023-04-14T00:00:00",
          "2023-04-17T00:00:00",
          "2023-04-18T00:00:00",
          "2023-04-19T00:00:00",
          "2023-04-20T00:00:00",
          "2023-04-21T00:00:00",
          "2023-04-24T00:00:00",
          "2023-04-25T00:00:00",
          "2023-04-26T00:00:00",
          "2023-04-27T00:00:00",
          "2023-04-28T00:00:00",
          "2023-05-01T00:00:00",
          "2023-05-02T00:00:00",
          "2023-05-03T00:00:00",
          "2023-05-04T00:00:00",
          "2023-05-05T00:00:00",
          "2023-05-08T00:00:00",
          "2023-05-09T00:00:00",
          "2023-05-10T00:00:00",
          "2023-05-11T00:00:00",
          "2023-05-12T00:00:00",
          "2023-05-15T00:00:00",
          "2023-05-16T00:00:00",
          "2023-05-17T00:00:00",
          "2023-05-18T00:00:00",
          "2023-05-19T00:00:00",
          "2023-05-22T00:00:00",
          "2023-05-23T00:00:00",
          "2023-05-24T00:00:00",
          "2023-05-25T00:00:00",
          "2023-05-26T00:00:00",
          "2023-05-29T00:00:00",
          "2023-05-30T00:00:00",
          "2023-05-31T00:00:00",
          "2023-06-01T00:00:00",
          "2023-06-02T00:00:00",
          "2023-06-05T00:00:00",
          "2023-06-06T00:00:00",
          "2023-06-07T00:00:00",
          "2023-06-08T00:00:00",
          "2023-06-09T00:00:00",
          "2023-06-12T00:00:00",
          "2023-06-13T00:00:00",
          "2023-06-14T00:00:00",
          "2023-06-15T00:00:00",
          "2023-06-16T00:00:00",
          "2023-06-19T00:00:00",
          "2023-06-20T00:00:00",
          "2023-06-21T00:00:00",
          "2023-06-22T00:00:00",
          "2023-06-23T00:00:00",
          "2023-06-26T00:00:00",
          "2023-06-27T00:00:00",
          "2023-06-28T00:00:00",
          "2023-06-29T00:00:00",
          "2023-06-30T00:00:00",
          "2023-07-03T00:00:00",
          "2023-07-04T00:00:00",
          "2023-07-05T00:00:00",
          "2023-07-06T00:00:00",
          "2023-07-07T00:00:00",
          "2023-07-10T00:00:00",
          "2023-07-11T00:00:00",
          "2023-07-12T00:00:00",
          "2023-07-13T00:00:00",
          "2023-07-14T00:00:00",
          "2023-07-17T00:00:00",
          "2023-07-18T00:00:00",
          "2023-07-19T00:00:00",
          "2023-07-20T00:00:00",
          "2023-07-21T00:00:00",
          "2023-07-24T00:00:00",
          "2023-07-25T00:00:00",
          "2023-07-26T00:00:00",
          "2023-07-27T00:00:00",
          "2023-07-28T00:00:00",
          "2023-07-31T00:00:00",
          "2023-08-01T00:00:00",
          "2023-08-02T00:00:00",
          "2023-08-03T00:00:00",
          "2023-08-04T00:00:00",
          "2023-08-07T00:00:00",
          "2023-08-08T00:00:00",
          "2023-08-09T00:00:00",
          "2023-08-10T00:00:00",
          "2023-08-11T00:00:00",
          "2023-08-14T00:00:00",
          "2023-08-15T00:00:00",
          "2023-08-16T00:00:00",
          "2023-08-17T00:00:00",
          "2023-08-18T00:00:00",
          "2023-08-21T00:00:00",
          "2023-08-22T00:00:00",
          "2023-08-23T00:00:00",
          "2023-08-24T00:00:00",
          "2023-08-25T00:00:00",
          "2023-08-28T00:00:00",
          "2023-08-29T00:00:00",
          "2023-08-30T00:00:00",
          "2023-08-31T00:00:00",
          "2023-09-01T00:00:00",
          "2023-09-04T00:00:00",
          "2023-09-05T00:00:00",
          "2023-09-06T00:00:00",
          "2023-09-07T00:00:00",
          "2023-09-08T00:00:00",
          "2023-09-11T00:00:00",
          "2023-09-12T00:00:00",
          "2023-09-13T00:00:00",
          "2023-09-14T00:00:00",
          "2023-09-15T00:00:00",
          "2023-09-18T00:00:00",
          "2023-09-19T00:00:00",
          "2023-09-20T00:00:00",
          "2023-09-21T00:00:00",
          "2023-09-22T00:00:00",
          "2023-09-25T00:00:00",
          "2023-09-26T00:00:00",
          "2023-09-27T00:00:00",
          "2023-09-28T00:00:00",
          "2023-09-29T00:00:00",
          "2023-10-02T00:00:00",
          "2023-10-03T00:00:00",
          "2023-10-04T00:00:00",
          "2023-10-05T00:00:00",
          "2023-10-06T00:00:00",
          "2023-10-09T00:00:00",
          "2023-10-10T00:00:00",
          "2023-10-11T00:00:00",
          "2023-10-12T00:00:00",
          "2023-10-13T00:00:00",
          "2023-10-16T00:00:00",
          "2023-10-17T00:00:00",
          "2023-10-18T00:00:00",
          "2023-10-19T00:00:00",
          "2023-10-20T00:00:00",
          "2023-10-23T00:00:00",
          "2023-10-24T00:00:00",
          "2023-10-25T00:00:00",
          "2023-10-26T00:00:00",
          "2023-10-27T00:00:00",
          "2023-10-30T00:00:00",
          "2023-10-31T00:00:00",
          "2023-11-01T00:00:00",
          "2023-11-02T00:00:00",
          "2023-11-03T00:00:00",
          "2023-11-06T00:00:00",
          "2023-11-07T00:00:00",
          "2023-11-08T00:00:00",
          "2023-11-09T00:00:00",
          "2023-11-10T00:00:00",
          "2023-11-13T00:00:00",
          "2023-11-14T00:00:00",
          "2023-11-15T00:00:00",
          "2023-11-16T00:00:00",
          "2023-11-17T00:00:00",
          "2023-11-20T00:00:00",
          "2023-11-21T00:00:00",
          "2023-11-22T00:00:00",
          "2023-11-23T00:00:00",
          "2023-11-24T00:00:00",
          "2023-11-27T00:00:00",
          "2023-11-28T00:00:00",
          "2023-11-29T00:00:00",
          "2023-11-30T00:00:00",
          "2023-12-01T00:00:00",
          "2023-12-04T00:00:00",
          "2023-12-05T00:00:00",
          "2023-12-06T00:00:00",
          "2023-12-07T00:00:00",
          "2023-12-08T00:00:00",
          "2023-12-11T00:00:00",
          "2023-12-12T00:00:00",
          "2023-12-13T00:00:00",
          "2023-12-14T00:00:00",
          "2023-12-15T00:00:00",
          "2023-12-18T00:00:00",
          "2023-12-19T00:00:00",
          "2023-12-20T00:00:00",
          "2023-12-21T00:00:00",
          "2023-12-22T00:00:00",
          "2023-12-25T00:00:00",
          "2023-12-26T00:00:00",
          "2023-12-27T00:00:00",
          "2023-12-28T00:00:00",
          "2023-12-29T00:00:00"
         ],
         "y": [
          null,
          null,
          null,
          null,
          1.0612577199935913,
          1.0601895093917846,
          1.0612988948822022,
          1.065140724182129,
          1.0683334350585938,
          1.0750938653945923,
          1.0784597873687745,
          1.0803987026214599,
          1.0814859390258789,
          1.0821229934692382,
          1.0815958738327027,
          1.0824050426483154,
          1.083288311958313,
          1.0851850748062133,
          1.087668776512146,
          1.0888797521591187,
          1.089007306098938,
          1.0885353326797484,
          1.0879913568496704,
          1.0898076295852661,
          1.0900214910507204,
          1.0884096145629885,
          1.086011028289795,
          1.0833866596221924,
          1.0774459362030029,
          1.0741892814636231,
          1.0719263315200807,
          1.0719194173812867,
          1.0720392227172852,
          1.0715580463409424,
          1.0700273275375367,
          1.0701619386672974,
          1.0692059516906738,
          1.0675317525863648,
          1.0658126831054688,
          1.0644585132598876,
          1.0618647813796998,
          1.060436487197876,
          1.058942484855652,
          1.0602052688598633,
          1.0602389574050903,
          1.0616678237915038,
          1.0632102966308594,
          1.0626791000366211,
          1.0602907419204712,
          1.0599900722503661,
          1.061138963699341,
          1.0618726015090942,
          1.0654107570648192,
          1.0660873413085938,
          1.0666760444641112,
          1.0665802240371705,
          1.0664629697799684,
          1.0673945665359497,
          1.0731353282928466,
          1.0775537967681885,
          1.0795403957366942,
          1.0812988758087159,
          1.0826045513153075,
          1.0820693969726562,
          1.0834612369537353,
          1.0839642524719237,
          1.0860681295394898,
          1.0884798288345336,
          1.0896739721298219,
          1.089983582496643,
          1.0921883821487426,
          1.0913296461105346,
          1.0904776811599732,
          1.0924086570739746,
          1.0950982570648193,
          1.0965586662292481,
          1.0976796865463256,
          1.098837184906006,
          1.0978830337524415,
          1.0962093830108643,
          1.0963228940963745,
          1.0990052938461303,
          1.0990655422210693,
          1.100967526435852,
          1.1021899461746216,
          1.1025627374649047,
          1.1007575750350953,
          1.1014079093933105,
          1.1018407821655274,
          1.1016583681106566,
          1.1018136739730835,
          1.1023516416549684,
          1.1014268398284912,
          1.099729561805725,
          1.0975139141082764,
          1.0941943168640136,
          1.0917455434799195,
          1.089765477180481,
          1.086851167678833,
          1.0841161966323853,
          1.0835171699523927,
          1.0822640419006349,
          1.0803449153900146,
          1.0787242889404296,
          1.0777050733566285,
          1.0757112741470336,
          1.0736437559127807,
          1.0729109048843384,
          1.0716683387756347,
          1.0723953723907471,
          1.0719066619873048,
          1.0719892501831054,
          1.071288824081421,
          1.0715338945388795,
          1.0719724893569946,
          1.0730191707611083,
          1.0740429639816285,
          1.0758689880371093,
          1.078581118583679,
          1.0818457365036012,
          1.085668969154358,
          1.0888952970504762,
          1.0915156841278075,
          1.0945074558258057,
          1.0947665691375732,
          1.0940576791763306,
          1.0937811851501464,
          1.094518280029297,
          1.0929823398590088,
          1.0911648511886596,
          1.0911815166473389,
          1.0912338972091675,
          1.0897883653640748,
          1.0886032819747924,
          1.0890554189682007,
          1.0902997970581054,
          1.0921566963195801,
          1.094739055633545,
          1.1004982709884643,
          1.107154941558838,
          1.112315583229065,
          1.116948628425598,
          1.1212451457977295,
          1.1224589347839355,
          1.120731496810913,
          1.1186829090118409,
          1.1151943922042846,
          1.1116257190704346,
          1.109088397026062,
          1.1059215545654297,
          1.1039003133773804,
          1.1025887250900268,
          1.1017372131347656,
          1.0990528821945191,
          1.098509430885315,
          1.0980776309967042,
          1.0981889724731446,
          1.0972094297409059,
          1.0978798151016236,
          1.0984811305999755,
          1.0973154783248902,
          1.0954499959945678,
          1.0943553924560547,
          1.0922996520996093,
          1.0901596307754517,
          1.0887836933135986,
          1.0885530471801759,
          1.087403416633606,
          1.0872214555740356,
          1.0857112169265748,
          1.084147047996521,
          1.0826911449432373,
          1.0831415176391601,
          1.0844767332077025,
          1.0853760957717895,
          1.0849456310272216,
          1.0843239545822143,
          1.0814629554748536,
          1.0772961139678956,
          1.0743704080581666,
          1.073215413093567,
          1.0723334789276122,
          1.0728755950927735,
          1.0730759143829345,
          1.0718628644943238,
          1.070865797996521,
          1.0697117090225219,
          1.0682873487472535,
          1.0666635513305665,
          1.0671511888504028,
          1.0667558431625366,
          1.0647353887557984,
          1.062484073638916,
          1.0595295667648315,
          1.0575476169586182,
          1.0558825731277464,
          1.0536646366119384,
          1.0517209768295288,
          1.0517562866210937,
          1.0514399051666259,
          1.0514845609664918,
          1.0534470319747924,
          1.056096863746643,
          1.0584410905838013,
          1.0582432746887207,
          1.0573248863220215,
          1.0568336248397827,
          1.0561989784240722,
          1.054483699798584,
          1.0554787158966064,
          1.0568469762802124,
          1.0591578006744384,
          1.0596036672592164,
          1.0601783037185668,
          1.0597376585006715,
          1.0591873407363892,
          1.0580909729003907,
          1.0577659130096435,
          1.0581619501113892,
          1.0592546224594117,
          1.062648558616638,
          1.0647790670394897,
          1.0671191215515137,
          1.0695865392684936,
          1.0705562114715577,
          1.0697163820266724,
          1.0693216800689698,
          1.072965931892395,
          1.0758491039276123,
          1.0795727014541625,
          1.0839101314544677,
          1.088792586326599,
          1.0895907402038574,
          1.0903165817260743,
          1.091367745399475,
          1.092035984992981,
          1.0922854900360108,
          1.0940399169921875,
          1.0956963539123534,
          1.0954112529754638,
          1.094365382194519,
          1.0919520854949951,
          1.0877063512802123,
          1.083566379547119,
          1.0815680503845215,
          1.0791205167770386,
          1.077696943283081,
          1.0777971982955932,
          1.080185866355896,
          1.0842150449752808,
          1.0868049383163452,
          1.089949893951416,
          1.093597412109375,
          1.0947889804840087,
          1.0950406551361085,
          1.09766685962677,
          1.0995954036712647,
          1.1008347272872925,
          1.1040934085845948,
          1.1053335189819335
         ]
        },
        {
         "line": {
          "color": "orange",
          "width": 2
         },
         "mode": "lines",
         "name": "MA15",
         "type": "scatter",
         "x": [
          "2023-01-02T00:00:00",
          "2023-01-03T00:00:00",
          "2023-01-04T00:00:00",
          "2023-01-05T00:00:00",
          "2023-01-06T00:00:00",
          "2023-01-09T00:00:00",
          "2023-01-10T00:00:00",
          "2023-01-11T00:00:00",
          "2023-01-12T00:00:00",
          "2023-01-13T00:00:00",
          "2023-01-16T00:00:00",
          "2023-01-17T00:00:00",
          "2023-01-18T00:00:00",
          "2023-01-19T00:00:00",
          "2023-01-20T00:00:00",
          "2023-01-23T00:00:00",
          "2023-01-24T00:00:00",
          "2023-01-25T00:00:00",
          "2023-01-26T00:00:00",
          "2023-01-27T00:00:00",
          "2023-01-30T00:00:00",
          "2023-01-31T00:00:00",
          "2023-02-01T00:00:00",
          "2023-02-02T00:00:00",
          "2023-02-03T00:00:00",
          "2023-02-06T00:00:00",
          "2023-02-07T00:00:00",
          "2023-02-08T00:00:00",
          "2023-02-09T00:00:00",
          "2023-02-10T00:00:00",
          "2023-02-13T00:00:00",
          "2023-02-14T00:00:00",
          "2023-02-15T00:00:00",
          "2023-02-16T00:00:00",
          "2023-02-17T00:00:00",
          "2023-02-20T00:00:00",
          "2023-02-21T00:00:00",
          "2023-02-22T00:00:00",
          "2023-02-23T00:00:00",
          "2023-02-24T00:00:00",
          "2023-02-27T00:00:00",
          "2023-02-28T00:00:00",
          "2023-03-01T00:00:00",
          "2023-03-02T00:00:00",
          "2023-03-03T00:00:00",
          "2023-03-06T00:00:00",
          "2023-03-07T00:00:00",
          "2023-03-08T00:00:00",
          "2023-03-09T00:00:00",
          "2023-03-10T00:00:00",
          "2023-03-13T00:00:00",
          "2023-03-14T00:00:00",
          "2023-03-15T00:00:00",
          "2023-03-16T00:00:00",
          "2023-03-17T00:00:00",
          "2023-03-20T00:00:00",
          "2023-03-21T00:00:00",
          "2023-03-22T00:00:00",
          "2023-03-23T00:00:00",
          "2023-03-24T00:00:00",
          "2023-03-27T00:00:00",
          "2023-03-28T00:00:00",
          "2023-03-29T00:00:00",
          "2023-03-30T00:00:00",
          "2023-03-31T00:00:00",
          "2023-04-03T00:00:00",
          "2023-04-04T00:00:00",
          "2023-04-05T00:00:00",
          "2023-04-06T00:00:00",
          "2023-04-07T00:00:00",
          "2023-04-10T00:00:00",
          "2023-04-11T00:00:00",
          "2023-04-12T00:00:00",
          "2023-04-13T00:00:00",
          "2023-04-14T00:00:00",
          "2023-04-17T00:00:00",
          "2023-04-18T00:00:00",
          "2023-04-19T00:00:00",
          "2023-04-20T00:00:00",
          "2023-04-21T00:00:00",
          "2023-04-24T00:00:00",
          "2023-04-25T00:00:00",
          "2023-04-26T00:00:00",
          "2023-04-27T00:00:00",
          "2023-04-28T00:00:00",
          "2023-05-01T00:00:00",
          "2023-05-02T00:00:00",
          "2023-05-03T00:00:00",
          "2023-05-04T00:00:00",
          "2023-05-05T00:00:00",
          "2023-05-08T00:00:00",
          "2023-05-09T00:00:00",
          "2023-05-10T00:00:00",
          "2023-05-11T00:00:00",
          "2023-05-12T00:00:00",
          "2023-05-15T00:00:00",
          "2023-05-16T00:00:00",
          "2023-05-17T00:00:00",
          "2023-05-18T00:00:00",
          "2023-05-19T00:00:00",
          "2023-05-22T00:00:00",
          "2023-05-23T00:00:00",
          "2023-05-24T00:00:00",
          "2023-05-25T00:00:00",
          "2023-05-26T00:00:00",
          "2023-05-29T00:00:00",
          "2023-05-30T00:00:00",
          "2023-05-31T00:00:00",
          "2023-06-01T00:00:00",
          "2023-06-02T00:00:00",
          "2023-06-05T00:00:00",
          "2023-06-06T00:00:00",
          "2023-06-07T00:00:00",
          "2023-06-08T00:00:00",
          "2023-06-09T00:00:00",
          "2023-06-12T00:00:00",
          "2023-06-13T00:00:00",
          "2023-06-14T00:00:00",
          "2023-06-15T00:00:00",
          "2023-06-16T00:00:00",
          "2023-06-19T00:00:00",
          "2023-06-20T00:00:00",
          "2023-06-21T00:00:00",
          "2023-06-22T00:00:00",
          "2023-06-23T00:00:00",
          "2023-06-26T00:00:00",
          "2023-06-27T00:00:00",
          "2023-06-28T00:00:00",
          "2023-06-29T00:00:00",
          "2023-06-30T00:00:00",
          "2023-07-03T00:00:00",
          "2023-07-04T00:00:00",
          "2023-07-05T00:00:00",
          "2023-07-06T00:00:00",
          "2023-07-07T00:00:00",
          "2023-07-10T00:00:00",
          "2023-07-11T00:00:00",
          "2023-07-12T00:00:00",
          "2023-07-13T00:00:00",
          "2023-07-14T00:00:00",
          "2023-07-17T00:00:00",
          "2023-07-18T00:00:00",
          "2023-07-19T00:00:00",
          "2023-07-20T00:00:00",
          "2023-07-21T00:00:00",
          "2023-07-24T00:00:00",
          "2023-07-25T00:00:00",
          "2023-07-26T00:00:00",
          "2023-07-27T00:00:00",
          "2023-07-28T00:00:00",
          "2023-07-31T00:00:00",
          "2023-08-01T00:00:00",
          "2023-08-02T00:00:00",
          "2023-08-03T00:00:00",
          "2023-08-04T00:00:00",
          "2023-08-07T00:00:00",
          "2023-08-08T00:00:00",
          "2023-08-09T00:00:00",
          "2023-08-10T00:00:00",
          "2023-08-11T00:00:00",
          "2023-08-14T00:00:00",
          "2023-08-15T00:00:00",
          "2023-08-16T00:00:00",
          "2023-08-17T00:00:00",
          "2023-08-18T00:00:00",
          "2023-08-21T00:00:00",
          "2023-08-22T00:00:00",
          "2023-08-23T00:00:00",
          "2023-08-24T00:00:00",
          "2023-08-25T00:00:00",
          "2023-08-28T00:00:00",
          "2023-08-29T00:00:00",
          "2023-08-30T00:00:00",
          "2023-08-31T00:00:00",
          "2023-09-01T00:00:00",
          "2023-09-04T00:00:00",
          "2023-09-05T00:00:00",
          "2023-09-06T00:00:00",
          "2023-09-07T00:00:00",
          "2023-09-08T00:00:00",
          "2023-09-11T00:00:00",
          "2023-09-12T00:00:00",
          "2023-09-13T00:00:00",
          "2023-09-14T00:00:00",
          "2023-09-15T00:00:00",
          "2023-09-18T00:00:00",
          "2023-09-19T00:00:00",
          "2023-09-20T00:00:00",
          "2023-09-21T00:00:00",
          "2023-09-22T00:00:00",
          "2023-09-25T00:00:00",
          "2023-09-26T00:00:00",
          "2023-09-27T00:00:00",
          "2023-09-28T00:00:00",
          "2023-09-29T00:00:00",
          "2023-10-02T00:00:00",
          "2023-10-03T00:00:00",
          "2023-10-04T00:00:00",
          "2023-10-05T00:00:00",
          "2023-10-06T00:00:00",
          "2023-10-09T00:00:00",
          "2023-10-10T00:00:00",
          "2023-10-11T00:00:00",
          "2023-10-12T00:00:00",
          "2023-10-13T00:00:00",
          "2023-10-16T00:00:00",
          "2023-10-17T00:00:00",
          "2023-10-18T00:00:00",
          "2023-10-19T00:00:00",
          "2023-10-20T00:00:00",
          "2023-10-23T00:00:00",
          "2023-10-24T00:00:00",
          "2023-10-25T00:00:00",
          "2023-10-26T00:00:00",
          "2023-10-27T00:00:00",
          "2023-10-30T00:00:00",
          "2023-10-31T00:00:00",
          "2023-11-01T00:00:00",
          "2023-11-02T00:00:00",
          "2023-11-03T00:00:00",
          "2023-11-06T00:00:00",
          "2023-11-07T00:00:00",
          "2023-11-08T00:00:00",
          "2023-11-09T00:00:00",
          "2023-11-10T00:00:00",
          "2023-11-13T00:00:00",
          "2023-11-14T00:00:00",
          "2023-11-15T00:00:00",
          "2023-11-16T00:00:00",
          "2023-11-17T00:00:00",
          "2023-11-20T00:00:00",
          "2023-11-21T00:00:00",
          "2023-11-22T00:00:00",
          "2023-11-23T00:00:00",
          "2023-11-24T00:00:00",
          "2023-11-27T00:00:00",
          "2023-11-28T00:00:00",
          "2023-11-29T00:00:00",
          "2023-11-30T00:00:00",
          "2023-12-01T00:00:00",
          "2023-12-04T00:00:00",
          "2023-12-05T00:00:00",
          "2023-12-06T00:00:00",
          "2023-12-07T00:00:00",
          "2023-12-08T00:00:00",
          "2023-12-11T00:00:00",
          "2023-12-12T00:00:00",
          "2023-12-13T00:00:00",
          "2023-12-14T00:00:00",
          "2023-12-15T00:00:00",
          "2023-12-18T00:00:00",
          "2023-12-19T00:00:00",
          "2023-12-20T00:00:00",
          "2023-12-21T00:00:00",
          "2023-12-22T00:00:00",
          "2023-12-25T00:00:00",
          "2023-12-26T00:00:00",
          "2023-12-27T00:00:00",
          "2023-12-28T00:00:00",
          "2023-12-29T00:00:00"
         ],
         "y": [
          null,
          null,
          null,
          null,
          null,
          null,
          null,
          null,
          null,
          null,
          null,
          null,
          null,
          null,
          1.0726491530736288,
          1.073684779802958,
          1.0749953031539916,
          1.0772705793380737,
          1.0793750683466594,
          1.0818564971288045,
          1.0832907120386759,
          1.084074115753174,
          1.0848874568939209,
          1.0865331331888834,
          1.0868323723475137,
          1.086607321103414,
          1.0859448909759521,
          1.0855210304260254,
          1.0849741141001383,
          1.0843635082244873,
          1.0831144173940024,
          1.0821552594502768,
          1.081139079729716,
          1.079603870709737,
          1.0780793666839599,
          1.0768326282501222,
          1.0757121324539185,
          1.0743192116419473,
          1.0716055552164714,
          1.0695583740870158,
          1.0679843505223592,
          1.067187285423279,
          1.066171153386434,
          1.0658586661020915,
          1.0649082660675049,
          1.064564847946167,
          1.0642842451731365,
          1.0630511124928792,
          1.0621028979619345,
          1.0615625143051148,
          1.0615571896235148,
          1.06183979511261,
          1.0623441139856975,
          1.0621944506963095,
          1.0623016913731893,
          1.0631290038426717,
          1.063848622639974,
          1.0651614745457967,
          1.066504470507304,
          1.068073304494222,
          1.069086527824402,
          1.0698781490325928,
          1.0718032916386921,
          1.0737640221913656,
          1.0758970260620118,
          1.0766949574152629,
          1.0779433250427246,
          1.079492982228597,
          1.0816262324651083,
          1.083666205406189,
          1.0852310101191203,
          1.0862322171529135,
          1.0871873537699381,
          1.0880506753921508,
          1.0895143588383993,
          1.0909037669499715,
          1.0916924873987834,
          1.0925982316335043,
          1.0933218876520792,
          1.0937637408574423,
          1.0950233141581218,
          1.096004875500997,
          1.0961268027623494,
          1.0970864057540894,
          1.0978325287501016,
          1.0984814325968424,
          1.0991475184758503,
          1.0997702121734618,
          1.1002304474512736,
          1.1000192324320475,
          1.1002331018447875,
          1.100704836845398,
          1.100633430480957,
          1.100845956802368,
          1.100454076131185,
          1.0995235761006674,
          1.098284920056661,
          1.097533408800761,
          1.0961405038833618,
          1.0944294929504395,
          1.0931750535964966,
          1.0921204090118408,
          1.0905124107996622,
          1.0884350061416626,
          1.0864450613657632,
          1.08447425365448,
          1.082551113764445,
          1.0810070991516114,
          1.0790812651316324,
          1.0780722141265868,
          1.0770450353622436,
          1.075965682665507,
          1.074848214785258,
          1.0739755074183146,
          1.0740243117014567,
          1.0735457022984822,
          1.0732253233591715,
          1.0733562390009561,
          1.0739277839660644,
          1.0754045327504476,
          1.0768649339675904,
          1.07830917040507,
          1.0795578320821126,
          1.081540822982788,
          1.082861598332723,
          1.0842486063639323,
          1.085573148727417,
          1.0873009840647379,
          1.0886903047561645,
          1.0892590522766112,
          1.0903027216593424,
          1.0913034598032634,
          1.0919407765070597,
          1.0920310258865356,
          1.0916622797648112,
          1.0918463309605917,
          1.0923905928929647,
          1.093015233675639,
          1.0940279642740884,
          1.0957917372385662,
          1.0979322989781697,
          1.100113073984782,
          1.101924188931783,
          1.103853495915731,
          1.1056472857793171,
          1.107099429766337,
          1.1080999056498209,
          1.109203306833903,
          1.1106818675994874,
          1.1112693309783936,
          1.1116329352060954,
          1.1115772485733033,
          1.1115360260009766,
          1.1102000713348388,
          1.1083874940872191,
          1.1068869511286417,
          1.1053240299224854,
          1.103524120648702,
          1.1020070314407349,
          1.10097070535024,
          1.0997644742329915,
          1.0987425645192463,
          1.0977673451105754,
          1.0964107831319174,
          1.0957167307535807,
          1.0947256008783977,
          1.0940640052159627,
          1.092989412943522,
          1.0924669742584228,
          1.0914506594340005,
          1.0900820732116698,
          1.0888980627059937,
          1.088300108909607,
          1.0879992802937826,
          1.087082314491272,
          1.0859587907791137,
          1.0851893822352092,
          1.0840026299158732,
          1.0829981009165446,
          1.081819240252177,
          1.0807693640391032,
          1.0797828594843546,
          1.0791600227355957,
          1.0782829205195108,
          1.0772031227747598,
          1.0763422807057699,
          1.0754563808441162,
          1.07420863310496,
          1.0723451932271322,
          1.0711281538009643,
          1.0702790180842081,
          1.0689268589019776,
          1.0678823391596477,
          1.0664230108261108,
          1.0655205567677817,
          1.064501404762268,
          1.0627039114634196,
          1.060830799738566,
          1.0593164682388305,
          1.058712903658549,
          1.058040992418925,
          1.0572823524475097,
          1.0567673047383626,
          1.0565756479899089,
          1.0557435989379882,
          1.0548973401387534,
          1.0546484311421713,
          1.0546722730000815,
          1.054893692334493,
          1.055053965250651,
          1.055218807856242,
          1.0564794858296713,
          1.057299836476644,
          1.0577010313669841,
          1.0578198830286663,
          1.0577864011128744,
          1.0580274661382039,
          1.0578561862309774,
          1.0576079845428468,
          1.05815699895223,
          1.0595609585444132,
          1.0606759468714395,
          1.0614962339401246,
          1.06264226436615,
          1.0631828308105469,
          1.0638507604599,
          1.0640639066696167,
          1.0659503221511841,
          1.0678658644358316,
          1.069794511795044,
          1.0720916906992595,
          1.0742977778116862,
          1.0765585978825887,
          1.07858407497406,
          1.0804988861083984,
          1.0818874994913736,
          1.0834665854771932,
          1.0855321963628133,
          1.0872873465220134,
          1.088783899943034,
          1.0901038328806558,
          1.091010053952535,
          1.0904456694920859,
          1.0898597717285157,
          1.0894490162531534,
          1.0885072946548462,
          1.0873115062713623,
          1.0865144888559977,
          1.086482866605123,
          1.0870647827784221,
          1.086763612429301,
          1.086532974243164,
          1.0863669872283936,
          1.0861804087956746,
          1.0869412501653035,
          1.087864104906718,
          1.0890807469685873,
          1.090743112564087,
          1.0930227518081665,
          1.0948630730311075
         ]
        },
        {
         "marker": {
          "color": "green",
          "size": 10,
          "symbol": "triangle-up"
         },
         "mode": "markers",
         "name": "Buy Signal",
         "type": "scatter",
         "x": [
          "2023-03-14T00:00:00",
          "2023-06-13T00:00:00",
          "2023-07-12T00:00:00",
          "2023-10-12T00:00:00",
          "2023-10-20T00:00:00",
          "2023-11-02T00:00:00",
          "2023-12-18T00:00:00"
         ],
         "y": [
          1.0725010633468628,
          1.0762988328933716,
          1.101406455039978,
          1.0624282360076904,
          1.0586491823196411,
          1.05870521068573,
          1.0895264148712158
         ]
        },
        {
         "marker": {
          "color": "red",
          "size": 10,
          "symbol": "triangle-down"
         },
         "mode": "markers",
         "name": "Sell Signal",
         "type": "scatter",
         "x": [
          "2023-02-08T00:00:00",
          "2023-05-11T00:00:00",
          "2023-07-04T00:00:00",
          "2023-07-27T00:00:00",
          "2023-10-19T00:00:00",
          "2023-11-01T00:00:00",
          "2023-12-06T00:00:00"
         ],
         "y": [
          1.0729728937149048,
          1.098406195640564,
          1.091309905052185,
          1.1078368425369265,
          1.053851842880249,
          1.0579099655151367,
          1.0793657302856443
         ]
        }
       ],
       "layout": {
        "showlegend": true,
        "template": {
         "data": {
          "bar": [
           {
            "error_x": {
             "color": "#2a3f5f"
            },
            "error_y": {
             "color": "#2a3f5f"
            },
            "marker": {
             "line": {
              "color": "#E5ECF6",
              "width": 0.5
             },
             "pattern": {
              "fillmode": "overlay",
              "size": 10,
              "solidity": 0.2
             }
            },
            "type": "bar"
           }
          ],
          "barpolar": [
           {
            "marker": {
             "line": {
              "color": "#E5ECF6",
              "width": 0.5
             },
             "pattern": {
              "fillmode": "overlay",
              "size": 10,
              "solidity": 0.2
             }
            },
            "type": "barpolar"
           }
          ],
          "carpet": [
           {
            "aaxis": {
             "endlinecolor": "#2a3f5f",
             "gridcolor": "white",
             "linecolor": "white",
             "minorgridcolor": "white",
             "startlinecolor": "#2a3f5f"
            },
            "baxis": {
             "endlinecolor": "#2a3f5f",
             "gridcolor": "white",
             "linecolor": "white",
             "minorgridcolor": "white",
             "startlinecolor": "#2a3f5f"
            },
            "type": "carpet"
           }
          ],
          "choropleth": [
           {
            "colorbar": {
             "outlinewidth": 0,
             "ticks": ""
            },
            "type": "choropleth"
           }
          ],
          "contour": [
           {
            "colorbar": {
             "outlinewidth": 0,
             "ticks": ""
            },
            "colorscale": [
             [
              0,
              "#0d0887"
             ],
             [
              0.1111111111111111,
              "#46039f"
             ],
             [
              0.2222222222222222,
              "#7201a8"
             ],
             [
              0.3333333333333333,
              "#9c179e"
             ],
             [
              0.4444444444444444,
              "#bd3786"
             ],
             [
              0.5555555555555556,
              "#d8576b"
             ],
             [
              0.6666666666666666,
              "#ed7953"
             ],
             [
              0.7777777777777778,
              "#fb9f3a"
             ],
             [
              0.8888888888888888,
              "#fdca26"
             ],
             [
              1,
              "#f0f921"
             ]
            ],
            "type": "contour"
           }
          ],
          "contourcarpet": [
           {
            "colorbar": {
             "outlinewidth": 0,
             "ticks": ""
            },
            "type": "contourcarpet"
           }
          ],
          "heatmap": [
           {
            "colorbar": {
             "outlinewidth": 0,
             "ticks": ""
            },
            "colorscale": [
             [
              0,
              "#0d0887"
             ],
             [
              0.1111111111111111,
              "#46039f"
             ],
             [
              0.2222222222222222,
              "#7201a8"
             ],
             [
              0.3333333333333333,
              "#9c179e"
             ],
             [
              0.4444444444444444,
              "#bd3786"
             ],
             [
              0.5555555555555556,
              "#d8576b"
             ],
             [
              0.6666666666666666,
              "#ed7953"
             ],
             [
              0.7777777777777778,
              "#fb9f3a"
             ],
             [
              0.8888888888888888,
              "#fdca26"
             ],
             [
              1,
              "#f0f921"
             ]
            ],
            "type": "heatmap"
           }
          ],
          "heatmapgl": [
           {
            "colorbar": {
             "outlinewidth": 0,
             "ticks": ""
            },
            "colorscale": [
             [
              0,
              "#0d0887"
             ],
             [
              0.1111111111111111,
              "#46039f"
             ],
             [
              0.2222222222222222,
              "#7201a8"
             ],
             [
              0.3333333333333333,
              "#9c179e"
             ],
             [
              0.4444444444444444,
              "#bd3786"
             ],
             [
              0.5555555555555556,
              "#d8576b"
             ],
             [
              0.6666666666666666,
              "#ed7953"
             ],
             [
              0.7777777777777778,
              "#fb9f3a"
             ],
             [
              0.8888888888888888,
              "#fdca26"
             ],
             [
              1,
              "#f0f921"
             ]
            ],
            "type": "heatmapgl"
           }
          ],
          "histogram": [
           {
            "marker": {
             "pattern": {
              "fillmode": "overlay",
              "size": 10,
              "solidity": 0.2
             }
            },
            "type": "histogram"
           }
          ],
          "histogram2d": [
           {
            "colorbar": {
             "outlinewidth": 0,
             "ticks": ""
            },
            "colorscale": [
             [
              0,
              "#0d0887"
             ],
             [
              0.1111111111111111,
              "#46039f"
             ],
             [
              0.2222222222222222,
              "#7201a8"
             ],
             [
              0.3333333333333333,
              "#9c179e"
             ],
             [
              0.4444444444444444,
              "#bd3786"
             ],
             [
              0.5555555555555556,
              "#d8576b"
             ],
             [
              0.6666666666666666,
              "#ed7953"
             ],
             [
              0.7777777777777778,
              "#fb9f3a"
             ],
             [
              0.8888888888888888,
              "#fdca26"
             ],
             [
              1,
              "#f0f921"
             ]
            ],
            "type": "histogram2d"
           }
          ],
          "histogram2dcontour": [
           {
            "colorbar": {
             "outlinewidth": 0,
             "ticks": ""
            },
            "colorscale": [
             [
              0,
              "#0d0887"
             ],
             [
              0.1111111111111111,
              "#46039f"
             ],
             [
              0.2222222222222222,
              "#7201a8"
             ],
             [
              0.3333333333333333,
              "#9c179e"
             ],
             [
              0.4444444444444444,
              "#bd3786"
             ],
             [
              0.5555555555555556,
              "#d8576b"
             ],
             [
              0.6666666666666666,
              "#ed7953"
             ],
             [
              0.7777777777777778,
              "#fb9f3a"
             ],
             [
              0.8888888888888888,
              "#fdca26"
             ],
             [
              1,
              "#f0f921"
             ]
            ],
            "type": "histogram2dcontour"
           }
          ],
          "mesh3d": [
           {
            "colorbar": {
             "outlinewidth": 0,
             "ticks": ""
            },
            "type": "mesh3d"
           }
          ],
          "parcoords": [
           {
            "line": {
             "colorbar": {
              "outlinewidth": 0,
              "ticks": ""
             }
            },
            "type": "parcoords"
           }
          ],
          "pie": [
           {
            "automargin": true,
            "type": "pie"
           }
          ],
          "scatter": [
           {
            "fillpattern": {
             "fillmode": "overlay",
             "size": 10,
             "solidity": 0.2
            },
            "type": "scatter"
           }
          ],
          "scatter3d": [
           {
            "line": {
             "colorbar": {
              "outlinewidth": 0,
              "ticks": ""
             }
            },
            "marker": {
             "colorbar": {
              "outlinewidth": 0,
              "ticks": ""
             }
            },
            "type": "scatter3d"
           }
          ],
          "scattercarpet": [
           {
            "marker": {
             "colorbar": {
              "outlinewidth": 0,
              "ticks": ""
             }
            },
            "type": "scattercarpet"
           }
          ],
          "scattergeo": [
           {
            "marker": {
             "colorbar": {
              "outlinewidth": 0,
              "ticks": ""
             }
            },
            "type": "scattergeo"
           }
          ],
          "scattergl": [
           {
            "marker": {
             "colorbar": {
              "outlinewidth": 0,
              "ticks": ""
             }
            },
            "type": "scattergl"
           }
          ],
          "scattermapbox": [
           {
            "marker": {
             "colorbar": {
              "outlinewidth": 0,
              "ticks": ""
             }
            },
            "type": "scattermapbox"
           }
          ],
          "scatterpolar": [
           {
            "marker": {
             "colorbar": {
              "outlinewidth": 0,
              "ticks": ""
             }
            },
            "type": "scatterpolar"
           }
          ],
          "scatterpolargl": [
           {
            "marker": {
             "colorbar": {
              "outlinewidth": 0,
              "ticks": ""
             }
            },
            "type": "scatterpolargl"
           }
          ],
          "scatterternary": [
           {
            "marker": {
             "colorbar": {
              "outlinewidth": 0,
              "ticks": ""
             }
            },
            "type": "scatterternary"
           }
          ],
          "surface": [
           {
            "colorbar": {
             "outlinewidth": 0,
             "ticks": ""
            },
            "colorscale": [
             [
              0,
              "#0d0887"
             ],
             [
              0.1111111111111111,
              "#46039f"
             ],
             [
              0.2222222222222222,
              "#7201a8"
             ],
             [
              0.3333333333333333,
              "#9c179e"
             ],
             [
              0.4444444444444444,
              "#bd3786"
             ],
             [
              0.5555555555555556,
              "#d8576b"
             ],
             [
              0.6666666666666666,
              "#ed7953"
             ],
             [
              0.7777777777777778,
              "#fb9f3a"
             ],
             [
              0.8888888888888888,
              "#fdca26"
             ],
             [
              1,
              "#f0f921"
             ]
            ],
            "type": "surface"
           }
          ],
          "table": [
           {
            "cells": {
             "fill": {
              "color": "#EBF0F8"
             },
             "line": {
              "color": "white"
             }
            },
            "header": {
             "fill": {
              "color": "#C8D4E3"
             },
             "line": {
              "color": "white"
             }
            },
            "type": "table"
           }
          ]
         },
         "layout": {
          "annotationdefaults": {
           "arrowcolor": "#2a3f5f",
           "arrowhead": 0,
           "arrowwidth": 1
          },
          "autotypenumbers": "strict",
          "coloraxis": {
           "colorbar": {
            "outlinewidth": 0,
            "ticks": ""
           }
          },
          "colorscale": {
           "diverging": [
            [
             0,
             "#8e0152"
            ],
            [
             0.1,
             "#c51b7d"
            ],
            [
             0.2,
             "#de77ae"
            ],
            [
             0.3,
             "#f1b6da"
            ],
            [
             0.4,
             "#fde0ef"
            ],
            [
             0.5,
             "#f7f7f7"
            ],
            [
             0.6,
             "#e6f5d0"
            ],
            [
             0.7,
             "#b8e186"
            ],
            [
             0.8,
             "#7fbc41"
            ],
            [
             0.9,
             "#4d9221"
            ],
            [
             1,
             "#276419"
            ]
           ],
           "sequential": [
            [
             0,
             "#0d0887"
            ],
            [
             0.1111111111111111,
             "#46039f"
            ],
            [
             0.2222222222222222,
             "#7201a8"
            ],
            [
             0.3333333333333333,
             "#9c179e"
            ],
            [
             0.4444444444444444,
             "#bd3786"
            ],
            [
             0.5555555555555556,
             "#d8576b"
            ],
            [
             0.6666666666666666,
             "#ed7953"
            ],
            [
             0.7777777777777778,
             "#fb9f3a"
            ],
            [
             0.8888888888888888,
             "#fdca26"
            ],
            [
             1,
             "#f0f921"
            ]
           ],
           "sequentialminus": [
            [
             0,
             "#0d0887"
            ],
            [
             0.1111111111111111,
             "#46039f"
            ],
            [
             0.2222222222222222,
             "#7201a8"
            ],
            [
             0.3333333333333333,
             "#9c179e"
            ],
            [
             0.4444444444444444,
             "#bd3786"
            ],
            [
             0.5555555555555556,
             "#d8576b"
            ],
            [
             0.6666666666666666,
             "#ed7953"
            ],
            [
             0.7777777777777778,
             "#fb9f3a"
            ],
            [
             0.8888888888888888,
             "#fdca26"
            ],
            [
             1,
             "#f0f921"
            ]
           ]
          },
          "colorway": [
           "#636efa",
           "#EF553B",
           "#00cc96",
           "#ab63fa",
           "#FFA15A",
           "#19d3f3",
           "#FF6692",
           "#B6E880",
           "#FF97FF",
           "#FECB52"
          ],
          "font": {
           "color": "#2a3f5f"
          },
          "geo": {
           "bgcolor": "white",
           "lakecolor": "white",
           "landcolor": "#E5ECF6",
           "showlakes": true,
           "showland": true,
           "subunitcolor": "white"
          },
          "hoverlabel": {
           "align": "left"
          },
          "hovermode": "closest",
          "mapbox": {
           "style": "light"
          },
          "paper_bgcolor": "white",
          "plot_bgcolor": "#E5ECF6",
          "polar": {
           "angularaxis": {
            "gridcolor": "white",
            "linecolor": "white",
            "ticks": ""
           },
           "bgcolor": "#E5ECF6",
           "radialaxis": {
            "gridcolor": "white",
            "linecolor": "white",
            "ticks": ""
           }
          },
          "scene": {
           "xaxis": {
            "backgroundcolor": "#E5ECF6",
            "gridcolor": "white",
            "gridwidth": 2,
            "linecolor": "white",
            "showbackground": true,
            "ticks": "",
            "zerolinecolor": "white"
           },
           "yaxis": {
            "backgroundcolor": "#E5ECF6",
            "gridcolor": "white",
            "gridwidth": 2,
            "linecolor": "white",
            "showbackground": true,
            "ticks": "",
            "zerolinecolor": "white"
           },
           "zaxis": {
            "backgroundcolor": "#E5ECF6",
            "gridcolor": "white",
            "gridwidth": 2,
            "linecolor": "white",
            "showbackground": true,
            "ticks": "",
            "zerolinecolor": "white"
           }
          },
          "shapedefaults": {
           "line": {
            "color": "#2a3f5f"
           }
          },
          "ternary": {
           "aaxis": {
            "gridcolor": "white",
            "linecolor": "white",
            "ticks": ""
           },
           "baxis": {
            "gridcolor": "white",
            "linecolor": "white",
            "ticks": ""
           },
           "bgcolor": "#E5ECF6",
           "caxis": {
            "gridcolor": "white",
            "linecolor": "white",
            "ticks": ""
           }
          },
          "title": {
           "x": 0.05
          },
          "xaxis": {
           "automargin": true,
           "gridcolor": "white",
           "linecolor": "white",
           "ticks": "",
           "title": {
            "standoff": 15
           },
           "zerolinecolor": "white",
           "zerolinewidth": 2
          },
          "yaxis": {
           "automargin": true,
           "gridcolor": "white",
           "linecolor": "white",
           "ticks": "",
           "title": {
            "standoff": 15
           },
           "zerolinecolor": "white",
           "zerolinewidth": 2
          }
         }
        },
        "title": {
         "text": "Moving Average (MA) and Trading Signals"
        },
        "xaxis": {
         "rangeslider": {
          "visible": false
         },
         "title": {
          "text": "Date"
         }
        },
        "yaxis": {
         "title": {
          "text": "Price"
         }
        }
       }
      },
      "text/html": [
       "<div>                            <div id=\"286e5d05-2a2f-4f6d-bfc8-e5d79f065bce\" class=\"plotly-graph-div\" style=\"height:525px; width:100%;\"></div>            <script type=\"text/javascript\">                require([\"plotly\"], function(Plotly) {                    window.PLOTLYENV=window.PLOTLYENV || {};                                    if (document.getElementById(\"286e5d05-2a2f-4f6d-bfc8-e5d79f065bce\")) {                    Plotly.newPlot(                        \"286e5d05-2a2f-4f6d-bfc8-e5d79f065bce\",                        [{\"line\":{\"color\":\"lightblue\",\"width\":3},\"mode\":\"lines\",\"name\":\"Close Price\",\"x\":[\"2023-01-02T00:00:00\",\"2023-01-03T00:00:00\",\"2023-01-04T00:00:00\",\"2023-01-05T00:00:00\",\"2023-01-06T00:00:00\",\"2023-01-09T00:00:00\",\"2023-01-10T00:00:00\",\"2023-01-11T00:00:00\",\"2023-01-12T00:00:00\",\"2023-01-13T00:00:00\",\"2023-01-16T00:00:00\",\"2023-01-17T00:00:00\",\"2023-01-18T00:00:00\",\"2023-01-19T00:00:00\",\"2023-01-20T00:00:00\",\"2023-01-23T00:00:00\",\"2023-01-24T00:00:00\",\"2023-01-25T00:00:00\",\"2023-01-26T00:00:00\",\"2023-01-27T00:00:00\",\"2023-01-30T00:00:00\",\"2023-01-31T00:00:00\",\"2023-02-01T00:00:00\",\"2023-02-02T00:00:00\",\"2023-02-03T00:00:00\",\"2023-02-06T00:00:00\",\"2023-02-07T00:00:00\",\"2023-02-08T00:00:00\",\"2023-02-09T00:00:00\",\"2023-02-10T00:00:00\",\"2023-02-13T00:00:00\",\"2023-02-14T00:00:00\",\"2023-02-15T00:00:00\",\"2023-02-16T00:00:00\",\"2023-02-17T00:00:00\",\"2023-02-20T00:00:00\",\"2023-02-21T00:00:00\",\"2023-02-22T00:00:00\",\"2023-02-23T00:00:00\",\"2023-02-24T00:00:00\",\"2023-02-27T00:00:00\",\"2023-02-28T00:00:00\",\"2023-03-01T00:00:00\",\"2023-03-02T00:00:00\",\"2023-03-03T00:00:00\",\"2023-03-06T00:00:00\",\"2023-03-07T00:00:00\",\"2023-03-08T00:00:00\",\"2023-03-09T00:00:00\",\"2023-03-10T00:00:00\",\"2023-03-13T00:00:00\",\"2023-03-14T00:00:00\",\"2023-03-15T00:00:00\",\"2023-03-16T00:00:00\",\"2023-03-17T00:00:00\",\"2023-03-20T00:00:00\",\"2023-03-21T00:00:00\",\"2023-03-22T00:00:00\",\"2023-03-23T00:00:00\",\"2023-03-24T00:00:00\",\"2023-03-27T00:00:00\",\"2023-03-28T00:00:00\",\"2023-03-29T00:00:00\",\"2023-03-30T00:00:00\",\"2023-03-31T00:00:00\",\"2023-04-03T00:00:00\",\"2023-04-04T00:00:00\",\"2023-04-05T00:00:00\",\"2023-04-06T00:00:00\",\"2023-04-07T00:00:00\",\"2023-04-10T00:00:00\",\"2023-04-11T00:00:00\",\"2023-04-12T00:00:00\",\"2023-04-13T00:00:00\",\"2023-04-14T00:00:00\",\"2023-04-17T00:00:00\",\"2023-04-18T00:00:00\",\"2023-04-19T00:00:00\",\"2023-04-20T00:00:00\",\"2023-04-21T00:00:00\",\"2023-04-24T00:00:00\",\"2023-04-25T00:00:00\",\"2023-04-26T00:00:00\",\"2023-04-27T00:00:00\",\"2023-04-28T00:00:00\",\"2023-05-01T00:00:00\",\"2023-05-02T00:00:00\",\"2023-05-03T00:00:00\",\"2023-05-04T00:00:00\",\"2023-05-05T00:00:00\",\"2023-05-08T00:00:00\",\"2023-05-09T00:00:00\",\"2023-05-10T00:00:00\",\"2023-05-11T00:00:00\",\"2023-05-12T00:00:00\",\"2023-05-15T00:00:00\",\"2023-05-16T00:00:00\",\"2023-05-17T00:00:00\",\"2023-05-18T00:00:00\",\"2023-05-19T00:00:00\",\"2023-05-22T00:00:00\",\"2023-05-23T00:00:00\",\"2023-05-24T00:00:00\",\"2023-05-25T00:00:00\",\"2023-05-26T00:00:00\",\"2023-05-29T00:00:00\",\"2023-05-30T00:00:00\",\"2023-05-31T00:00:00\",\"2023-06-01T00:00:00\",\"2023-06-02T00:00:00\",\"2023-06-05T00:00:00\",\"2023-06-06T00:00:00\",\"2023-06-07T00:00:00\",\"2023-06-08T00:00:00\",\"2023-06-09T00:00:00\",\"2023-06-12T00:00:00\",\"2023-06-13T00:00:00\",\"2023-06-14T00:00:00\",\"2023-06-15T00:00:00\",\"2023-06-16T00:00:00\",\"2023-06-19T00:00:00\",\"2023-06-20T00:00:00\",\"2023-06-21T00:00:00\",\"2023-06-22T00:00:00\",\"2023-06-23T00:00:00\",\"2023-06-26T00:00:00\",\"2023-06-27T00:00:00\",\"2023-06-28T00:00:00\",\"2023-06-29T00:00:00\",\"2023-06-30T00:00:00\",\"2023-07-03T00:00:00\",\"2023-07-04T00:00:00\",\"2023-07-05T00:00:00\",\"2023-07-06T00:00:00\",\"2023-07-07T00:00:00\",\"2023-07-10T00:00:00\",\"2023-07-11T00:00:00\",\"2023-07-12T00:00:00\",\"2023-07-13T00:00:00\",\"2023-07-14T00:00:00\",\"2023-07-17T00:00:00\",\"2023-07-18T00:00:00\",\"2023-07-19T00:00:00\",\"2023-07-20T00:00:00\",\"2023-07-21T00:00:00\",\"2023-07-24T00:00:00\",\"2023-07-25T00:00:00\",\"2023-07-26T00:00:00\",\"2023-07-27T00:00:00\",\"2023-07-28T00:00:00\",\"2023-07-31T00:00:00\",\"2023-08-01T00:00:00\",\"2023-08-02T00:00:00\",\"2023-08-03T00:00:00\",\"2023-08-04T00:00:00\",\"2023-08-07T00:00:00\",\"2023-08-08T00:00:00\",\"2023-08-09T00:00:00\",\"2023-08-10T00:00:00\",\"2023-08-11T00:00:00\",\"2023-08-14T00:00:00\",\"2023-08-15T00:00:00\",\"2023-08-16T00:00:00\",\"2023-08-17T00:00:00\",\"2023-08-18T00:00:00\",\"2023-08-21T00:00:00\",\"2023-08-22T00:00:00\",\"2023-08-23T00:00:00\",\"2023-08-24T00:00:00\",\"2023-08-25T00:00:00\",\"2023-08-28T00:00:00\",\"2023-08-29T00:00:00\",\"2023-08-30T00:00:00\",\"2023-08-31T00:00:00\",\"2023-09-01T00:00:00\",\"2023-09-04T00:00:00\",\"2023-09-05T00:00:00\",\"2023-09-06T00:00:00\",\"2023-09-07T00:00:00\",\"2023-09-08T00:00:00\",\"2023-09-11T00:00:00\",\"2023-09-12T00:00:00\",\"2023-09-13T00:00:00\",\"2023-09-14T00:00:00\",\"2023-09-15T00:00:00\",\"2023-09-18T00:00:00\",\"2023-09-19T00:00:00\",\"2023-09-20T00:00:00\",\"2023-09-21T00:00:00\",\"2023-09-22T00:00:00\",\"2023-09-25T00:00:00\",\"2023-09-26T00:00:00\",\"2023-09-27T00:00:00\",\"2023-09-28T00:00:00\",\"2023-09-29T00:00:00\",\"2023-10-02T00:00:00\",\"2023-10-03T00:00:00\",\"2023-10-04T00:00:00\",\"2023-10-05T00:00:00\",\"2023-10-06T00:00:00\",\"2023-10-09T00:00:00\",\"2023-10-10T00:00:00\",\"2023-10-11T00:00:00\",\"2023-10-12T00:00:00\",\"2023-10-13T00:00:00\",\"2023-10-16T00:00:00\",\"2023-10-17T00:00:00\",\"2023-10-18T00:00:00\",\"2023-10-19T00:00:00\",\"2023-10-20T00:00:00\",\"2023-10-23T00:00:00\",\"2023-10-24T00:00:00\",\"2023-10-25T00:00:00\",\"2023-10-26T00:00:00\",\"2023-10-27T00:00:00\",\"2023-10-30T00:00:00\",\"2023-10-31T00:00:00\",\"2023-11-01T00:00:00\",\"2023-11-02T00:00:00\",\"2023-11-03T00:00:00\",\"2023-11-06T00:00:00\",\"2023-11-07T00:00:00\",\"2023-11-08T00:00:00\",\"2023-11-09T00:00:00\",\"2023-11-10T00:00:00\",\"2023-11-13T00:00:00\",\"2023-11-14T00:00:00\",\"2023-11-15T00:00:00\",\"2023-11-16T00:00:00\",\"2023-11-17T00:00:00\",\"2023-11-20T00:00:00\",\"2023-11-21T00:00:00\",\"2023-11-22T00:00:00\",\"2023-11-23T00:00:00\",\"2023-11-24T00:00:00\",\"2023-11-27T00:00:00\",\"2023-11-28T00:00:00\",\"2023-11-29T00:00:00\",\"2023-11-30T00:00:00\",\"2023-12-01T00:00:00\",\"2023-12-04T00:00:00\",\"2023-12-05T00:00:00\",\"2023-12-06T00:00:00\",\"2023-12-07T00:00:00\",\"2023-12-08T00:00:00\",\"2023-12-11T00:00:00\",\"2023-12-12T00:00:00\",\"2023-12-13T00:00:00\",\"2023-12-14T00:00:00\",\"2023-12-15T00:00:00\",\"2023-12-18T00:00:00\",\"2023-12-19T00:00:00\",\"2023-12-20T00:00:00\",\"2023-12-21T00:00:00\",\"2023-12-22T00:00:00\",\"2023-12-25T00:00:00\",\"2023-12-26T00:00:00\",\"2023-12-27T00:00:00\",\"2023-12-28T00:00:00\",\"2023-12-29T00:00:00\"],\"y\":[1.0709733963012695,1.0677714347839355,1.0546854734420776,1.0606365203857422,1.0522217750549316,1.0656323432922363,1.073318362236023,1.0738946199417114,1.0766000747680664,1.0860239267349243,1.082461953163147,1.083012938499451,1.0793308019638062,1.0797853469848633,1.083388328552246,1.086507797241211,1.0874292850494385,1.088814616203308,1.0922038555145264,1.0894432067871094,1.0871455669403076,1.0850694179534912,1.0860947370529177,1.1012852191925049,1.09051251411438,1.079086184501648,1.0730764865875244,1.0729728937149048,1.0715816020965576,1.0742292404174805,1.0677714347839355,1.073041915893555,1.0735719203948977,1.0691757202148438,1.0665756464004517,1.0684444904327393,1.068261981010437,1.065200924873352,1.0605803728103638,1.0598047971725464,1.055475831031799,1.0611205101013184,1.0577309131622314,1.066894292831421,1.0599732398986816,1.0626201629638672,1.0688328742980957,1.05507493019104,1.0549525022506714,1.0584698915481567,1.0683646202087402,1.0725010633468628,1.0727657079696655,1.0583354234695437,1.0614134073257446,1.0678855180740356,1.071914792060852,1.0774236917495728,1.0870392322540283,1.0835057497024536,1.077818512916565,1.0807071924209597,1.0839520692825315,1.0843634605407717,1.0904649496078491,1.080333590507507,1.091226577758789,1.0960105657577517,1.090334177017212,1.0920130014419556,1.0913575887680054,1.086932897567749,1.0917507410049438,1.0999890565872192,1.1054610013961792,1.098659634590149,1.0925379991531372,1.0975382328033447,1.095218300819397,1.0970927476882937,1.0992271900177002,1.1059499979019165,1.0978394746780396,1.1047282218933103,1.1032048463821411,1.1010911464691162,1.0969241857528689,1.1010911464691162,1.1068925857543943,1.102292776107788,1.10186767578125,1.0996140241622925,1.096467137336731,1.098406195640564,1.0912145376205444,1.0852696895599363,1.0873701572418213,1.0865668058395386,1.0838346481323242,1.0775396823883057,1.0822745561599731,1.0811045169830322,1.076971173286438,1.0757315158843994,1.072443604469299,1.0723055601119995,1.0707669258117676,1.073306918144226,1.0695186853408811,1.0760787725448608,1.0698620080947876,1.0711798667907717,1.0698047876358032,1.0707440376281738,1.078271746635437,1.0750954151153564,1.0762988328933716,1.078934907913208,1.084304690361023,1.0945948362350464,1.0942115783691406,1.0924304723739624,1.0920368432998655,1.0992635488510132,1.0958904027938845,1.0906671285629272,1.091048002243042,1.0957223176956177,1.0915838479995728,1.086802959442139,1.0907504558563232,1.091309905052185,1.0884946584701538,1.0856584310531616,1.0890636444091797,1.0969723463058472,1.100594401359558,1.101406455039978,1.1144545078277588,1.1223469972610474,1.1227755546569824,1.123759627342224,1.1228890419006348,1.120523452758789,1.113709807395935,1.112532615661621,1.1063170433044434,1.1050456762313845,1.1078368425369265,1.0978755950927734,1.1024264097213743,1.0997591018676758,1.100788116455078,1.0944151878356934,1.095158338546753,1.1002674102783203,1.100315809249878,1.0958904027938845,1.0977671146392822,1.0981649160385132,1.094439148902893,1.0909883975982666,1.0904173851013184,1.0874884128570557,1.0874648094177246,1.087559461593628,1.0898351669311523,1.0846692323684692,1.086578607559204,1.07991361618042,1.0797386169433594,1.082555651664734,1.0869210958480835,1.0932546854019165,1.0844104290008545,1.07758629322052,1.0794472694396973,1.0726161003112793,1.0724204778671265,1.0697818994522097,1.071811318397522,1.0750375986099243,1.075326681137085,1.073422074317932,1.0637166500091553,1.0668259859085083,1.0692671537399292,1.0682048797607422,1.065303087234497,1.0661548376083374,1.0648492574691772,1.0591648817062378,1.0569483041763306,1.0505305528640747,1.0562450885772705,1.0565240383148191,1.0480751991271973,1.0472300052642822,1.0507071018218994,1.0546631813049316,1.056747317314148,1.0578875541687012,1.0604791641235352,1.0624282360076904,1.0536741018295288,1.052155375480652,1.055431246757507,1.057305932044983,1.053851842880249,1.0586491823196411,1.0589966773986816,1.0669853687286377,1.059535264968872,1.056725025177002,1.0564459562301636,1.0562450885772705,1.061503529548645,1.0579099655151367,1.05870521068573,1.061909317970276,1.073214769363403,1.0721560716629028,1.0696102380752563,1.07104229927063,1.0667576789855957,1.069015622138977,1.0701825618743896,1.0878314971923828,1.0854581594467163,1.0853756666183472,1.090702772140503,1.0945948362350464,1.0918222665786743,1.0890873670578003,1.0906314849853516,1.0940439701080322,1.095842361450195,1.100594401359558,1.0973695516586304,1.089205980300903,1.088814616203308,1.0837758779525757,1.0793657302856443,1.076669692993164,1.079214334487915,1.0765769481658936,1.076658010482788,1.0798670053482056,1.0886130332946775,1.0993602275848389,1.0895264148712158,1.092382788658142,1.0981045961380005,1.094570875167847,1.100618600845337,1.102657437324524,1.1020255088806152,1.1043012142181396,1.110864281654358,1.1068191528320312],\"type\":\"scatter\"},{\"line\":{\"color\":\"purple\",\"width\":2},\"mode\":\"lines\",\"name\":\"MA5\",\"x\":[\"2023-01-02T00:00:00\",\"2023-01-03T00:00:00\",\"2023-01-04T00:00:00\",\"2023-01-05T00:00:00\",\"2023-01-06T00:00:00\",\"2023-01-09T00:00:00\",\"2023-01-10T00:00:00\",\"2023-01-11T00:00:00\",\"2023-01-12T00:00:00\",\"2023-01-13T00:00:00\",\"2023-01-16T00:00:00\",\"2023-01-17T00:00:00\",\"2023-01-18T00:00:00\",\"2023-01-19T00:00:00\",\"2023-01-20T00:00:00\",\"2023-01-23T00:00:00\",\"2023-01-24T00:00:00\",\"2023-01-25T00:00:00\",\"2023-01-26T00:00:00\",\"2023-01-27T00:00:00\",\"2023-01-30T00:00:00\",\"2023-01-31T00:00:00\",\"2023-02-01T00:00:00\",\"2023-02-02T00:00:00\",\"2023-02-03T00:00:00\",\"2023-02-06T00:00:00\",\"2023-02-07T00:00:00\",\"2023-02-08T00:00:00\",\"2023-02-09T00:00:00\",\"2023-02-10T00:00:00\",\"2023-02-13T00:00:00\",\"2023-02-14T00:00:00\",\"2023-02-15T00:00:00\",\"2023-02-16T00:00:00\",\"2023-02-17T00:00:00\",\"2023-02-20T00:00:00\",\"2023-02-21T00:00:00\",\"2023-02-22T00:00:00\",\"2023-02-23T00:00:00\",\"2023-02-24T00:00:00\",\"2023-02-27T00:00:00\",\"2023-02-28T00:00:00\",\"2023-03-01T00:00:00\",\"2023-03-02T00:00:00\",\"2023-03-03T00:00:00\",\"2023-03-06T00:00:00\",\"2023-03-07T00:00:00\",\"2023-03-08T00:00:00\",\"2023-03-09T00:00:00\",\"2023-03-10T00:00:00\",\"2023-03-13T00:00:00\",\"2023-03-14T00:00:00\",\"2023-03-15T00:00:00\",\"2023-03-16T00:00:00\",\"2023-03-17T00:00:00\",\"2023-03-20T00:00:00\",\"2023-03-21T00:00:00\",\"2023-03-22T00:00:00\",\"2023-03-23T00:00:00\",\"2023-03-24T00:00:00\",\"2023-03-27T00:00:00\",\"2023-03-28T00:00:00\",\"2023-03-29T00:00:00\",\"2023-03-30T00:00:00\",\"2023-03-31T00:00:00\",\"2023-04-03T00:00:00\",\"2023-04-04T00:00:00\",\"2023-04-05T00:00:00\",\"2023-04-06T00:00:00\",\"2023-04-07T00:00:00\",\"2023-04-10T00:00:00\",\"2023-04-11T00:00:00\",\"2023-04-12T00:00:00\",\"2023-04-13T00:00:00\",\"2023-04-14T00:00:00\",\"2023-04-17T00:00:00\",\"2023-04-18T00:00:00\",\"2023-04-19T00:00:00\",\"2023-04-20T00:00:00\",\"2023-04-21T00:00:00\",\"2023-04-24T00:00:00\",\"2023-04-25T00:00:00\",\"2023-04-26T00:00:00\",\"2023-04-27T00:00:00\",\"2023-04-28T00:00:00\",\"2023-05-01T00:00:00\",\"2023-05-02T00:00:00\",\"2023-05-03T00:00:00\",\"2023-05-04T00:00:00\",\"2023-05-05T00:00:00\",\"2023-05-08T00:00:00\",\"2023-05-09T00:00:00\",\"2023-05-10T00:00:00\",\"2023-05-11T00:00:00\",\"2023-05-12T00:00:00\",\"2023-05-15T00:00:00\",\"2023-05-16T00:00:00\",\"2023-05-17T00:00:00\",\"2023-05-18T00:00:00\",\"2023-05-19T00:00:00\",\"2023-05-22T00:00:00\",\"2023-05-23T00:00:00\",\"2023-05-24T00:00:00\",\"2023-05-25T00:00:00\",\"2023-05-26T00:00:00\",\"2023-05-29T00:00:00\",\"2023-05-30T00:00:00\",\"2023-05-31T00:00:00\",\"2023-06-01T00:00:00\",\"2023-06-02T00:00:00\",\"2023-06-05T00:00:00\",\"2023-06-06T00:00:00\",\"2023-06-07T00:00:00\",\"2023-06-08T00:00:00\",\"2023-06-09T00:00:00\",\"2023-06-12T00:00:00\",\"2023-06-13T00:00:00\",\"2023-06-14T00:00:00\",\"2023-06-15T00:00:00\",\"2023-06-16T00:00:00\",\"2023-06-19T00:00:00\",\"2023-06-20T00:00:00\",\"2023-06-21T00:00:00\",\"2023-06-22T00:00:00\",\"2023-06-23T00:00:00\",\"2023-06-26T00:00:00\",\"2023-06-27T00:00:00\",\"2023-06-28T00:00:00\",\"2023-06-29T00:00:00\",\"2023-06-30T00:00:00\",\"2023-07-03T00:00:00\",\"2023-07-04T00:00:00\",\"2023-07-05T00:00:00\",\"2023-07-06T00:00:00\",\"2023-07-07T00:00:00\",\"2023-07-10T00:00:00\",\"2023-07-11T00:00:00\",\"2023-07-12T00:00:00\",\"2023-07-13T00:00:00\",\"2023-07-14T00:00:00\",\"2023-07-17T00:00:00\",\"2023-07-18T00:00:00\",\"2023-07-19T00:00:00\",\"2023-07-20T00:00:00\",\"2023-07-21T00:00:00\",\"2023-07-24T00:00:00\",\"2023-07-25T00:00:00\",\"2023-07-26T00:00:00\",\"2023-07-27T00:00:00\",\"2023-07-28T00:00:00\",\"2023-07-31T00:00:00\",\"2023-08-01T00:00:00\",\"2023-08-02T00:00:00\",\"2023-08-03T00:00:00\",\"2023-08-04T00:00:00\",\"2023-08-07T00:00:00\",\"2023-08-08T00:00:00\",\"2023-08-09T00:00:00\",\"2023-08-10T00:00:00\",\"2023-08-11T00:00:00\",\"2023-08-14T00:00:00\",\"2023-08-15T00:00:00\",\"2023-08-16T00:00:00\",\"2023-08-17T00:00:00\",\"2023-08-18T00:00:00\",\"2023-08-21T00:00:00\",\"2023-08-22T00:00:00\",\"2023-08-23T00:00:00\",\"2023-08-24T00:00:00\",\"2023-08-25T00:00:00\",\"2023-08-28T00:00:00\",\"2023-08-29T00:00:00\",\"2023-08-30T00:00:00\",\"2023-08-31T00:00:00\",\"2023-09-01T00:00:00\",\"2023-09-04T00:00:00\",\"2023-09-05T00:00:00\",\"2023-09-06T00:00:00\",\"2023-09-07T00:00:00\",\"2023-09-08T00:00:00\",\"2023-09-11T00:00:00\",\"2023-09-12T00:00:00\",\"2023-09-13T00:00:00\",\"2023-09-14T00:00:00\",\"2023-09-15T00:00:00\",\"2023-09-18T00:00:00\",\"2023-09-19T00:00:00\",\"2023-09-20T00:00:00\",\"2023-09-21T00:00:00\",\"2023-09-22T00:00:00\",\"2023-09-25T00:00:00\",\"2023-09-26T00:00:00\",\"2023-09-27T00:00:00\",\"2023-09-28T00:00:00\",\"2023-09-29T00:00:00\",\"2023-10-02T00:00:00\",\"2023-10-03T00:00:00\",\"2023-10-04T00:00:00\",\"2023-10-05T00:00:00\",\"2023-10-06T00:00:00\",\"2023-10-09T00:00:00\",\"2023-10-10T00:00:00\",\"2023-10-11T00:00:00\",\"2023-10-12T00:00:00\",\"2023-10-13T00:00:00\",\"2023-10-16T00:00:00\",\"2023-10-17T00:00:00\",\"2023-10-18T00:00:00\",\"2023-10-19T00:00:00\",\"2023-10-20T00:00:00\",\"2023-10-23T00:00:00\",\"2023-10-24T00:00:00\",\"2023-10-25T00:00:00\",\"2023-10-26T00:00:00\",\"2023-10-27T00:00:00\",\"2023-10-30T00:00:00\",\"2023-10-31T00:00:00\",\"2023-11-01T00:00:00\",\"2023-11-02T00:00:00\",\"2023-11-03T00:00:00\",\"2023-11-06T00:00:00\",\"2023-11-07T00:00:00\",\"2023-11-08T00:00:00\",\"2023-11-09T00:00:00\",\"2023-11-10T00:00:00\",\"2023-11-13T00:00:00\",\"2023-11-14T00:00:00\",\"2023-11-15T00:00:00\",\"2023-11-16T00:00:00\",\"2023-11-17T00:00:00\",\"2023-11-20T00:00:00\",\"2023-11-21T00:00:00\",\"2023-11-22T00:00:00\",\"2023-11-23T00:00:00\",\"2023-11-24T00:00:00\",\"2023-11-27T00:00:00\",\"2023-11-28T00:00:00\",\"2023-11-29T00:00:00\",\"2023-11-30T00:00:00\",\"2023-12-01T00:00:00\",\"2023-12-04T00:00:00\",\"2023-12-05T00:00:00\",\"2023-12-06T00:00:00\",\"2023-12-07T00:00:00\",\"2023-12-08T00:00:00\",\"2023-12-11T00:00:00\",\"2023-12-12T00:00:00\",\"2023-12-13T00:00:00\",\"2023-12-14T00:00:00\",\"2023-12-15T00:00:00\",\"2023-12-18T00:00:00\",\"2023-12-19T00:00:00\",\"2023-12-20T00:00:00\",\"2023-12-21T00:00:00\",\"2023-12-22T00:00:00\",\"2023-12-25T00:00:00\",\"2023-12-26T00:00:00\",\"2023-12-27T00:00:00\",\"2023-12-28T00:00:00\",\"2023-12-29T00:00:00\"],\"y\":[null,null,null,null,1.0612577199935913,1.0601895093917846,1.0612988948822022,1.065140724182129,1.0683334350585938,1.0750938653945923,1.0784597873687745,1.0803987026214599,1.0814859390258789,1.0821229934692382,1.0815958738327027,1.0824050426483154,1.083288311958313,1.0851850748062133,1.087668776512146,1.0888797521591187,1.089007306098938,1.0885353326797484,1.0879913568496704,1.0898076295852661,1.0900214910507204,1.0884096145629885,1.086011028289795,1.0833866596221924,1.0774459362030029,1.0741892814636231,1.0719263315200807,1.0719194173812867,1.0720392227172852,1.0715580463409424,1.0700273275375367,1.0701619386672974,1.0692059516906738,1.0675317525863648,1.0658126831054688,1.0644585132598876,1.0618647813796998,1.060436487197876,1.058942484855652,1.0602052688598633,1.0602389574050903,1.0616678237915038,1.0632102966308594,1.0626791000366211,1.0602907419204712,1.0599900722503661,1.061138963699341,1.0618726015090942,1.0654107570648192,1.0660873413085938,1.0666760444641112,1.0665802240371705,1.0664629697799684,1.0673945665359497,1.0731353282928466,1.0775537967681885,1.0795403957366942,1.0812988758087159,1.0826045513153075,1.0820693969726562,1.0834612369537353,1.0839642524719237,1.0860681295394898,1.0884798288345336,1.0896739721298219,1.089983582496643,1.0921883821487426,1.0913296461105346,1.0904776811599732,1.0924086570739746,1.0950982570648193,1.0965586662292481,1.0976796865463256,1.098837184906006,1.0978830337524415,1.0962093830108643,1.0963228940963745,1.0990052938461303,1.0990655422210693,1.100967526435852,1.1021899461746216,1.1025627374649047,1.1007575750350953,1.1014079093933105,1.1018407821655274,1.1016583681106566,1.1018136739730835,1.1023516416549684,1.1014268398284912,1.099729561805725,1.0975139141082764,1.0941943168640136,1.0917455434799195,1.089765477180481,1.086851167678833,1.0841161966323853,1.0835171699523927,1.0822640419006349,1.0803449153900146,1.0787242889404296,1.0777050733566285,1.0757112741470336,1.0736437559127807,1.0729109048843384,1.0716683387756347,1.0723953723907471,1.0719066619873048,1.0719892501831054,1.071288824081421,1.0715338945388795,1.0719724893569946,1.0730191707611083,1.0740429639816285,1.0758689880371093,1.078581118583679,1.0818457365036012,1.085668969154358,1.0888952970504762,1.0915156841278075,1.0945074558258057,1.0947665691375732,1.0940576791763306,1.0937811851501464,1.094518280029297,1.0929823398590088,1.0911648511886596,1.0911815166473389,1.0912338972091675,1.0897883653640748,1.0886032819747924,1.0890554189682007,1.0902997970581054,1.0921566963195801,1.094739055633545,1.1004982709884643,1.107154941558838,1.112315583229065,1.116948628425598,1.1212451457977295,1.1224589347839355,1.120731496810913,1.1186829090118409,1.1151943922042846,1.1116257190704346,1.109088397026062,1.1059215545654297,1.1039003133773804,1.1025887250900268,1.1017372131347656,1.0990528821945191,1.098509430885315,1.0980776309967042,1.0981889724731446,1.0972094297409059,1.0978798151016236,1.0984811305999755,1.0973154783248902,1.0954499959945678,1.0943553924560547,1.0922996520996093,1.0901596307754517,1.0887836933135986,1.0885530471801759,1.087403416633606,1.0872214555740356,1.0857112169265748,1.084147047996521,1.0826911449432373,1.0831415176391601,1.0844767332077025,1.0853760957717895,1.0849456310272216,1.0843239545822143,1.0814629554748536,1.0772961139678956,1.0743704080581666,1.073215413093567,1.0723334789276122,1.0728755950927735,1.0730759143829345,1.0718628644943238,1.070865797996521,1.0697117090225219,1.0682873487472535,1.0666635513305665,1.0671511888504028,1.0667558431625366,1.0647353887557984,1.062484073638916,1.0595295667648315,1.0575476169586182,1.0558825731277464,1.0536646366119384,1.0517209768295288,1.0517562866210937,1.0514399051666259,1.0514845609664918,1.0534470319747924,1.056096863746643,1.0584410905838013,1.0582432746887207,1.0573248863220215,1.0568336248397827,1.0561989784240722,1.054483699798584,1.0554787158966064,1.0568469762802124,1.0591578006744384,1.0596036672592164,1.0601783037185668,1.0597376585006715,1.0591873407363892,1.0580909729003907,1.0577659130096435,1.0581619501113892,1.0592546224594117,1.062648558616638,1.0647790670394897,1.0671191215515137,1.0695865392684936,1.0705562114715577,1.0697163820266724,1.0693216800689698,1.072965931892395,1.0758491039276123,1.0795727014541625,1.0839101314544677,1.088792586326599,1.0895907402038574,1.0903165817260743,1.091367745399475,1.092035984992981,1.0922854900360108,1.0940399169921875,1.0956963539123534,1.0954112529754638,1.094365382194519,1.0919520854949951,1.0877063512802123,1.083566379547119,1.0815680503845215,1.0791205167770386,1.077696943283081,1.0777971982955932,1.080185866355896,1.0842150449752808,1.0868049383163452,1.089949893951416,1.093597412109375,1.0947889804840087,1.0950406551361085,1.09766685962677,1.0995954036712647,1.1008347272872925,1.1040934085845948,1.1053335189819335],\"type\":\"scatter\"},{\"line\":{\"color\":\"orange\",\"width\":2},\"mode\":\"lines\",\"name\":\"MA15\",\"x\":[\"2023-01-02T00:00:00\",\"2023-01-03T00:00:00\",\"2023-01-04T00:00:00\",\"2023-01-05T00:00:00\",\"2023-01-06T00:00:00\",\"2023-01-09T00:00:00\",\"2023-01-10T00:00:00\",\"2023-01-11T00:00:00\",\"2023-01-12T00:00:00\",\"2023-01-13T00:00:00\",\"2023-01-16T00:00:00\",\"2023-01-17T00:00:00\",\"2023-01-18T00:00:00\",\"2023-01-19T00:00:00\",\"2023-01-20T00:00:00\",\"2023-01-23T00:00:00\",\"2023-01-24T00:00:00\",\"2023-01-25T00:00:00\",\"2023-01-26T00:00:00\",\"2023-01-27T00:00:00\",\"2023-01-30T00:00:00\",\"2023-01-31T00:00:00\",\"2023-02-01T00:00:00\",\"2023-02-02T00:00:00\",\"2023-02-03T00:00:00\",\"2023-02-06T00:00:00\",\"2023-02-07T00:00:00\",\"2023-02-08T00:00:00\",\"2023-02-09T00:00:00\",\"2023-02-10T00:00:00\",\"2023-02-13T00:00:00\",\"2023-02-14T00:00:00\",\"2023-02-15T00:00:00\",\"2023-02-16T00:00:00\",\"2023-02-17T00:00:00\",\"2023-02-20T00:00:00\",\"2023-02-21T00:00:00\",\"2023-02-22T00:00:00\",\"2023-02-23T00:00:00\",\"2023-02-24T00:00:00\",\"2023-02-27T00:00:00\",\"2023-02-28T00:00:00\",\"2023-03-01T00:00:00\",\"2023-03-02T00:00:00\",\"2023-03-03T00:00:00\",\"2023-03-06T00:00:00\",\"2023-03-07T00:00:00\",\"2023-03-08T00:00:00\",\"2023-03-09T00:00:00\",\"2023-03-10T00:00:00\",\"2023-03-13T00:00:00\",\"2023-03-14T00:00:00\",\"2023-03-15T00:00:00\",\"2023-03-16T00:00:00\",\"2023-03-17T00:00:00\",\"2023-03-20T00:00:00\",\"2023-03-21T00:00:00\",\"2023-03-22T00:00:00\",\"2023-03-23T00:00:00\",\"2023-03-24T00:00:00\",\"2023-03-27T00:00:00\",\"2023-03-28T00:00:00\",\"2023-03-29T00:00:00\",\"2023-03-30T00:00:00\",\"2023-03-31T00:00:00\",\"2023-04-03T00:00:00\",\"2023-04-04T00:00:00\",\"2023-04-05T00:00:00\",\"2023-04-06T00:00:00\",\"2023-04-07T00:00:00\",\"2023-04-10T00:00:00\",\"2023-04-11T00:00:00\",\"2023-04-12T00:00:00\",\"2023-04-13T00:00:00\",\"2023-04-14T00:00:00\",\"2023-04-17T00:00:00\",\"2023-04-18T00:00:00\",\"2023-04-19T00:00:00\",\"2023-04-20T00:00:00\",\"2023-04-21T00:00:00\",\"2023-04-24T00:00:00\",\"2023-04-25T00:00:00\",\"2023-04-26T00:00:00\",\"2023-04-27T00:00:00\",\"2023-04-28T00:00:00\",\"2023-05-01T00:00:00\",\"2023-05-02T00:00:00\",\"2023-05-03T00:00:00\",\"2023-05-04T00:00:00\",\"2023-05-05T00:00:00\",\"2023-05-08T00:00:00\",\"2023-05-09T00:00:00\",\"2023-05-10T00:00:00\",\"2023-05-11T00:00:00\",\"2023-05-12T00:00:00\",\"2023-05-15T00:00:00\",\"2023-05-16T00:00:00\",\"2023-05-17T00:00:00\",\"2023-05-18T00:00:00\",\"2023-05-19T00:00:00\",\"2023-05-22T00:00:00\",\"2023-05-23T00:00:00\",\"2023-05-24T00:00:00\",\"2023-05-25T00:00:00\",\"2023-05-26T00:00:00\",\"2023-05-29T00:00:00\",\"2023-05-30T00:00:00\",\"2023-05-31T00:00:00\",\"2023-06-01T00:00:00\",\"2023-06-02T00:00:00\",\"2023-06-05T00:00:00\",\"2023-06-06T00:00:00\",\"2023-06-07T00:00:00\",\"2023-06-08T00:00:00\",\"2023-06-09T00:00:00\",\"2023-06-12T00:00:00\",\"2023-06-13T00:00:00\",\"2023-06-14T00:00:00\",\"2023-06-15T00:00:00\",\"2023-06-16T00:00:00\",\"2023-06-19T00:00:00\",\"2023-06-20T00:00:00\",\"2023-06-21T00:00:00\",\"2023-06-22T00:00:00\",\"2023-06-23T00:00:00\",\"2023-06-26T00:00:00\",\"2023-06-27T00:00:00\",\"2023-06-28T00:00:00\",\"2023-06-29T00:00:00\",\"2023-06-30T00:00:00\",\"2023-07-03T00:00:00\",\"2023-07-04T00:00:00\",\"2023-07-05T00:00:00\",\"2023-07-06T00:00:00\",\"2023-07-07T00:00:00\",\"2023-07-10T00:00:00\",\"2023-07-11T00:00:00\",\"2023-07-12T00:00:00\",\"2023-07-13T00:00:00\",\"2023-07-14T00:00:00\",\"2023-07-17T00:00:00\",\"2023-07-18T00:00:00\",\"2023-07-19T00:00:00\",\"2023-07-20T00:00:00\",\"2023-07-21T00:00:00\",\"2023-07-24T00:00:00\",\"2023-07-25T00:00:00\",\"2023-07-26T00:00:00\",\"2023-07-27T00:00:00\",\"2023-07-28T00:00:00\",\"2023-07-31T00:00:00\",\"2023-08-01T00:00:00\",\"2023-08-02T00:00:00\",\"2023-08-03T00:00:00\",\"2023-08-04T00:00:00\",\"2023-08-07T00:00:00\",\"2023-08-08T00:00:00\",\"2023-08-09T00:00:00\",\"2023-08-10T00:00:00\",\"2023-08-11T00:00:00\",\"2023-08-14T00:00:00\",\"2023-08-15T00:00:00\",\"2023-08-16T00:00:00\",\"2023-08-17T00:00:00\",\"2023-08-18T00:00:00\",\"2023-08-21T00:00:00\",\"2023-08-22T00:00:00\",\"2023-08-23T00:00:00\",\"2023-08-24T00:00:00\",\"2023-08-25T00:00:00\",\"2023-08-28T00:00:00\",\"2023-08-29T00:00:00\",\"2023-08-30T00:00:00\",\"2023-08-31T00:00:00\",\"2023-09-01T00:00:00\",\"2023-09-04T00:00:00\",\"2023-09-05T00:00:00\",\"2023-09-06T00:00:00\",\"2023-09-07T00:00:00\",\"2023-09-08T00:00:00\",\"2023-09-11T00:00:00\",\"2023-09-12T00:00:00\",\"2023-09-13T00:00:00\",\"2023-09-14T00:00:00\",\"2023-09-15T00:00:00\",\"2023-09-18T00:00:00\",\"2023-09-19T00:00:00\",\"2023-09-20T00:00:00\",\"2023-09-21T00:00:00\",\"2023-09-22T00:00:00\",\"2023-09-25T00:00:00\",\"2023-09-26T00:00:00\",\"2023-09-27T00:00:00\",\"2023-09-28T00:00:00\",\"2023-09-29T00:00:00\",\"2023-10-02T00:00:00\",\"2023-10-03T00:00:00\",\"2023-10-04T00:00:00\",\"2023-10-05T00:00:00\",\"2023-10-06T00:00:00\",\"2023-10-09T00:00:00\",\"2023-10-10T00:00:00\",\"2023-10-11T00:00:00\",\"2023-10-12T00:00:00\",\"2023-10-13T00:00:00\",\"2023-10-16T00:00:00\",\"2023-10-17T00:00:00\",\"2023-10-18T00:00:00\",\"2023-10-19T00:00:00\",\"2023-10-20T00:00:00\",\"2023-10-23T00:00:00\",\"2023-10-24T00:00:00\",\"2023-10-25T00:00:00\",\"2023-10-26T00:00:00\",\"2023-10-27T00:00:00\",\"2023-10-30T00:00:00\",\"2023-10-31T00:00:00\",\"2023-11-01T00:00:00\",\"2023-11-02T00:00:00\",\"2023-11-03T00:00:00\",\"2023-11-06T00:00:00\",\"2023-11-07T00:00:00\",\"2023-11-08T00:00:00\",\"2023-11-09T00:00:00\",\"2023-11-10T00:00:00\",\"2023-11-13T00:00:00\",\"2023-11-14T00:00:00\",\"2023-11-15T00:00:00\",\"2023-11-16T00:00:00\",\"2023-11-17T00:00:00\",\"2023-11-20T00:00:00\",\"2023-11-21T00:00:00\",\"2023-11-22T00:00:00\",\"2023-11-23T00:00:00\",\"2023-11-24T00:00:00\",\"2023-11-27T00:00:00\",\"2023-11-28T00:00:00\",\"2023-11-29T00:00:00\",\"2023-11-30T00:00:00\",\"2023-12-01T00:00:00\",\"2023-12-04T00:00:00\",\"2023-12-05T00:00:00\",\"2023-12-06T00:00:00\",\"2023-12-07T00:00:00\",\"2023-12-08T00:00:00\",\"2023-12-11T00:00:00\",\"2023-12-12T00:00:00\",\"2023-12-13T00:00:00\",\"2023-12-14T00:00:00\",\"2023-12-15T00:00:00\",\"2023-12-18T00:00:00\",\"2023-12-19T00:00:00\",\"2023-12-20T00:00:00\",\"2023-12-21T00:00:00\",\"2023-12-22T00:00:00\",\"2023-12-25T00:00:00\",\"2023-12-26T00:00:00\",\"2023-12-27T00:00:00\",\"2023-12-28T00:00:00\",\"2023-12-29T00:00:00\"],\"y\":[null,null,null,null,null,null,null,null,null,null,null,null,null,null,1.0726491530736288,1.073684779802958,1.0749953031539916,1.0772705793380737,1.0793750683466594,1.0818564971288045,1.0832907120386759,1.084074115753174,1.0848874568939209,1.0865331331888834,1.0868323723475137,1.086607321103414,1.0859448909759521,1.0855210304260254,1.0849741141001383,1.0843635082244873,1.0831144173940024,1.0821552594502768,1.081139079729716,1.079603870709737,1.0780793666839599,1.0768326282501222,1.0757121324539185,1.0743192116419473,1.0716055552164714,1.0695583740870158,1.0679843505223592,1.067187285423279,1.066171153386434,1.0658586661020915,1.0649082660675049,1.064564847946167,1.0642842451731365,1.0630511124928792,1.0621028979619345,1.0615625143051148,1.0615571896235148,1.06183979511261,1.0623441139856975,1.0621944506963095,1.0623016913731893,1.0631290038426717,1.063848622639974,1.0651614745457967,1.066504470507304,1.068073304494222,1.069086527824402,1.0698781490325928,1.0718032916386921,1.0737640221913656,1.0758970260620118,1.0766949574152629,1.0779433250427246,1.079492982228597,1.0816262324651083,1.083666205406189,1.0852310101191203,1.0862322171529135,1.0871873537699381,1.0880506753921508,1.0895143588383993,1.0909037669499715,1.0916924873987834,1.0925982316335043,1.0933218876520792,1.0937637408574423,1.0950233141581218,1.096004875500997,1.0961268027623494,1.0970864057540894,1.0978325287501016,1.0984814325968424,1.0991475184758503,1.0997702121734618,1.1002304474512736,1.1000192324320475,1.1002331018447875,1.100704836845398,1.100633430480957,1.100845956802368,1.100454076131185,1.0995235761006674,1.098284920056661,1.097533408800761,1.0961405038833618,1.0944294929504395,1.0931750535964966,1.0921204090118408,1.0905124107996622,1.0884350061416626,1.0864450613657632,1.08447425365448,1.082551113764445,1.0810070991516114,1.0790812651316324,1.0780722141265868,1.0770450353622436,1.075965682665507,1.074848214785258,1.0739755074183146,1.0740243117014567,1.0735457022984822,1.0732253233591715,1.0733562390009561,1.0739277839660644,1.0754045327504476,1.0768649339675904,1.07830917040507,1.0795578320821126,1.081540822982788,1.082861598332723,1.0842486063639323,1.085573148727417,1.0873009840647379,1.0886903047561645,1.0892590522766112,1.0903027216593424,1.0913034598032634,1.0919407765070597,1.0920310258865356,1.0916622797648112,1.0918463309605917,1.0923905928929647,1.093015233675639,1.0940279642740884,1.0957917372385662,1.0979322989781697,1.100113073984782,1.101924188931783,1.103853495915731,1.1056472857793171,1.107099429766337,1.1080999056498209,1.109203306833903,1.1106818675994874,1.1112693309783936,1.1116329352060954,1.1115772485733033,1.1115360260009766,1.1102000713348388,1.1083874940872191,1.1068869511286417,1.1053240299224854,1.103524120648702,1.1020070314407349,1.10097070535024,1.0997644742329915,1.0987425645192463,1.0977673451105754,1.0964107831319174,1.0957167307535807,1.0947256008783977,1.0940640052159627,1.092989412943522,1.0924669742584228,1.0914506594340005,1.0900820732116698,1.0888980627059937,1.088300108909607,1.0879992802937826,1.087082314491272,1.0859587907791137,1.0851893822352092,1.0840026299158732,1.0829981009165446,1.081819240252177,1.0807693640391032,1.0797828594843546,1.0791600227355957,1.0782829205195108,1.0772031227747598,1.0763422807057699,1.0754563808441162,1.07420863310496,1.0723451932271322,1.0711281538009643,1.0702790180842081,1.0689268589019776,1.0678823391596477,1.0664230108261108,1.0655205567677817,1.064501404762268,1.0627039114634196,1.060830799738566,1.0593164682388305,1.058712903658549,1.058040992418925,1.0572823524475097,1.0567673047383626,1.0565756479899089,1.0557435989379882,1.0548973401387534,1.0546484311421713,1.0546722730000815,1.054893692334493,1.055053965250651,1.055218807856242,1.0564794858296713,1.057299836476644,1.0577010313669841,1.0578198830286663,1.0577864011128744,1.0580274661382039,1.0578561862309774,1.0576079845428468,1.05815699895223,1.0595609585444132,1.0606759468714395,1.0614962339401246,1.06264226436615,1.0631828308105469,1.0638507604599,1.0640639066696167,1.0659503221511841,1.0678658644358316,1.069794511795044,1.0720916906992595,1.0742977778116862,1.0765585978825887,1.07858407497406,1.0804988861083984,1.0818874994913736,1.0834665854771932,1.0855321963628133,1.0872873465220134,1.088783899943034,1.0901038328806558,1.091010053952535,1.0904456694920859,1.0898597717285157,1.0894490162531534,1.0885072946548462,1.0873115062713623,1.0865144888559977,1.086482866605123,1.0870647827784221,1.086763612429301,1.086532974243164,1.0863669872283936,1.0861804087956746,1.0869412501653035,1.087864104906718,1.0890807469685873,1.090743112564087,1.0930227518081665,1.0948630730311075],\"type\":\"scatter\"},{\"marker\":{\"color\":\"green\",\"size\":10,\"symbol\":\"triangle-up\"},\"mode\":\"markers\",\"name\":\"Buy Signal\",\"x\":[\"2023-03-14T00:00:00\",\"2023-06-13T00:00:00\",\"2023-07-12T00:00:00\",\"2023-10-12T00:00:00\",\"2023-10-20T00:00:00\",\"2023-11-02T00:00:00\",\"2023-12-18T00:00:00\"],\"y\":[1.0725010633468628,1.0762988328933716,1.101406455039978,1.0624282360076904,1.0586491823196411,1.05870521068573,1.0895264148712158],\"type\":\"scatter\"},{\"marker\":{\"color\":\"red\",\"size\":10,\"symbol\":\"triangle-down\"},\"mode\":\"markers\",\"name\":\"Sell Signal\",\"x\":[\"2023-02-08T00:00:00\",\"2023-05-11T00:00:00\",\"2023-07-04T00:00:00\",\"2023-07-27T00:00:00\",\"2023-10-19T00:00:00\",\"2023-11-01T00:00:00\",\"2023-12-06T00:00:00\"],\"y\":[1.0729728937149048,1.098406195640564,1.091309905052185,1.1078368425369265,1.053851842880249,1.0579099655151367,1.0793657302856443],\"type\":\"scatter\"}],                        {\"template\":{\"data\":{\"histogram2dcontour\":[{\"type\":\"histogram2dcontour\",\"colorbar\":{\"outlinewidth\":0,\"ticks\":\"\"},\"colorscale\":[[0.0,\"#0d0887\"],[0.1111111111111111,\"#46039f\"],[0.2222222222222222,\"#7201a8\"],[0.3333333333333333,\"#9c179e\"],[0.4444444444444444,\"#bd3786\"],[0.5555555555555556,\"#d8576b\"],[0.6666666666666666,\"#ed7953\"],[0.7777777777777778,\"#fb9f3a\"],[0.8888888888888888,\"#fdca26\"],[1.0,\"#f0f921\"]]}],\"choropleth\":[{\"type\":\"choropleth\",\"colorbar\":{\"outlinewidth\":0,\"ticks\":\"\"}}],\"histogram2d\":[{\"type\":\"histogram2d\",\"colorbar\":{\"outlinewidth\":0,\"ticks\":\"\"},\"colorscale\":[[0.0,\"#0d0887\"],[0.1111111111111111,\"#46039f\"],[0.2222222222222222,\"#7201a8\"],[0.3333333333333333,\"#9c179e\"],[0.4444444444444444,\"#bd3786\"],[0.5555555555555556,\"#d8576b\"],[0.6666666666666666,\"#ed7953\"],[0.7777777777777778,\"#fb9f3a\"],[0.8888888888888888,\"#fdca26\"],[1.0,\"#f0f921\"]]}],\"heatmap\":[{\"type\":\"heatmap\",\"colorbar\":{\"outlinewidth\":0,\"ticks\":\"\"},\"colorscale\":[[0.0,\"#0d0887\"],[0.1111111111111111,\"#46039f\"],[0.2222222222222222,\"#7201a8\"],[0.3333333333333333,\"#9c179e\"],[0.4444444444444444,\"#bd3786\"],[0.5555555555555556,\"#d8576b\"],[0.6666666666666666,\"#ed7953\"],[0.7777777777777778,\"#fb9f3a\"],[0.8888888888888888,\"#fdca26\"],[1.0,\"#f0f921\"]]}],\"heatmapgl\":[{\"type\":\"heatmapgl\",\"colorbar\":{\"outlinewidth\":0,\"ticks\":\"\"},\"colorscale\":[[0.0,\"#0d0887\"],[0.1111111111111111,\"#46039f\"],[0.2222222222222222,\"#7201a8\"],[0.3333333333333333,\"#9c179e\"],[0.4444444444444444,\"#bd3786\"],[0.5555555555555556,\"#d8576b\"],[0.6666666666666666,\"#ed7953\"],[0.7777777777777778,\"#fb9f3a\"],[0.8888888888888888,\"#fdca26\"],[1.0,\"#f0f921\"]]}],\"contourcarpet\":[{\"type\":\"contourcarpet\",\"colorbar\":{\"outlinewidth\":0,\"ticks\":\"\"}}],\"contour\":[{\"type\":\"contour\",\"colorbar\":{\"outlinewidth\":0,\"ticks\":\"\"},\"colorscale\":[[0.0,\"#0d0887\"],[0.1111111111111111,\"#46039f\"],[0.2222222222222222,\"#7201a8\"],[0.3333333333333333,\"#9c179e\"],[0.4444444444444444,\"#bd3786\"],[0.5555555555555556,\"#d8576b\"],[0.6666666666666666,\"#ed7953\"],[0.7777777777777778,\"#fb9f3a\"],[0.8888888888888888,\"#fdca26\"],[1.0,\"#f0f921\"]]}],\"surface\":[{\"type\":\"surface\",\"colorbar\":{\"outlinewidth\":0,\"ticks\":\"\"},\"colorscale\":[[0.0,\"#0d0887\"],[0.1111111111111111,\"#46039f\"],[0.2222222222222222,\"#7201a8\"],[0.3333333333333333,\"#9c179e\"],[0.4444444444444444,\"#bd3786\"],[0.5555555555555556,\"#d8576b\"],[0.6666666666666666,\"#ed7953\"],[0.7777777777777778,\"#fb9f3a\"],[0.8888888888888888,\"#fdca26\"],[1.0,\"#f0f921\"]]}],\"mesh3d\":[{\"type\":\"mesh3d\",\"colorbar\":{\"outlinewidth\":0,\"ticks\":\"\"}}],\"scatter\":[{\"fillpattern\":{\"fillmode\":\"overlay\",\"size\":10,\"solidity\":0.2},\"type\":\"scatter\"}],\"parcoords\":[{\"type\":\"parcoords\",\"line\":{\"colorbar\":{\"outlinewidth\":0,\"ticks\":\"\"}}}],\"scatterpolargl\":[{\"type\":\"scatterpolargl\",\"marker\":{\"colorbar\":{\"outlinewidth\":0,\"ticks\":\"\"}}}],\"bar\":[{\"error_x\":{\"color\":\"#2a3f5f\"},\"error_y\":{\"color\":\"#2a3f5f\"},\"marker\":{\"line\":{\"color\":\"#E5ECF6\",\"width\":0.5},\"pattern\":{\"fillmode\":\"overlay\",\"size\":10,\"solidity\":0.2}},\"type\":\"bar\"}],\"scattergeo\":[{\"type\":\"scattergeo\",\"marker\":{\"colorbar\":{\"outlinewidth\":0,\"ticks\":\"\"}}}],\"scatterpolar\":[{\"type\":\"scatterpolar\",\"marker\":{\"colorbar\":{\"outlinewidth\":0,\"ticks\":\"\"}}}],\"histogram\":[{\"marker\":{\"pattern\":{\"fillmode\":\"overlay\",\"size\":10,\"solidity\":0.2}},\"type\":\"histogram\"}],\"scattergl\":[{\"type\":\"scattergl\",\"marker\":{\"colorbar\":{\"outlinewidth\":0,\"ticks\":\"\"}}}],\"scatter3d\":[{\"type\":\"scatter3d\",\"line\":{\"colorbar\":{\"outlinewidth\":0,\"ticks\":\"\"}},\"marker\":{\"colorbar\":{\"outlinewidth\":0,\"ticks\":\"\"}}}],\"scattermapbox\":[{\"type\":\"scattermapbox\",\"marker\":{\"colorbar\":{\"outlinewidth\":0,\"ticks\":\"\"}}}],\"scatterternary\":[{\"type\":\"scatterternary\",\"marker\":{\"colorbar\":{\"outlinewidth\":0,\"ticks\":\"\"}}}],\"scattercarpet\":[{\"type\":\"scattercarpet\",\"marker\":{\"colorbar\":{\"outlinewidth\":0,\"ticks\":\"\"}}}],\"carpet\":[{\"aaxis\":{\"endlinecolor\":\"#2a3f5f\",\"gridcolor\":\"white\",\"linecolor\":\"white\",\"minorgridcolor\":\"white\",\"startlinecolor\":\"#2a3f5f\"},\"baxis\":{\"endlinecolor\":\"#2a3f5f\",\"gridcolor\":\"white\",\"linecolor\":\"white\",\"minorgridcolor\":\"white\",\"startlinecolor\":\"#2a3f5f\"},\"type\":\"carpet\"}],\"table\":[{\"cells\":{\"fill\":{\"color\":\"#EBF0F8\"},\"line\":{\"color\":\"white\"}},\"header\":{\"fill\":{\"color\":\"#C8D4E3\"},\"line\":{\"color\":\"white\"}},\"type\":\"table\"}],\"barpolar\":[{\"marker\":{\"line\":{\"color\":\"#E5ECF6\",\"width\":0.5},\"pattern\":{\"fillmode\":\"overlay\",\"size\":10,\"solidity\":0.2}},\"type\":\"barpolar\"}],\"pie\":[{\"automargin\":true,\"type\":\"pie\"}]},\"layout\":{\"autotypenumbers\":\"strict\",\"colorway\":[\"#636efa\",\"#EF553B\",\"#00cc96\",\"#ab63fa\",\"#FFA15A\",\"#19d3f3\",\"#FF6692\",\"#B6E880\",\"#FF97FF\",\"#FECB52\"],\"font\":{\"color\":\"#2a3f5f\"},\"hovermode\":\"closest\",\"hoverlabel\":{\"align\":\"left\"},\"paper_bgcolor\":\"white\",\"plot_bgcolor\":\"#E5ECF6\",\"polar\":{\"bgcolor\":\"#E5ECF6\",\"angularaxis\":{\"gridcolor\":\"white\",\"linecolor\":\"white\",\"ticks\":\"\"},\"radialaxis\":{\"gridcolor\":\"white\",\"linecolor\":\"white\",\"ticks\":\"\"}},\"ternary\":{\"bgcolor\":\"#E5ECF6\",\"aaxis\":{\"gridcolor\":\"white\",\"linecolor\":\"white\",\"ticks\":\"\"},\"baxis\":{\"gridcolor\":\"white\",\"linecolor\":\"white\",\"ticks\":\"\"},\"caxis\":{\"gridcolor\":\"white\",\"linecolor\":\"white\",\"ticks\":\"\"}},\"coloraxis\":{\"colorbar\":{\"outlinewidth\":0,\"ticks\":\"\"}},\"colorscale\":{\"sequential\":[[0.0,\"#0d0887\"],[0.1111111111111111,\"#46039f\"],[0.2222222222222222,\"#7201a8\"],[0.3333333333333333,\"#9c179e\"],[0.4444444444444444,\"#bd3786\"],[0.5555555555555556,\"#d8576b\"],[0.6666666666666666,\"#ed7953\"],[0.7777777777777778,\"#fb9f3a\"],[0.8888888888888888,\"#fdca26\"],[1.0,\"#f0f921\"]],\"sequentialminus\":[[0.0,\"#0d0887\"],[0.1111111111111111,\"#46039f\"],[0.2222222222222222,\"#7201a8\"],[0.3333333333333333,\"#9c179e\"],[0.4444444444444444,\"#bd3786\"],[0.5555555555555556,\"#d8576b\"],[0.6666666666666666,\"#ed7953\"],[0.7777777777777778,\"#fb9f3a\"],[0.8888888888888888,\"#fdca26\"],[1.0,\"#f0f921\"]],\"diverging\":[[0,\"#8e0152\"],[0.1,\"#c51b7d\"],[0.2,\"#de77ae\"],[0.3,\"#f1b6da\"],[0.4,\"#fde0ef\"],[0.5,\"#f7f7f7\"],[0.6,\"#e6f5d0\"],[0.7,\"#b8e186\"],[0.8,\"#7fbc41\"],[0.9,\"#4d9221\"],[1,\"#276419\"]]},\"xaxis\":{\"gridcolor\":\"white\",\"linecolor\":\"white\",\"ticks\":\"\",\"title\":{\"standoff\":15},\"zerolinecolor\":\"white\",\"automargin\":true,\"zerolinewidth\":2},\"yaxis\":{\"gridcolor\":\"white\",\"linecolor\":\"white\",\"ticks\":\"\",\"title\":{\"standoff\":15},\"zerolinecolor\":\"white\",\"automargin\":true,\"zerolinewidth\":2},\"scene\":{\"xaxis\":{\"backgroundcolor\":\"#E5ECF6\",\"gridcolor\":\"white\",\"linecolor\":\"white\",\"showbackground\":true,\"ticks\":\"\",\"zerolinecolor\":\"white\",\"gridwidth\":2},\"yaxis\":{\"backgroundcolor\":\"#E5ECF6\",\"gridcolor\":\"white\",\"linecolor\":\"white\",\"showbackground\":true,\"ticks\":\"\",\"zerolinecolor\":\"white\",\"gridwidth\":2},\"zaxis\":{\"backgroundcolor\":\"#E5ECF6\",\"gridcolor\":\"white\",\"linecolor\":\"white\",\"showbackground\":true,\"ticks\":\"\",\"zerolinecolor\":\"white\",\"gridwidth\":2}},\"shapedefaults\":{\"line\":{\"color\":\"#2a3f5f\"}},\"annotationdefaults\":{\"arrowcolor\":\"#2a3f5f\",\"arrowhead\":0,\"arrowwidth\":1},\"geo\":{\"bgcolor\":\"white\",\"landcolor\":\"#E5ECF6\",\"subunitcolor\":\"white\",\"showland\":true,\"showlakes\":true,\"lakecolor\":\"white\"},\"title\":{\"x\":0.05},\"mapbox\":{\"style\":\"light\"}}},\"xaxis\":{\"rangeslider\":{\"visible\":false},\"title\":{\"text\":\"Date\"}},\"title\":{\"text\":\"Moving Average (MA) and Trading Signals\"},\"yaxis\":{\"title\":{\"text\":\"Price\"}},\"showlegend\":true},                        {\"responsive\": true}                    ).then(function(){\n",
       "                            \n",
       "var gd = document.getElementById('286e5d05-2a2f-4f6d-bfc8-e5d79f065bce');\n",
       "var x = new MutationObserver(function (mutations, observer) {{\n",
       "        var display = window.getComputedStyle(gd).display;\n",
       "        if (!display || display === 'none') {{\n",
       "            console.log([gd, 'removed!']);\n",
       "            Plotly.purge(gd);\n",
       "            observer.disconnect();\n",
       "        }}\n",
       "}});\n",
       "\n",
       "// Listen for the removal of the full notebook cells\n",
       "var notebookContainer = gd.closest('#notebook-container');\n",
       "if (notebookContainer) {{\n",
       "    x.observe(notebookContainer, {childList: true});\n",
       "}}\n",
       "\n",
       "// Listen for the clearing of the current output cell\n",
       "var outputEl = gd.closest('.output');\n",
       "if (outputEl) {{\n",
       "    x.observe(outputEl, {childList: true});\n",
       "}}\n",
       "\n",
       "                        })                };                });            </script>        </div>"
      ]
     },
     "metadata": {},
     "output_type": "display_data"
    }
   ],
   "source": [
    "# Obliczenie średnich kroczących\n",
    "df_month['MA5'] = ta.trend.sma_indicator(close=df_month['Close'], window=5)\n",
    "df_month['MA15'] = ta.trend.sma_indicator(close=df_month['Close'], window=15)\n",
    "\n",
    "# Znajdowanie punktów przecięcia średnich kroczących\n",
    "df_month['Buy_Signal'] = 0\n",
    "df_month['Sell_Signal'] = 0\n",
    "\n",
    "# Sygnał kupna: krótsza przecina dłuższą od dołu\n",
    "df_month.loc[(df_month['MA5'] > df_month['MA15']) & (df_month['MA5'].shift(1) < df_month['MA15'].shift(1)), 'Buy_Signal'] = df_month['Close']\n",
    "buy_signals = df_month[df_month['Buy_Signal'] != 0]\n",
    "\n",
    "# Sygnał sprzedaży: krótsza przecina dłuższą od góry\n",
    "df_month.loc[(df_month['MA5'] < df_month['MA15']) & (df_month['MA5'].shift(1) > df_month['MA15'].shift(1)), 'Sell_Signal'] = df_month['Close']\n",
    "sell_signals = df_month[df_month['Sell_Signal'] != 0]\n",
    "\n",
    "# Wykres\n",
    "fig_ma = go.Figure()\n",
    "\n",
    "# Cena zamknięcia\n",
    "fig_ma.add_trace(go.Scatter(x=df_month.index, y=df_month['Close'], mode='lines', name='Close Price', line=dict(color='lightblue', width=3)))\n",
    "\n",
    "# Moving Average (MA)\n",
    "fig_ma.add_trace(go.Scatter(x=df_month.index, y=df_month['MA5'], mode='lines', name='MA5', line=dict(color='purple', width=2)))\n",
    "fig_ma.add_trace(go.Scatter(x=df_month.index, y=df_month['MA15'], mode='lines', name='MA15', line=dict(color='orange', width=2)))\n",
    "\n",
    "# Sygnały kupna i sprzedaży dla MA\n",
    "fig_ma.add_trace(go.Scatter(x=buy_signals.index, y=buy_signals['Buy_Signal'], mode='markers', name='Buy Signal',\n",
    "                            marker=dict(symbol='triangle-up', color='green', size=10)))\n",
    "fig_ma.add_trace(go.Scatter(x=sell_signals.index, y=sell_signals['Sell_Signal'], mode='markers', name='Sell Signal',\n",
    "                            marker=dict(symbol='triangle-down', color='red', size=10)))\n",
    "\n",
    "fig_ma.update_layout(\n",
    "    title='Moving Average (MA) and Trading Signals',\n",
    "    xaxis_rangeslider_visible=False,\n",
    "    xaxis_title='Date',\n",
    "    yaxis_title='Price',\n",
    "    showlegend=True\n",
    ")\n",
    "\n",
    "fig_ma.show()"
   ]
  },
  {
   "cell_type": "code",
   "execution_count": 132,
   "id": "6ae0d088",
   "metadata": {},
   "outputs": [
    {
     "data": {
      "application/vnd.plotly.v1+json": {
       "config": {
        "plotlyServerURL": "https://plot.ly"
       },
       "data": [
        {
         "line": {
          "color": "lightblue",
          "width": 3
         },
         "mode": "lines",
         "name": "Close Price",
         "type": "scatter",
         "x": [
          "2023-01-01T00:00:00",
          "2023-01-02T00:00:00",
          "2023-01-03T00:00:00",
          "2023-01-04T00:00:00",
          "2023-01-05T00:00:00",
          "2023-01-06T00:00:00",
          "2023-01-07T00:00:00",
          "2023-01-08T00:00:00",
          "2023-01-09T00:00:00",
          "2023-01-10T00:00:00",
          "2023-01-11T00:00:00",
          "2023-01-12T00:00:00",
          "2023-01-13T00:00:00",
          "2023-01-14T00:00:00",
          "2023-01-15T00:00:00",
          "2023-01-16T00:00:00",
          "2023-01-17T00:00:00",
          "2023-01-18T00:00:00",
          "2023-01-19T00:00:00",
          "2023-01-20T00:00:00",
          "2023-01-21T00:00:00",
          "2023-01-22T00:00:00",
          "2023-01-23T00:00:00",
          "2023-01-24T00:00:00",
          "2023-01-25T00:00:00",
          "2023-01-26T00:00:00",
          "2023-01-27T00:00:00",
          "2023-01-28T00:00:00",
          "2023-01-29T00:00:00",
          "2023-01-30T00:00:00",
          "2023-01-31T00:00:00",
          "2023-02-01T00:00:00",
          "2023-02-02T00:00:00",
          "2023-02-03T00:00:00",
          "2023-02-04T00:00:00",
          "2023-02-05T00:00:00",
          "2023-02-06T00:00:00",
          "2023-02-07T00:00:00",
          "2023-02-08T00:00:00",
          "2023-02-09T00:00:00",
          "2023-02-10T00:00:00",
          "2023-02-11T00:00:00",
          "2023-02-12T00:00:00",
          "2023-02-13T00:00:00",
          "2023-02-14T00:00:00",
          "2023-02-15T00:00:00",
          "2023-02-16T00:00:00",
          "2023-02-17T00:00:00",
          "2023-02-18T00:00:00",
          "2023-02-19T00:00:00",
          "2023-02-20T00:00:00",
          "2023-02-21T00:00:00",
          "2023-02-22T00:00:00",
          "2023-02-23T00:00:00",
          "2023-02-24T00:00:00",
          "2023-02-25T00:00:00",
          "2023-02-26T00:00:00",
          "2023-02-27T00:00:00",
          "2023-02-28T00:00:00",
          "2023-03-01T00:00:00",
          "2023-03-02T00:00:00",
          "2023-03-03T00:00:00",
          "2023-03-04T00:00:00",
          "2023-03-05T00:00:00",
          "2023-03-06T00:00:00",
          "2023-03-07T00:00:00",
          "2023-03-08T00:00:00",
          "2023-03-09T00:00:00",
          "2023-03-10T00:00:00",
          "2023-03-11T00:00:00",
          "2023-03-12T00:00:00",
          "2023-03-13T00:00:00",
          "2023-03-14T00:00:00",
          "2023-03-15T00:00:00",
          "2023-03-16T00:00:00",
          "2023-03-17T00:00:00",
          "2023-03-18T00:00:00",
          "2023-03-19T00:00:00",
          "2023-03-20T00:00:00",
          "2023-03-21T00:00:00",
          "2023-03-22T00:00:00",
          "2023-03-23T00:00:00",
          "2023-03-24T00:00:00",
          "2023-03-25T00:00:00",
          "2023-03-26T00:00:00",
          "2023-03-27T00:00:00",
          "2023-03-28T00:00:00",
          "2023-03-29T00:00:00",
          "2023-03-30T00:00:00",
          "2023-03-31T00:00:00",
          "2023-04-01T00:00:00",
          "2023-04-02T00:00:00",
          "2023-04-03T00:00:00",
          "2023-04-04T00:00:00",
          "2023-04-05T00:00:00",
          "2023-04-06T00:00:00",
          "2023-04-07T00:00:00",
          "2023-04-08T00:00:00",
          "2023-04-09T00:00:00",
          "2023-04-10T00:00:00"
         ],
         "y": [
          0.4967141530112327,
          -0.13826430117118466,
          0.6476885381006925,
          1.5230298564080254,
          -0.23415337472333597,
          -0.23413695694918055,
          1.5792128155073915,
          0.7674347291529088,
          -0.4694743859349521,
          0.5425600435859647,
          -0.46341769281246226,
          -0.46572975357025687,
          0.24196227156603412,
          -1.913280244657798,
          -1.7249178325130328,
          -0.5622875292409727,
          -1.0128311203344238,
          0.3142473325952739,
          -0.9080240755212109,
          -1.4123037013352915,
          1.465648768921554,
          -0.22577630048653566,
          0.06752820468792384,
          -1.4247481862134568,
          -0.5443827245251827,
          0.11092258970986608,
          -1.1509935774223028,
          0.37569801834567196,
          -0.600638689918805,
          -0.2916937497932768,
          -0.6017066122293969,
          1.8522781845089378,
          -0.013497224737933921,
          -1.0577109289559004,
          0.822544912103189,
          -1.2208436499710222,
          0.2088635950047554,
          -1.9596701238797756,
          -1.3281860488984305,
          0.19686123586912352,
          0.7384665799954104,
          0.1713682811899705,
          -0.11564828238824053,
          -0.3011036955892888,
          -1.4785219903674274,
          -0.7198442083947086,
          -0.4606387709597875,
          1.0571222262189157,
          0.3436182895684614,
          -1.763040155362734,
          0.324083969394795,
          -0.38508228041631654,
          -0.6769220003059587,
          0.6116762888408679,
          1.030999522495951,
          0.9312801191161986,
          -0.8392175232226385,
          -0.3092123758512146,
          0.33126343140356396,
          0.9755451271223592,
          -0.47917423784528995,
          -0.18565897666381712,
          -1.1063349740060282,
          -1.1962066240806708,
          0.812525822394198,
          1.356240028570823,
          -0.07201012158033385,
          1.0035328978920242,
          0.36163602504763415,
          -0.6451197546051243,
          0.36139560550841393,
          1.5380365664659692,
          -0.03582603910995154,
          1.5646436558140062,
          -2.6197451040897444,
          0.8219025043752238,
          0.08704706823817122,
          -0.29900735046586746,
          0.0917607765355023,
          -1.9875689146008928,
          -0.21967188783751193,
          0.3571125715117464,
          1.477894044741516,
          -0.5182702182736474,
          -0.8084936028931876,
          -0.5017570435845365,
          0.9154021177020741,
          0.32875110965968446,
          -0.5297602037670388,
          0.5132674331133561,
          0.09707754934804039,
          0.9686449905328892,
          -0.7020530938773524,
          -0.3276621465977682,
          -0.39210815313215763,
          -1.4635149481321186,
          0.29612027706457605,
          0.26105527217988933,
          0.00511345664246089,
          -0.23458713337514692
         ]
        },
        {
         "line": {
          "color": "purple",
          "width": 2
         },
         "mode": "lines",
         "name": "MACD",
         "type": "scatter",
         "x": [
          "2023-01-01T00:00:00",
          "2023-01-02T00:00:00",
          "2023-01-03T00:00:00",
          "2023-01-04T00:00:00",
          "2023-01-05T00:00:00",
          "2023-01-06T00:00:00",
          "2023-01-07T00:00:00",
          "2023-01-08T00:00:00",
          "2023-01-09T00:00:00",
          "2023-01-10T00:00:00",
          "2023-01-11T00:00:00",
          "2023-01-12T00:00:00",
          "2023-01-13T00:00:00",
          "2023-01-14T00:00:00",
          "2023-01-15T00:00:00",
          "2023-01-16T00:00:00",
          "2023-01-17T00:00:00",
          "2023-01-18T00:00:00",
          "2023-01-19T00:00:00",
          "2023-01-20T00:00:00",
          "2023-01-21T00:00:00",
          "2023-01-22T00:00:00",
          "2023-01-23T00:00:00",
          "2023-01-24T00:00:00",
          "2023-01-25T00:00:00",
          "2023-01-26T00:00:00",
          "2023-01-27T00:00:00",
          "2023-01-28T00:00:00",
          "2023-01-29T00:00:00",
          "2023-01-30T00:00:00",
          "2023-01-31T00:00:00",
          "2023-02-01T00:00:00",
          "2023-02-02T00:00:00",
          "2023-02-03T00:00:00",
          "2023-02-04T00:00:00",
          "2023-02-05T00:00:00",
          "2023-02-06T00:00:00",
          "2023-02-07T00:00:00",
          "2023-02-08T00:00:00",
          "2023-02-09T00:00:00",
          "2023-02-10T00:00:00",
          "2023-02-11T00:00:00",
          "2023-02-12T00:00:00",
          "2023-02-13T00:00:00",
          "2023-02-14T00:00:00",
          "2023-02-15T00:00:00",
          "2023-02-16T00:00:00",
          "2023-02-17T00:00:00",
          "2023-02-18T00:00:00",
          "2023-02-19T00:00:00",
          "2023-02-20T00:00:00",
          "2023-02-21T00:00:00",
          "2023-02-22T00:00:00",
          "2023-02-23T00:00:00",
          "2023-02-24T00:00:00",
          "2023-02-25T00:00:00",
          "2023-02-26T00:00:00",
          "2023-02-27T00:00:00",
          "2023-02-28T00:00:00",
          "2023-03-01T00:00:00",
          "2023-03-02T00:00:00",
          "2023-03-03T00:00:00",
          "2023-03-04T00:00:00",
          "2023-03-05T00:00:00",
          "2023-03-06T00:00:00",
          "2023-03-07T00:00:00",
          "2023-03-08T00:00:00",
          "2023-03-09T00:00:00",
          "2023-03-10T00:00:00",
          "2023-03-11T00:00:00",
          "2023-03-12T00:00:00",
          "2023-03-13T00:00:00",
          "2023-03-14T00:00:00",
          "2023-03-15T00:00:00",
          "2023-03-16T00:00:00",
          "2023-03-17T00:00:00",
          "2023-03-18T00:00:00",
          "2023-03-19T00:00:00",
          "2023-03-20T00:00:00",
          "2023-03-21T00:00:00",
          "2023-03-22T00:00:00",
          "2023-03-23T00:00:00",
          "2023-03-24T00:00:00",
          "2023-03-25T00:00:00",
          "2023-03-26T00:00:00",
          "2023-03-27T00:00:00",
          "2023-03-28T00:00:00",
          "2023-03-29T00:00:00",
          "2023-03-30T00:00:00",
          "2023-03-31T00:00:00",
          "2023-04-01T00:00:00",
          "2023-04-02T00:00:00",
          "2023-04-03T00:00:00",
          "2023-04-04T00:00:00",
          "2023-04-05T00:00:00",
          "2023-04-06T00:00:00",
          "2023-04-07T00:00:00",
          "2023-04-08T00:00:00",
          "2023-04-09T00:00:00",
          "2023-04-10T00:00:00"
         ],
         "y": [
          0,
          -0.05065355190059173,
          -0.02706504211554267,
          0.061552215069517024,
          -0.009893920560297031,
          -0.06575617673773676,
          0.035881139179468446,
          0.050345386765189404,
          -0.037566774726114305,
          -0.025283621690839087,
          -0.09562087253896423,
          -0.14982314659678983,
          -0.1341278647611737,
          -0.2922306467851856,
          -0.397744022652448,
          -0.38313306476432746,
          -0.40326034360286356,
          -0.3085702114779474,
          -0.3283694486488814,
          -0.38036700406257257,
          -0.1871909087785928,
          -0.16863738201283124,
          -0.12878183918228817,
          -0.2151303785273314,
          -0.21010215595897214,
          -0.151493270976875,
          -0.20451388700455742,
          -0.12193624933530148,
          -0.13373349285387343,
          -0.11680713864497602,
          -0.12694498532926285,
          0.062318394761368384,
          0.061054703841042744,
          -0.023930246405557798,
          0.0597507314219681,
          -0.0383735243079355,
          -0.0007634769266533781,
          -0.14427665980758692,
          -0.20469678674077418,
          -0.12804557245636355,
          -0.023327008770966412,
          0.013744674083779385,
          0.019736897185004654,
          0.009412572952718523,
          -0.09270865698881259,
          -0.1111403541703786,
          -0.10363722898539673,
          0.024497290281883327,
          0.06769071880371166,
          -0.06729220566861177,
          -0.005786963258365807,
          -0.014104813625488433,
          -0.04374157075758739,
          0.036331392683478986,
          0.132102873931062,
          0.19767724017815036,
          0.10556415690678071,
          0.07447238938298045,
          0.10035614145294286,
          0.1708874654801627,
          0.1081536250997371,
          0.08118498324237315,
          -0.014313718664539954,
          -0.09614076809996142,
          0.001086106483956767,
          0.1206218439699601,
          0.09896610672932957,
          0.16666984569552704,
          0.1666092656193996,
          0.08435211914165067,
          0.09923618274629886,
          0.2036296860713832,
          0.15754860833345408,
          0.24732257028959798,
          -0.018957589313034123,
          0.047181782491944324,
          0.03984174803201218,
          0.002840607882945309,
          0.004991125214891694,
          -0.1592533294471977,
          -0.14509120684010687,
          -0.08633076978572041,
          0.050097505198703256,
          -0.0028233317372024155,
          -0.06740507418669636,
          -0.09276614317878132,
          0.0014709711115801355,
          0.028488333847238718,
          -0.019154103073077813,
          0.026941965564689502,
          0.029549755501152214,
          0.10078289385926736,
          0.022168748872252585,
          -0.009810220766179639,
          -0.039894163645003144,
          -0.14847791833758253,
          -0.09148884301450999,
          -0.04859388304547363,
          -0.03484995515767052,
          -0.0428061845899112
         ]
        },
        {
         "line": {
          "color": "orange",
          "width": 2
         },
         "mode": "lines",
         "name": "MACD Signal",
         "type": "scatter",
         "x": [
          "2023-01-01T00:00:00",
          "2023-01-02T00:00:00",
          "2023-01-03T00:00:00",
          "2023-01-04T00:00:00",
          "2023-01-05T00:00:00",
          "2023-01-06T00:00:00",
          "2023-01-07T00:00:00",
          "2023-01-08T00:00:00",
          "2023-01-09T00:00:00",
          "2023-01-10T00:00:00",
          "2023-01-11T00:00:00",
          "2023-01-12T00:00:00",
          "2023-01-13T00:00:00",
          "2023-01-14T00:00:00",
          "2023-01-15T00:00:00",
          "2023-01-16T00:00:00",
          "2023-01-17T00:00:00",
          "2023-01-18T00:00:00",
          "2023-01-19T00:00:00",
          "2023-01-20T00:00:00",
          "2023-01-21T00:00:00",
          "2023-01-22T00:00:00",
          "2023-01-23T00:00:00",
          "2023-01-24T00:00:00",
          "2023-01-25T00:00:00",
          "2023-01-26T00:00:00",
          "2023-01-27T00:00:00",
          "2023-01-28T00:00:00",
          "2023-01-29T00:00:00",
          "2023-01-30T00:00:00",
          "2023-01-31T00:00:00",
          "2023-02-01T00:00:00",
          "2023-02-02T00:00:00",
          "2023-02-03T00:00:00",
          "2023-02-04T00:00:00",
          "2023-02-05T00:00:00",
          "2023-02-06T00:00:00",
          "2023-02-07T00:00:00",
          "2023-02-08T00:00:00",
          "2023-02-09T00:00:00",
          "2023-02-10T00:00:00",
          "2023-02-11T00:00:00",
          "2023-02-12T00:00:00",
          "2023-02-13T00:00:00",
          "2023-02-14T00:00:00",
          "2023-02-15T00:00:00",
          "2023-02-16T00:00:00",
          "2023-02-17T00:00:00",
          "2023-02-18T00:00:00",
          "2023-02-19T00:00:00",
          "2023-02-20T00:00:00",
          "2023-02-21T00:00:00",
          "2023-02-22T00:00:00",
          "2023-02-23T00:00:00",
          "2023-02-24T00:00:00",
          "2023-02-25T00:00:00",
          "2023-02-26T00:00:00",
          "2023-02-27T00:00:00",
          "2023-02-28T00:00:00",
          "2023-03-01T00:00:00",
          "2023-03-02T00:00:00",
          "2023-03-03T00:00:00",
          "2023-03-04T00:00:00",
          "2023-03-05T00:00:00",
          "2023-03-06T00:00:00",
          "2023-03-07T00:00:00",
          "2023-03-08T00:00:00",
          "2023-03-09T00:00:00",
          "2023-03-10T00:00:00",
          "2023-03-11T00:00:00",
          "2023-03-12T00:00:00",
          "2023-03-13T00:00:00",
          "2023-03-14T00:00:00",
          "2023-03-15T00:00:00",
          "2023-03-16T00:00:00",
          "2023-03-17T00:00:00",
          "2023-03-18T00:00:00",
          "2023-03-19T00:00:00",
          "2023-03-20T00:00:00",
          "2023-03-21T00:00:00",
          "2023-03-22T00:00:00",
          "2023-03-23T00:00:00",
          "2023-03-24T00:00:00",
          "2023-03-25T00:00:00",
          "2023-03-26T00:00:00",
          "2023-03-27T00:00:00",
          "2023-03-28T00:00:00",
          "2023-03-29T00:00:00",
          "2023-03-30T00:00:00",
          "2023-03-31T00:00:00",
          "2023-04-01T00:00:00",
          "2023-04-02T00:00:00",
          "2023-04-03T00:00:00",
          "2023-04-04T00:00:00",
          "2023-04-05T00:00:00",
          "2023-04-06T00:00:00",
          "2023-04-07T00:00:00",
          "2023-04-08T00:00:00",
          "2023-04-09T00:00:00",
          "2023-04-10T00:00:00"
         ],
         "y": [
          0,
          -0.010130710380118348,
          -0.013517576727203212,
          0.0014963816321408342,
          -0.000781678806346739,
          -0.013776578392624745,
          -0.0038450348782061074,
          0.006993049450472995,
          -0.0019189153848444655,
          -0.006591856646043391,
          -0.02439765982462756,
          -0.04948275717906002,
          -0.06641177869548276,
          -0.11157555231342334,
          -0.1688092463812283,
          -0.21167401005784814,
          -0.24999127676685123,
          -0.2617070637090705,
          -0.2750395406970327,
          -0.29610503337014066,
          -0.2743222084518311,
          -0.2531852431640311,
          -0.22830456236768254,
          -0.22566972559961235,
          -0.22255621167148432,
          -0.20834362353256247,
          -0.2075776762269615,
          -0.1904493908486295,
          -0.1791062112496783,
          -0.16664639672873785,
          -0.15870611444884286,
          -0.1145012126068006,
          -0.07939002931723194,
          -0.06829807273489712,
          -0.042688311903524075,
          -0.04182535438440636,
          -0.03361297889285577,
          -0.055745715075802005,
          -0.08553592940879645,
          -0.09403785801830988,
          -0.07989568816884118,
          -0.06116761571831707,
          -0.04498671313765273,
          -0.034106855919578474,
          -0.0458272161334253,
          -0.05888984374081596,
          -0.06783932078973212,
          -0.04937199857540904,
          -0.025959455099584902,
          -0.03422600521339028,
          -0.028538196822385387,
          -0.025651520183005996,
          -0.02926953029792228,
          -0.016149345701642028,
          0.013501098224898776,
          0.0503363266155491,
          0.06138189267379543,
          0.06399999201563245,
          0.07127122190309454,
          0.09119447061850817,
          0.09458630151475396,
          0.09190603786027782,
          0.07066208655531427,
          0.03730151562425913,
          0.030058433796198658,
          0.04817111583095095,
          0.05833011401062668,
          0.07999806034760676,
          0.09732030140196533,
          0.09472666494990241,
          0.0956285685091817,
          0.11722879202162201,
          0.12529275528398842,
          0.14969871828511033,
          0.11596745676548144,
          0.10221032191077402,
          0.08973660713502166,
          0.07235740728460639,
          0.05888415087066346,
          0.015256654807091229,
          -0.016812917522348394,
          -0.0307164879750228,
          -0.014553689340277589,
          -0.012207617819662555,
          -0.023247109093069318,
          -0.03715091591021172,
          -0.029426538505853347,
          -0.017843564035234932,
          -0.018105671842803508,
          -0.009096144361304907,
          -0.0013669643888134823,
          0.01906300726080269,
          0.01968415558309267,
          0.01378528031323821,
          0.00304939152158994,
          -0.027256070450244557,
          -0.04010262496309765,
          -0.04180087657957284,
          -0.040410692295192376,
          -0.04088979075413614
         ]
        },
        {
         "marker": {
          "color": "green",
          "size": 10,
          "symbol": "triangle-up"
         },
         "mode": "markers",
         "name": "Buy Signal",
         "type": "scatter",
         "x": [
          "2023-01-04T00:00:00",
          "2023-01-07T00:00:00",
          "2023-01-21T00:00:00",
          "2023-02-10T00:00:00",
          "2023-02-17T00:00:00",
          "2023-02-20T00:00:00",
          "2023-02-23T00:00:00",
          "2023-03-07T00:00:00",
          "2023-03-12T00:00:00",
          "2023-03-24T00:00:00",
          "2023-03-28T00:00:00",
          "2023-03-31T00:00:00",
          "2023-04-09T00:00:00"
         ],
         "y": [
          1.5230298564080254,
          1.5792128155073915,
          1.465648768921554,
          0.7384665799954104,
          1.0571222262189157,
          0.324083969394795,
          0.6116762888408679,
          1.356240028570823,
          0.36139560550841393,
          1.477894044741516,
          0.9154021177020741,
          0.5132674331133561,
          0.00511345664246089
         ]
        },
        {
         "marker": {
          "color": "red",
          "size": 10,
          "symbol": "triangle-down"
         },
         "mode": "markers",
         "name": "Sell Signal",
         "type": "scatter",
         "x": [
          "2023-01-05T00:00:00",
          "2023-01-09T00:00:00",
          "2023-02-07T00:00:00",
          "2023-02-14T00:00:00",
          "2023-02-19T00:00:00",
          "2023-02-22T00:00:00",
          "2023-03-03T00:00:00",
          "2023-03-11T00:00:00",
          "2023-03-16T00:00:00",
          "2023-03-26T00:00:00",
          "2023-03-30T00:00:00",
          "2023-04-04T00:00:00",
          "2023-04-10T00:00:00"
         ],
         "y": [
          -0.23415337472333597,
          -0.4694743859349521,
          -1.9596701238797756,
          -1.4785219903674274,
          -1.763040155362734,
          -0.6769220003059587,
          -0.18565897666381712,
          -0.6451197546051243,
          -2.6197451040897444,
          -0.8084936028931876,
          -0.5297602037670388,
          -0.3276621465977682,
          -0.23458713337514692
         ]
        }
       ],
       "layout": {
        "showlegend": true,
        "template": {
         "data": {
          "bar": [
           {
            "error_x": {
             "color": "#2a3f5f"
            },
            "error_y": {
             "color": "#2a3f5f"
            },
            "marker": {
             "line": {
              "color": "#E5ECF6",
              "width": 0.5
             },
             "pattern": {
              "fillmode": "overlay",
              "size": 10,
              "solidity": 0.2
             }
            },
            "type": "bar"
           }
          ],
          "barpolar": [
           {
            "marker": {
             "line": {
              "color": "#E5ECF6",
              "width": 0.5
             },
             "pattern": {
              "fillmode": "overlay",
              "size": 10,
              "solidity": 0.2
             }
            },
            "type": "barpolar"
           }
          ],
          "carpet": [
           {
            "aaxis": {
             "endlinecolor": "#2a3f5f",
             "gridcolor": "white",
             "linecolor": "white",
             "minorgridcolor": "white",
             "startlinecolor": "#2a3f5f"
            },
            "baxis": {
             "endlinecolor": "#2a3f5f",
             "gridcolor": "white",
             "linecolor": "white",
             "minorgridcolor": "white",
             "startlinecolor": "#2a3f5f"
            },
            "type": "carpet"
           }
          ],
          "choropleth": [
           {
            "colorbar": {
             "outlinewidth": 0,
             "ticks": ""
            },
            "type": "choropleth"
           }
          ],
          "contour": [
           {
            "colorbar": {
             "outlinewidth": 0,
             "ticks": ""
            },
            "colorscale": [
             [
              0,
              "#0d0887"
             ],
             [
              0.1111111111111111,
              "#46039f"
             ],
             [
              0.2222222222222222,
              "#7201a8"
             ],
             [
              0.3333333333333333,
              "#9c179e"
             ],
             [
              0.4444444444444444,
              "#bd3786"
             ],
             [
              0.5555555555555556,
              "#d8576b"
             ],
             [
              0.6666666666666666,
              "#ed7953"
             ],
             [
              0.7777777777777778,
              "#fb9f3a"
             ],
             [
              0.8888888888888888,
              "#fdca26"
             ],
             [
              1,
              "#f0f921"
             ]
            ],
            "type": "contour"
           }
          ],
          "contourcarpet": [
           {
            "colorbar": {
             "outlinewidth": 0,
             "ticks": ""
            },
            "type": "contourcarpet"
           }
          ],
          "heatmap": [
           {
            "colorbar": {
             "outlinewidth": 0,
             "ticks": ""
            },
            "colorscale": [
             [
              0,
              "#0d0887"
             ],
             [
              0.1111111111111111,
              "#46039f"
             ],
             [
              0.2222222222222222,
              "#7201a8"
             ],
             [
              0.3333333333333333,
              "#9c179e"
             ],
             [
              0.4444444444444444,
              "#bd3786"
             ],
             [
              0.5555555555555556,
              "#d8576b"
             ],
             [
              0.6666666666666666,
              "#ed7953"
             ],
             [
              0.7777777777777778,
              "#fb9f3a"
             ],
             [
              0.8888888888888888,
              "#fdca26"
             ],
             [
              1,
              "#f0f921"
             ]
            ],
            "type": "heatmap"
           }
          ],
          "heatmapgl": [
           {
            "colorbar": {
             "outlinewidth": 0,
             "ticks": ""
            },
            "colorscale": [
             [
              0,
              "#0d0887"
             ],
             [
              0.1111111111111111,
              "#46039f"
             ],
             [
              0.2222222222222222,
              "#7201a8"
             ],
             [
              0.3333333333333333,
              "#9c179e"
             ],
             [
              0.4444444444444444,
              "#bd3786"
             ],
             [
              0.5555555555555556,
              "#d8576b"
             ],
             [
              0.6666666666666666,
              "#ed7953"
             ],
             [
              0.7777777777777778,
              "#fb9f3a"
             ],
             [
              0.8888888888888888,
              "#fdca26"
             ],
             [
              1,
              "#f0f921"
             ]
            ],
            "type": "heatmapgl"
           }
          ],
          "histogram": [
           {
            "marker": {
             "pattern": {
              "fillmode": "overlay",
              "size": 10,
              "solidity": 0.2
             }
            },
            "type": "histogram"
           }
          ],
          "histogram2d": [
           {
            "colorbar": {
             "outlinewidth": 0,
             "ticks": ""
            },
            "colorscale": [
             [
              0,
              "#0d0887"
             ],
             [
              0.1111111111111111,
              "#46039f"
             ],
             [
              0.2222222222222222,
              "#7201a8"
             ],
             [
              0.3333333333333333,
              "#9c179e"
             ],
             [
              0.4444444444444444,
              "#bd3786"
             ],
             [
              0.5555555555555556,
              "#d8576b"
             ],
             [
              0.6666666666666666,
              "#ed7953"
             ],
             [
              0.7777777777777778,
              "#fb9f3a"
             ],
             [
              0.8888888888888888,
              "#fdca26"
             ],
             [
              1,
              "#f0f921"
             ]
            ],
            "type": "histogram2d"
           }
          ],
          "histogram2dcontour": [
           {
            "colorbar": {
             "outlinewidth": 0,
             "ticks": ""
            },
            "colorscale": [
             [
              0,
              "#0d0887"
             ],
             [
              0.1111111111111111,
              "#46039f"
             ],
             [
              0.2222222222222222,
              "#7201a8"
             ],
             [
              0.3333333333333333,
              "#9c179e"
             ],
             [
              0.4444444444444444,
              "#bd3786"
             ],
             [
              0.5555555555555556,
              "#d8576b"
             ],
             [
              0.6666666666666666,
              "#ed7953"
             ],
             [
              0.7777777777777778,
              "#fb9f3a"
             ],
             [
              0.8888888888888888,
              "#fdca26"
             ],
             [
              1,
              "#f0f921"
             ]
            ],
            "type": "histogram2dcontour"
           }
          ],
          "mesh3d": [
           {
            "colorbar": {
             "outlinewidth": 0,
             "ticks": ""
            },
            "type": "mesh3d"
           }
          ],
          "parcoords": [
           {
            "line": {
             "colorbar": {
              "outlinewidth": 0,
              "ticks": ""
             }
            },
            "type": "parcoords"
           }
          ],
          "pie": [
           {
            "automargin": true,
            "type": "pie"
           }
          ],
          "scatter": [
           {
            "fillpattern": {
             "fillmode": "overlay",
             "size": 10,
             "solidity": 0.2
            },
            "type": "scatter"
           }
          ],
          "scatter3d": [
           {
            "line": {
             "colorbar": {
              "outlinewidth": 0,
              "ticks": ""
             }
            },
            "marker": {
             "colorbar": {
              "outlinewidth": 0,
              "ticks": ""
             }
            },
            "type": "scatter3d"
           }
          ],
          "scattercarpet": [
           {
            "marker": {
             "colorbar": {
              "outlinewidth": 0,
              "ticks": ""
             }
            },
            "type": "scattercarpet"
           }
          ],
          "scattergeo": [
           {
            "marker": {
             "colorbar": {
              "outlinewidth": 0,
              "ticks": ""
             }
            },
            "type": "scattergeo"
           }
          ],
          "scattergl": [
           {
            "marker": {
             "colorbar": {
              "outlinewidth": 0,
              "ticks": ""
             }
            },
            "type": "scattergl"
           }
          ],
          "scattermapbox": [
           {
            "marker": {
             "colorbar": {
              "outlinewidth": 0,
              "ticks": ""
             }
            },
            "type": "scattermapbox"
           }
          ],
          "scatterpolar": [
           {
            "marker": {
             "colorbar": {
              "outlinewidth": 0,
              "ticks": ""
             }
            },
            "type": "scatterpolar"
           }
          ],
          "scatterpolargl": [
           {
            "marker": {
             "colorbar": {
              "outlinewidth": 0,
              "ticks": ""
             }
            },
            "type": "scatterpolargl"
           }
          ],
          "scatterternary": [
           {
            "marker": {
             "colorbar": {
              "outlinewidth": 0,
              "ticks": ""
             }
            },
            "type": "scatterternary"
           }
          ],
          "surface": [
           {
            "colorbar": {
             "outlinewidth": 0,
             "ticks": ""
            },
            "colorscale": [
             [
              0,
              "#0d0887"
             ],
             [
              0.1111111111111111,
              "#46039f"
             ],
             [
              0.2222222222222222,
              "#7201a8"
             ],
             [
              0.3333333333333333,
              "#9c179e"
             ],
             [
              0.4444444444444444,
              "#bd3786"
             ],
             [
              0.5555555555555556,
              "#d8576b"
             ],
             [
              0.6666666666666666,
              "#ed7953"
             ],
             [
              0.7777777777777778,
              "#fb9f3a"
             ],
             [
              0.8888888888888888,
              "#fdca26"
             ],
             [
              1,
              "#f0f921"
             ]
            ],
            "type": "surface"
           }
          ],
          "table": [
           {
            "cells": {
             "fill": {
              "color": "#EBF0F8"
             },
             "line": {
              "color": "white"
             }
            },
            "header": {
             "fill": {
              "color": "#C8D4E3"
             },
             "line": {
              "color": "white"
             }
            },
            "type": "table"
           }
          ]
         },
         "layout": {
          "annotationdefaults": {
           "arrowcolor": "#2a3f5f",
           "arrowhead": 0,
           "arrowwidth": 1
          },
          "autotypenumbers": "strict",
          "coloraxis": {
           "colorbar": {
            "outlinewidth": 0,
            "ticks": ""
           }
          },
          "colorscale": {
           "diverging": [
            [
             0,
             "#8e0152"
            ],
            [
             0.1,
             "#c51b7d"
            ],
            [
             0.2,
             "#de77ae"
            ],
            [
             0.3,
             "#f1b6da"
            ],
            [
             0.4,
             "#fde0ef"
            ],
            [
             0.5,
             "#f7f7f7"
            ],
            [
             0.6,
             "#e6f5d0"
            ],
            [
             0.7,
             "#b8e186"
            ],
            [
             0.8,
             "#7fbc41"
            ],
            [
             0.9,
             "#4d9221"
            ],
            [
             1,
             "#276419"
            ]
           ],
           "sequential": [
            [
             0,
             "#0d0887"
            ],
            [
             0.1111111111111111,
             "#46039f"
            ],
            [
             0.2222222222222222,
             "#7201a8"
            ],
            [
             0.3333333333333333,
             "#9c179e"
            ],
            [
             0.4444444444444444,
             "#bd3786"
            ],
            [
             0.5555555555555556,
             "#d8576b"
            ],
            [
             0.6666666666666666,
             "#ed7953"
            ],
            [
             0.7777777777777778,
             "#fb9f3a"
            ],
            [
             0.8888888888888888,
             "#fdca26"
            ],
            [
             1,
             "#f0f921"
            ]
           ],
           "sequentialminus": [
            [
             0,
             "#0d0887"
            ],
            [
             0.1111111111111111,
             "#46039f"
            ],
            [
             0.2222222222222222,
             "#7201a8"
            ],
            [
             0.3333333333333333,
             "#9c179e"
            ],
            [
             0.4444444444444444,
             "#bd3786"
            ],
            [
             0.5555555555555556,
             "#d8576b"
            ],
            [
             0.6666666666666666,
             "#ed7953"
            ],
            [
             0.7777777777777778,
             "#fb9f3a"
            ],
            [
             0.8888888888888888,
             "#fdca26"
            ],
            [
             1,
             "#f0f921"
            ]
           ]
          },
          "colorway": [
           "#636efa",
           "#EF553B",
           "#00cc96",
           "#ab63fa",
           "#FFA15A",
           "#19d3f3",
           "#FF6692",
           "#B6E880",
           "#FF97FF",
           "#FECB52"
          ],
          "font": {
           "color": "#2a3f5f"
          },
          "geo": {
           "bgcolor": "white",
           "lakecolor": "white",
           "landcolor": "#E5ECF6",
           "showlakes": true,
           "showland": true,
           "subunitcolor": "white"
          },
          "hoverlabel": {
           "align": "left"
          },
          "hovermode": "closest",
          "mapbox": {
           "style": "light"
          },
          "paper_bgcolor": "white",
          "plot_bgcolor": "#E5ECF6",
          "polar": {
           "angularaxis": {
            "gridcolor": "white",
            "linecolor": "white",
            "ticks": ""
           },
           "bgcolor": "#E5ECF6",
           "radialaxis": {
            "gridcolor": "white",
            "linecolor": "white",
            "ticks": ""
           }
          },
          "scene": {
           "xaxis": {
            "backgroundcolor": "#E5ECF6",
            "gridcolor": "white",
            "gridwidth": 2,
            "linecolor": "white",
            "showbackground": true,
            "ticks": "",
            "zerolinecolor": "white"
           },
           "yaxis": {
            "backgroundcolor": "#E5ECF6",
            "gridcolor": "white",
            "gridwidth": 2,
            "linecolor": "white",
            "showbackground": true,
            "ticks": "",
            "zerolinecolor": "white"
           },
           "zaxis": {
            "backgroundcolor": "#E5ECF6",
            "gridcolor": "white",
            "gridwidth": 2,
            "linecolor": "white",
            "showbackground": true,
            "ticks": "",
            "zerolinecolor": "white"
           }
          },
          "shapedefaults": {
           "line": {
            "color": "#2a3f5f"
           }
          },
          "ternary": {
           "aaxis": {
            "gridcolor": "white",
            "linecolor": "white",
            "ticks": ""
           },
           "baxis": {
            "gridcolor": "white",
            "linecolor": "white",
            "ticks": ""
           },
           "bgcolor": "#E5ECF6",
           "caxis": {
            "gridcolor": "white",
            "linecolor": "white",
            "ticks": ""
           }
          },
          "title": {
           "x": 0.05
          },
          "xaxis": {
           "automargin": true,
           "gridcolor": "white",
           "linecolor": "white",
           "ticks": "",
           "title": {
            "standoff": 15
           },
           "zerolinecolor": "white",
           "zerolinewidth": 2
          },
          "yaxis": {
           "automargin": true,
           "gridcolor": "white",
           "linecolor": "white",
           "ticks": "",
           "title": {
            "standoff": 15
           },
           "zerolinecolor": "white",
           "zerolinewidth": 2
          }
         }
        },
        "title": {
         "text": "MACD and Trading Signals"
        },
        "xaxis": {
         "rangeslider": {
          "visible": false
         },
         "title": {
          "text": "Date"
         }
        },
        "yaxis": {
         "title": {
          "text": "Price"
         }
        }
       }
      },
      "text/html": [
       "<div>                            <div id=\"5950f20a-f39c-4bef-8eb5-2f97d9e04215\" class=\"plotly-graph-div\" style=\"height:525px; width:100%;\"></div>            <script type=\"text/javascript\">                require([\"plotly\"], function(Plotly) {                    window.PLOTLYENV=window.PLOTLYENV || {};                                    if (document.getElementById(\"5950f20a-f39c-4bef-8eb5-2f97d9e04215\")) {                    Plotly.newPlot(                        \"5950f20a-f39c-4bef-8eb5-2f97d9e04215\",                        [{\"line\":{\"color\":\"lightblue\",\"width\":3},\"mode\":\"lines\",\"name\":\"Close Price\",\"x\":[\"2023-01-01T00:00:00\",\"2023-01-02T00:00:00\",\"2023-01-03T00:00:00\",\"2023-01-04T00:00:00\",\"2023-01-05T00:00:00\",\"2023-01-06T00:00:00\",\"2023-01-07T00:00:00\",\"2023-01-08T00:00:00\",\"2023-01-09T00:00:00\",\"2023-01-10T00:00:00\",\"2023-01-11T00:00:00\",\"2023-01-12T00:00:00\",\"2023-01-13T00:00:00\",\"2023-01-14T00:00:00\",\"2023-01-15T00:00:00\",\"2023-01-16T00:00:00\",\"2023-01-17T00:00:00\",\"2023-01-18T00:00:00\",\"2023-01-19T00:00:00\",\"2023-01-20T00:00:00\",\"2023-01-21T00:00:00\",\"2023-01-22T00:00:00\",\"2023-01-23T00:00:00\",\"2023-01-24T00:00:00\",\"2023-01-25T00:00:00\",\"2023-01-26T00:00:00\",\"2023-01-27T00:00:00\",\"2023-01-28T00:00:00\",\"2023-01-29T00:00:00\",\"2023-01-30T00:00:00\",\"2023-01-31T00:00:00\",\"2023-02-01T00:00:00\",\"2023-02-02T00:00:00\",\"2023-02-03T00:00:00\",\"2023-02-04T00:00:00\",\"2023-02-05T00:00:00\",\"2023-02-06T00:00:00\",\"2023-02-07T00:00:00\",\"2023-02-08T00:00:00\",\"2023-02-09T00:00:00\",\"2023-02-10T00:00:00\",\"2023-02-11T00:00:00\",\"2023-02-12T00:00:00\",\"2023-02-13T00:00:00\",\"2023-02-14T00:00:00\",\"2023-02-15T00:00:00\",\"2023-02-16T00:00:00\",\"2023-02-17T00:00:00\",\"2023-02-18T00:00:00\",\"2023-02-19T00:00:00\",\"2023-02-20T00:00:00\",\"2023-02-21T00:00:00\",\"2023-02-22T00:00:00\",\"2023-02-23T00:00:00\",\"2023-02-24T00:00:00\",\"2023-02-25T00:00:00\",\"2023-02-26T00:00:00\",\"2023-02-27T00:00:00\",\"2023-02-28T00:00:00\",\"2023-03-01T00:00:00\",\"2023-03-02T00:00:00\",\"2023-03-03T00:00:00\",\"2023-03-04T00:00:00\",\"2023-03-05T00:00:00\",\"2023-03-06T00:00:00\",\"2023-03-07T00:00:00\",\"2023-03-08T00:00:00\",\"2023-03-09T00:00:00\",\"2023-03-10T00:00:00\",\"2023-03-11T00:00:00\",\"2023-03-12T00:00:00\",\"2023-03-13T00:00:00\",\"2023-03-14T00:00:00\",\"2023-03-15T00:00:00\",\"2023-03-16T00:00:00\",\"2023-03-17T00:00:00\",\"2023-03-18T00:00:00\",\"2023-03-19T00:00:00\",\"2023-03-20T00:00:00\",\"2023-03-21T00:00:00\",\"2023-03-22T00:00:00\",\"2023-03-23T00:00:00\",\"2023-03-24T00:00:00\",\"2023-03-25T00:00:00\",\"2023-03-26T00:00:00\",\"2023-03-27T00:00:00\",\"2023-03-28T00:00:00\",\"2023-03-29T00:00:00\",\"2023-03-30T00:00:00\",\"2023-03-31T00:00:00\",\"2023-04-01T00:00:00\",\"2023-04-02T00:00:00\",\"2023-04-03T00:00:00\",\"2023-04-04T00:00:00\",\"2023-04-05T00:00:00\",\"2023-04-06T00:00:00\",\"2023-04-07T00:00:00\",\"2023-04-08T00:00:00\",\"2023-04-09T00:00:00\",\"2023-04-10T00:00:00\"],\"y\":[0.4967141530112327,-0.13826430117118466,0.6476885381006925,1.5230298564080254,-0.23415337472333597,-0.23413695694918055,1.5792128155073915,0.7674347291529088,-0.4694743859349521,0.5425600435859647,-0.46341769281246226,-0.46572975357025687,0.24196227156603412,-1.913280244657798,-1.7249178325130328,-0.5622875292409727,-1.0128311203344238,0.3142473325952739,-0.9080240755212109,-1.4123037013352915,1.465648768921554,-0.22577630048653566,0.06752820468792384,-1.4247481862134568,-0.5443827245251827,0.11092258970986608,-1.1509935774223028,0.37569801834567196,-0.600638689918805,-0.2916937497932768,-0.6017066122293969,1.8522781845089378,-0.013497224737933921,-1.0577109289559004,0.822544912103189,-1.2208436499710222,0.2088635950047554,-1.9596701238797756,-1.3281860488984305,0.19686123586912352,0.7384665799954104,0.1713682811899705,-0.11564828238824053,-0.3011036955892888,-1.4785219903674274,-0.7198442083947086,-0.4606387709597875,1.0571222262189157,0.3436182895684614,-1.763040155362734,0.324083969394795,-0.38508228041631654,-0.6769220003059587,0.6116762888408679,1.030999522495951,0.9312801191161986,-0.8392175232226385,-0.3092123758512146,0.33126343140356396,0.9755451271223592,-0.47917423784528995,-0.18565897666381712,-1.1063349740060282,-1.1962066240806708,0.812525822394198,1.356240028570823,-0.07201012158033385,1.0035328978920242,0.36163602504763415,-0.6451197546051243,0.36139560550841393,1.5380365664659692,-0.03582603910995154,1.5646436558140062,-2.6197451040897444,0.8219025043752238,0.08704706823817122,-0.29900735046586746,0.0917607765355023,-1.9875689146008928,-0.21967188783751193,0.3571125715117464,1.477894044741516,-0.5182702182736474,-0.8084936028931876,-0.5017570435845365,0.9154021177020741,0.32875110965968446,-0.5297602037670388,0.5132674331133561,0.09707754934804039,0.9686449905328892,-0.7020530938773524,-0.3276621465977682,-0.39210815313215763,-1.4635149481321186,0.29612027706457605,0.26105527217988933,0.00511345664246089,-0.23458713337514692],\"type\":\"scatter\"},{\"line\":{\"color\":\"purple\",\"width\":2},\"mode\":\"lines\",\"name\":\"MACD\",\"x\":[\"2023-01-01T00:00:00\",\"2023-01-02T00:00:00\",\"2023-01-03T00:00:00\",\"2023-01-04T00:00:00\",\"2023-01-05T00:00:00\",\"2023-01-06T00:00:00\",\"2023-01-07T00:00:00\",\"2023-01-08T00:00:00\",\"2023-01-09T00:00:00\",\"2023-01-10T00:00:00\",\"2023-01-11T00:00:00\",\"2023-01-12T00:00:00\",\"2023-01-13T00:00:00\",\"2023-01-14T00:00:00\",\"2023-01-15T00:00:00\",\"2023-01-16T00:00:00\",\"2023-01-17T00:00:00\",\"2023-01-18T00:00:00\",\"2023-01-19T00:00:00\",\"2023-01-20T00:00:00\",\"2023-01-21T00:00:00\",\"2023-01-22T00:00:00\",\"2023-01-23T00:00:00\",\"2023-01-24T00:00:00\",\"2023-01-25T00:00:00\",\"2023-01-26T00:00:00\",\"2023-01-27T00:00:00\",\"2023-01-28T00:00:00\",\"2023-01-29T00:00:00\",\"2023-01-30T00:00:00\",\"2023-01-31T00:00:00\",\"2023-02-01T00:00:00\",\"2023-02-02T00:00:00\",\"2023-02-03T00:00:00\",\"2023-02-04T00:00:00\",\"2023-02-05T00:00:00\",\"2023-02-06T00:00:00\",\"2023-02-07T00:00:00\",\"2023-02-08T00:00:00\",\"2023-02-09T00:00:00\",\"2023-02-10T00:00:00\",\"2023-02-11T00:00:00\",\"2023-02-12T00:00:00\",\"2023-02-13T00:00:00\",\"2023-02-14T00:00:00\",\"2023-02-15T00:00:00\",\"2023-02-16T00:00:00\",\"2023-02-17T00:00:00\",\"2023-02-18T00:00:00\",\"2023-02-19T00:00:00\",\"2023-02-20T00:00:00\",\"2023-02-21T00:00:00\",\"2023-02-22T00:00:00\",\"2023-02-23T00:00:00\",\"2023-02-24T00:00:00\",\"2023-02-25T00:00:00\",\"2023-02-26T00:00:00\",\"2023-02-27T00:00:00\",\"2023-02-28T00:00:00\",\"2023-03-01T00:00:00\",\"2023-03-02T00:00:00\",\"2023-03-03T00:00:00\",\"2023-03-04T00:00:00\",\"2023-03-05T00:00:00\",\"2023-03-06T00:00:00\",\"2023-03-07T00:00:00\",\"2023-03-08T00:00:00\",\"2023-03-09T00:00:00\",\"2023-03-10T00:00:00\",\"2023-03-11T00:00:00\",\"2023-03-12T00:00:00\",\"2023-03-13T00:00:00\",\"2023-03-14T00:00:00\",\"2023-03-15T00:00:00\",\"2023-03-16T00:00:00\",\"2023-03-17T00:00:00\",\"2023-03-18T00:00:00\",\"2023-03-19T00:00:00\",\"2023-03-20T00:00:00\",\"2023-03-21T00:00:00\",\"2023-03-22T00:00:00\",\"2023-03-23T00:00:00\",\"2023-03-24T00:00:00\",\"2023-03-25T00:00:00\",\"2023-03-26T00:00:00\",\"2023-03-27T00:00:00\",\"2023-03-28T00:00:00\",\"2023-03-29T00:00:00\",\"2023-03-30T00:00:00\",\"2023-03-31T00:00:00\",\"2023-04-01T00:00:00\",\"2023-04-02T00:00:00\",\"2023-04-03T00:00:00\",\"2023-04-04T00:00:00\",\"2023-04-05T00:00:00\",\"2023-04-06T00:00:00\",\"2023-04-07T00:00:00\",\"2023-04-08T00:00:00\",\"2023-04-09T00:00:00\",\"2023-04-10T00:00:00\"],\"y\":[0.0,-0.05065355190059173,-0.02706504211554267,0.061552215069517024,-0.009893920560297031,-0.06575617673773676,0.035881139179468446,0.050345386765189404,-0.037566774726114305,-0.025283621690839087,-0.09562087253896423,-0.14982314659678983,-0.1341278647611737,-0.2922306467851856,-0.397744022652448,-0.38313306476432746,-0.40326034360286356,-0.3085702114779474,-0.3283694486488814,-0.38036700406257257,-0.1871909087785928,-0.16863738201283124,-0.12878183918228817,-0.2151303785273314,-0.21010215595897214,-0.151493270976875,-0.20451388700455742,-0.12193624933530148,-0.13373349285387343,-0.11680713864497602,-0.12694498532926285,0.062318394761368384,0.061054703841042744,-0.023930246405557798,0.0597507314219681,-0.0383735243079355,-0.0007634769266533781,-0.14427665980758692,-0.20469678674077418,-0.12804557245636355,-0.023327008770966412,0.013744674083779385,0.019736897185004654,0.009412572952718523,-0.09270865698881259,-0.1111403541703786,-0.10363722898539673,0.024497290281883327,0.06769071880371166,-0.06729220566861177,-0.005786963258365807,-0.014104813625488433,-0.04374157075758739,0.036331392683478986,0.132102873931062,0.19767724017815036,0.10556415690678071,0.07447238938298045,0.10035614145294286,0.1708874654801627,0.1081536250997371,0.08118498324237315,-0.014313718664539954,-0.09614076809996142,0.001086106483956767,0.1206218439699601,0.09896610672932957,0.16666984569552704,0.1666092656193996,0.08435211914165067,0.09923618274629886,0.2036296860713832,0.15754860833345408,0.24732257028959798,-0.018957589313034123,0.047181782491944324,0.03984174803201218,0.002840607882945309,0.004991125214891694,-0.1592533294471977,-0.14509120684010687,-0.08633076978572041,0.050097505198703256,-0.0028233317372024155,-0.06740507418669636,-0.09276614317878132,0.0014709711115801355,0.028488333847238718,-0.019154103073077813,0.026941965564689502,0.029549755501152214,0.10078289385926736,0.022168748872252585,-0.009810220766179639,-0.039894163645003144,-0.14847791833758253,-0.09148884301450999,-0.04859388304547363,-0.03484995515767052,-0.0428061845899112],\"type\":\"scatter\"},{\"line\":{\"color\":\"orange\",\"width\":2},\"mode\":\"lines\",\"name\":\"MACD Signal\",\"x\":[\"2023-01-01T00:00:00\",\"2023-01-02T00:00:00\",\"2023-01-03T00:00:00\",\"2023-01-04T00:00:00\",\"2023-01-05T00:00:00\",\"2023-01-06T00:00:00\",\"2023-01-07T00:00:00\",\"2023-01-08T00:00:00\",\"2023-01-09T00:00:00\",\"2023-01-10T00:00:00\",\"2023-01-11T00:00:00\",\"2023-01-12T00:00:00\",\"2023-01-13T00:00:00\",\"2023-01-14T00:00:00\",\"2023-01-15T00:00:00\",\"2023-01-16T00:00:00\",\"2023-01-17T00:00:00\",\"2023-01-18T00:00:00\",\"2023-01-19T00:00:00\",\"2023-01-20T00:00:00\",\"2023-01-21T00:00:00\",\"2023-01-22T00:00:00\",\"2023-01-23T00:00:00\",\"2023-01-24T00:00:00\",\"2023-01-25T00:00:00\",\"2023-01-26T00:00:00\",\"2023-01-27T00:00:00\",\"2023-01-28T00:00:00\",\"2023-01-29T00:00:00\",\"2023-01-30T00:00:00\",\"2023-01-31T00:00:00\",\"2023-02-01T00:00:00\",\"2023-02-02T00:00:00\",\"2023-02-03T00:00:00\",\"2023-02-04T00:00:00\",\"2023-02-05T00:00:00\",\"2023-02-06T00:00:00\",\"2023-02-07T00:00:00\",\"2023-02-08T00:00:00\",\"2023-02-09T00:00:00\",\"2023-02-10T00:00:00\",\"2023-02-11T00:00:00\",\"2023-02-12T00:00:00\",\"2023-02-13T00:00:00\",\"2023-02-14T00:00:00\",\"2023-02-15T00:00:00\",\"2023-02-16T00:00:00\",\"2023-02-17T00:00:00\",\"2023-02-18T00:00:00\",\"2023-02-19T00:00:00\",\"2023-02-20T00:00:00\",\"2023-02-21T00:00:00\",\"2023-02-22T00:00:00\",\"2023-02-23T00:00:00\",\"2023-02-24T00:00:00\",\"2023-02-25T00:00:00\",\"2023-02-26T00:00:00\",\"2023-02-27T00:00:00\",\"2023-02-28T00:00:00\",\"2023-03-01T00:00:00\",\"2023-03-02T00:00:00\",\"2023-03-03T00:00:00\",\"2023-03-04T00:00:00\",\"2023-03-05T00:00:00\",\"2023-03-06T00:00:00\",\"2023-03-07T00:00:00\",\"2023-03-08T00:00:00\",\"2023-03-09T00:00:00\",\"2023-03-10T00:00:00\",\"2023-03-11T00:00:00\",\"2023-03-12T00:00:00\",\"2023-03-13T00:00:00\",\"2023-03-14T00:00:00\",\"2023-03-15T00:00:00\",\"2023-03-16T00:00:00\",\"2023-03-17T00:00:00\",\"2023-03-18T00:00:00\",\"2023-03-19T00:00:00\",\"2023-03-20T00:00:00\",\"2023-03-21T00:00:00\",\"2023-03-22T00:00:00\",\"2023-03-23T00:00:00\",\"2023-03-24T00:00:00\",\"2023-03-25T00:00:00\",\"2023-03-26T00:00:00\",\"2023-03-27T00:00:00\",\"2023-03-28T00:00:00\",\"2023-03-29T00:00:00\",\"2023-03-30T00:00:00\",\"2023-03-31T00:00:00\",\"2023-04-01T00:00:00\",\"2023-04-02T00:00:00\",\"2023-04-03T00:00:00\",\"2023-04-04T00:00:00\",\"2023-04-05T00:00:00\",\"2023-04-06T00:00:00\",\"2023-04-07T00:00:00\",\"2023-04-08T00:00:00\",\"2023-04-09T00:00:00\",\"2023-04-10T00:00:00\"],\"y\":[0.0,-0.010130710380118348,-0.013517576727203212,0.0014963816321408342,-0.000781678806346739,-0.013776578392624745,-0.0038450348782061074,0.006993049450472995,-0.0019189153848444655,-0.006591856646043391,-0.02439765982462756,-0.04948275717906002,-0.06641177869548276,-0.11157555231342334,-0.1688092463812283,-0.21167401005784814,-0.24999127676685123,-0.2617070637090705,-0.2750395406970327,-0.29610503337014066,-0.2743222084518311,-0.2531852431640311,-0.22830456236768254,-0.22566972559961235,-0.22255621167148432,-0.20834362353256247,-0.2075776762269615,-0.1904493908486295,-0.1791062112496783,-0.16664639672873785,-0.15870611444884286,-0.1145012126068006,-0.07939002931723194,-0.06829807273489712,-0.042688311903524075,-0.04182535438440636,-0.03361297889285577,-0.055745715075802005,-0.08553592940879645,-0.09403785801830988,-0.07989568816884118,-0.06116761571831707,-0.04498671313765273,-0.034106855919578474,-0.0458272161334253,-0.05888984374081596,-0.06783932078973212,-0.04937199857540904,-0.025959455099584902,-0.03422600521339028,-0.028538196822385387,-0.025651520183005996,-0.02926953029792228,-0.016149345701642028,0.013501098224898776,0.0503363266155491,0.06138189267379543,0.06399999201563245,0.07127122190309454,0.09119447061850817,0.09458630151475396,0.09190603786027782,0.07066208655531427,0.03730151562425913,0.030058433796198658,0.04817111583095095,0.05833011401062668,0.07999806034760676,0.09732030140196533,0.09472666494990241,0.0956285685091817,0.11722879202162201,0.12529275528398842,0.14969871828511033,0.11596745676548144,0.10221032191077402,0.08973660713502166,0.07235740728460639,0.05888415087066346,0.015256654807091229,-0.016812917522348394,-0.0307164879750228,-0.014553689340277589,-0.012207617819662555,-0.023247109093069318,-0.03715091591021172,-0.029426538505853347,-0.017843564035234932,-0.018105671842803508,-0.009096144361304907,-0.0013669643888134823,0.01906300726080269,0.01968415558309267,0.01378528031323821,0.00304939152158994,-0.027256070450244557,-0.04010262496309765,-0.04180087657957284,-0.040410692295192376,-0.04088979075413614],\"type\":\"scatter\"},{\"marker\":{\"color\":\"green\",\"size\":10,\"symbol\":\"triangle-up\"},\"mode\":\"markers\",\"name\":\"Buy Signal\",\"x\":[\"2023-01-04T00:00:00\",\"2023-01-07T00:00:00\",\"2023-01-21T00:00:00\",\"2023-02-10T00:00:00\",\"2023-02-17T00:00:00\",\"2023-02-20T00:00:00\",\"2023-02-23T00:00:00\",\"2023-03-07T00:00:00\",\"2023-03-12T00:00:00\",\"2023-03-24T00:00:00\",\"2023-03-28T00:00:00\",\"2023-03-31T00:00:00\",\"2023-04-09T00:00:00\"],\"y\":[1.5230298564080254,1.5792128155073915,1.465648768921554,0.7384665799954104,1.0571222262189157,0.324083969394795,0.6116762888408679,1.356240028570823,0.36139560550841393,1.477894044741516,0.9154021177020741,0.5132674331133561,0.00511345664246089],\"type\":\"scatter\"},{\"marker\":{\"color\":\"red\",\"size\":10,\"symbol\":\"triangle-down\"},\"mode\":\"markers\",\"name\":\"Sell Signal\",\"x\":[\"2023-01-05T00:00:00\",\"2023-01-09T00:00:00\",\"2023-02-07T00:00:00\",\"2023-02-14T00:00:00\",\"2023-02-19T00:00:00\",\"2023-02-22T00:00:00\",\"2023-03-03T00:00:00\",\"2023-03-11T00:00:00\",\"2023-03-16T00:00:00\",\"2023-03-26T00:00:00\",\"2023-03-30T00:00:00\",\"2023-04-04T00:00:00\",\"2023-04-10T00:00:00\"],\"y\":[-0.23415337472333597,-0.4694743859349521,-1.9596701238797756,-1.4785219903674274,-1.763040155362734,-0.6769220003059587,-0.18565897666381712,-0.6451197546051243,-2.6197451040897444,-0.8084936028931876,-0.5297602037670388,-0.3276621465977682,-0.23458713337514692],\"type\":\"scatter\"}],                        {\"template\":{\"data\":{\"histogram2dcontour\":[{\"type\":\"histogram2dcontour\",\"colorbar\":{\"outlinewidth\":0,\"ticks\":\"\"},\"colorscale\":[[0.0,\"#0d0887\"],[0.1111111111111111,\"#46039f\"],[0.2222222222222222,\"#7201a8\"],[0.3333333333333333,\"#9c179e\"],[0.4444444444444444,\"#bd3786\"],[0.5555555555555556,\"#d8576b\"],[0.6666666666666666,\"#ed7953\"],[0.7777777777777778,\"#fb9f3a\"],[0.8888888888888888,\"#fdca26\"],[1.0,\"#f0f921\"]]}],\"choropleth\":[{\"type\":\"choropleth\",\"colorbar\":{\"outlinewidth\":0,\"ticks\":\"\"}}],\"histogram2d\":[{\"type\":\"histogram2d\",\"colorbar\":{\"outlinewidth\":0,\"ticks\":\"\"},\"colorscale\":[[0.0,\"#0d0887\"],[0.1111111111111111,\"#46039f\"],[0.2222222222222222,\"#7201a8\"],[0.3333333333333333,\"#9c179e\"],[0.4444444444444444,\"#bd3786\"],[0.5555555555555556,\"#d8576b\"],[0.6666666666666666,\"#ed7953\"],[0.7777777777777778,\"#fb9f3a\"],[0.8888888888888888,\"#fdca26\"],[1.0,\"#f0f921\"]]}],\"heatmap\":[{\"type\":\"heatmap\",\"colorbar\":{\"outlinewidth\":0,\"ticks\":\"\"},\"colorscale\":[[0.0,\"#0d0887\"],[0.1111111111111111,\"#46039f\"],[0.2222222222222222,\"#7201a8\"],[0.3333333333333333,\"#9c179e\"],[0.4444444444444444,\"#bd3786\"],[0.5555555555555556,\"#d8576b\"],[0.6666666666666666,\"#ed7953\"],[0.7777777777777778,\"#fb9f3a\"],[0.8888888888888888,\"#fdca26\"],[1.0,\"#f0f921\"]]}],\"heatmapgl\":[{\"type\":\"heatmapgl\",\"colorbar\":{\"outlinewidth\":0,\"ticks\":\"\"},\"colorscale\":[[0.0,\"#0d0887\"],[0.1111111111111111,\"#46039f\"],[0.2222222222222222,\"#7201a8\"],[0.3333333333333333,\"#9c179e\"],[0.4444444444444444,\"#bd3786\"],[0.5555555555555556,\"#d8576b\"],[0.6666666666666666,\"#ed7953\"],[0.7777777777777778,\"#fb9f3a\"],[0.8888888888888888,\"#fdca26\"],[1.0,\"#f0f921\"]]}],\"contourcarpet\":[{\"type\":\"contourcarpet\",\"colorbar\":{\"outlinewidth\":0,\"ticks\":\"\"}}],\"contour\":[{\"type\":\"contour\",\"colorbar\":{\"outlinewidth\":0,\"ticks\":\"\"},\"colorscale\":[[0.0,\"#0d0887\"],[0.1111111111111111,\"#46039f\"],[0.2222222222222222,\"#7201a8\"],[0.3333333333333333,\"#9c179e\"],[0.4444444444444444,\"#bd3786\"],[0.5555555555555556,\"#d8576b\"],[0.6666666666666666,\"#ed7953\"],[0.7777777777777778,\"#fb9f3a\"],[0.8888888888888888,\"#fdca26\"],[1.0,\"#f0f921\"]]}],\"surface\":[{\"type\":\"surface\",\"colorbar\":{\"outlinewidth\":0,\"ticks\":\"\"},\"colorscale\":[[0.0,\"#0d0887\"],[0.1111111111111111,\"#46039f\"],[0.2222222222222222,\"#7201a8\"],[0.3333333333333333,\"#9c179e\"],[0.4444444444444444,\"#bd3786\"],[0.5555555555555556,\"#d8576b\"],[0.6666666666666666,\"#ed7953\"],[0.7777777777777778,\"#fb9f3a\"],[0.8888888888888888,\"#fdca26\"],[1.0,\"#f0f921\"]]}],\"mesh3d\":[{\"type\":\"mesh3d\",\"colorbar\":{\"outlinewidth\":0,\"ticks\":\"\"}}],\"scatter\":[{\"fillpattern\":{\"fillmode\":\"overlay\",\"size\":10,\"solidity\":0.2},\"type\":\"scatter\"}],\"parcoords\":[{\"type\":\"parcoords\",\"line\":{\"colorbar\":{\"outlinewidth\":0,\"ticks\":\"\"}}}],\"scatterpolargl\":[{\"type\":\"scatterpolargl\",\"marker\":{\"colorbar\":{\"outlinewidth\":0,\"ticks\":\"\"}}}],\"bar\":[{\"error_x\":{\"color\":\"#2a3f5f\"},\"error_y\":{\"color\":\"#2a3f5f\"},\"marker\":{\"line\":{\"color\":\"#E5ECF6\",\"width\":0.5},\"pattern\":{\"fillmode\":\"overlay\",\"size\":10,\"solidity\":0.2}},\"type\":\"bar\"}],\"scattergeo\":[{\"type\":\"scattergeo\",\"marker\":{\"colorbar\":{\"outlinewidth\":0,\"ticks\":\"\"}}}],\"scatterpolar\":[{\"type\":\"scatterpolar\",\"marker\":{\"colorbar\":{\"outlinewidth\":0,\"ticks\":\"\"}}}],\"histogram\":[{\"marker\":{\"pattern\":{\"fillmode\":\"overlay\",\"size\":10,\"solidity\":0.2}},\"type\":\"histogram\"}],\"scattergl\":[{\"type\":\"scattergl\",\"marker\":{\"colorbar\":{\"outlinewidth\":0,\"ticks\":\"\"}}}],\"scatter3d\":[{\"type\":\"scatter3d\",\"line\":{\"colorbar\":{\"outlinewidth\":0,\"ticks\":\"\"}},\"marker\":{\"colorbar\":{\"outlinewidth\":0,\"ticks\":\"\"}}}],\"scattermapbox\":[{\"type\":\"scattermapbox\",\"marker\":{\"colorbar\":{\"outlinewidth\":0,\"ticks\":\"\"}}}],\"scatterternary\":[{\"type\":\"scatterternary\",\"marker\":{\"colorbar\":{\"outlinewidth\":0,\"ticks\":\"\"}}}],\"scattercarpet\":[{\"type\":\"scattercarpet\",\"marker\":{\"colorbar\":{\"outlinewidth\":0,\"ticks\":\"\"}}}],\"carpet\":[{\"aaxis\":{\"endlinecolor\":\"#2a3f5f\",\"gridcolor\":\"white\",\"linecolor\":\"white\",\"minorgridcolor\":\"white\",\"startlinecolor\":\"#2a3f5f\"},\"baxis\":{\"endlinecolor\":\"#2a3f5f\",\"gridcolor\":\"white\",\"linecolor\":\"white\",\"minorgridcolor\":\"white\",\"startlinecolor\":\"#2a3f5f\"},\"type\":\"carpet\"}],\"table\":[{\"cells\":{\"fill\":{\"color\":\"#EBF0F8\"},\"line\":{\"color\":\"white\"}},\"header\":{\"fill\":{\"color\":\"#C8D4E3\"},\"line\":{\"color\":\"white\"}},\"type\":\"table\"}],\"barpolar\":[{\"marker\":{\"line\":{\"color\":\"#E5ECF6\",\"width\":0.5},\"pattern\":{\"fillmode\":\"overlay\",\"size\":10,\"solidity\":0.2}},\"type\":\"barpolar\"}],\"pie\":[{\"automargin\":true,\"type\":\"pie\"}]},\"layout\":{\"autotypenumbers\":\"strict\",\"colorway\":[\"#636efa\",\"#EF553B\",\"#00cc96\",\"#ab63fa\",\"#FFA15A\",\"#19d3f3\",\"#FF6692\",\"#B6E880\",\"#FF97FF\",\"#FECB52\"],\"font\":{\"color\":\"#2a3f5f\"},\"hovermode\":\"closest\",\"hoverlabel\":{\"align\":\"left\"},\"paper_bgcolor\":\"white\",\"plot_bgcolor\":\"#E5ECF6\",\"polar\":{\"bgcolor\":\"#E5ECF6\",\"angularaxis\":{\"gridcolor\":\"white\",\"linecolor\":\"white\",\"ticks\":\"\"},\"radialaxis\":{\"gridcolor\":\"white\",\"linecolor\":\"white\",\"ticks\":\"\"}},\"ternary\":{\"bgcolor\":\"#E5ECF6\",\"aaxis\":{\"gridcolor\":\"white\",\"linecolor\":\"white\",\"ticks\":\"\"},\"baxis\":{\"gridcolor\":\"white\",\"linecolor\":\"white\",\"ticks\":\"\"},\"caxis\":{\"gridcolor\":\"white\",\"linecolor\":\"white\",\"ticks\":\"\"}},\"coloraxis\":{\"colorbar\":{\"outlinewidth\":0,\"ticks\":\"\"}},\"colorscale\":{\"sequential\":[[0.0,\"#0d0887\"],[0.1111111111111111,\"#46039f\"],[0.2222222222222222,\"#7201a8\"],[0.3333333333333333,\"#9c179e\"],[0.4444444444444444,\"#bd3786\"],[0.5555555555555556,\"#d8576b\"],[0.6666666666666666,\"#ed7953\"],[0.7777777777777778,\"#fb9f3a\"],[0.8888888888888888,\"#fdca26\"],[1.0,\"#f0f921\"]],\"sequentialminus\":[[0.0,\"#0d0887\"],[0.1111111111111111,\"#46039f\"],[0.2222222222222222,\"#7201a8\"],[0.3333333333333333,\"#9c179e\"],[0.4444444444444444,\"#bd3786\"],[0.5555555555555556,\"#d8576b\"],[0.6666666666666666,\"#ed7953\"],[0.7777777777777778,\"#fb9f3a\"],[0.8888888888888888,\"#fdca26\"],[1.0,\"#f0f921\"]],\"diverging\":[[0,\"#8e0152\"],[0.1,\"#c51b7d\"],[0.2,\"#de77ae\"],[0.3,\"#f1b6da\"],[0.4,\"#fde0ef\"],[0.5,\"#f7f7f7\"],[0.6,\"#e6f5d0\"],[0.7,\"#b8e186\"],[0.8,\"#7fbc41\"],[0.9,\"#4d9221\"],[1,\"#276419\"]]},\"xaxis\":{\"gridcolor\":\"white\",\"linecolor\":\"white\",\"ticks\":\"\",\"title\":{\"standoff\":15},\"zerolinecolor\":\"white\",\"automargin\":true,\"zerolinewidth\":2},\"yaxis\":{\"gridcolor\":\"white\",\"linecolor\":\"white\",\"ticks\":\"\",\"title\":{\"standoff\":15},\"zerolinecolor\":\"white\",\"automargin\":true,\"zerolinewidth\":2},\"scene\":{\"xaxis\":{\"backgroundcolor\":\"#E5ECF6\",\"gridcolor\":\"white\",\"linecolor\":\"white\",\"showbackground\":true,\"ticks\":\"\",\"zerolinecolor\":\"white\",\"gridwidth\":2},\"yaxis\":{\"backgroundcolor\":\"#E5ECF6\",\"gridcolor\":\"white\",\"linecolor\":\"white\",\"showbackground\":true,\"ticks\":\"\",\"zerolinecolor\":\"white\",\"gridwidth\":2},\"zaxis\":{\"backgroundcolor\":\"#E5ECF6\",\"gridcolor\":\"white\",\"linecolor\":\"white\",\"showbackground\":true,\"ticks\":\"\",\"zerolinecolor\":\"white\",\"gridwidth\":2}},\"shapedefaults\":{\"line\":{\"color\":\"#2a3f5f\"}},\"annotationdefaults\":{\"arrowcolor\":\"#2a3f5f\",\"arrowhead\":0,\"arrowwidth\":1},\"geo\":{\"bgcolor\":\"white\",\"landcolor\":\"#E5ECF6\",\"subunitcolor\":\"white\",\"showland\":true,\"showlakes\":true,\"lakecolor\":\"white\"},\"title\":{\"x\":0.05},\"mapbox\":{\"style\":\"light\"}}},\"xaxis\":{\"rangeslider\":{\"visible\":false},\"title\":{\"text\":\"Date\"}},\"title\":{\"text\":\"MACD and Trading Signals\"},\"yaxis\":{\"title\":{\"text\":\"Price\"}},\"showlegend\":true},                        {\"responsive\": true}                    ).then(function(){\n",
       "                            \n",
       "var gd = document.getElementById('5950f20a-f39c-4bef-8eb5-2f97d9e04215');\n",
       "var x = new MutationObserver(function (mutations, observer) {{\n",
       "        var display = window.getComputedStyle(gd).display;\n",
       "        if (!display || display === 'none') {{\n",
       "            console.log([gd, 'removed!']);\n",
       "            Plotly.purge(gd);\n",
       "            observer.disconnect();\n",
       "        }}\n",
       "}});\n",
       "\n",
       "// Listen for the removal of the full notebook cells\n",
       "var notebookContainer = gd.closest('#notebook-container');\n",
       "if (notebookContainer) {{\n",
       "    x.observe(notebookContainer, {childList: true});\n",
       "}}\n",
       "\n",
       "// Listen for the clearing of the current output cell\n",
       "var outputEl = gd.closest('.output');\n",
       "if (outputEl) {{\n",
       "    x.observe(outputEl, {childList: true});\n",
       "}}\n",
       "\n",
       "                        })                };                });            </script>        </div>"
      ]
     },
     "metadata": {},
     "output_type": "display_data"
    }
   ],
   "source": [
    "\n",
    "# Tworzenie przykładowych danych\n",
    "np.random.seed(42)\n",
    "dates = pd.date_range(start='2023-01-01', periods=100, freq='D')\n",
    "df_month = pd.DataFrame({\n",
    "    'Date': dates,\n",
    "    'Close': np.random.randn(100)\n",
    "})\n",
    "df_month.set_index('Date', inplace=True)\n",
    "# Obliczenie 12 i 26 EWM\n",
    "df_month['12Ewm'] = df_month['Close'].ewm(span=12, adjust=False).mean()\n",
    "df_month['26Ewm'] = df_month['Close'].ewm(span=26, adjust=False).mean()\n",
    "\n",
    "# Obliczenie MACD\n",
    "df_month['MACD'] = df_month['12Ewm'] - df_month['26Ewm']\n",
    "\n",
    "# Obliczenie sygnałowej linii MACD\n",
    "df_month['Signal_Line'] = df_month['MACD'].ewm(span=9, adjust=False).mean()\n",
    "\n",
    "# Warunki na sygnały kupna i sprzedaży\n",
    "buy_condition = ((df_month['MACD'].shift(1) < df_month['Signal_Line'].shift(1)) & \n",
    "                 (df_month['MACD'] > df_month['Signal_Line']))\n",
    "sell_condition = ((df_month['MACD'].shift(1) > df_month['Signal_Line'].shift(1)) & \n",
    "                  (df_month['MACD'] < df_month['Signal_Line']))\n",
    "\n",
    "# Decyzje na podstawie MACD\n",
    "df_month['MACD_decision'] = np.where(buy_condition, 1, np.where(sell_condition, -1, 0))\n",
    "\n",
    "# Sygnały kupna i sprzedaży\n",
    "buy_signals = df_month[df_month['MACD_decision'] == 1]\n",
    "sell_signals = df_month[df_month['MACD_decision'] == -1]\n",
    "\n",
    "# Wykres\n",
    "fig_macd = go.Figure()\n",
    "\n",
    "# Cena zamknięcia\n",
    "fig_macd.add_trace(go.Scatter(x=df_month.index, y=df_month['Close'], mode='lines', name='Close Price', line=dict(color='lightblue', width=3)))\n",
    "\n",
    "# MACD i MACD Signal\n",
    "fig_macd.add_trace(go.Scatter(x=df_month.index, y=df_month['MACD'], mode='lines', name='MACD', line=dict(color='purple', width=2)))\n",
    "fig_macd.add_trace(go.Scatter(x=df_month.index, y=df_month['Signal_Line'], mode='lines', name='MACD Signal', line=dict(color='orange', width=2)))\n",
    "\n",
    "# Sygnały kupna i sprzedaży dla MACD\n",
    "fig_macd.add_trace(go.Scatter(x=buy_signals.index, y=buy_signals['Close'], mode='markers', name='Buy Signal',\n",
    "                            marker=dict(symbol='triangle-up', color='green', size=10)))\n",
    "fig_macd.add_trace(go.Scatter(x=sell_signals.index, y=sell_signals['Close'], mode='markers', name='Sell Signal',\n",
    "                            marker=dict(symbol='triangle-down', color='red', size=10)))\n",
    "\n",
    "fig_macd.update_layout(\n",
    "    title='MACD and Trading Signals',\n",
    "    xaxis_rangeslider_visible=False,\n",
    "    xaxis_title='Date',\n",
    "    yaxis_title='Price',\n",
    "    showlegend=True\n",
    ")\n",
    "\n",
    "fig_macd.show()"
   ]
  },
  {
   "cell_type": "code",
   "execution_count": 143,
   "id": "d5827e86",
   "metadata": {},
   "outputs": [
    {
     "data": {
      "application/vnd.plotly.v1+json": {
       "config": {
        "plotlyServerURL": "https://plot.ly"
       },
       "data": [
        {
         "line": {
          "color": "lightblue",
          "width": 3
         },
         "mode": "lines",
         "name": "Close Price",
         "type": "scatter",
         "x": [
          "2023-01-01T00:00:00",
          "2023-01-02T00:00:00",
          "2023-01-03T00:00:00",
          "2023-01-04T00:00:00",
          "2023-01-05T00:00:00",
          "2023-01-06T00:00:00",
          "2023-01-07T00:00:00",
          "2023-01-08T00:00:00",
          "2023-01-09T00:00:00",
          "2023-01-10T00:00:00",
          "2023-01-11T00:00:00",
          "2023-01-12T00:00:00",
          "2023-01-13T00:00:00",
          "2023-01-14T00:00:00",
          "2023-01-15T00:00:00",
          "2023-01-16T00:00:00",
          "2023-01-17T00:00:00",
          "2023-01-18T00:00:00",
          "2023-01-19T00:00:00",
          "2023-01-20T00:00:00",
          "2023-01-21T00:00:00",
          "2023-01-22T00:00:00",
          "2023-01-23T00:00:00",
          "2023-01-24T00:00:00",
          "2023-01-25T00:00:00",
          "2023-01-26T00:00:00",
          "2023-01-27T00:00:00",
          "2023-01-28T00:00:00",
          "2023-01-29T00:00:00",
          "2023-01-30T00:00:00",
          "2023-01-31T00:00:00",
          "2023-02-01T00:00:00",
          "2023-02-02T00:00:00",
          "2023-02-03T00:00:00",
          "2023-02-04T00:00:00",
          "2023-02-05T00:00:00",
          "2023-02-06T00:00:00",
          "2023-02-07T00:00:00",
          "2023-02-08T00:00:00",
          "2023-02-09T00:00:00",
          "2023-02-10T00:00:00",
          "2023-02-11T00:00:00",
          "2023-02-12T00:00:00",
          "2023-02-13T00:00:00",
          "2023-02-14T00:00:00",
          "2023-02-15T00:00:00",
          "2023-02-16T00:00:00",
          "2023-02-17T00:00:00",
          "2023-02-18T00:00:00",
          "2023-02-19T00:00:00",
          "2023-02-20T00:00:00",
          "2023-02-21T00:00:00",
          "2023-02-22T00:00:00",
          "2023-02-23T00:00:00",
          "2023-02-24T00:00:00",
          "2023-02-25T00:00:00",
          "2023-02-26T00:00:00",
          "2023-02-27T00:00:00",
          "2023-02-28T00:00:00",
          "2023-03-01T00:00:00",
          "2023-03-02T00:00:00",
          "2023-03-03T00:00:00",
          "2023-03-04T00:00:00",
          "2023-03-05T00:00:00",
          "2023-03-06T00:00:00",
          "2023-03-07T00:00:00",
          "2023-03-08T00:00:00",
          "2023-03-09T00:00:00",
          "2023-03-10T00:00:00",
          "2023-03-11T00:00:00",
          "2023-03-12T00:00:00",
          "2023-03-13T00:00:00",
          "2023-03-14T00:00:00",
          "2023-03-15T00:00:00",
          "2023-03-16T00:00:00",
          "2023-03-17T00:00:00",
          "2023-03-18T00:00:00",
          "2023-03-19T00:00:00",
          "2023-03-20T00:00:00",
          "2023-03-21T00:00:00",
          "2023-03-22T00:00:00",
          "2023-03-23T00:00:00",
          "2023-03-24T00:00:00",
          "2023-03-25T00:00:00",
          "2023-03-26T00:00:00",
          "2023-03-27T00:00:00",
          "2023-03-28T00:00:00",
          "2023-03-29T00:00:00",
          "2023-03-30T00:00:00",
          "2023-03-31T00:00:00",
          "2023-04-01T00:00:00",
          "2023-04-02T00:00:00",
          "2023-04-03T00:00:00",
          "2023-04-04T00:00:00",
          "2023-04-05T00:00:00",
          "2023-04-06T00:00:00",
          "2023-04-07T00:00:00",
          "2023-04-08T00:00:00",
          "2023-04-09T00:00:00",
          "2023-04-10T00:00:00"
         ],
         "y": [
          0.4967141530112327,
          -0.13826430117118466,
          0.6476885381006925,
          1.5230298564080254,
          -0.23415337472333597,
          -0.23413695694918055,
          1.5792128155073915,
          0.7674347291529088,
          -0.4694743859349521,
          0.5425600435859647,
          -0.46341769281246226,
          -0.46572975357025687,
          0.24196227156603412,
          -1.913280244657798,
          -1.7249178325130328,
          -0.5622875292409727,
          -1.0128311203344238,
          0.3142473325952739,
          -0.9080240755212109,
          -1.4123037013352915,
          1.465648768921554,
          -0.22577630048653566,
          0.06752820468792384,
          -1.4247481862134568,
          -0.5443827245251827,
          0.11092258970986608,
          -1.1509935774223028,
          0.37569801834567196,
          -0.600638689918805,
          -0.2916937497932768,
          -0.6017066122293969,
          1.8522781845089378,
          -0.013497224737933921,
          -1.0577109289559004,
          0.822544912103189,
          -1.2208436499710222,
          0.2088635950047554,
          -1.9596701238797756,
          -1.3281860488984305,
          0.19686123586912352,
          0.7384665799954104,
          0.1713682811899705,
          -0.11564828238824053,
          -0.3011036955892888,
          -1.4785219903674274,
          -0.7198442083947086,
          -0.4606387709597875,
          1.0571222262189157,
          0.3436182895684614,
          -1.763040155362734,
          0.324083969394795,
          -0.38508228041631654,
          -0.6769220003059587,
          0.6116762888408679,
          1.030999522495951,
          0.9312801191161986,
          -0.8392175232226385,
          -0.3092123758512146,
          0.33126343140356396,
          0.9755451271223592,
          -0.47917423784528995,
          -0.18565897666381712,
          -1.1063349740060282,
          -1.1962066240806708,
          0.812525822394198,
          1.356240028570823,
          -0.07201012158033385,
          1.0035328978920242,
          0.36163602504763415,
          -0.6451197546051243,
          0.36139560550841393,
          1.5380365664659692,
          -0.03582603910995154,
          1.5646436558140062,
          -2.6197451040897444,
          0.8219025043752238,
          0.08704706823817122,
          -0.29900735046586746,
          0.0917607765355023,
          -1.9875689146008928,
          -0.21967188783751193,
          0.3571125715117464,
          1.477894044741516,
          -0.5182702182736474,
          -0.8084936028931876,
          -0.5017570435845365,
          0.9154021177020741,
          0.32875110965968446,
          -0.5297602037670388,
          0.5132674331133561,
          0.09707754934804039,
          0.9686449905328892,
          -0.7020530938773524,
          -0.3276621465977682,
          -0.39210815313215763,
          -1.4635149481321186,
          0.29612027706457605,
          0.26105527217988933,
          0.00511345664246089,
          -0.23458713337514692
         ]
        },
        {
         "line": {
          "color": "darkblue",
          "width": 1.5
         },
         "mode": "lines",
         "name": "Upper Bollinger Band",
         "type": "scatter",
         "x": [
          "2023-01-01T00:00:00",
          "2023-01-02T00:00:00",
          "2023-01-03T00:00:00",
          "2023-01-04T00:00:00",
          "2023-01-05T00:00:00",
          "2023-01-06T00:00:00",
          "2023-01-07T00:00:00",
          "2023-01-08T00:00:00",
          "2023-01-09T00:00:00",
          "2023-01-10T00:00:00",
          "2023-01-11T00:00:00",
          "2023-01-12T00:00:00",
          "2023-01-13T00:00:00",
          "2023-01-14T00:00:00",
          "2023-01-15T00:00:00",
          "2023-01-16T00:00:00",
          "2023-01-17T00:00:00",
          "2023-01-18T00:00:00",
          "2023-01-19T00:00:00",
          "2023-01-20T00:00:00",
          "2023-01-21T00:00:00",
          "2023-01-22T00:00:00",
          "2023-01-23T00:00:00",
          "2023-01-24T00:00:00",
          "2023-01-25T00:00:00",
          "2023-01-26T00:00:00",
          "2023-01-27T00:00:00",
          "2023-01-28T00:00:00",
          "2023-01-29T00:00:00",
          "2023-01-30T00:00:00",
          "2023-01-31T00:00:00",
          "2023-02-01T00:00:00",
          "2023-02-02T00:00:00",
          "2023-02-03T00:00:00",
          "2023-02-04T00:00:00",
          "2023-02-05T00:00:00",
          "2023-02-06T00:00:00",
          "2023-02-07T00:00:00",
          "2023-02-08T00:00:00",
          "2023-02-09T00:00:00",
          "2023-02-10T00:00:00",
          "2023-02-11T00:00:00",
          "2023-02-12T00:00:00",
          "2023-02-13T00:00:00",
          "2023-02-14T00:00:00",
          "2023-02-15T00:00:00",
          "2023-02-16T00:00:00",
          "2023-02-17T00:00:00",
          "2023-02-18T00:00:00",
          "2023-02-19T00:00:00",
          "2023-02-20T00:00:00",
          "2023-02-21T00:00:00",
          "2023-02-22T00:00:00",
          "2023-02-23T00:00:00",
          "2023-02-24T00:00:00",
          "2023-02-25T00:00:00",
          "2023-02-26T00:00:00",
          "2023-02-27T00:00:00",
          "2023-02-28T00:00:00",
          "2023-03-01T00:00:00",
          "2023-03-02T00:00:00",
          "2023-03-03T00:00:00",
          "2023-03-04T00:00:00",
          "2023-03-05T00:00:00",
          "2023-03-06T00:00:00",
          "2023-03-07T00:00:00",
          "2023-03-08T00:00:00",
          "2023-03-09T00:00:00",
          "2023-03-10T00:00:00",
          "2023-03-11T00:00:00",
          "2023-03-12T00:00:00",
          "2023-03-13T00:00:00",
          "2023-03-14T00:00:00",
          "2023-03-15T00:00:00",
          "2023-03-16T00:00:00",
          "2023-03-17T00:00:00",
          "2023-03-18T00:00:00",
          "2023-03-19T00:00:00",
          "2023-03-20T00:00:00",
          "2023-03-21T00:00:00",
          "2023-03-22T00:00:00",
          "2023-03-23T00:00:00",
          "2023-03-24T00:00:00",
          "2023-03-25T00:00:00",
          "2023-03-26T00:00:00",
          "2023-03-27T00:00:00",
          "2023-03-28T00:00:00",
          "2023-03-29T00:00:00",
          "2023-03-30T00:00:00",
          "2023-03-31T00:00:00",
          "2023-04-01T00:00:00",
          "2023-04-02T00:00:00",
          "2023-04-03T00:00:00",
          "2023-04-04T00:00:00",
          "2023-04-05T00:00:00",
          "2023-04-06T00:00:00",
          "2023-04-07T00:00:00",
          "2023-04-08T00:00:00",
          "2023-04-09T00:00:00",
          "2023-04-10T00:00:00"
         ],
         "y": [
          null,
          null,
          null,
          null,
          null,
          null,
          null,
          null,
          null,
          null,
          null,
          null,
          null,
          null,
          null,
          null,
          null,
          null,
          null,
          1.7487582814362241,
          1.9135459534017776,
          1.9096858003850923,
          1.8505126093709545,
          1.614881221016515,
          1.6020194539138144,
          1.6286611580287629,
          1.309569109185076,
          1.2411881052462677,
          1.2358287647302728,
          1.1298070472576989,
          1.1232992354994185,
          1.5518235002355973,
          1.5247078485801218,
          1.4625256096438781,
          1.5461094047141961,
          1.5618295878754052,
          1.6003859640965488,
          1.6276010005424761,
          1.6417030863868214,
          1.670102303041333,
          1.5208395292860621,
          1.5528184092191788,
          1.5381251254341075,
          1.5151033966303047,
          1.551001075150508,
          1.5096088067457658,
          1.5041009243382706,
          1.6155831135720964,
          1.6737088135885558,
          1.7248571104620565,
          1.7827228309760408,
          1.4155091272167466,
          1.3808777291738306,
          1.4872403396312426,
          1.5273852130263514,
          1.656778008663672,
          1.6175809171374638,
          1.5131118124859313,
          1.5116622244571811,
          1.6150050164481804,
          1.524694499445487,
          1.5026721300670765,
          1.5143319865042373,
          1.5328719277104303,
          1.593536964192488,
          1.7864807241601124,
          1.7922210138662447,
          1.7831394768041788,
          1.7847277532738064,
          1.6606336420567065,
          1.6637488488489305,
          1.8681979718278006,
          1.8543719290564162,
          2.002441212782279,
          2.208069495246827,
          2.193984003448755,
          2.1953961877977464,
          2.195456797394665,
          2.1813149289212097,
          2.192778571139548,
          2.1977683646678274,
          2.2295723207843436,
          2.3861637737921835,
          2.3548637116010482,
          2.2939305586037206,
          2.13196346796679,
          2.219865090967038,
          2.1441501715801876,
          2.1062008581053937,
          2.156825390875919,
          2.1381425940356027,
          2.037702502164949,
          2.0273227315594147,
          1.7908183816849916,
          1.5203623233690993,
          1.4765202611669184,
          1.4959575087192705,
          1.531332555111789,
          1.525242559232847,
          1.3577494598599673
         ]
        },
        {
         "line": {
          "color": "blue",
          "width": 1.5
         },
         "mode": "lines",
         "name": "Lower Bollinger Band",
         "type": "scatter",
         "x": [
          "2023-01-01T00:00:00",
          "2023-01-02T00:00:00",
          "2023-01-03T00:00:00",
          "2023-01-04T00:00:00",
          "2023-01-05T00:00:00",
          "2023-01-06T00:00:00",
          "2023-01-07T00:00:00",
          "2023-01-08T00:00:00",
          "2023-01-09T00:00:00",
          "2023-01-10T00:00:00",
          "2023-01-11T00:00:00",
          "2023-01-12T00:00:00",
          "2023-01-13T00:00:00",
          "2023-01-14T00:00:00",
          "2023-01-15T00:00:00",
          "2023-01-16T00:00:00",
          "2023-01-17T00:00:00",
          "2023-01-18T00:00:00",
          "2023-01-19T00:00:00",
          "2023-01-20T00:00:00",
          "2023-01-21T00:00:00",
          "2023-01-22T00:00:00",
          "2023-01-23T00:00:00",
          "2023-01-24T00:00:00",
          "2023-01-25T00:00:00",
          "2023-01-26T00:00:00",
          "2023-01-27T00:00:00",
          "2023-01-28T00:00:00",
          "2023-01-29T00:00:00",
          "2023-01-30T00:00:00",
          "2023-01-31T00:00:00",
          "2023-02-01T00:00:00",
          "2023-02-02T00:00:00",
          "2023-02-03T00:00:00",
          "2023-02-04T00:00:00",
          "2023-02-05T00:00:00",
          "2023-02-06T00:00:00",
          "2023-02-07T00:00:00",
          "2023-02-08T00:00:00",
          "2023-02-09T00:00:00",
          "2023-02-10T00:00:00",
          "2023-02-11T00:00:00",
          "2023-02-12T00:00:00",
          "2023-02-13T00:00:00",
          "2023-02-14T00:00:00",
          "2023-02-15T00:00:00",
          "2023-02-16T00:00:00",
          "2023-02-17T00:00:00",
          "2023-02-18T00:00:00",
          "2023-02-19T00:00:00",
          "2023-02-20T00:00:00",
          "2023-02-21T00:00:00",
          "2023-02-22T00:00:00",
          "2023-02-23T00:00:00",
          "2023-02-24T00:00:00",
          "2023-02-25T00:00:00",
          "2023-02-26T00:00:00",
          "2023-02-27T00:00:00",
          "2023-02-28T00:00:00",
          "2023-03-01T00:00:00",
          "2023-03-02T00:00:00",
          "2023-03-03T00:00:00",
          "2023-03-04T00:00:00",
          "2023-03-05T00:00:00",
          "2023-03-06T00:00:00",
          "2023-03-07T00:00:00",
          "2023-03-08T00:00:00",
          "2023-03-09T00:00:00",
          "2023-03-10T00:00:00",
          "2023-03-11T00:00:00",
          "2023-03-12T00:00:00",
          "2023-03-13T00:00:00",
          "2023-03-14T00:00:00",
          "2023-03-15T00:00:00",
          "2023-03-16T00:00:00",
          "2023-03-17T00:00:00",
          "2023-03-18T00:00:00",
          "2023-03-19T00:00:00",
          "2023-03-20T00:00:00",
          "2023-03-21T00:00:00",
          "2023-03-22T00:00:00",
          "2023-03-23T00:00:00",
          "2023-03-24T00:00:00",
          "2023-03-25T00:00:00",
          "2023-03-26T00:00:00",
          "2023-03-27T00:00:00",
          "2023-03-28T00:00:00",
          "2023-03-29T00:00:00",
          "2023-03-30T00:00:00",
          "2023-03-31T00:00:00",
          "2023-04-01T00:00:00",
          "2023-04-02T00:00:00",
          "2023-04-03T00:00:00",
          "2023-04-04T00:00:00",
          "2023-04-05T00:00:00",
          "2023-04-06T00:00:00",
          "2023-04-07T00:00:00",
          "2023-04-08T00:00:00",
          "2023-04-09T00:00:00",
          "2023-04-10T00:00:00"
         ],
         "y": [
          null,
          null,
          null,
          null,
          null,
          null,
          null,
          null,
          null,
          null,
          null,
          null,
          null,
          null,
          null,
          null,
          null,
          null,
          null,
          -2.091355404319882,
          -2.1592496146944034,
          -2.1641406616092533,
          -2.1629835039363923,
          -2.222129919844101,
          -2.240291087721585,
          -2.2324268371706286,
          -2.1863554276199113,
          -2.1571480947618267,
          -2.164905184644217,
          -2.142308846509567,
          -2.14962992669298,
          -2.3463533976212396,
          -2.344783695596161,
          -2.1970445250897277,
          -2.0258820456984235,
          -2.1074578409326374,
          -2.023844745619863,
          -2.2784515277132953,
          -2.3345698108953625,
          -2.202052533829433,
          -2.1255079789667763,
          -2.117772400732242,
          -2.1213967656547874,
          -1.9860105877885676,
          -2.1153221928929957,
          -2.1570066042987106,
          -2.082463241244964,
          -2.1258030096914657,
          -2.0895030117591986,
          -2.2877859491896446,
          -2.25307261154121,
          -2.109594954274441,
          -2.1413060337883274,
          -2.080729922466063,
          -2.1000293348218952,
          -2.0142097535504937,
          -2.079820773847025,
          -1.8103058943926364,
          -1.642911358333687,
          -1.6683857611993627,
          -1.6998393259807392,
          -1.7135196823877072,
          -1.8242482079866469,
          -1.9322984420419784,
          -1.7638586972478731,
          -1.7491940335189446,
          -1.7160714582871317,
          -1.712348854057755,
          -1.7121353569794653,
          -1.4762492056866041,
          -1.4756332488674662,
          -1.4877704871581077,
          -1.4098348482671228,
          -1.462607395295672,
          -2.033310140418789,
          -2.0301624100948144,
          -1.9389481352977254,
          -1.9379882423561092,
          -1.94779663936946,
          -2.2555716857601236,
          -2.234611244287625,
          -2.212138045586585,
          -2.11030659671967,
          -2.0112128939478326,
          -2.1123816834792435,
          -2.136214300057849,
          -2.125374699129856,
          -2.1171379585662398,
          -2.1683282679729134,
          -2.1031140819715906,
          -2.1108630907473116,
          -2.067362156469966,
          -2.1236050913411715,
          -2.076331321707926,
          -1.5831115682962749,
          -1.7678112513448283,
          -1.7663411780145397,
          -1.7457099621424828,
          -1.7482846982528446,
          -1.4054934207573904
         ]
        },
        {
         "marker": {
          "color": "green",
          "size": 10,
          "symbol": "triangle-up"
         },
         "mode": "markers",
         "name": "Bollinger Buy Signal",
         "type": "scatter",
         "x": [
          "2023-03-16T00:00:00"
         ],
         "y": [
          -2.6197451040897444
         ]
        },
        {
         "marker": {
          "color": "red",
          "size": 10,
          "symbol": "triangle-down"
         },
         "mode": "markers",
         "name": "Bollinger Sell Signal",
         "type": "scatter",
         "x": [
          "2023-02-01T00:00:00"
         ],
         "y": [
          1.8522781845089378
         ]
        }
       ],
       "layout": {
        "showlegend": true,
        "template": {
         "data": {
          "bar": [
           {
            "error_x": {
             "color": "#2a3f5f"
            },
            "error_y": {
             "color": "#2a3f5f"
            },
            "marker": {
             "line": {
              "color": "#E5ECF6",
              "width": 0.5
             },
             "pattern": {
              "fillmode": "overlay",
              "size": 10,
              "solidity": 0.2
             }
            },
            "type": "bar"
           }
          ],
          "barpolar": [
           {
            "marker": {
             "line": {
              "color": "#E5ECF6",
              "width": 0.5
             },
             "pattern": {
              "fillmode": "overlay",
              "size": 10,
              "solidity": 0.2
             }
            },
            "type": "barpolar"
           }
          ],
          "carpet": [
           {
            "aaxis": {
             "endlinecolor": "#2a3f5f",
             "gridcolor": "white",
             "linecolor": "white",
             "minorgridcolor": "white",
             "startlinecolor": "#2a3f5f"
            },
            "baxis": {
             "endlinecolor": "#2a3f5f",
             "gridcolor": "white",
             "linecolor": "white",
             "minorgridcolor": "white",
             "startlinecolor": "#2a3f5f"
            },
            "type": "carpet"
           }
          ],
          "choropleth": [
           {
            "colorbar": {
             "outlinewidth": 0,
             "ticks": ""
            },
            "type": "choropleth"
           }
          ],
          "contour": [
           {
            "colorbar": {
             "outlinewidth": 0,
             "ticks": ""
            },
            "colorscale": [
             [
              0,
              "#0d0887"
             ],
             [
              0.1111111111111111,
              "#46039f"
             ],
             [
              0.2222222222222222,
              "#7201a8"
             ],
             [
              0.3333333333333333,
              "#9c179e"
             ],
             [
              0.4444444444444444,
              "#bd3786"
             ],
             [
              0.5555555555555556,
              "#d8576b"
             ],
             [
              0.6666666666666666,
              "#ed7953"
             ],
             [
              0.7777777777777778,
              "#fb9f3a"
             ],
             [
              0.8888888888888888,
              "#fdca26"
             ],
             [
              1,
              "#f0f921"
             ]
            ],
            "type": "contour"
           }
          ],
          "contourcarpet": [
           {
            "colorbar": {
             "outlinewidth": 0,
             "ticks": ""
            },
            "type": "contourcarpet"
           }
          ],
          "heatmap": [
           {
            "colorbar": {
             "outlinewidth": 0,
             "ticks": ""
            },
            "colorscale": [
             [
              0,
              "#0d0887"
             ],
             [
              0.1111111111111111,
              "#46039f"
             ],
             [
              0.2222222222222222,
              "#7201a8"
             ],
             [
              0.3333333333333333,
              "#9c179e"
             ],
             [
              0.4444444444444444,
              "#bd3786"
             ],
             [
              0.5555555555555556,
              "#d8576b"
             ],
             [
              0.6666666666666666,
              "#ed7953"
             ],
             [
              0.7777777777777778,
              "#fb9f3a"
             ],
             [
              0.8888888888888888,
              "#fdca26"
             ],
             [
              1,
              "#f0f921"
             ]
            ],
            "type": "heatmap"
           }
          ],
          "heatmapgl": [
           {
            "colorbar": {
             "outlinewidth": 0,
             "ticks": ""
            },
            "colorscale": [
             [
              0,
              "#0d0887"
             ],
             [
              0.1111111111111111,
              "#46039f"
             ],
             [
              0.2222222222222222,
              "#7201a8"
             ],
             [
              0.3333333333333333,
              "#9c179e"
             ],
             [
              0.4444444444444444,
              "#bd3786"
             ],
             [
              0.5555555555555556,
              "#d8576b"
             ],
             [
              0.6666666666666666,
              "#ed7953"
             ],
             [
              0.7777777777777778,
              "#fb9f3a"
             ],
             [
              0.8888888888888888,
              "#fdca26"
             ],
             [
              1,
              "#f0f921"
             ]
            ],
            "type": "heatmapgl"
           }
          ],
          "histogram": [
           {
            "marker": {
             "pattern": {
              "fillmode": "overlay",
              "size": 10,
              "solidity": 0.2
             }
            },
            "type": "histogram"
           }
          ],
          "histogram2d": [
           {
            "colorbar": {
             "outlinewidth": 0,
             "ticks": ""
            },
            "colorscale": [
             [
              0,
              "#0d0887"
             ],
             [
              0.1111111111111111,
              "#46039f"
             ],
             [
              0.2222222222222222,
              "#7201a8"
             ],
             [
              0.3333333333333333,
              "#9c179e"
             ],
             [
              0.4444444444444444,
              "#bd3786"
             ],
             [
              0.5555555555555556,
              "#d8576b"
             ],
             [
              0.6666666666666666,
              "#ed7953"
             ],
             [
              0.7777777777777778,
              "#fb9f3a"
             ],
             [
              0.8888888888888888,
              "#fdca26"
             ],
             [
              1,
              "#f0f921"
             ]
            ],
            "type": "histogram2d"
           }
          ],
          "histogram2dcontour": [
           {
            "colorbar": {
             "outlinewidth": 0,
             "ticks": ""
            },
            "colorscale": [
             [
              0,
              "#0d0887"
             ],
             [
              0.1111111111111111,
              "#46039f"
             ],
             [
              0.2222222222222222,
              "#7201a8"
             ],
             [
              0.3333333333333333,
              "#9c179e"
             ],
             [
              0.4444444444444444,
              "#bd3786"
             ],
             [
              0.5555555555555556,
              "#d8576b"
             ],
             [
              0.6666666666666666,
              "#ed7953"
             ],
             [
              0.7777777777777778,
              "#fb9f3a"
             ],
             [
              0.8888888888888888,
              "#fdca26"
             ],
             [
              1,
              "#f0f921"
             ]
            ],
            "type": "histogram2dcontour"
           }
          ],
          "mesh3d": [
           {
            "colorbar": {
             "outlinewidth": 0,
             "ticks": ""
            },
            "type": "mesh3d"
           }
          ],
          "parcoords": [
           {
            "line": {
             "colorbar": {
              "outlinewidth": 0,
              "ticks": ""
             }
            },
            "type": "parcoords"
           }
          ],
          "pie": [
           {
            "automargin": true,
            "type": "pie"
           }
          ],
          "scatter": [
           {
            "fillpattern": {
             "fillmode": "overlay",
             "size": 10,
             "solidity": 0.2
            },
            "type": "scatter"
           }
          ],
          "scatter3d": [
           {
            "line": {
             "colorbar": {
              "outlinewidth": 0,
              "ticks": ""
             }
            },
            "marker": {
             "colorbar": {
              "outlinewidth": 0,
              "ticks": ""
             }
            },
            "type": "scatter3d"
           }
          ],
          "scattercarpet": [
           {
            "marker": {
             "colorbar": {
              "outlinewidth": 0,
              "ticks": ""
             }
            },
            "type": "scattercarpet"
           }
          ],
          "scattergeo": [
           {
            "marker": {
             "colorbar": {
              "outlinewidth": 0,
              "ticks": ""
             }
            },
            "type": "scattergeo"
           }
          ],
          "scattergl": [
           {
            "marker": {
             "colorbar": {
              "outlinewidth": 0,
              "ticks": ""
             }
            },
            "type": "scattergl"
           }
          ],
          "scattermapbox": [
           {
            "marker": {
             "colorbar": {
              "outlinewidth": 0,
              "ticks": ""
             }
            },
            "type": "scattermapbox"
           }
          ],
          "scatterpolar": [
           {
            "marker": {
             "colorbar": {
              "outlinewidth": 0,
              "ticks": ""
             }
            },
            "type": "scatterpolar"
           }
          ],
          "scatterpolargl": [
           {
            "marker": {
             "colorbar": {
              "outlinewidth": 0,
              "ticks": ""
             }
            },
            "type": "scatterpolargl"
           }
          ],
          "scatterternary": [
           {
            "marker": {
             "colorbar": {
              "outlinewidth": 0,
              "ticks": ""
             }
            },
            "type": "scatterternary"
           }
          ],
          "surface": [
           {
            "colorbar": {
             "outlinewidth": 0,
             "ticks": ""
            },
            "colorscale": [
             [
              0,
              "#0d0887"
             ],
             [
              0.1111111111111111,
              "#46039f"
             ],
             [
              0.2222222222222222,
              "#7201a8"
             ],
             [
              0.3333333333333333,
              "#9c179e"
             ],
             [
              0.4444444444444444,
              "#bd3786"
             ],
             [
              0.5555555555555556,
              "#d8576b"
             ],
             [
              0.6666666666666666,
              "#ed7953"
             ],
             [
              0.7777777777777778,
              "#fb9f3a"
             ],
             [
              0.8888888888888888,
              "#fdca26"
             ],
             [
              1,
              "#f0f921"
             ]
            ],
            "type": "surface"
           }
          ],
          "table": [
           {
            "cells": {
             "fill": {
              "color": "#EBF0F8"
             },
             "line": {
              "color": "white"
             }
            },
            "header": {
             "fill": {
              "color": "#C8D4E3"
             },
             "line": {
              "color": "white"
             }
            },
            "type": "table"
           }
          ]
         },
         "layout": {
          "annotationdefaults": {
           "arrowcolor": "#2a3f5f",
           "arrowhead": 0,
           "arrowwidth": 1
          },
          "autotypenumbers": "strict",
          "coloraxis": {
           "colorbar": {
            "outlinewidth": 0,
            "ticks": ""
           }
          },
          "colorscale": {
           "diverging": [
            [
             0,
             "#8e0152"
            ],
            [
             0.1,
             "#c51b7d"
            ],
            [
             0.2,
             "#de77ae"
            ],
            [
             0.3,
             "#f1b6da"
            ],
            [
             0.4,
             "#fde0ef"
            ],
            [
             0.5,
             "#f7f7f7"
            ],
            [
             0.6,
             "#e6f5d0"
            ],
            [
             0.7,
             "#b8e186"
            ],
            [
             0.8,
             "#7fbc41"
            ],
            [
             0.9,
             "#4d9221"
            ],
            [
             1,
             "#276419"
            ]
           ],
           "sequential": [
            [
             0,
             "#0d0887"
            ],
            [
             0.1111111111111111,
             "#46039f"
            ],
            [
             0.2222222222222222,
             "#7201a8"
            ],
            [
             0.3333333333333333,
             "#9c179e"
            ],
            [
             0.4444444444444444,
             "#bd3786"
            ],
            [
             0.5555555555555556,
             "#d8576b"
            ],
            [
             0.6666666666666666,
             "#ed7953"
            ],
            [
             0.7777777777777778,
             "#fb9f3a"
            ],
            [
             0.8888888888888888,
             "#fdca26"
            ],
            [
             1,
             "#f0f921"
            ]
           ],
           "sequentialminus": [
            [
             0,
             "#0d0887"
            ],
            [
             0.1111111111111111,
             "#46039f"
            ],
            [
             0.2222222222222222,
             "#7201a8"
            ],
            [
             0.3333333333333333,
             "#9c179e"
            ],
            [
             0.4444444444444444,
             "#bd3786"
            ],
            [
             0.5555555555555556,
             "#d8576b"
            ],
            [
             0.6666666666666666,
             "#ed7953"
            ],
            [
             0.7777777777777778,
             "#fb9f3a"
            ],
            [
             0.8888888888888888,
             "#fdca26"
            ],
            [
             1,
             "#f0f921"
            ]
           ]
          },
          "colorway": [
           "#636efa",
           "#EF553B",
           "#00cc96",
           "#ab63fa",
           "#FFA15A",
           "#19d3f3",
           "#FF6692",
           "#B6E880",
           "#FF97FF",
           "#FECB52"
          ],
          "font": {
           "color": "#2a3f5f"
          },
          "geo": {
           "bgcolor": "white",
           "lakecolor": "white",
           "landcolor": "#E5ECF6",
           "showlakes": true,
           "showland": true,
           "subunitcolor": "white"
          },
          "hoverlabel": {
           "align": "left"
          },
          "hovermode": "closest",
          "mapbox": {
           "style": "light"
          },
          "paper_bgcolor": "white",
          "plot_bgcolor": "#E5ECF6",
          "polar": {
           "angularaxis": {
            "gridcolor": "white",
            "linecolor": "white",
            "ticks": ""
           },
           "bgcolor": "#E5ECF6",
           "radialaxis": {
            "gridcolor": "white",
            "linecolor": "white",
            "ticks": ""
           }
          },
          "scene": {
           "xaxis": {
            "backgroundcolor": "#E5ECF6",
            "gridcolor": "white",
            "gridwidth": 2,
            "linecolor": "white",
            "showbackground": true,
            "ticks": "",
            "zerolinecolor": "white"
           },
           "yaxis": {
            "backgroundcolor": "#E5ECF6",
            "gridcolor": "white",
            "gridwidth": 2,
            "linecolor": "white",
            "showbackground": true,
            "ticks": "",
            "zerolinecolor": "white"
           },
           "zaxis": {
            "backgroundcolor": "#E5ECF6",
            "gridcolor": "white",
            "gridwidth": 2,
            "linecolor": "white",
            "showbackground": true,
            "ticks": "",
            "zerolinecolor": "white"
           }
          },
          "shapedefaults": {
           "line": {
            "color": "#2a3f5f"
           }
          },
          "ternary": {
           "aaxis": {
            "gridcolor": "white",
            "linecolor": "white",
            "ticks": ""
           },
           "baxis": {
            "gridcolor": "white",
            "linecolor": "white",
            "ticks": ""
           },
           "bgcolor": "#E5ECF6",
           "caxis": {
            "gridcolor": "white",
            "linecolor": "white",
            "ticks": ""
           }
          },
          "title": {
           "x": 0.05
          },
          "xaxis": {
           "automargin": true,
           "gridcolor": "white",
           "linecolor": "white",
           "ticks": "",
           "title": {
            "standoff": 15
           },
           "zerolinecolor": "white",
           "zerolinewidth": 2
          },
          "yaxis": {
           "automargin": true,
           "gridcolor": "white",
           "linecolor": "white",
           "ticks": "",
           "title": {
            "standoff": 15
           },
           "zerolinecolor": "white",
           "zerolinewidth": 2
          }
         }
        },
        "title": {
         "text": "Bollinger Bands and Trading Signals"
        },
        "xaxis": {
         "rangeslider": {
          "visible": false
         },
         "title": {
          "text": "Date"
         }
        },
        "yaxis": {
         "title": {
          "text": "Price"
         }
        }
       }
      },
      "text/html": [
       "<div>                            <div id=\"342bb261-29bf-4e24-ba3a-2e646a6f54ab\" class=\"plotly-graph-div\" style=\"height:525px; width:100%;\"></div>            <script type=\"text/javascript\">                require([\"plotly\"], function(Plotly) {                    window.PLOTLYENV=window.PLOTLYENV || {};                                    if (document.getElementById(\"342bb261-29bf-4e24-ba3a-2e646a6f54ab\")) {                    Plotly.newPlot(                        \"342bb261-29bf-4e24-ba3a-2e646a6f54ab\",                        [{\"line\":{\"color\":\"lightblue\",\"width\":3},\"mode\":\"lines\",\"name\":\"Close Price\",\"x\":[\"2023-01-01T00:00:00\",\"2023-01-02T00:00:00\",\"2023-01-03T00:00:00\",\"2023-01-04T00:00:00\",\"2023-01-05T00:00:00\",\"2023-01-06T00:00:00\",\"2023-01-07T00:00:00\",\"2023-01-08T00:00:00\",\"2023-01-09T00:00:00\",\"2023-01-10T00:00:00\",\"2023-01-11T00:00:00\",\"2023-01-12T00:00:00\",\"2023-01-13T00:00:00\",\"2023-01-14T00:00:00\",\"2023-01-15T00:00:00\",\"2023-01-16T00:00:00\",\"2023-01-17T00:00:00\",\"2023-01-18T00:00:00\",\"2023-01-19T00:00:00\",\"2023-01-20T00:00:00\",\"2023-01-21T00:00:00\",\"2023-01-22T00:00:00\",\"2023-01-23T00:00:00\",\"2023-01-24T00:00:00\",\"2023-01-25T00:00:00\",\"2023-01-26T00:00:00\",\"2023-01-27T00:00:00\",\"2023-01-28T00:00:00\",\"2023-01-29T00:00:00\",\"2023-01-30T00:00:00\",\"2023-01-31T00:00:00\",\"2023-02-01T00:00:00\",\"2023-02-02T00:00:00\",\"2023-02-03T00:00:00\",\"2023-02-04T00:00:00\",\"2023-02-05T00:00:00\",\"2023-02-06T00:00:00\",\"2023-02-07T00:00:00\",\"2023-02-08T00:00:00\",\"2023-02-09T00:00:00\",\"2023-02-10T00:00:00\",\"2023-02-11T00:00:00\",\"2023-02-12T00:00:00\",\"2023-02-13T00:00:00\",\"2023-02-14T00:00:00\",\"2023-02-15T00:00:00\",\"2023-02-16T00:00:00\",\"2023-02-17T00:00:00\",\"2023-02-18T00:00:00\",\"2023-02-19T00:00:00\",\"2023-02-20T00:00:00\",\"2023-02-21T00:00:00\",\"2023-02-22T00:00:00\",\"2023-02-23T00:00:00\",\"2023-02-24T00:00:00\",\"2023-02-25T00:00:00\",\"2023-02-26T00:00:00\",\"2023-02-27T00:00:00\",\"2023-02-28T00:00:00\",\"2023-03-01T00:00:00\",\"2023-03-02T00:00:00\",\"2023-03-03T00:00:00\",\"2023-03-04T00:00:00\",\"2023-03-05T00:00:00\",\"2023-03-06T00:00:00\",\"2023-03-07T00:00:00\",\"2023-03-08T00:00:00\",\"2023-03-09T00:00:00\",\"2023-03-10T00:00:00\",\"2023-03-11T00:00:00\",\"2023-03-12T00:00:00\",\"2023-03-13T00:00:00\",\"2023-03-14T00:00:00\",\"2023-03-15T00:00:00\",\"2023-03-16T00:00:00\",\"2023-03-17T00:00:00\",\"2023-03-18T00:00:00\",\"2023-03-19T00:00:00\",\"2023-03-20T00:00:00\",\"2023-03-21T00:00:00\",\"2023-03-22T00:00:00\",\"2023-03-23T00:00:00\",\"2023-03-24T00:00:00\",\"2023-03-25T00:00:00\",\"2023-03-26T00:00:00\",\"2023-03-27T00:00:00\",\"2023-03-28T00:00:00\",\"2023-03-29T00:00:00\",\"2023-03-30T00:00:00\",\"2023-03-31T00:00:00\",\"2023-04-01T00:00:00\",\"2023-04-02T00:00:00\",\"2023-04-03T00:00:00\",\"2023-04-04T00:00:00\",\"2023-04-05T00:00:00\",\"2023-04-06T00:00:00\",\"2023-04-07T00:00:00\",\"2023-04-08T00:00:00\",\"2023-04-09T00:00:00\",\"2023-04-10T00:00:00\"],\"y\":[0.4967141530112327,-0.13826430117118466,0.6476885381006925,1.5230298564080254,-0.23415337472333597,-0.23413695694918055,1.5792128155073915,0.7674347291529088,-0.4694743859349521,0.5425600435859647,-0.46341769281246226,-0.46572975357025687,0.24196227156603412,-1.913280244657798,-1.7249178325130328,-0.5622875292409727,-1.0128311203344238,0.3142473325952739,-0.9080240755212109,-1.4123037013352915,1.465648768921554,-0.22577630048653566,0.06752820468792384,-1.4247481862134568,-0.5443827245251827,0.11092258970986608,-1.1509935774223028,0.37569801834567196,-0.600638689918805,-0.2916937497932768,-0.6017066122293969,1.8522781845089378,-0.013497224737933921,-1.0577109289559004,0.822544912103189,-1.2208436499710222,0.2088635950047554,-1.9596701238797756,-1.3281860488984305,0.19686123586912352,0.7384665799954104,0.1713682811899705,-0.11564828238824053,-0.3011036955892888,-1.4785219903674274,-0.7198442083947086,-0.4606387709597875,1.0571222262189157,0.3436182895684614,-1.763040155362734,0.324083969394795,-0.38508228041631654,-0.6769220003059587,0.6116762888408679,1.030999522495951,0.9312801191161986,-0.8392175232226385,-0.3092123758512146,0.33126343140356396,0.9755451271223592,-0.47917423784528995,-0.18565897666381712,-1.1063349740060282,-1.1962066240806708,0.812525822394198,1.356240028570823,-0.07201012158033385,1.0035328978920242,0.36163602504763415,-0.6451197546051243,0.36139560550841393,1.5380365664659692,-0.03582603910995154,1.5646436558140062,-2.6197451040897444,0.8219025043752238,0.08704706823817122,-0.29900735046586746,0.0917607765355023,-1.9875689146008928,-0.21967188783751193,0.3571125715117464,1.477894044741516,-0.5182702182736474,-0.8084936028931876,-0.5017570435845365,0.9154021177020741,0.32875110965968446,-0.5297602037670388,0.5132674331133561,0.09707754934804039,0.9686449905328892,-0.7020530938773524,-0.3276621465977682,-0.39210815313215763,-1.4635149481321186,0.29612027706457605,0.26105527217988933,0.00511345664246089,-0.23458713337514692],\"type\":\"scatter\"},{\"line\":{\"color\":\"darkblue\",\"width\":1.5},\"mode\":\"lines\",\"name\":\"Upper Bollinger Band\",\"x\":[\"2023-01-01T00:00:00\",\"2023-01-02T00:00:00\",\"2023-01-03T00:00:00\",\"2023-01-04T00:00:00\",\"2023-01-05T00:00:00\",\"2023-01-06T00:00:00\",\"2023-01-07T00:00:00\",\"2023-01-08T00:00:00\",\"2023-01-09T00:00:00\",\"2023-01-10T00:00:00\",\"2023-01-11T00:00:00\",\"2023-01-12T00:00:00\",\"2023-01-13T00:00:00\",\"2023-01-14T00:00:00\",\"2023-01-15T00:00:00\",\"2023-01-16T00:00:00\",\"2023-01-17T00:00:00\",\"2023-01-18T00:00:00\",\"2023-01-19T00:00:00\",\"2023-01-20T00:00:00\",\"2023-01-21T00:00:00\",\"2023-01-22T00:00:00\",\"2023-01-23T00:00:00\",\"2023-01-24T00:00:00\",\"2023-01-25T00:00:00\",\"2023-01-26T00:00:00\",\"2023-01-27T00:00:00\",\"2023-01-28T00:00:00\",\"2023-01-29T00:00:00\",\"2023-01-30T00:00:00\",\"2023-01-31T00:00:00\",\"2023-02-01T00:00:00\",\"2023-02-02T00:00:00\",\"2023-02-03T00:00:00\",\"2023-02-04T00:00:00\",\"2023-02-05T00:00:00\",\"2023-02-06T00:00:00\",\"2023-02-07T00:00:00\",\"2023-02-08T00:00:00\",\"2023-02-09T00:00:00\",\"2023-02-10T00:00:00\",\"2023-02-11T00:00:00\",\"2023-02-12T00:00:00\",\"2023-02-13T00:00:00\",\"2023-02-14T00:00:00\",\"2023-02-15T00:00:00\",\"2023-02-16T00:00:00\",\"2023-02-17T00:00:00\",\"2023-02-18T00:00:00\",\"2023-02-19T00:00:00\",\"2023-02-20T00:00:00\",\"2023-02-21T00:00:00\",\"2023-02-22T00:00:00\",\"2023-02-23T00:00:00\",\"2023-02-24T00:00:00\",\"2023-02-25T00:00:00\",\"2023-02-26T00:00:00\",\"2023-02-27T00:00:00\",\"2023-02-28T00:00:00\",\"2023-03-01T00:00:00\",\"2023-03-02T00:00:00\",\"2023-03-03T00:00:00\",\"2023-03-04T00:00:00\",\"2023-03-05T00:00:00\",\"2023-03-06T00:00:00\",\"2023-03-07T00:00:00\",\"2023-03-08T00:00:00\",\"2023-03-09T00:00:00\",\"2023-03-10T00:00:00\",\"2023-03-11T00:00:00\",\"2023-03-12T00:00:00\",\"2023-03-13T00:00:00\",\"2023-03-14T00:00:00\",\"2023-03-15T00:00:00\",\"2023-03-16T00:00:00\",\"2023-03-17T00:00:00\",\"2023-03-18T00:00:00\",\"2023-03-19T00:00:00\",\"2023-03-20T00:00:00\",\"2023-03-21T00:00:00\",\"2023-03-22T00:00:00\",\"2023-03-23T00:00:00\",\"2023-03-24T00:00:00\",\"2023-03-25T00:00:00\",\"2023-03-26T00:00:00\",\"2023-03-27T00:00:00\",\"2023-03-28T00:00:00\",\"2023-03-29T00:00:00\",\"2023-03-30T00:00:00\",\"2023-03-31T00:00:00\",\"2023-04-01T00:00:00\",\"2023-04-02T00:00:00\",\"2023-04-03T00:00:00\",\"2023-04-04T00:00:00\",\"2023-04-05T00:00:00\",\"2023-04-06T00:00:00\",\"2023-04-07T00:00:00\",\"2023-04-08T00:00:00\",\"2023-04-09T00:00:00\",\"2023-04-10T00:00:00\"],\"y\":[null,null,null,null,null,null,null,null,null,null,null,null,null,null,null,null,null,null,null,1.7487582814362241,1.9135459534017776,1.9096858003850923,1.8505126093709545,1.614881221016515,1.6020194539138144,1.6286611580287629,1.309569109185076,1.2411881052462677,1.2358287647302728,1.1298070472576989,1.1232992354994185,1.5518235002355973,1.5247078485801218,1.4625256096438781,1.5461094047141961,1.5618295878754052,1.6003859640965488,1.6276010005424761,1.6417030863868214,1.670102303041333,1.5208395292860621,1.5528184092191788,1.5381251254341075,1.5151033966303047,1.551001075150508,1.5096088067457658,1.5041009243382706,1.6155831135720964,1.6737088135885558,1.7248571104620565,1.7827228309760408,1.4155091272167466,1.3808777291738306,1.4872403396312426,1.5273852130263514,1.656778008663672,1.6175809171374638,1.5131118124859313,1.5116622244571811,1.6150050164481804,1.524694499445487,1.5026721300670765,1.5143319865042373,1.5328719277104303,1.593536964192488,1.7864807241601124,1.7922210138662447,1.7831394768041788,1.7847277532738064,1.6606336420567065,1.6637488488489305,1.8681979718278006,1.8543719290564162,2.002441212782279,2.208069495246827,2.193984003448755,2.1953961877977464,2.195456797394665,2.1813149289212097,2.192778571139548,2.1977683646678274,2.2295723207843436,2.3861637737921835,2.3548637116010482,2.2939305586037206,2.13196346796679,2.219865090967038,2.1441501715801876,2.1062008581053937,2.156825390875919,2.1381425940356027,2.037702502164949,2.0273227315594147,1.7908183816849916,1.5203623233690993,1.4765202611669184,1.4959575087192705,1.531332555111789,1.525242559232847,1.3577494598599673],\"type\":\"scatter\"},{\"line\":{\"color\":\"blue\",\"width\":1.5},\"mode\":\"lines\",\"name\":\"Lower Bollinger Band\",\"x\":[\"2023-01-01T00:00:00\",\"2023-01-02T00:00:00\",\"2023-01-03T00:00:00\",\"2023-01-04T00:00:00\",\"2023-01-05T00:00:00\",\"2023-01-06T00:00:00\",\"2023-01-07T00:00:00\",\"2023-01-08T00:00:00\",\"2023-01-09T00:00:00\",\"2023-01-10T00:00:00\",\"2023-01-11T00:00:00\",\"2023-01-12T00:00:00\",\"2023-01-13T00:00:00\",\"2023-01-14T00:00:00\",\"2023-01-15T00:00:00\",\"2023-01-16T00:00:00\",\"2023-01-17T00:00:00\",\"2023-01-18T00:00:00\",\"2023-01-19T00:00:00\",\"2023-01-20T00:00:00\",\"2023-01-21T00:00:00\",\"2023-01-22T00:00:00\",\"2023-01-23T00:00:00\",\"2023-01-24T00:00:00\",\"2023-01-25T00:00:00\",\"2023-01-26T00:00:00\",\"2023-01-27T00:00:00\",\"2023-01-28T00:00:00\",\"2023-01-29T00:00:00\",\"2023-01-30T00:00:00\",\"2023-01-31T00:00:00\",\"2023-02-01T00:00:00\",\"2023-02-02T00:00:00\",\"2023-02-03T00:00:00\",\"2023-02-04T00:00:00\",\"2023-02-05T00:00:00\",\"2023-02-06T00:00:00\",\"2023-02-07T00:00:00\",\"2023-02-08T00:00:00\",\"2023-02-09T00:00:00\",\"2023-02-10T00:00:00\",\"2023-02-11T00:00:00\",\"2023-02-12T00:00:00\",\"2023-02-13T00:00:00\",\"2023-02-14T00:00:00\",\"2023-02-15T00:00:00\",\"2023-02-16T00:00:00\",\"2023-02-17T00:00:00\",\"2023-02-18T00:00:00\",\"2023-02-19T00:00:00\",\"2023-02-20T00:00:00\",\"2023-02-21T00:00:00\",\"2023-02-22T00:00:00\",\"2023-02-23T00:00:00\",\"2023-02-24T00:00:00\",\"2023-02-25T00:00:00\",\"2023-02-26T00:00:00\",\"2023-02-27T00:00:00\",\"2023-02-28T00:00:00\",\"2023-03-01T00:00:00\",\"2023-03-02T00:00:00\",\"2023-03-03T00:00:00\",\"2023-03-04T00:00:00\",\"2023-03-05T00:00:00\",\"2023-03-06T00:00:00\",\"2023-03-07T00:00:00\",\"2023-03-08T00:00:00\",\"2023-03-09T00:00:00\",\"2023-03-10T00:00:00\",\"2023-03-11T00:00:00\",\"2023-03-12T00:00:00\",\"2023-03-13T00:00:00\",\"2023-03-14T00:00:00\",\"2023-03-15T00:00:00\",\"2023-03-16T00:00:00\",\"2023-03-17T00:00:00\",\"2023-03-18T00:00:00\",\"2023-03-19T00:00:00\",\"2023-03-20T00:00:00\",\"2023-03-21T00:00:00\",\"2023-03-22T00:00:00\",\"2023-03-23T00:00:00\",\"2023-03-24T00:00:00\",\"2023-03-25T00:00:00\",\"2023-03-26T00:00:00\",\"2023-03-27T00:00:00\",\"2023-03-28T00:00:00\",\"2023-03-29T00:00:00\",\"2023-03-30T00:00:00\",\"2023-03-31T00:00:00\",\"2023-04-01T00:00:00\",\"2023-04-02T00:00:00\",\"2023-04-03T00:00:00\",\"2023-04-04T00:00:00\",\"2023-04-05T00:00:00\",\"2023-04-06T00:00:00\",\"2023-04-07T00:00:00\",\"2023-04-08T00:00:00\",\"2023-04-09T00:00:00\",\"2023-04-10T00:00:00\"],\"y\":[null,null,null,null,null,null,null,null,null,null,null,null,null,null,null,null,null,null,null,-2.091355404319882,-2.1592496146944034,-2.1641406616092533,-2.1629835039363923,-2.222129919844101,-2.240291087721585,-2.2324268371706286,-2.1863554276199113,-2.1571480947618267,-2.164905184644217,-2.142308846509567,-2.14962992669298,-2.3463533976212396,-2.344783695596161,-2.1970445250897277,-2.0258820456984235,-2.1074578409326374,-2.023844745619863,-2.2784515277132953,-2.3345698108953625,-2.202052533829433,-2.1255079789667763,-2.117772400732242,-2.1213967656547874,-1.9860105877885676,-2.1153221928929957,-2.1570066042987106,-2.082463241244964,-2.1258030096914657,-2.0895030117591986,-2.2877859491896446,-2.25307261154121,-2.109594954274441,-2.1413060337883274,-2.080729922466063,-2.1000293348218952,-2.0142097535504937,-2.079820773847025,-1.8103058943926364,-1.642911358333687,-1.6683857611993627,-1.6998393259807392,-1.7135196823877072,-1.8242482079866469,-1.9322984420419784,-1.7638586972478731,-1.7491940335189446,-1.7160714582871317,-1.712348854057755,-1.7121353569794653,-1.4762492056866041,-1.4756332488674662,-1.4877704871581077,-1.4098348482671228,-1.462607395295672,-2.033310140418789,-2.0301624100948144,-1.9389481352977254,-1.9379882423561092,-1.94779663936946,-2.2555716857601236,-2.234611244287625,-2.212138045586585,-2.11030659671967,-2.0112128939478326,-2.1123816834792435,-2.136214300057849,-2.125374699129856,-2.1171379585662398,-2.1683282679729134,-2.1031140819715906,-2.1108630907473116,-2.067362156469966,-2.1236050913411715,-2.076331321707926,-1.5831115682962749,-1.7678112513448283,-1.7663411780145397,-1.7457099621424828,-1.7482846982528446,-1.4054934207573904],\"type\":\"scatter\"},{\"marker\":{\"color\":\"green\",\"size\":10,\"symbol\":\"triangle-up\"},\"mode\":\"markers\",\"name\":\"Bollinger Buy Signal\",\"x\":[\"2023-03-16T00:00:00\"],\"y\":[-2.6197451040897444],\"type\":\"scatter\"},{\"marker\":{\"color\":\"red\",\"size\":10,\"symbol\":\"triangle-down\"},\"mode\":\"markers\",\"name\":\"Bollinger Sell Signal\",\"x\":[\"2023-02-01T00:00:00\"],\"y\":[1.8522781845089378],\"type\":\"scatter\"}],                        {\"template\":{\"data\":{\"histogram2dcontour\":[{\"type\":\"histogram2dcontour\",\"colorbar\":{\"outlinewidth\":0,\"ticks\":\"\"},\"colorscale\":[[0.0,\"#0d0887\"],[0.1111111111111111,\"#46039f\"],[0.2222222222222222,\"#7201a8\"],[0.3333333333333333,\"#9c179e\"],[0.4444444444444444,\"#bd3786\"],[0.5555555555555556,\"#d8576b\"],[0.6666666666666666,\"#ed7953\"],[0.7777777777777778,\"#fb9f3a\"],[0.8888888888888888,\"#fdca26\"],[1.0,\"#f0f921\"]]}],\"choropleth\":[{\"type\":\"choropleth\",\"colorbar\":{\"outlinewidth\":0,\"ticks\":\"\"}}],\"histogram2d\":[{\"type\":\"histogram2d\",\"colorbar\":{\"outlinewidth\":0,\"ticks\":\"\"},\"colorscale\":[[0.0,\"#0d0887\"],[0.1111111111111111,\"#46039f\"],[0.2222222222222222,\"#7201a8\"],[0.3333333333333333,\"#9c179e\"],[0.4444444444444444,\"#bd3786\"],[0.5555555555555556,\"#d8576b\"],[0.6666666666666666,\"#ed7953\"],[0.7777777777777778,\"#fb9f3a\"],[0.8888888888888888,\"#fdca26\"],[1.0,\"#f0f921\"]]}],\"heatmap\":[{\"type\":\"heatmap\",\"colorbar\":{\"outlinewidth\":0,\"ticks\":\"\"},\"colorscale\":[[0.0,\"#0d0887\"],[0.1111111111111111,\"#46039f\"],[0.2222222222222222,\"#7201a8\"],[0.3333333333333333,\"#9c179e\"],[0.4444444444444444,\"#bd3786\"],[0.5555555555555556,\"#d8576b\"],[0.6666666666666666,\"#ed7953\"],[0.7777777777777778,\"#fb9f3a\"],[0.8888888888888888,\"#fdca26\"],[1.0,\"#f0f921\"]]}],\"heatmapgl\":[{\"type\":\"heatmapgl\",\"colorbar\":{\"outlinewidth\":0,\"ticks\":\"\"},\"colorscale\":[[0.0,\"#0d0887\"],[0.1111111111111111,\"#46039f\"],[0.2222222222222222,\"#7201a8\"],[0.3333333333333333,\"#9c179e\"],[0.4444444444444444,\"#bd3786\"],[0.5555555555555556,\"#d8576b\"],[0.6666666666666666,\"#ed7953\"],[0.7777777777777778,\"#fb9f3a\"],[0.8888888888888888,\"#fdca26\"],[1.0,\"#f0f921\"]]}],\"contourcarpet\":[{\"type\":\"contourcarpet\",\"colorbar\":{\"outlinewidth\":0,\"ticks\":\"\"}}],\"contour\":[{\"type\":\"contour\",\"colorbar\":{\"outlinewidth\":0,\"ticks\":\"\"},\"colorscale\":[[0.0,\"#0d0887\"],[0.1111111111111111,\"#46039f\"],[0.2222222222222222,\"#7201a8\"],[0.3333333333333333,\"#9c179e\"],[0.4444444444444444,\"#bd3786\"],[0.5555555555555556,\"#d8576b\"],[0.6666666666666666,\"#ed7953\"],[0.7777777777777778,\"#fb9f3a\"],[0.8888888888888888,\"#fdca26\"],[1.0,\"#f0f921\"]]}],\"surface\":[{\"type\":\"surface\",\"colorbar\":{\"outlinewidth\":0,\"ticks\":\"\"},\"colorscale\":[[0.0,\"#0d0887\"],[0.1111111111111111,\"#46039f\"],[0.2222222222222222,\"#7201a8\"],[0.3333333333333333,\"#9c179e\"],[0.4444444444444444,\"#bd3786\"],[0.5555555555555556,\"#d8576b\"],[0.6666666666666666,\"#ed7953\"],[0.7777777777777778,\"#fb9f3a\"],[0.8888888888888888,\"#fdca26\"],[1.0,\"#f0f921\"]]}],\"mesh3d\":[{\"type\":\"mesh3d\",\"colorbar\":{\"outlinewidth\":0,\"ticks\":\"\"}}],\"scatter\":[{\"fillpattern\":{\"fillmode\":\"overlay\",\"size\":10,\"solidity\":0.2},\"type\":\"scatter\"}],\"parcoords\":[{\"type\":\"parcoords\",\"line\":{\"colorbar\":{\"outlinewidth\":0,\"ticks\":\"\"}}}],\"scatterpolargl\":[{\"type\":\"scatterpolargl\",\"marker\":{\"colorbar\":{\"outlinewidth\":0,\"ticks\":\"\"}}}],\"bar\":[{\"error_x\":{\"color\":\"#2a3f5f\"},\"error_y\":{\"color\":\"#2a3f5f\"},\"marker\":{\"line\":{\"color\":\"#E5ECF6\",\"width\":0.5},\"pattern\":{\"fillmode\":\"overlay\",\"size\":10,\"solidity\":0.2}},\"type\":\"bar\"}],\"scattergeo\":[{\"type\":\"scattergeo\",\"marker\":{\"colorbar\":{\"outlinewidth\":0,\"ticks\":\"\"}}}],\"scatterpolar\":[{\"type\":\"scatterpolar\",\"marker\":{\"colorbar\":{\"outlinewidth\":0,\"ticks\":\"\"}}}],\"histogram\":[{\"marker\":{\"pattern\":{\"fillmode\":\"overlay\",\"size\":10,\"solidity\":0.2}},\"type\":\"histogram\"}],\"scattergl\":[{\"type\":\"scattergl\",\"marker\":{\"colorbar\":{\"outlinewidth\":0,\"ticks\":\"\"}}}],\"scatter3d\":[{\"type\":\"scatter3d\",\"line\":{\"colorbar\":{\"outlinewidth\":0,\"ticks\":\"\"}},\"marker\":{\"colorbar\":{\"outlinewidth\":0,\"ticks\":\"\"}}}],\"scattermapbox\":[{\"type\":\"scattermapbox\",\"marker\":{\"colorbar\":{\"outlinewidth\":0,\"ticks\":\"\"}}}],\"scatterternary\":[{\"type\":\"scatterternary\",\"marker\":{\"colorbar\":{\"outlinewidth\":0,\"ticks\":\"\"}}}],\"scattercarpet\":[{\"type\":\"scattercarpet\",\"marker\":{\"colorbar\":{\"outlinewidth\":0,\"ticks\":\"\"}}}],\"carpet\":[{\"aaxis\":{\"endlinecolor\":\"#2a3f5f\",\"gridcolor\":\"white\",\"linecolor\":\"white\",\"minorgridcolor\":\"white\",\"startlinecolor\":\"#2a3f5f\"},\"baxis\":{\"endlinecolor\":\"#2a3f5f\",\"gridcolor\":\"white\",\"linecolor\":\"white\",\"minorgridcolor\":\"white\",\"startlinecolor\":\"#2a3f5f\"},\"type\":\"carpet\"}],\"table\":[{\"cells\":{\"fill\":{\"color\":\"#EBF0F8\"},\"line\":{\"color\":\"white\"}},\"header\":{\"fill\":{\"color\":\"#C8D4E3\"},\"line\":{\"color\":\"white\"}},\"type\":\"table\"}],\"barpolar\":[{\"marker\":{\"line\":{\"color\":\"#E5ECF6\",\"width\":0.5},\"pattern\":{\"fillmode\":\"overlay\",\"size\":10,\"solidity\":0.2}},\"type\":\"barpolar\"}],\"pie\":[{\"automargin\":true,\"type\":\"pie\"}]},\"layout\":{\"autotypenumbers\":\"strict\",\"colorway\":[\"#636efa\",\"#EF553B\",\"#00cc96\",\"#ab63fa\",\"#FFA15A\",\"#19d3f3\",\"#FF6692\",\"#B6E880\",\"#FF97FF\",\"#FECB52\"],\"font\":{\"color\":\"#2a3f5f\"},\"hovermode\":\"closest\",\"hoverlabel\":{\"align\":\"left\"},\"paper_bgcolor\":\"white\",\"plot_bgcolor\":\"#E5ECF6\",\"polar\":{\"bgcolor\":\"#E5ECF6\",\"angularaxis\":{\"gridcolor\":\"white\",\"linecolor\":\"white\",\"ticks\":\"\"},\"radialaxis\":{\"gridcolor\":\"white\",\"linecolor\":\"white\",\"ticks\":\"\"}},\"ternary\":{\"bgcolor\":\"#E5ECF6\",\"aaxis\":{\"gridcolor\":\"white\",\"linecolor\":\"white\",\"ticks\":\"\"},\"baxis\":{\"gridcolor\":\"white\",\"linecolor\":\"white\",\"ticks\":\"\"},\"caxis\":{\"gridcolor\":\"white\",\"linecolor\":\"white\",\"ticks\":\"\"}},\"coloraxis\":{\"colorbar\":{\"outlinewidth\":0,\"ticks\":\"\"}},\"colorscale\":{\"sequential\":[[0.0,\"#0d0887\"],[0.1111111111111111,\"#46039f\"],[0.2222222222222222,\"#7201a8\"],[0.3333333333333333,\"#9c179e\"],[0.4444444444444444,\"#bd3786\"],[0.5555555555555556,\"#d8576b\"],[0.6666666666666666,\"#ed7953\"],[0.7777777777777778,\"#fb9f3a\"],[0.8888888888888888,\"#fdca26\"],[1.0,\"#f0f921\"]],\"sequentialminus\":[[0.0,\"#0d0887\"],[0.1111111111111111,\"#46039f\"],[0.2222222222222222,\"#7201a8\"],[0.3333333333333333,\"#9c179e\"],[0.4444444444444444,\"#bd3786\"],[0.5555555555555556,\"#d8576b\"],[0.6666666666666666,\"#ed7953\"],[0.7777777777777778,\"#fb9f3a\"],[0.8888888888888888,\"#fdca26\"],[1.0,\"#f0f921\"]],\"diverging\":[[0,\"#8e0152\"],[0.1,\"#c51b7d\"],[0.2,\"#de77ae\"],[0.3,\"#f1b6da\"],[0.4,\"#fde0ef\"],[0.5,\"#f7f7f7\"],[0.6,\"#e6f5d0\"],[0.7,\"#b8e186\"],[0.8,\"#7fbc41\"],[0.9,\"#4d9221\"],[1,\"#276419\"]]},\"xaxis\":{\"gridcolor\":\"white\",\"linecolor\":\"white\",\"ticks\":\"\",\"title\":{\"standoff\":15},\"zerolinecolor\":\"white\",\"automargin\":true,\"zerolinewidth\":2},\"yaxis\":{\"gridcolor\":\"white\",\"linecolor\":\"white\",\"ticks\":\"\",\"title\":{\"standoff\":15},\"zerolinecolor\":\"white\",\"automargin\":true,\"zerolinewidth\":2},\"scene\":{\"xaxis\":{\"backgroundcolor\":\"#E5ECF6\",\"gridcolor\":\"white\",\"linecolor\":\"white\",\"showbackground\":true,\"ticks\":\"\",\"zerolinecolor\":\"white\",\"gridwidth\":2},\"yaxis\":{\"backgroundcolor\":\"#E5ECF6\",\"gridcolor\":\"white\",\"linecolor\":\"white\",\"showbackground\":true,\"ticks\":\"\",\"zerolinecolor\":\"white\",\"gridwidth\":2},\"zaxis\":{\"backgroundcolor\":\"#E5ECF6\",\"gridcolor\":\"white\",\"linecolor\":\"white\",\"showbackground\":true,\"ticks\":\"\",\"zerolinecolor\":\"white\",\"gridwidth\":2}},\"shapedefaults\":{\"line\":{\"color\":\"#2a3f5f\"}},\"annotationdefaults\":{\"arrowcolor\":\"#2a3f5f\",\"arrowhead\":0,\"arrowwidth\":1},\"geo\":{\"bgcolor\":\"white\",\"landcolor\":\"#E5ECF6\",\"subunitcolor\":\"white\",\"showland\":true,\"showlakes\":true,\"lakecolor\":\"white\"},\"title\":{\"x\":0.05},\"mapbox\":{\"style\":\"light\"}}},\"xaxis\":{\"rangeslider\":{\"visible\":false},\"title\":{\"text\":\"Date\"}},\"title\":{\"text\":\"Bollinger Bands and Trading Signals\"},\"yaxis\":{\"title\":{\"text\":\"Price\"}},\"showlegend\":true},                        {\"responsive\": true}                    ).then(function(){\n",
       "                            \n",
       "var gd = document.getElementById('342bb261-29bf-4e24-ba3a-2e646a6f54ab');\n",
       "var x = new MutationObserver(function (mutations, observer) {{\n",
       "        var display = window.getComputedStyle(gd).display;\n",
       "        if (!display || display === 'none') {{\n",
       "            console.log([gd, 'removed!']);\n",
       "            Plotly.purge(gd);\n",
       "            observer.disconnect();\n",
       "        }}\n",
       "}});\n",
       "\n",
       "// Listen for the removal of the full notebook cells\n",
       "var notebookContainer = gd.closest('#notebook-container');\n",
       "if (notebookContainer) {{\n",
       "    x.observe(notebookContainer, {childList: true});\n",
       "}}\n",
       "\n",
       "// Listen for the clearing of the current output cell\n",
       "var outputEl = gd.closest('.output');\n",
       "if (outputEl) {{\n",
       "    x.observe(outputEl, {childList: true});\n",
       "}}\n",
       "\n",
       "                        })                };                });            </script>        </div>"
      ]
     },
     "metadata": {},
     "output_type": "display_data"
    }
   ],
   "source": [
    "import pandas as pd\n",
    "import numpy as np\n",
    "import plotly.graph_objects as go\n",
    "\n",
    "# Tworzenie przykładowych danych\n",
    "np.random.seed(42)\n",
    "dates = pd.date_range(start='2023-01-01', periods=100, freq='D')\n",
    "df_month = pd.DataFrame({\n",
    "    'Date': dates,\n",
    "    'Close': np.random.randn(100)\n",
    "})\n",
    "df_month.set_index('Date', inplace=True)\n",
    "\n",
    "# Obliczenie średniej kroczącej (SMA)\n",
    "window = 20\n",
    "df_month['SMA'] = df_month['Close'].rolling(window=window).mean()\n",
    "\n",
    "# Obliczenie standardowego odchylenia\n",
    "df_month['STD'] = df_month['Close'].rolling(window=window).std()\n",
    "\n",
    "# Obliczenie wstęg Bollingera\n",
    "df_month['BandUpper'] = df_month['SMA'] + 2 * df_month['STD']\n",
    "df_month['BandLower'] = df_month['SMA'] - 2 * df_month['STD']\n",
    "\n",
    "# Decyzje na podstawie wstęg Bollingera\n",
    "df_month['Bollinger_decision'] = 'HOLD'\n",
    "df_month.loc[df_month['Close'] < df_month['BandLower'], 'Bollinger_decision'] = 'BUY'\n",
    "df_month.loc[df_month['Close'] > df_month['BandUpper'], 'Bollinger_decision'] = 'SELL'\n",
    "\n",
    "# Sygnały kupna i sprzedaży dla wstęg Bollingera\n",
    "buy_signals_bollinger = df_month[df_month['Bollinger_decision'] == 'BUY']\n",
    "sell_signals_bollinger = df_month[df_month['Bollinger_decision'] == 'SELL']\n",
    "\n",
    "# Wykres\n",
    "fig = go.Figure()\n",
    "\n",
    "# Cena zamknięcia\n",
    "fig.add_trace(go.Scatter(x=df_month.index, y=df_month['Close'], mode='lines', name='Close Price', line=dict(color='lightblue', width=3)))\n",
    "\n",
    "# Wstęgi Bollingera\n",
    "fig.add_trace(go.Scatter(x=df_month.index, y=df_month['BandUpper'], mode='lines', name='Upper Bollinger Band', line=dict(color='darkblue', width=1.5), fill=None))\n",
    "fig.add_trace(go.Scatter(x=df_month.index, y=df_month['BandLower'], mode='lines', name='Lower Bollinger Band', line=dict(color='blue', width=1.5), fill=None))\n",
    "\n",
    "# Sygnały kupna i sprzedaży dla wstęg Bollingera\n",
    "fig.add_trace(go.Scatter(x=buy_signals_bollinger.index, y=buy_signals_bollinger['Close'], mode='markers', name='Bollinger Buy Signal',\n",
    "                         marker=dict(symbol='triangle-up', color='green', size=10)))\n",
    "fig.add_trace(go.Scatter(x=sell_signals_bollinger.index, y=sell_signals_bollinger['Close'], mode='markers', name='Bollinger Sell Signal',\n",
    "                         marker=dict(symbol='triangle-down', color='red', size=10)))\n",
    "\n",
    "fig.update_layout(\n",
    "    title='Bollinger Bands and Trading Signals',\n",
    "    xaxis_rangeslider_visible=False,\n",
    "    xaxis_title='Date',\n",
    "    yaxis_title='Price',\n",
    "    showlegend=True\n",
    ")\n",
    "\n",
    "fig.show()\n"
   ]
  },
  {
   "cell_type": "code",
   "execution_count": null,
   "id": "55b4aa0f",
   "metadata": {},
   "outputs": [],
   "source": []
  }
 ],
 "metadata": {
  "kernelspec": {
   "display_name": "Python 3 (ipykernel)",
   "language": "python",
   "name": "python3"
  },
  "language_info": {
   "codemirror_mode": {
    "name": "ipython",
    "version": 3
   },
   "file_extension": ".py",
   "mimetype": "text/x-python",
   "name": "python",
   "nbconvert_exporter": "python",
   "pygments_lexer": "ipython3",
   "version": "3.10.11"
  }
 },
 "nbformat": 4,
 "nbformat_minor": 5
}
