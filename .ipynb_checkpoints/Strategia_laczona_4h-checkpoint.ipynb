{
 "cells": [
  {
   "cell_type": "code",
   "execution_count": 2,
   "id": "529e9241",
   "metadata": {},
   "outputs": [
    {
     "name": "stderr",
     "output_type": "stream",
     "text": [
      "C:\\Users\\Karolina\\anaconda3\\envs\\Magisterka\\lib\\site-packages\\backtesting\\_plotting.py:50: UserWarning: Jupyter Notebook detected. Setting Bokeh output to notebook. This may not work in Jupyter clients without JavaScript support (e.g. PyCharm, Spyder IDE). Reset with `backtesting.set_bokeh_output(notebook=False)`.\n",
      "  warnings.warn('Jupyter Notebook detected. '\n"
     ]
    },
    {
     "data": {
      "text/html": [
       "<style>\n",
       "        .bk-notebook-logo {\n",
       "            display: block;\n",
       "            width: 20px;\n",
       "            height: 20px;\n",
       "            background-image: url(data:image/png;base64,iVBORw0KGgoAAAANSUhEUgAAABQAAAAUCAYAAACNiR0NAAAABHNCSVQICAgIfAhkiAAAAAlwSFlzAAALEgAACxIB0t1+/AAAABx0RVh0U29mdHdhcmUAQWRvYmUgRmlyZXdvcmtzIENTNui8sowAAAOkSURBVDiNjZRtaJVlGMd/1/08zzln5zjP1LWcU9N0NkN8m2CYjpgQYQXqSs0I84OLIC0hkEKoPtiH3gmKoiJDU7QpLgoLjLIQCpEsNJ1vqUOdO7ppbuec5+V+rj4ctwzd8IIbbi6u+8f1539dt3A78eXC7QizUF7gyV1fD1Yqg4JWz84yffhm0qkFqBogB9rM8tZdtwVsPUhWhGcFJngGeWrPzHm5oaMmkfEg1usvLFyc8jLRqDOMru7AyC8saQr7GG7f5fvDeH7Ej8CM66nIF+8yngt6HWaKh7k49Soy9nXurCi1o3qUbS3zWfrYeQDTB/Qj6kX6Ybhw4B+bOYoLKCC9H3Nu/leUTZ1JdRWkkn2ldcCamzrcf47KKXdAJllSlxAOkRgyHsGC/zRday5Qld9DyoM4/q/rUoy/CXh3jzOu3bHUVZeU+DEn8FInkPBFlu3+nW3Nw0mk6vCDiWg8CeJaxEwuHS3+z5RgY+YBR6V1Z1nxSOfoaPa4LASWxxdNp+VWTk7+4vzaou8v8PN+xo+KY2xsw6une2frhw05CTYOmQvsEhjhWjn0bmXPjpE1+kplmmkP3suftwTubK9Vq22qKmrBhpY4jvd5afdRA3wGjFAgcnTK2s4hY0/GPNIb0nErGMCRxWOOX64Z8RAC4oCXdklmEvcL8o0BfkNK4lUg9HTl+oPlQxdNo3Mg4Nv175e/1LDGzZen30MEjRUtmXSfiTVu1kK8W4txyV6BMKlbgk3lMwYCiusNy9fVfvvwMxv8Ynl6vxoByANLTWplvuj/nF9m2+PDtt1eiHPBr1oIfhCChQMBw6Aw0UulqTKZdfVvfG7VcfIqLG9bcldL/+pdWTLxLUy8Qq38heUIjh4XlzZxzQm19lLFlr8vdQ97rjZVOLf8nclzckbcD4wxXMidpX30sFd37Fv/GtwwhzhxGVAprjbg0gCAEeIgwCZyTV2Z1REEW8O4py0wsjeloKoMr6iCY6dP92H6Vw/oTyICIthibxjm/DfN9lVz8IqtqKYLUXfoKVMVQVVJOElGjrnnUt9T9wbgp8AyYKaGlqingHZU/uG2NTZSVqwHQTWkx9hxjkpWDaCg6Ckj5qebgBVbT3V3NNXMSiWSDdGV3hrtzla7J+duwPOToIg42ChPQOQjspnSlp1V+Gjdged7+8UN5CRAV7a5EdFNwCjEaBR27b3W890TE7g24NAP/mMDXRWrGoFPQI9ls/MWO2dWFAar/xcOIImbbpA3zgAAAABJRU5ErkJggg==);\n",
       "        }\n",
       "    </style>\n",
       "    <div>\n",
       "        <a href=\"https://bokeh.org\" target=\"_blank\" class=\"bk-notebook-logo\"></a>\n",
       "        <span id=\"f7fd371e-dd8b-4865-a29b-9a3071825089\">Loading BokehJS ...</span>\n",
       "    </div>\n"
      ]
     },
     "metadata": {},
     "output_type": "display_data"
    },
    {
     "data": {
      "application/javascript": [
       "(function(root) {\n",
       "  function now() {\n",
       "    return new Date();\n",
       "  }\n",
       "\n",
       "  const force = true;\n",
       "\n",
       "  if (typeof root._bokeh_onload_callbacks === \"undefined\" || force === true) {\n",
       "    root._bokeh_onload_callbacks = [];\n",
       "    root._bokeh_is_loading = undefined;\n",
       "  }\n",
       "\n",
       "const JS_MIME_TYPE = 'application/javascript';\n",
       "  const HTML_MIME_TYPE = 'text/html';\n",
       "  const EXEC_MIME_TYPE = 'application/vnd.bokehjs_exec.v0+json';\n",
       "  const CLASS_NAME = 'output_bokeh rendered_html';\n",
       "\n",
       "  /**\n",
       "   * Render data to the DOM node\n",
       "   */\n",
       "  function render(props, node) {\n",
       "    const script = document.createElement(\"script\");\n",
       "    node.appendChild(script);\n",
       "  }\n",
       "\n",
       "  /**\n",
       "   * Handle when an output is cleared or removed\n",
       "   */\n",
       "  function handleClearOutput(event, handle) {\n",
       "    const cell = handle.cell;\n",
       "\n",
       "    const id = cell.output_area._bokeh_element_id;\n",
       "    const server_id = cell.output_area._bokeh_server_id;\n",
       "    // Clean up Bokeh references\n",
       "    if (id != null && id in Bokeh.index) {\n",
       "      Bokeh.index[id].model.document.clear();\n",
       "      delete Bokeh.index[id];\n",
       "    }\n",
       "\n",
       "    if (server_id !== undefined) {\n",
       "      // Clean up Bokeh references\n",
       "      const cmd_clean = \"from bokeh.io.state import curstate; print(curstate().uuid_to_server['\" + server_id + \"'].get_sessions()[0].document.roots[0]._id)\";\n",
       "      cell.notebook.kernel.execute(cmd_clean, {\n",
       "        iopub: {\n",
       "          output: function(msg) {\n",
       "            const id = msg.content.text.trim();\n",
       "            if (id in Bokeh.index) {\n",
       "              Bokeh.index[id].model.document.clear();\n",
       "              delete Bokeh.index[id];\n",
       "            }\n",
       "          }\n",
       "        }\n",
       "      });\n",
       "      // Destroy server and session\n",
       "      const cmd_destroy = \"import bokeh.io.notebook as ion; ion.destroy_server('\" + server_id + \"')\";\n",
       "      cell.notebook.kernel.execute(cmd_destroy);\n",
       "    }\n",
       "  }\n",
       "\n",
       "  /**\n",
       "   * Handle when a new output is added\n",
       "   */\n",
       "  function handleAddOutput(event, handle) {\n",
       "    const output_area = handle.output_area;\n",
       "    const output = handle.output;\n",
       "\n",
       "    // limit handleAddOutput to display_data with EXEC_MIME_TYPE content only\n",
       "    if ((output.output_type != \"display_data\") || (!Object.prototype.hasOwnProperty.call(output.data, EXEC_MIME_TYPE))) {\n",
       "      return\n",
       "    }\n",
       "\n",
       "    const toinsert = output_area.element.find(\".\" + CLASS_NAME.split(' ')[0]);\n",
       "\n",
       "    if (output.metadata[EXEC_MIME_TYPE][\"id\"] !== undefined) {\n",
       "      toinsert[toinsert.length - 1].firstChild.textContent = output.data[JS_MIME_TYPE];\n",
       "      // store reference to embed id on output_area\n",
       "      output_area._bokeh_element_id = output.metadata[EXEC_MIME_TYPE][\"id\"];\n",
       "    }\n",
       "    if (output.metadata[EXEC_MIME_TYPE][\"server_id\"] !== undefined) {\n",
       "      const bk_div = document.createElement(\"div\");\n",
       "      bk_div.innerHTML = output.data[HTML_MIME_TYPE];\n",
       "      const script_attrs = bk_div.children[0].attributes;\n",
       "      for (let i = 0; i < script_attrs.length; i++) {\n",
       "        toinsert[toinsert.length - 1].firstChild.setAttribute(script_attrs[i].name, script_attrs[i].value);\n",
       "        toinsert[toinsert.length - 1].firstChild.textContent = bk_div.children[0].textContent\n",
       "      }\n",
       "      // store reference to server id on output_area\n",
       "      output_area._bokeh_server_id = output.metadata[EXEC_MIME_TYPE][\"server_id\"];\n",
       "    }\n",
       "  }\n",
       "\n",
       "  function register_renderer(events, OutputArea) {\n",
       "\n",
       "    function append_mime(data, metadata, element) {\n",
       "      // create a DOM node to render to\n",
       "      const toinsert = this.create_output_subarea(\n",
       "        metadata,\n",
       "        CLASS_NAME,\n",
       "        EXEC_MIME_TYPE\n",
       "      );\n",
       "      this.keyboard_manager.register_events(toinsert);\n",
       "      // Render to node\n",
       "      const props = {data: data, metadata: metadata[EXEC_MIME_TYPE]};\n",
       "      render(props, toinsert[toinsert.length - 1]);\n",
       "      element.append(toinsert);\n",
       "      return toinsert\n",
       "    }\n",
       "\n",
       "    /* Handle when an output is cleared or removed */\n",
       "    events.on('clear_output.CodeCell', handleClearOutput);\n",
       "    events.on('delete.Cell', handleClearOutput);\n",
       "\n",
       "    /* Handle when a new output is added */\n",
       "    events.on('output_added.OutputArea', handleAddOutput);\n",
       "\n",
       "    /**\n",
       "     * Register the mime type and append_mime function with output_area\n",
       "     */\n",
       "    OutputArea.prototype.register_mime_type(EXEC_MIME_TYPE, append_mime, {\n",
       "      /* Is output safe? */\n",
       "      safe: true,\n",
       "      /* Index of renderer in `output_area.display_order` */\n",
       "      index: 0\n",
       "    });\n",
       "  }\n",
       "\n",
       "  // register the mime type if in Jupyter Notebook environment and previously unregistered\n",
       "  if (root.Jupyter !== undefined) {\n",
       "    const events = require('base/js/events');\n",
       "    const OutputArea = require('notebook/js/outputarea').OutputArea;\n",
       "\n",
       "    if (OutputArea.prototype.mime_types().indexOf(EXEC_MIME_TYPE) == -1) {\n",
       "      register_renderer(events, OutputArea);\n",
       "    }\n",
       "  }\n",
       "  if (typeof (root._bokeh_timeout) === \"undefined\" || force === true) {\n",
       "    root._bokeh_timeout = Date.now() + 5000;\n",
       "    root._bokeh_failed_load = false;\n",
       "  }\n",
       "\n",
       "  const NB_LOAD_WARNING = {'data': {'text/html':\n",
       "     \"<div style='background-color: #fdd'>\\n\"+\n",
       "     \"<p>\\n\"+\n",
       "     \"BokehJS does not appear to have successfully loaded. If loading BokehJS from CDN, this \\n\"+\n",
       "     \"may be due to a slow or bad network connection. Possible fixes:\\n\"+\n",
       "     \"</p>\\n\"+\n",
       "     \"<ul>\\n\"+\n",
       "     \"<li>re-rerun `output_notebook()` to attempt to load from CDN again, or</li>\\n\"+\n",
       "     \"<li>use INLINE resources instead, as so:</li>\\n\"+\n",
       "     \"</ul>\\n\"+\n",
       "     \"<code>\\n\"+\n",
       "     \"from bokeh.resources import INLINE\\n\"+\n",
       "     \"output_notebook(resources=INLINE)\\n\"+\n",
       "     \"</code>\\n\"+\n",
       "     \"</div>\"}};\n",
       "\n",
       "  function display_loaded() {\n",
       "    const el = document.getElementById(\"f7fd371e-dd8b-4865-a29b-9a3071825089\");\n",
       "    if (el != null) {\n",
       "      el.textContent = \"BokehJS is loading...\";\n",
       "    }\n",
       "    if (root.Bokeh !== undefined) {\n",
       "      if (el != null) {\n",
       "        el.textContent = \"BokehJS \" + root.Bokeh.version + \" successfully loaded.\";\n",
       "      }\n",
       "    } else if (Date.now() < root._bokeh_timeout) {\n",
       "      setTimeout(display_loaded, 100)\n",
       "    }\n",
       "  }\n",
       "\n",
       "  function run_callbacks() {\n",
       "    try {\n",
       "      root._bokeh_onload_callbacks.forEach(function(callback) {\n",
       "        if (callback != null)\n",
       "          callback();\n",
       "      });\n",
       "    } finally {\n",
       "      delete root._bokeh_onload_callbacks\n",
       "    }\n",
       "    console.debug(\"Bokeh: all callbacks have finished\");\n",
       "  }\n",
       "\n",
       "  function load_libs(css_urls, js_urls, callback) {\n",
       "    if (css_urls == null) css_urls = [];\n",
       "    if (js_urls == null) js_urls = [];\n",
       "\n",
       "    root._bokeh_onload_callbacks.push(callback);\n",
       "    if (root._bokeh_is_loading > 0) {\n",
       "      console.debug(\"Bokeh: BokehJS is being loaded, scheduling callback at\", now());\n",
       "      return null;\n",
       "    }\n",
       "    if (js_urls == null || js_urls.length === 0) {\n",
       "      run_callbacks();\n",
       "      return null;\n",
       "    }\n",
       "    console.debug(\"Bokeh: BokehJS not loaded, scheduling load and callback at\", now());\n",
       "    root._bokeh_is_loading = css_urls.length + js_urls.length;\n",
       "\n",
       "    function on_load() {\n",
       "      root._bokeh_is_loading--;\n",
       "      if (root._bokeh_is_loading === 0) {\n",
       "        console.debug(\"Bokeh: all BokehJS libraries/stylesheets loaded\");\n",
       "        run_callbacks()\n",
       "      }\n",
       "    }\n",
       "\n",
       "    function on_error(url) {\n",
       "      console.error(\"failed to load \" + url);\n",
       "    }\n",
       "\n",
       "    for (let i = 0; i < css_urls.length; i++) {\n",
       "      const url = css_urls[i];\n",
       "      const element = document.createElement(\"link\");\n",
       "      element.onload = on_load;\n",
       "      element.onerror = on_error.bind(null, url);\n",
       "      element.rel = \"stylesheet\";\n",
       "      element.type = \"text/css\";\n",
       "      element.href = url;\n",
       "      console.debug(\"Bokeh: injecting link tag for BokehJS stylesheet: \", url);\n",
       "      document.body.appendChild(element);\n",
       "    }\n",
       "\n",
       "    for (let i = 0; i < js_urls.length; i++) {\n",
       "      const url = js_urls[i];\n",
       "      const element = document.createElement('script');\n",
       "      element.onload = on_load;\n",
       "      element.onerror = on_error.bind(null, url);\n",
       "      element.async = false;\n",
       "      element.src = url;\n",
       "      console.debug(\"Bokeh: injecting script tag for BokehJS library: \", url);\n",
       "      document.head.appendChild(element);\n",
       "    }\n",
       "  };\n",
       "\n",
       "  function inject_raw_css(css) {\n",
       "    const element = document.createElement(\"style\");\n",
       "    element.appendChild(document.createTextNode(css));\n",
       "    document.body.appendChild(element);\n",
       "  }\n",
       "\n",
       "  const js_urls = [\"https://cdn.bokeh.org/bokeh/release/bokeh-3.2.1.min.js\", \"https://cdn.bokeh.org/bokeh/release/bokeh-gl-3.2.1.min.js\", \"https://cdn.bokeh.org/bokeh/release/bokeh-widgets-3.2.1.min.js\", \"https://cdn.bokeh.org/bokeh/release/bokeh-tables-3.2.1.min.js\", \"https://cdn.bokeh.org/bokeh/release/bokeh-mathjax-3.2.1.min.js\"];\n",
       "  const css_urls = [];\n",
       "\n",
       "  const inline_js = [    function(Bokeh) {\n",
       "      Bokeh.set_log_level(\"info\");\n",
       "    },\n",
       "function(Bokeh) {\n",
       "    }\n",
       "  ];\n",
       "\n",
       "  function run_inline_js() {\n",
       "    if (root.Bokeh !== undefined || force === true) {\n",
       "          for (let i = 0; i < inline_js.length; i++) {\n",
       "      inline_js[i].call(root, root.Bokeh);\n",
       "    }\n",
       "if (force === true) {\n",
       "        display_loaded();\n",
       "      }} else if (Date.now() < root._bokeh_timeout) {\n",
       "      setTimeout(run_inline_js, 100);\n",
       "    } else if (!root._bokeh_failed_load) {\n",
       "      console.log(\"Bokeh: BokehJS failed to load within specified timeout.\");\n",
       "      root._bokeh_failed_load = true;\n",
       "    } else if (force !== true) {\n",
       "      const cell = $(document.getElementById(\"f7fd371e-dd8b-4865-a29b-9a3071825089\")).parents('.cell').data().cell;\n",
       "      cell.output_area.append_execute_result(NB_LOAD_WARNING)\n",
       "    }\n",
       "  }\n",
       "\n",
       "  if (root._bokeh_is_loading === 0) {\n",
       "    console.debug(\"Bokeh: BokehJS loaded, going straight to plotting\");\n",
       "    run_inline_js();\n",
       "  } else {\n",
       "    load_libs(css_urls, js_urls, function() {\n",
       "      console.debug(\"Bokeh: BokehJS plotting callback run at\", now());\n",
       "      run_inline_js();\n",
       "    });\n",
       "  }\n",
       "}(window));"
      ],
      "application/vnd.bokehjs_load.v0+json": "(function(root) {\n  function now() {\n    return new Date();\n  }\n\n  const force = true;\n\n  if (typeof root._bokeh_onload_callbacks === \"undefined\" || force === true) {\n    root._bokeh_onload_callbacks = [];\n    root._bokeh_is_loading = undefined;\n  }\n\n\n  if (typeof (root._bokeh_timeout) === \"undefined\" || force === true) {\n    root._bokeh_timeout = Date.now() + 5000;\n    root._bokeh_failed_load = false;\n  }\n\n  const NB_LOAD_WARNING = {'data': {'text/html':\n     \"<div style='background-color: #fdd'>\\n\"+\n     \"<p>\\n\"+\n     \"BokehJS does not appear to have successfully loaded. If loading BokehJS from CDN, this \\n\"+\n     \"may be due to a slow or bad network connection. Possible fixes:\\n\"+\n     \"</p>\\n\"+\n     \"<ul>\\n\"+\n     \"<li>re-rerun `output_notebook()` to attempt to load from CDN again, or</li>\\n\"+\n     \"<li>use INLINE resources instead, as so:</li>\\n\"+\n     \"</ul>\\n\"+\n     \"<code>\\n\"+\n     \"from bokeh.resources import INLINE\\n\"+\n     \"output_notebook(resources=INLINE)\\n\"+\n     \"</code>\\n\"+\n     \"</div>\"}};\n\n  function display_loaded() {\n    const el = document.getElementById(\"f7fd371e-dd8b-4865-a29b-9a3071825089\");\n    if (el != null) {\n      el.textContent = \"BokehJS is loading...\";\n    }\n    if (root.Bokeh !== undefined) {\n      if (el != null) {\n        el.textContent = \"BokehJS \" + root.Bokeh.version + \" successfully loaded.\";\n      }\n    } else if (Date.now() < root._bokeh_timeout) {\n      setTimeout(display_loaded, 100)\n    }\n  }\n\n  function run_callbacks() {\n    try {\n      root._bokeh_onload_callbacks.forEach(function(callback) {\n        if (callback != null)\n          callback();\n      });\n    } finally {\n      delete root._bokeh_onload_callbacks\n    }\n    console.debug(\"Bokeh: all callbacks have finished\");\n  }\n\n  function load_libs(css_urls, js_urls, callback) {\n    if (css_urls == null) css_urls = [];\n    if (js_urls == null) js_urls = [];\n\n    root._bokeh_onload_callbacks.push(callback);\n    if (root._bokeh_is_loading > 0) {\n      console.debug(\"Bokeh: BokehJS is being loaded, scheduling callback at\", now());\n      return null;\n    }\n    if (js_urls == null || js_urls.length === 0) {\n      run_callbacks();\n      return null;\n    }\n    console.debug(\"Bokeh: BokehJS not loaded, scheduling load and callback at\", now());\n    root._bokeh_is_loading = css_urls.length + js_urls.length;\n\n    function on_load() {\n      root._bokeh_is_loading--;\n      if (root._bokeh_is_loading === 0) {\n        console.debug(\"Bokeh: all BokehJS libraries/stylesheets loaded\");\n        run_callbacks()\n      }\n    }\n\n    function on_error(url) {\n      console.error(\"failed to load \" + url);\n    }\n\n    for (let i = 0; i < css_urls.length; i++) {\n      const url = css_urls[i];\n      const element = document.createElement(\"link\");\n      element.onload = on_load;\n      element.onerror = on_error.bind(null, url);\n      element.rel = \"stylesheet\";\n      element.type = \"text/css\";\n      element.href = url;\n      console.debug(\"Bokeh: injecting link tag for BokehJS stylesheet: \", url);\n      document.body.appendChild(element);\n    }\n\n    for (let i = 0; i < js_urls.length; i++) {\n      const url = js_urls[i];\n      const element = document.createElement('script');\n      element.onload = on_load;\n      element.onerror = on_error.bind(null, url);\n      element.async = false;\n      element.src = url;\n      console.debug(\"Bokeh: injecting script tag for BokehJS library: \", url);\n      document.head.appendChild(element);\n    }\n  };\n\n  function inject_raw_css(css) {\n    const element = document.createElement(\"style\");\n    element.appendChild(document.createTextNode(css));\n    document.body.appendChild(element);\n  }\n\n  const js_urls = [\"https://cdn.bokeh.org/bokeh/release/bokeh-3.2.1.min.js\", \"https://cdn.bokeh.org/bokeh/release/bokeh-gl-3.2.1.min.js\", \"https://cdn.bokeh.org/bokeh/release/bokeh-widgets-3.2.1.min.js\", \"https://cdn.bokeh.org/bokeh/release/bokeh-tables-3.2.1.min.js\", \"https://cdn.bokeh.org/bokeh/release/bokeh-mathjax-3.2.1.min.js\"];\n  const css_urls = [];\n\n  const inline_js = [    function(Bokeh) {\n      Bokeh.set_log_level(\"info\");\n    },\nfunction(Bokeh) {\n    }\n  ];\n\n  function run_inline_js() {\n    if (root.Bokeh !== undefined || force === true) {\n          for (let i = 0; i < inline_js.length; i++) {\n      inline_js[i].call(root, root.Bokeh);\n    }\nif (force === true) {\n        display_loaded();\n      }} else if (Date.now() < root._bokeh_timeout) {\n      setTimeout(run_inline_js, 100);\n    } else if (!root._bokeh_failed_load) {\n      console.log(\"Bokeh: BokehJS failed to load within specified timeout.\");\n      root._bokeh_failed_load = true;\n    } else if (force !== true) {\n      const cell = $(document.getElementById(\"f7fd371e-dd8b-4865-a29b-9a3071825089\")).parents('.cell').data().cell;\n      cell.output_area.append_execute_result(NB_LOAD_WARNING)\n    }\n  }\n\n  if (root._bokeh_is_loading === 0) {\n    console.debug(\"Bokeh: BokehJS loaded, going straight to plotting\");\n    run_inline_js();\n  } else {\n    load_libs(css_urls, js_urls, function() {\n      console.debug(\"Bokeh: BokehJS plotting callback run at\", now());\n      run_inline_js();\n    });\n  }\n}(window));"
     },
     "metadata": {},
     "output_type": "display_data"
    }
   ],
   "source": [
    "import pandas as pd\n",
    "import backtesting\n",
    "# from backtesting import Backtest, Strategy\n",
    "from backtesting.lib import SignalStrategy, TrailingStrategy\n",
    "from backtesting import *\n",
    "import numpy as np\n",
    "from datetime import timedelta\n",
    "import warnings\n",
    "warnings.filterwarnings(\"ignore\")\n",
    "\n",
    "import ipywidgets as widgets\n",
    "import matplotlib.pyplot as plt"
   ]
  },
  {
   "cell_type": "code",
   "execution_count": 163,
   "id": "3841eac8",
   "metadata": {},
   "outputs": [],
   "source": [
    "data = pd.read_csv('data/decisions_EURUSD_1H.csv')\n",
    "#data = pd.read_csv('data/decisions_EURUSD_5Y.csv')\n"
   ]
  },
  {
   "cell_type": "code",
   "execution_count": 164,
   "id": "82ab7f20",
   "metadata": {},
   "outputs": [],
   "source": [
    "\n",
    "data = pd.read_csv('data/decisions_EURUSD_1H.csv')\n",
    "#data = pd.read_csv('data/decisions_EURUSD_5Y.csv')\n",
    "\n",
    "\n",
    "data = data.set_index(pd.DatetimeIndex(data['data_datetime']))\n",
    "#data = data.set_index(pd.DatetimeIndex(data['Date']))"
   ]
  },
  {
   "cell_type": "code",
   "execution_count": 156,
   "id": "2b4a306f",
   "metadata": {},
   "outputs": [
    {
     "data": {
      "text/plain": [
       "1284"
      ]
     },
     "execution_count": 156,
     "metadata": {},
     "output_type": "execute_result"
    }
   ],
   "source": [
    "len(data)"
   ]
  },
  {
   "cell_type": "code",
   "execution_count": 135,
   "id": "24c2ef98",
   "metadata": {},
   "outputs": [
    {
     "name": "stdout",
     "output_type": "stream",
     "text": [
      "rsi_count 0\n",
      "williams_count 0\n",
      "ma_count 3\n",
      "macd_count 0\n",
      "bb_count 0\n"
     ]
    }
   ],
   "source": [
    "# Zliczenie przypadków, w których wartości są przeciwne\n",
    "\n",
    "rsi_count = ((data['dec_rsi'] == 1) & (data['Signal_RSI_fuzz_system'] == -1) | (data['dec_rsi'] == -1) & (data['Signal_RSI_fuzz_system'] == 1)).sum()\n",
    "print(\"rsi_count\", rsi_count)\n",
    "\n",
    "williams_count = ((data['dec_will'] == 1) & (data['Signal_william_fuzz_system'] == -1) | (data['dec_will'] == -1) & (data['Signal_william_fuzz_system'] == 1)).sum()\n",
    "print(\"williams_count\", williams_count)\n",
    "\n",
    "# cross_MA - ostre decyzje\n",
    "ma_count = ((data['cross_MA'] == 1) & (data['fuzz_MA_strategy'] == -1) | (data['cross_MA'] == -1) & (data['fuzz_MA_strategy'] == 1)).sum()\n",
    "print(\"ma_count\", ma_count)\n",
    "\n",
    "macd_count = ((data['MACD_decision'] == 1) & (data['fuzz_MACD_strategy'] == -1) | (data['MACD_decision'] == -1) & (data['fuzz_MACD_strategy'] == 1)).sum()\n",
    "print(\"macd_count\", macd_count)\n",
    "\n",
    "\n",
    "bb_count = ((data['dec_bollinger'] == 1) & (data['fuzz_BB_strategy'] == -1) | (data['dec_bollinger'] == -1) & (data['fuzz_BB_strategy'] == 1)).sum()\n",
    "\n",
    "print(\"bb_count\", bb_count)\n"
   ]
  },
  {
   "cell_type": "code",
   "execution_count": 116,
   "id": "ce722589",
   "metadata": {},
   "outputs": [
    {
     "name": "stdout",
     "output_type": "stream",
     "text": [
      "rsi_count 1168\n",
      "williams_count 2894\n",
      "ma_count 43\n",
      "macd_count 11\n",
      "bb_count 442\n"
     ]
    }
   ],
   "source": [
    "# Zliczenie przypadków, w których wartości są takie same\n",
    "\n",
    "rsi_count = ((data['dec_rsi'] == - 1) & (data['Signal_RSI_fuzz_system'] == -1) | (data['dec_rsi'] == 1) & (data['Signal_RSI_fuzz_system'] == 1)).sum()\n",
    "print(\"rsi_count\", rsi_count)\n",
    "\n",
    "williams_count = ((data['dec_will'] == -1) & (data['Signal_william_fuzz_system'] == -1) | (data['dec_will'] == 1) & (data['Signal_william_fuzz_system'] == 1)).sum()\n",
    "print(\"williams_count\", williams_count)\n",
    "\n",
    "# cross_MA - ostre decyzje\n",
    "ma_count = ((data['cross_MA'] == -1) & (data['fuzz_MA_strategy'] == -1) | (data['cross_MA'] == 1) & (data['fuzz_MA_strategy'] == 1)).sum()\n",
    "print(\"ma_count\", ma_count)\n",
    "\n",
    "macd_count = ((data['MACD_decision'] == -1) & (data['fuzz_MACD_strategy'] == -1) | (data['MACD_decision'] == 1) & (data['fuzz_MACD_strategy'] == 1)).sum()\n",
    "print(\"macd_count\", macd_count)\n",
    "\n",
    "\n",
    "bb_count = ((data['dec_bollinger'] == -1) & (data['fuzz_BB_strategy'] == -1) | (data['dec_bollinger'] == 1) & (data['fuzz_BB_strategy'] == 1)).sum()\n",
    "\n",
    "print(\"bb_count\", bb_count)\n"
   ]
  },
  {
   "cell_type": "code",
   "execution_count": 105,
   "id": "78957cbf",
   "metadata": {},
   "outputs": [],
   "source": [
    "# 1 (zgodne znaki) 0 (różne znaki)\n",
    "data['RSI_same_sign'] = (data['dec_rsi'] == data['Signal_RSI_fuzz_system']).astype(int)\n",
    "data['Williams_same_sign'] = (data['dec_will'] == data['Signal_william_fuzz_system']).astype(int)\n",
    "data['MA_same_sign'] = (data['cross_MA'] == data['fuzz_MA_strategy']).astype(int)\n",
    "data['MACD_same_sign'] = (data['MACD_decision'] == data['fuzz_MACD_strategy']).astype(int)\n",
    "data['BB_same_sign'] = (data['dec_bollinger'] == data['fuzz_BB_strategy']).astype(int)\n",
    "\n",
    "# Sprawdzanei czy wszystkie wskazniki maja ten sam znak\n",
    "data['All_same_sign'] = (\n",
    "    data['RSI_same_sign'] & \n",
    "    data['Williams_same_sign'] & \n",
    "    data['MA_same_sign'] & \n",
    "    data['MACD_same_sign'] & \n",
    "    data['BB_same_sign']\n",
    ")"
   ]
  },
  {
   "cell_type": "code",
   "execution_count": 54,
   "id": "b5392156",
   "metadata": {},
   "outputs": [],
   "source": [
    "# Inicjalizacja nowej kolumny z domyślnymi wartościami\n",
    "data['all_decisions'] = np.nan\n",
    "\n",
    "# Sprawdzenie miejsc, gdzie wszystkie wskaźniki są równe -1\n",
    "all_negative_ones = ((data['dec_rsi'] == -1) & (data['Signal_RSI_fuzz_system'] == -1) &\n",
    "                     (data['dec_will'] == -1) & (data['Signal_william_fuzz_system'] == -1) &\n",
    "                     (data['cross_MA'] == -1) & (data['fuzz_MA_strategy'] == -1) &\n",
    "                     (data['MACD_decision'] == -1) & (data['fuzz_MACD_strategy'] == -1) &\n",
    "                     (data['dec_bollinger'] == -1) & (data['fuzz_BB_strategy'] == -1))\n",
    "\n",
    "# Sprawdzenie miejsc, gdzie wszystkie wskaźniki są równe 1\n",
    "all_positive_ones = ((data['dec_rsi'] == 1) & (data['Signal_RSI_fuzz_system'] == 1) &\n",
    "                     (data['dec_will'] == 1) & (data['Signal_william_fuzz_system'] == 1) &\n",
    "                     (data['cross_MA'] == 1) & (data['fuzz_MA_strategy'] == 1) &\n",
    "                     (data['MACD_decision'] == 1) & (data['fuzz_MACD_strategy'] == 1) &\n",
    "                     (data['dec_bollinger'] == 1) & (data['fuzz_BB_strategy'] == 1))\n",
    "\n",
    "# Sprawdzenie miejsc, gdzie wszystkie wskaźniki są równe 0\n",
    "all_zeros = ((data['dec_rsi'] == 0) & (data['Signal_RSI_fuzz_system'] == 0) &\n",
    "             (data['dec_will'] == 0) & (data['Signal_william_fuzz_system'] == 0) &\n",
    "             (data['cross_MA'] == 0) & (data['fuzz_MA_strategy'] == 0) &\n",
    "             (data['MACD_decision'] == 0) & (data['fuzz_MACD_strategy'] == 0) &\n",
    "             (data['dec_bollinger'] == 0) & (data['fuzz_BB_strategy'] == 0))\n",
    "\n",
    "# Aktualizacja nowej kolumny 'all_decisions'\n",
    "data.loc[all_negative_ones, 'all_decisions'] = -1\n",
    "data.loc[all_positive_ones, 'all_decisions'] = 1\n",
    "data.loc[all_zeros, 'all_decisions'] = 0\n"
   ]
  },
  {
   "cell_type": "code",
   "execution_count": 88,
   "id": "12bb9d51",
   "metadata": {},
   "outputs": [
    {
     "data": {
      "text/plain": [
       "False    1284\n",
       "Name: count, dtype: int64"
      ]
     },
     "execution_count": 88,
     "metadata": {},
     "output_type": "execute_result"
    }
   ],
   "source": [
    "all_positive_ones.value_counts()"
   ]
  },
  {
   "cell_type": "code",
   "execution_count": 85,
   "id": "188fe864",
   "metadata": {},
   "outputs": [],
   "source": [
    "# Inicjalizacja nowej kolumny z domyślnymi wartościami\n",
    "data['all_decisions_sharp'] = 0\n",
    "\n",
    "# Sprawdzenie miejsc, gdzie wszystkie wskaźniki są równe -1\n",
    "all_negative_ones = ((data['dec_rsi'] == -1) &\n",
    "                     (data['dec_will'] == -1) & \n",
    "                     (data['cross_MA'] == -1) & \n",
    "                     (data['MACD_decision'] == -1) &\n",
    "                     (data['dec_bollinger'] == -1) )\n",
    "\n",
    "# Sprawdzenie miejsc, gdzie wszystkie wskaźniki są równe 1\n",
    "all_positive_ones = ((data['dec_rsi'] == 1) & \n",
    "                     (data['dec_will'] == 1) & \n",
    "                     (data['cross_MA'] == 1) & \n",
    "                     (data['MACD_decision'] == 1) & \n",
    "                     (data['dec_bollinger'] == 1) )\n",
    "\n",
    "# Sprawdzenie miejsc, gdzie wszystkie wskaźniki są równe 0\n",
    "all_zeros = ((data['dec_rsi'] == 0) & \n",
    "             (data['dec_will'] == 0) & \n",
    "             (data['cross_MA'] == 0) & \n",
    "             (data['MACD_decision'] == 0) & \n",
    "             (data['dec_bollinger'] == 0) )\n",
    "\n",
    "# Aktualizacja nowej kolumny 'all_decisions'\n",
    "data.loc[all_negative_ones, 'all_decisions_sharp'] = -1\n",
    "data.loc[all_positive_ones, 'all_decisions_sharp'] = 1\n",
    "data.loc[all_zeros, 'all_decisions_sharp'] = 0\n"
   ]
  },
  {
   "cell_type": "code",
   "execution_count": 86,
   "id": "85a84129",
   "metadata": {},
   "outputs": [
    {
     "data": {
      "text/plain": [
       "all_decisions_sharp\n",
       "0    1284\n",
       "Name: count, dtype: int64"
      ]
     },
     "execution_count": 86,
     "metadata": {},
     "output_type": "execute_result"
    }
   ],
   "source": [
    "data.all_decisions_sharp.value_counts()"
   ]
  },
  {
   "cell_type": "code",
   "execution_count": 141,
   "id": "17df81f4",
   "metadata": {},
   "outputs": [],
   "source": [
    "# Inicjalizacja nowej kolumny z domyślnymi wartościami\n",
    "data['all_decisions_fuzz'] = 0\n",
    "\n",
    "# Sprawdzenie miejsc, gdzie wszystkie wskaźniki są równe -1\n",
    "all_negative_ones = ( (data['Signal_RSI_fuzz_system'] == -1) &\n",
    "                     (data['Signal_william_fuzz_system'] == -1) &\n",
    "                     (data['fuzz_MA_strategy'] == -1) &\n",
    "                     (data['fuzz_MACD_strategy'] == -1) &\n",
    "                     (data['fuzz_BB_strategy'] == -1))\n",
    "\n",
    "# Sprawdzenie miejsc, gdzie wszystkie wskaźniki są równe 1\n",
    "all_positive_ones = ((data['Signal_RSI_fuzz_system'] == 1) &\n",
    "                     (data['Signal_william_fuzz_system'] == 1) &\n",
    "                     (data['fuzz_MA_strategy'] == 1) &\n",
    "                     (data['fuzz_MACD_strategy'] == 1) &\n",
    "                     (data['fuzz_BB_strategy'] == 1))\n",
    "\n",
    "# Sprawdzenie miejsc, gdzie wszystkie wskaźniki są równe 0\n",
    "# all_zeros = ((data['dec_rsi'] == 0) & (data['Signal_RSI_fuzz_system'] == 0) &\n",
    "#              (data['dec_will'] == 0) & (data['Signal_william_fuzz_system'] == 0) &\n",
    "#              (data['cross_MA'] == 0) & (data['fuzz_MA_strategy'] == 0) &\n",
    "#              (data['MACD_decision'] == 0) & (data['fuzz_MACD_strategy'] == 0) &\n",
    "#              (data['dec_bollinger'] == 0) & (data['fuzz_BB_strategy'] == 0))\n",
    "\n",
    "# Aktualizacja nowej kolumny 'all_decisions'\n",
    "data.loc[all_negative_ones, 'all_decisions_fuzz'] = -1\n",
    "data.loc[all_positive_ones, 'all_decisions_fuzz'] = 1\n",
    "#data.loc[all_zeros, 'all_decisions_fuzz'] = 0\n"
   ]
  },
  {
   "cell_type": "code",
   "execution_count": 142,
   "id": "7b02b014",
   "metadata": {},
   "outputs": [
    {
     "data": {
      "text/plain": [
       "all_decisions_fuzz\n",
       "0    5298\n",
       "Name: count, dtype: int64"
      ]
     },
     "execution_count": 142,
     "metadata": {},
     "output_type": "execute_result"
    }
   ],
   "source": [
    "data.all_decisions_fuzz.value_counts()"
   ]
  },
  {
   "cell_type": "markdown",
   "id": "98e10f6a",
   "metadata": {},
   "source": [
    "# Kombinacje 2 wskaznikow\n",
    "## FUZZY"
   ]
  },
  {
   "cell_type": "code",
   "execution_count": 197,
   "id": "70ac3d35",
   "metadata": {},
   "outputs": [],
   "source": [
    "\n",
    "data = pd.read_csv('data/decisions_EURUSD_1H.csv')\n",
    "#data = pd.read_csv('data/decisions_EURUSD_5Y.csv')\n",
    "\n",
    "\n",
    "data = data.set_index(pd.DatetimeIndex(data['data_datetime']))\n",
    "#data = data.set_index(pd.DatetimeIndex(data['Date']))"
   ]
  },
  {
   "cell_type": "code",
   "execution_count": 182,
   "id": "1521a266",
   "metadata": {},
   "outputs": [
    {
     "data": {
      "text/plain": [
       "all_decisions_fuzz\n",
       " 0    4075\n",
       "-1     686\n",
       " 1     537\n",
       "Name: count, dtype: int64"
      ]
     },
     "execution_count": 182,
     "metadata": {},
     "output_type": "execute_result"
    }
   ],
   "source": [
    "# Inicjalizacja nowej kolumny z domyślnymi wartościami\n",
    "data['all_decisions_fuzz'] = 0\n",
    "\n",
    "# Sprawdzenie miejsc, gdzie oba wskaźniki są równe -1\n",
    "all_negative_ones = ( (data['Signal_RSI_fuzz_system'] == -1) &\n",
    "                     (data['Signal_william_fuzz_system'] == -1) )\n",
    "\n",
    "# Sprawdzenie miejsc, gdzie oba wskaźniki są równe 1\n",
    "all_positive_ones = ((data['Signal_RSI_fuzz_system'] == 1) &\n",
    "                     (data['Signal_william_fuzz_system'] == 1) )\n",
    "\n",
    "# Aktualizacja nowej kolumny 'all_decisions'\n",
    "data.loc[all_negative_ones, 'all_decisions_fuzz'] = -1\n",
    "data.loc[all_positive_ones, 'all_decisions_fuzz'] = 1\n",
    "data.all_decisions_fuzz.value_counts()"
   ]
  },
  {
   "cell_type": "code",
   "execution_count": 184,
   "id": "62fc0a9a",
   "metadata": {},
   "outputs": [
    {
     "data": {
      "text/plain": [
       "all_decisions_fuzz\n",
       " 0    5286\n",
       " 1       7\n",
       "-1       5\n",
       "Name: count, dtype: int64"
      ]
     },
     "execution_count": 184,
     "metadata": {},
     "output_type": "execute_result"
    }
   ],
   "source": [
    "# Inicjalizacja nowej kolumny z domyślnymi wartościami\n",
    "data['all_decisions_fuzz'] = 0\n",
    "\n",
    "# Sprawdzenie miejsc, gdzie oba wskaźniki są równe -1\n",
    "all_negative_ones = ( (data['Signal_RSI_fuzz_system'] == -1) &\n",
    "                     (data['fuzz_MA_strategy'] == -1) )\n",
    "\n",
    "# Sprawdzenie miejsc, gdzie oba wskaźniki są równe 1\n",
    "all_positive_ones = ((data['Signal_RSI_fuzz_system'] == 1) &\n",
    "                     (data['fuzz_MA_strategy'] == 1) )\n",
    "\n",
    "# Aktualizacja nowej kolumny 'all_decisions'\n",
    "data.loc[all_negative_ones, 'all_decisions_fuzz'] = -1\n",
    "data.loc[all_positive_ones, 'all_decisions_fuzz'] = 1\n",
    "data.all_decisions_fuzz.value_counts()"
   ]
  },
  {
   "cell_type": "code",
   "execution_count": 186,
   "id": "04268e9b",
   "metadata": {},
   "outputs": [
    {
     "data": {
      "text/plain": [
       "all_decisions_fuzz\n",
       "0    5298\n",
       "Name: count, dtype: int64"
      ]
     },
     "execution_count": 186,
     "metadata": {},
     "output_type": "execute_result"
    }
   ],
   "source": [
    "# Inicjalizacja nowej kolumny z domyślnymi wartościami\n",
    "data['all_decisions_fuzz'] = 0\n",
    "\n",
    "# Sprawdzenie miejsc, gdzie oba wskaźniki są równe -1\n",
    "all_negative_ones = ( (data['Signal_RSI_fuzz_system'] == -1) &\n",
    "                     (data['fuzz_MACD_strategy'] == -1) )\n",
    "\n",
    "# Sprawdzenie miejsc, gdzie oba wskaźniki są równe 1\n",
    "all_positive_ones = ((data['Signal_RSI_fuzz_system'] == 1) &\n",
    "                     (data['fuzz_MACD_strategy'] == 1) )\n",
    "\n",
    "# Aktualizacja nowej kolumny 'all_decisions'\n",
    "data.loc[all_negative_ones, 'all_decisions_fuzz'] = -1\n",
    "data.loc[all_positive_ones, 'all_decisions_fuzz'] = 1\n",
    "data.all_decisions_fuzz.value_counts()"
   ]
  },
  {
   "cell_type": "code",
   "execution_count": 188,
   "id": "5fa5d158",
   "metadata": {},
   "outputs": [
    {
     "data": {
      "text/plain": [
       "all_decisions_fuzz\n",
       " 0    5015\n",
       "-1     199\n",
       " 1      84\n",
       "Name: count, dtype: int64"
      ]
     },
     "execution_count": 188,
     "metadata": {},
     "output_type": "execute_result"
    }
   ],
   "source": [
    "# Inicjalizacja nowej kolumny z domyślnymi wartościami\n",
    "data['all_decisions_fuzz'] = 0\n",
    "\n",
    "# Sprawdzenie miejsc, gdzie oba wskaźniki są równe -1\n",
    "all_negative_ones = ( (data['Signal_RSI_fuzz_system'] == -1) &\n",
    "                     (data['fuzz_BB_strategy'] == -1) )\n",
    "\n",
    "# Sprawdzenie miejsc, gdzie oba wskaźniki są równe 1\n",
    "all_positive_ones = ((data['Signal_RSI_fuzz_system'] == 1) &\n",
    "                     (data['fuzz_BB_strategy'] == 1) )\n",
    "\n",
    "# Aktualizacja nowej kolumny 'all_decisions'\n",
    "data.loc[all_negative_ones, 'all_decisions_fuzz'] = -1\n",
    "data.loc[all_positive_ones, 'all_decisions_fuzz'] = 1\n",
    "data.all_decisions_fuzz.value_counts()"
   ]
  },
  {
   "cell_type": "code",
   "execution_count": 191,
   "id": "47f5ce61",
   "metadata": {},
   "outputs": [
    {
     "data": {
      "text/plain": [
       "all_decisions_fuzz\n",
       " 0    5285\n",
       "-1       9\n",
       " 1       4\n",
       "Name: count, dtype: int64"
      ]
     },
     "execution_count": 191,
     "metadata": {},
     "output_type": "execute_result"
    }
   ],
   "source": [
    "# Inicjalizacja nowej kolumny z domyślnymi wartościami\n",
    "data['all_decisions_fuzz'] = 0\n",
    "\n",
    "# Sprawdzenie miejsc, gdzie oba wskaźniki są równe -1\n",
    "all_negative_ones = ( (data['Signal_william_fuzz_system'] == -1) &\n",
    "                     (data['fuzz_MA_strategy'] == -1) )\n",
    "\n",
    "# Sprawdzenie miejsc, gdzie oba wskaźniki są równe 1\n",
    "all_positive_ones = ((data['Signal_william_fuzz_system'] == 1) &\n",
    "                     (data['fuzz_MA_strategy'] == 1) )\n",
    "\n",
    "# Aktualizacja nowej kolumny 'all_decisions'\n",
    "data.loc[all_negative_ones, 'all_decisions_fuzz'] = -1\n",
    "data.loc[all_positive_ones, 'all_decisions_fuzz'] = 1\n",
    "data.all_decisions_fuzz.value_counts()"
   ]
  },
  {
   "cell_type": "code",
   "execution_count": 192,
   "id": "272986c4",
   "metadata": {},
   "outputs": [
    {
     "data": {
      "text/plain": [
       "all_decisions_fuzz\n",
       "0    5298\n",
       "Name: count, dtype: int64"
      ]
     },
     "execution_count": 192,
     "metadata": {},
     "output_type": "execute_result"
    }
   ],
   "source": [
    "# Inicjalizacja nowej kolumny z domyślnymi wartościami\n",
    "data['all_decisions_fuzz'] = 0\n",
    "\n",
    "# Sprawdzenie miejsc, gdzie oba wskaźniki są równe -1\n",
    "all_negative_ones = ( (data['Signal_william_fuzz_system'] == -1) &\n",
    "                     (data['fuzz_MACD_strategy'] == -1) )\n",
    "\n",
    "# Sprawdzenie miejsc, gdzie oba wskaźniki są równe 1\n",
    "all_positive_ones = ((data['Signal_william_fuzz_system'] == 1) &\n",
    "                     (data['fuzz_MACD_strategy'] == 1) )\n",
    "\n",
    "# Aktualizacja nowej kolumny 'all_decisions'\n",
    "data.loc[all_negative_ones, 'all_decisions_fuzz'] = -1\n",
    "data.loc[all_positive_ones, 'all_decisions_fuzz'] = 1\n",
    "data.all_decisions_fuzz.value_counts()"
   ]
  },
  {
   "cell_type": "code",
   "execution_count": 193,
   "id": "b2fe8c52",
   "metadata": {},
   "outputs": [
    {
     "data": {
      "text/plain": [
       "all_decisions_fuzz\n",
       " 0    4870\n",
       "-1     311\n",
       " 1     117\n",
       "Name: count, dtype: int64"
      ]
     },
     "execution_count": 193,
     "metadata": {},
     "output_type": "execute_result"
    }
   ],
   "source": [
    "# Inicjalizacja nowej kolumny z domyślnymi wartościami\n",
    "data['all_decisions_fuzz'] = 0\n",
    "\n",
    "# Sprawdzenie miejsc, gdzie oba wskaźniki są równe -1\n",
    "all_negative_ones = ( (data['Signal_william_fuzz_system'] == -1) &\n",
    "                     (data['fuzz_BB_strategy'] == -1) )\n",
    "\n",
    "# Sprawdzenie miejsc, gdzie oba wskaźniki są równe 1\n",
    "all_positive_ones = ((data['Signal_william_fuzz_system'] == 1) &\n",
    "                     (data['fuzz_BB_strategy'] == 1) )\n",
    "\n",
    "# Aktualizacja nowej kolumny 'all_decisions'\n",
    "data.loc[all_negative_ones, 'all_decisions_fuzz'] = -1\n",
    "data.loc[all_positive_ones, 'all_decisions_fuzz'] = 1\n",
    "data.all_decisions_fuzz.value_counts()"
   ]
  },
  {
   "cell_type": "code",
   "execution_count": 194,
   "id": "8daa91b6",
   "metadata": {},
   "outputs": [
    {
     "data": {
      "text/plain": [
       "all_decisions_fuzz\n",
       " 0    5295\n",
       "-1       2\n",
       " 1       1\n",
       "Name: count, dtype: int64"
      ]
     },
     "execution_count": 194,
     "metadata": {},
     "output_type": "execute_result"
    }
   ],
   "source": [
    "# Inicjalizacja nowej kolumny z domyślnymi wartościami\n",
    "data['all_decisions_fuzz'] = 0\n",
    "\n",
    "# Sprawdzenie miejsc, gdzie oba wskaźniki są równe -1\n",
    "all_negative_ones = ( (data['fuzz_MA_strategy'] == -1) &\n",
    "                     (data['fuzz_MACD_strategy'] == -1) )\n",
    "\n",
    "# Sprawdzenie miejsc, gdzie oba wskaźniki są równe 1\n",
    "all_positive_ones = ((data['fuzz_MA_strategy'] == 1) &\n",
    "                     (data['fuzz_MACD_strategy'] == 1) )\n",
    "\n",
    "# Aktualizacja nowej kolumny 'all_decisions'\n",
    "data.loc[all_negative_ones, 'all_decisions_fuzz'] = -1\n",
    "data.loc[all_positive_ones, 'all_decisions_fuzz'] = 1\n",
    "data.all_decisions_fuzz.value_counts()"
   ]
  },
  {
   "cell_type": "code",
   "execution_count": 195,
   "id": "07578524",
   "metadata": {},
   "outputs": [
    {
     "data": {
      "text/plain": [
       "all_decisions_fuzz\n",
       "0    5298\n",
       "Name: count, dtype: int64"
      ]
     },
     "execution_count": 195,
     "metadata": {},
     "output_type": "execute_result"
    }
   ],
   "source": [
    "# Inicjalizacja nowej kolumny z domyślnymi wartościami\n",
    "data['all_decisions_fuzz'] = 0\n",
    "\n",
    "# Sprawdzenie miejsc, gdzie oba wskaźniki są równe -1\n",
    "all_negative_ones = ( (data['fuzz_MACD_strategy'] == -1) &\n",
    "                     (data['fuzz_BB_strategy'] == -1) )\n",
    "\n",
    "# Sprawdzenie miejsc, gdzie oba wskaźniki są równe 1\n",
    "all_positive_ones = ((data['fuzz_MACD_strategy'] == 1) &\n",
    "                     (data['fuzz_BB_strategy'] == 1) )\n",
    "\n",
    "# Aktualizacja nowej kolumny 'all_decisions'\n",
    "data.loc[all_negative_ones, 'all_decisions_fuzz'] = -1\n",
    "data.loc[all_positive_ones, 'all_decisions_fuzz'] = 1\n",
    "data.all_decisions_fuzz.value_counts()"
   ]
  },
  {
   "cell_type": "code",
   "execution_count": 199,
   "id": "54f6ab97",
   "metadata": {},
   "outputs": [
    {
     "data": {
      "text/plain": [
       "all_decisions_fuzz\n",
       "0    5298\n",
       "Name: count, dtype: int64"
      ]
     },
     "execution_count": 199,
     "metadata": {},
     "output_type": "execute_result"
    }
   ],
   "source": [
    "# Inicjalizacja nowej kolumny z domyślnymi wartościami\n",
    "data['all_decisions_fuzz'] = 0\n",
    "\n",
    "# Sprawdzenie miejsc, gdzie oba wskaźniki są równe -1\n",
    "all_negative_ones = ( (data['fuzz_MA_strategy'] == -1) &\n",
    "                     (data['fuzz_BB_strategy'] == -1) )\n",
    "\n",
    "# Sprawdzenie miejsc, gdzie oba wskaźniki są równe 1\n",
    "all_positive_ones = ((data['fuzz_MA_strategy'] == 1) &\n",
    "                     (data['fuzz_BB_strategy'] == 1) )\n",
    "\n",
    "# Aktualizacja nowej kolumny 'all_decisions'\n",
    "data.loc[all_negative_ones, 'all_decisions_fuzz'] = -1\n",
    "data.loc[all_positive_ones, 'all_decisions_fuzz'] = 1\n",
    "data.all_decisions_fuzz.value_counts()"
   ]
  },
  {
   "cell_type": "markdown",
   "id": "aeefc4d0",
   "metadata": {},
   "source": [
    "## 3 Wskaźniki - kombinacje\n",
    "rozmyte"
   ]
  },
  {
   "cell_type": "code",
   "execution_count": 3,
   "id": "b2194dfe",
   "metadata": {},
   "outputs": [],
   "source": [
    "\n",
    "data = pd.read_csv('data/decisions_EURUSD_4H.csv')\n",
    "#data = pd.read_csv('data/decisions_EURUSD_5Y.csv')\n",
    "\n",
    "\n",
    "data = data.set_index(pd.DatetimeIndex(data['data_datetime']))\n",
    "#data = data.set_index(pd.DatetimeIndex(data['Date']))"
   ]
  },
  {
   "cell_type": "code",
   "execution_count": null,
   "id": "ccb5dfb5",
   "metadata": {},
   "outputs": [],
   "source": [
    "RSI %R MA -1 3\n",
    "RSI %R MACD 0 \n",
    "RSI %R BB -1  197  1 82\n",
    "RSI MA MACD 0 \n",
    "RSI MA BB 0\n",
    "RSI MACD BB 0 \n",
    "%R MA MACD 0\n",
    "%R MA BB 0\n",
    "%R MACD BB 0\n",
    "MA MACD BB 0"
   ]
  },
  {
   "cell_type": "code",
   "execution_count": 4,
   "id": "facd3b3b",
   "metadata": {},
   "outputs": [
    {
     "data": {
      "text/plain": [
       "all_decisions_fuzz\n",
       "0    1151\n",
       "Name: count, dtype: int64"
      ]
     },
     "execution_count": 4,
     "metadata": {},
     "output_type": "execute_result"
    }
   ],
   "source": [
    "# Inicjalizacja nowej kolumny z domyślnymi wartościami\n",
    "data['all_decisions_fuzz'] = 0\n",
    "\n",
    "# Sprawdzenie miejsc, gdzie wszystkie wskaźniki są równe -1\n",
    "all_negative_ones = ( (data['Signal_RSI_fuzz_system'] == -1) &\n",
    "                     (data['Signal_william_fuzz_system'] == -1) &\n",
    "                     (data['fuzz_MA_strategy'] == -1) )\n",
    "\n",
    "# Sprawdzenie miejsc, gdzie wszystkie wskaźniki są równe 1\n",
    "all_positive_ones = ((data['Signal_RSI_fuzz_system'] == 1) &\n",
    "                     (data['Signal_william_fuzz_system'] == 1) &\n",
    "                     (data['fuzz_MA_strategy'] == 1) )\n",
    "\n",
    "# Aktualizacja nowej kolumny 'all_decisions_fuzz'\n",
    "data.loc[all_negative_ones, 'all_decisions_fuzz'] = -1\n",
    "data.loc[all_positive_ones, 'all_decisions_fuzz'] = 1\n",
    "data.all_decisions_fuzz.value_counts()"
   ]
  },
  {
   "cell_type": "code",
   "execution_count": 5,
   "id": "62acf58f",
   "metadata": {},
   "outputs": [
    {
     "data": {
      "text/plain": [
       "all_decisions_fuzz\n",
       "0    1151\n",
       "Name: count, dtype: int64"
      ]
     },
     "execution_count": 5,
     "metadata": {},
     "output_type": "execute_result"
    }
   ],
   "source": [
    "# Inicjalizacja nowej kolumny z domyślnymi wartościami\n",
    "data['all_decisions_fuzz'] = 0\n",
    "\n",
    "# Sprawdzenie miejsc, gdzie wszystkie wskaźniki są równe -1\n",
    "all_negative_ones = ( (data['Signal_RSI_fuzz_system'] == -1) &\n",
    "                     (data['Signal_william_fuzz_system'] == -1) &\n",
    "                     (data['fuzz_MACD_strategy'] == -1) )\n",
    "\n",
    "# Sprawdzenie miejsc, gdzie wszystkie wskaźniki są równe 1\n",
    "all_positive_ones = ((data['Signal_RSI_fuzz_system'] == 1) &\n",
    "                     (data['Signal_william_fuzz_system'] == 1) &\n",
    "                     (data['fuzz_MACD_strategy'] == 1) )\n",
    "\n",
    "# Aktualizacja nowej kolumny 'all_decisions_fuzz'\n",
    "data.loc[all_negative_ones, 'all_decisions_fuzz'] = -1\n",
    "data.loc[all_positive_ones, 'all_decisions_fuzz'] = 1\n",
    "data.all_decisions_fuzz.value_counts()"
   ]
  },
  {
   "cell_type": "code",
   "execution_count": 6,
   "id": "0b066fe1",
   "metadata": {},
   "outputs": [
    {
     "data": {
      "text/plain": [
       "all_decisions_fuzz\n",
       " 0    1087\n",
       "-1      52\n",
       " 1      12\n",
       "Name: count, dtype: int64"
      ]
     },
     "execution_count": 6,
     "metadata": {},
     "output_type": "execute_result"
    }
   ],
   "source": [
    "# Inicjalizacja nowej kolumny z domyślnymi wartościami\n",
    "data['all_decisions_fuzz'] = 0\n",
    "\n",
    "# Sprawdzenie miejsc, gdzie wszystkie wskaźniki są równe -1\n",
    "all_negative_ones = ( (data['Signal_RSI_fuzz_system'] == -1) &\n",
    "                     (data['Signal_william_fuzz_system'] == -1) &\n",
    "                     (data['fuzz_BB_strategy'] == -1) )\n",
    "\n",
    "# Sprawdzenie miejsc, gdzie wszystkie wskaźniki są równe 1\n",
    "all_positive_ones = ((data['Signal_RSI_fuzz_system'] == 1) &\n",
    "                     (data['Signal_william_fuzz_system'] == 1) &\n",
    "                     (data['fuzz_BB_strategy'] == 1) )\n",
    "\n",
    "# Aktualizacja nowej kolumny 'all_decisions_fuzz'\n",
    "data.loc[all_negative_ones, 'all_decisions_fuzz'] = -1\n",
    "data.loc[all_positive_ones, 'all_decisions_fuzz'] = 1\n",
    "data.all_decisions_fuzz.value_counts()"
   ]
  },
  {
   "cell_type": "code",
   "execution_count": 7,
   "id": "59f37790",
   "metadata": {},
   "outputs": [
    {
     "data": {
      "text/plain": [
       "all_decisions_fuzz\n",
       "0    1151\n",
       "Name: count, dtype: int64"
      ]
     },
     "execution_count": 7,
     "metadata": {},
     "output_type": "execute_result"
    }
   ],
   "source": [
    "# Inicjalizacja nowej kolumny z domyślnymi wartościami\n",
    "data['all_decisions_fuzz'] = 0\n",
    "\n",
    "# Sprawdzenie miejsc, gdzie wszystkie wskaźniki są równe -1\n",
    "all_negative_ones = ( (data['Signal_RSI_fuzz_system'] == -1) &\n",
    "                     (data['fuzz_MA_strategy'] == -1) &\n",
    "                     (data['fuzz_MACD_strategy'] == -1) )\n",
    "\n",
    "# Sprawdzenie miejsc, gdzie wszystkie wskaźniki są równe 1\n",
    "all_positive_ones = ((data['Signal_RSI_fuzz_system'] == 1) &\n",
    "                     (data['fuzz_MA_strategy'] == 1) &\n",
    "                     (data['fuzz_MACD_strategy'] == 1) )\n",
    "\n",
    "# Aktualizacja nowej kolumny 'all_decisions_fuzz'\n",
    "data.loc[all_negative_ones, 'all_decisions_fuzz'] = -1\n",
    "data.loc[all_positive_ones, 'all_decisions_fuzz'] = 1\n",
    "\n",
    "data.all_decisions_fuzz.value_counts()"
   ]
  },
  {
   "cell_type": "code",
   "execution_count": 8,
   "id": "1c1fe2ab",
   "metadata": {},
   "outputs": [
    {
     "data": {
      "text/plain": [
       "all_decisions_fuzz\n",
       "0    1151\n",
       "Name: count, dtype: int64"
      ]
     },
     "execution_count": 8,
     "metadata": {},
     "output_type": "execute_result"
    }
   ],
   "source": [
    "# Inicjalizacja nowej kolumny z domyślnymi wartościami\n",
    "data['all_decisions_fuzz'] = 0\n",
    "\n",
    "# Sprawdzenie miejsc, gdzie wszystkie wskaźniki są równe -1\n",
    "all_negative_ones = ( (data['Signal_RSI_fuzz_system'] == -1) &\n",
    "                     (data['fuzz_MA_strategy'] == -1) &\n",
    "                     (data['fuzz_BB_strategy'] == -1) )\n",
    "\n",
    "# Sprawdzenie miejsc, gdzie wszystkie wskaźniki są równe 1\n",
    "all_positive_ones = ((data['Signal_RSI_fuzz_system'] == 1) &\n",
    "                     (data['fuzz_MA_strategy'] == 1) &\n",
    "                     (data['fuzz_BB_strategy'] == 1) )\n",
    "\n",
    "# Aktualizacja nowej kolumny 'all_decisions_fuzz'\n",
    "data.loc[all_negative_ones, 'all_decisions_fuzz'] = -1\n",
    "data.loc[all_positive_ones, 'all_decisions_fuzz'] = 1\n",
    "data.all_decisions_fuzz.value_counts()"
   ]
  },
  {
   "cell_type": "code",
   "execution_count": 9,
   "id": "d67ebfe7",
   "metadata": {
    "scrolled": true
   },
   "outputs": [
    {
     "data": {
      "text/plain": [
       "all_decisions_fuzz\n",
       "0    1151\n",
       "Name: count, dtype: int64"
      ]
     },
     "execution_count": 9,
     "metadata": {},
     "output_type": "execute_result"
    }
   ],
   "source": [
    "# Inicjalizacja nowej kolumny z domyślnymi wartościami\n",
    "data['all_decisions_fuzz'] = 0\n",
    "\n",
    "# Sprawdzenie miejsc, gdzie wszystkie wskaźniki są równe -1\n",
    "all_negative_ones = ( (data['Signal_RSI_fuzz_system'] == -1) &\n",
    "                     (data['fuzz_MACD_strategy'] == -1) &\n",
    "                     (data['fuzz_BB_strategy'] == -1) )\n",
    "\n",
    "# Sprawdzenie miejsc, gdzie wszystkie wskaźniki są równe 1\n",
    "all_positive_ones = ((data['Signal_RSI_fuzz_system'] == 1) &\n",
    "                     (data['fuzz_MACD_strategy'] == 1) &\n",
    "                     (data['fuzz_BB_strategy'] == 1) )\n",
    "\n",
    "# Aktualizacja nowej kolumny 'all_decisions_fuzz'\n",
    "data.loc[all_negative_ones, 'all_decisions_fuzz'] = -1\n",
    "data.loc[all_positive_ones, 'all_decisions_fuzz'] = 1\n",
    "data.all_decisions_fuzz.value_counts()"
   ]
  },
  {
   "cell_type": "code",
   "execution_count": 10,
   "id": "6dc2cfc4",
   "metadata": {},
   "outputs": [
    {
     "data": {
      "text/plain": [
       "all_decisions_fuzz\n",
       "0    1151\n",
       "Name: count, dtype: int64"
      ]
     },
     "execution_count": 10,
     "metadata": {},
     "output_type": "execute_result"
    }
   ],
   "source": [
    "# Inicjalizacja nowej kolumny z domyślnymi wartościami\n",
    "data['all_decisions_fuzz'] = 0\n",
    "\n",
    "# Sprawdzenie miejsc, gdzie wszystkie wskaźniki są równe -1\n",
    "all_negative_ones = ( (data['Signal_william_fuzz_system'] == -1) &\n",
    "                     (data['fuzz_MA_strategy'] == -1) &\n",
    "                     (data['fuzz_MACD_strategy'] == -1) )\n",
    "\n",
    "# Sprawdzenie miejsc, gdzie wszystkie wskaźniki są równe 1\n",
    "all_positive_ones = ((data['Signal_william_fuzz_system'] == 1) &\n",
    "                     (data['fuzz_MA_strategy'] == 1) &\n",
    "                     (data['fuzz_MACD_strategy'] == 1) )\n",
    "\n",
    "# Aktualizacja nowej kolumny 'all_decisions_fuzz'\n",
    "data.loc[all_negative_ones, 'all_decisions_fuzz'] = -1\n",
    "data.loc[all_positive_ones, 'all_decisions_fuzz'] = 1\n",
    "data.all_decisions_fuzz.value_counts()"
   ]
  },
  {
   "cell_type": "code",
   "execution_count": 11,
   "id": "5bb275fa",
   "metadata": {},
   "outputs": [
    {
     "data": {
      "text/plain": [
       "all_decisions_fuzz\n",
       "0    1151\n",
       "Name: count, dtype: int64"
      ]
     },
     "execution_count": 11,
     "metadata": {},
     "output_type": "execute_result"
    }
   ],
   "source": [
    "# Inicjalizacja nowej kolumny z domyślnymi wartościami\n",
    "data['all_decisions_fuzz'] = 0\n",
    "\n",
    "# Sprawdzenie miejsc, gdzie wszystkie wskaźniki są równe -1\n",
    "all_negative_ones = ( (data['Signal_william_fuzz_system'] == -1) &\n",
    "                     (data['fuzz_MA_strategy'] == -1) &\n",
    "                     (data['fuzz_BB_strategy'] == -1) )\n",
    "\n",
    "# Sprawdzenie miejsc, gdzie wszystkie wskaźniki są równe 1\n",
    "all_positive_ones = ((data['Signal_william_fuzz_system'] == 1) &\n",
    "                     (data['fuzz_MA_strategy'] == 1) &\n",
    "                     (data['fuzz_BB_strategy'] == 1) )\n",
    "\n",
    "# Aktualizacja nowej kolumny 'all_decisions_fuzz'\n",
    "data.loc[all_negative_ones, 'all_decisions_fuzz'] = -1\n",
    "data.loc[all_positive_ones, 'all_decisions_fuzz'] = 1\n",
    "data.all_decisions_fuzz.value_counts()"
   ]
  },
  {
   "cell_type": "code",
   "execution_count": 12,
   "id": "fa4b8496",
   "metadata": {},
   "outputs": [
    {
     "data": {
      "text/plain": [
       "all_decisions_fuzz\n",
       "0    1151\n",
       "Name: count, dtype: int64"
      ]
     },
     "execution_count": 12,
     "metadata": {},
     "output_type": "execute_result"
    }
   ],
   "source": [
    "# Inicjalizacja nowej kolumny z domyślnymi wartościami\n",
    "data['all_decisions_fuzz'] = 0\n",
    "\n",
    "# Sprawdzenie miejsc, gdzie wszystkie wskaźniki są równe -1\n",
    "all_negative_ones = ( (data['Signal_william_fuzz_system'] == -1) &\n",
    "                     (data['fuzz_MACD_strategy'] == -1) &\n",
    "                     (data['fuzz_BB_strategy'] == -1) )\n",
    "\n",
    "# Sprawdzenie miejsc, gdzie wszystkie wskaźniki są równe 1\n",
    "all_positive_ones = ((data['Signal_william_fuzz_system'] == 1) &\n",
    "                     (data['fuzz_MACD_strategy'] == 1) &\n",
    "                     (data['fuzz_BB_strategy'] == 1) )\n",
    "\n",
    "# Aktualizacja nowej kolumny 'all_decisions_fuzz'\n",
    "data.loc[all_negative_ones, 'all_decisions_fuzz'] = -1\n",
    "data.loc[all_positive_ones, 'all_decisions_fuzz'] = 1\n",
    "data.all_decisions_fuzz.value_counts()"
   ]
  },
  {
   "cell_type": "code",
   "execution_count": 13,
   "id": "628917cc",
   "metadata": {},
   "outputs": [
    {
     "data": {
      "text/plain": [
       "all_decisions_fuzz\n",
       "0    1151\n",
       "Name: count, dtype: int64"
      ]
     },
     "execution_count": 13,
     "metadata": {},
     "output_type": "execute_result"
    }
   ],
   "source": [
    "# Inicjalizacja nowej kolumny z domyślnymi wartościami\n",
    "data['all_decisions_fuzz'] = 0\n",
    "\n",
    "# Sprawdzenie miejsc, gdzie wszystkie wskaźniki są równe -1\n",
    "all_negative_ones = ( (data['fuzz_MA_strategy'] == -1) &\n",
    "                     (data['fuzz_MACD_strategy'] == -1) &\n",
    "                     (data['fuzz_BB_strategy'] == -1) )\n",
    "\n",
    "# Sprawdzenie miejsc, gdzie wszystkie wskaźniki są równe 1\n",
    "all_positive_ones = ((data['fuzz_MA_strategy'] == 1) &\n",
    "                     (data['fuzz_MACD_strategy'] == 1) &\n",
    "                     (data['fuzz_BB_strategy'] == 1) )\n",
    "\n",
    "# Aktualizacja nowej kolumny 'all_decisions_fuzz'\n",
    "data.loc[all_negative_ones, 'all_decisions_fuzz'] = -1\n",
    "data.loc[all_positive_ones, 'all_decisions_fuzz'] = 1\n",
    "data.all_decisions_fuzz.value_counts()"
   ]
  },
  {
   "cell_type": "markdown",
   "id": "2fbe1df5",
   "metadata": {},
   "source": [
    "# ostre"
   ]
  },
  {
   "cell_type": "code",
   "execution_count": null,
   "id": "949541a7",
   "metadata": {},
   "outputs": [],
   "source": [
    "RSI %R MA -1 3\n",
    "RSI %R MACD 0 \n",
    "RSI %R BB -1  197  1 82\n",
    "RSI MA MACD 0 \n",
    "RSI MA BB 0\n",
    "RSI MACD BB 0 \n",
    "%R MA MACD 0\n",
    "%R MA BB 0\n",
    "%R MACD BB 0\n",
    "MA MACD BB 0"
   ]
  },
  {
   "cell_type": "code",
   "execution_count": 29,
   "id": "60531fe7",
   "metadata": {},
   "outputs": [],
   "source": [
    "\n",
    "data = pd.read_csv('data/decisions_EURUSD_1H.csv')\n",
    "#data = pd.read_csv('data/decisions_EURUSD_5Y.csv')\n",
    "\n",
    "\n",
    "data = data.set_index(pd.DatetimeIndex(data['data_datetime']))\n",
    "#data = data.set_index(pd.DatetimeIndex(data['Date']))"
   ]
  },
  {
   "cell_type": "code",
   "execution_count": 26,
   "id": "eaff72ca",
   "metadata": {},
   "outputs": [
    {
     "data": {
      "text/plain": [
       "all_decisions\n",
       "0    5298\n",
       "Name: count, dtype: int64"
      ]
     },
     "execution_count": 26,
     "metadata": {},
     "output_type": "execute_result"
    }
   ],
   "source": [
    "# Inicjalizacja nowej kolumny z domyślnymi wartościami\n",
    "data['all_decisions'] = 0\n",
    "\n",
    "# Sprawdzenie miejsc, gdzie wszystkie wskaźniki są równe -1\n",
    "all_negative_ones = ( (data['dec_rsi'] == -1) &\n",
    "                     (data['dec_will'] == -1) &\n",
    "                     (data['cross_MA'] == -1) )\n",
    "\n",
    "# Sprawdzenie miejsc, gdzie wszystkie wskaźniki są równe 1\n",
    "all_positive_ones = ((data['dec_rsi'] == 1) &\n",
    "                     (data['dec_will'] == 1) &\n",
    "                     (data['cross_MA'] == 1) )\n",
    "\n",
    "# Aktualizacja nowej kolumny 'all_decisions'\n",
    "data.loc[all_negative_ones, 'all_decisions'] = -1\n",
    "data.loc[all_positive_ones, 'all_decisions'] = 1\n",
    "data.all_decisions.value_counts()"
   ]
  },
  {
   "cell_type": "code",
   "execution_count": 27,
   "id": "94d83e53",
   "metadata": {},
   "outputs": [
    {
     "data": {
      "text/plain": [
       "all_decisions\n",
       " 0    5286\n",
       "-1       7\n",
       " 1       5\n",
       "Name: count, dtype: int64"
      ]
     },
     "execution_count": 27,
     "metadata": {},
     "output_type": "execute_result"
    }
   ],
   "source": [
    "# Inicjalizacja nowej kolumny z domyślnymi wartościami\n",
    "data['all_decisions'] = 0\n",
    "\n",
    "# Sprawdzenie miejsc, gdzie wszystkie wskaźniki są równe -1\n",
    "all_negative_ones = ( (data['dec_rsi'] == -1) &\n",
    "                     (data['dec_will'] == -1) &\n",
    "                     (data['MACD_decision'] == -1) )\n",
    "\n",
    "# Sprawdzenie miejsc, gdzie wszystkie wskaźniki są równe 1\n",
    "all_positive_ones = ((data['dec_rsi'] == 1) &\n",
    "                     (data['dec_will'] == 1) &\n",
    "                     (data['MACD_decision'] == 1) )\n",
    "\n",
    "# Aktualizacja nowej kolumny 'all_decisions'\n",
    "data.loc[all_negative_ones, 'all_decisions'] = -1\n",
    "data.loc[all_positive_ones, 'all_decisions'] = 1\n",
    "data.all_decisions.value_counts()"
   ]
  },
  {
   "cell_type": "code",
   "execution_count": 30,
   "id": "ef17a70c",
   "metadata": {},
   "outputs": [
    {
     "data": {
      "text/plain": [
       "all_decisions\n",
       " 0    5029\n",
       "-1     140\n",
       " 1     129\n",
       "Name: count, dtype: int64"
      ]
     },
     "execution_count": 30,
     "metadata": {},
     "output_type": "execute_result"
    }
   ],
   "source": [
    "# Inicjalizacja nowej kolumny z domyślnymi wartościami\n",
    "data['all_decisions'] = 0\n",
    "\n",
    "# Sprawdzenie miejsc, gdzie wszystkie wskaźniki są równe -1\n",
    "all_negative_ones = ( (data['dec_rsi'] == -1) &\n",
    "                     (data['dec_will'] == -1) &\n",
    "                     (data['dec_bollinger'] == -1) )\n",
    "\n",
    "# Sprawdzenie miejsc, gdzie wszystkie wskaźniki są równe 1\n",
    "all_positive_ones = ((data['dec_rsi'] == 1) &\n",
    "                     (data['dec_will'] == 1) &\n",
    "                     (data['dec_bollinger'] == 1) )\n",
    "\n",
    "# Aktualizacja nowej kolumny 'all_decisions'\n",
    "data.loc[all_negative_ones, 'all_decisions'] = -1\n",
    "data.loc[all_positive_ones, 'all_decisions'] = 1\n",
    "data.all_decisions.value_counts()"
   ]
  },
  {
   "cell_type": "code",
   "execution_count": 18,
   "id": "1a2b027c",
   "metadata": {},
   "outputs": [
    {
     "data": {
      "text/plain": [
       "all_decisions\n",
       "0    5298\n",
       "Name: count, dtype: int64"
      ]
     },
     "execution_count": 18,
     "metadata": {},
     "output_type": "execute_result"
    }
   ],
   "source": [
    "# Inicjalizacja nowej kolumny z domyślnymi wartościami\n",
    "data['all_decisions'] = 0\n",
    "\n",
    "# Sprawdzenie miejsc, gdzie wszystkie wskaźniki są równe -1\n",
    "all_negative_ones = ( (data['dec_rsi'] == -1) &\n",
    "                     (data['cross_MA'] == -1) &\n",
    "                     (data['MACD_decision'] == -1) )\n",
    "\n",
    "# Sprawdzenie miejsc, gdzie wszystkie wskaźniki są równe 1\n",
    "all_positive_ones = ((data['dec_rsi'] == 1) &\n",
    "                     (data['cross_MA'] == 1) &\n",
    "                     (data['MACD_decision'] == 1) )\n",
    "\n",
    "# Aktualizacja nowej kolumny 'all_decisions'\n",
    "data.loc[all_negative_ones, 'all_decisions'] = -1\n",
    "data.loc[all_positive_ones, 'all_decisions'] = 1\n",
    "\n",
    "data.all_decisions.value_counts()"
   ]
  },
  {
   "cell_type": "code",
   "execution_count": 19,
   "id": "fdb71ec6",
   "metadata": {},
   "outputs": [
    {
     "data": {
      "text/plain": [
       "all_decisions\n",
       "0    5298\n",
       "Name: count, dtype: int64"
      ]
     },
     "execution_count": 19,
     "metadata": {},
     "output_type": "execute_result"
    }
   ],
   "source": [
    "# Inicjalizacja nowej kolumny z domyślnymi wartościami\n",
    "data['all_decisions'] = 0\n",
    "\n",
    "# Sprawdzenie miejsc, gdzie wszystkie wskaźniki są równe -1\n",
    "all_negative_ones = ( (data['dec_rsi'] == -1) &\n",
    "                     (data['cross_MA'] == -1) &\n",
    "                     (data['dec_bollinger'] == -1) )\n",
    "\n",
    "# Sprawdzenie miejsc, gdzie wszystkie wskaźniki są równe 1\n",
    "all_positive_ones = ((data['dec_rsi'] == 1) &\n",
    "                     (data['cross_MA'] == 1) &\n",
    "                     (data['dec_bollinger'] == 1) )\n",
    "\n",
    "# Aktualizacja nowej kolumny 'all_decisions'\n",
    "data.loc[all_negative_ones, 'all_decisions'] = -1\n",
    "data.loc[all_positive_ones, 'all_decisions'] = 1\n",
    "data.all_decisions.value_counts()"
   ]
  },
  {
   "cell_type": "code",
   "execution_count": 20,
   "id": "3c8e90f0",
   "metadata": {
    "scrolled": true
   },
   "outputs": [
    {
     "data": {
      "text/plain": [
       "all_decisions\n",
       "0    5298\n",
       "Name: count, dtype: int64"
      ]
     },
     "execution_count": 20,
     "metadata": {},
     "output_type": "execute_result"
    }
   ],
   "source": [
    "# Inicjalizacja nowej kolumny z domyślnymi wartościami\n",
    "data['all_decisions'] = 0\n",
    "\n",
    "# Sprawdzenie miejsc, gdzie wszystkie wskaźniki są równe -1\n",
    "all_negative_ones = ( (data['dec_rsi'] == -1) &\n",
    "                     (data['MACD_decision'] == -1) &\n",
    "                     (data['dec_bollinger'] == -1) )\n",
    "\n",
    "# Sprawdzenie miejsc, gdzie wszystkie wskaźniki są równe 1\n",
    "all_positive_ones = ((data['dec_rsi'] == 1) &\n",
    "                     (data['MACD_decision'] == 1) &\n",
    "                     (data['dec_bollinger'] == 1) )\n",
    "\n",
    "# Aktualizacja nowej kolumny 'all_decisions'\n",
    "data.loc[all_negative_ones, 'all_decisions'] = -1\n",
    "data.loc[all_positive_ones, 'all_decisions'] = 1\n",
    "data.all_decisions.value_counts()"
   ]
  },
  {
   "cell_type": "code",
   "execution_count": 21,
   "id": "30b16db7",
   "metadata": {},
   "outputs": [
    {
     "data": {
      "text/plain": [
       "all_decisions\n",
       "0    5298\n",
       "Name: count, dtype: int64"
      ]
     },
     "execution_count": 21,
     "metadata": {},
     "output_type": "execute_result"
    }
   ],
   "source": [
    "# Inicjalizacja nowej kolumny z domyślnymi wartościami\n",
    "data['all_decisions'] = 0\n",
    "\n",
    "# Sprawdzenie miejsc, gdzie wszystkie wskaźniki są równe -1\n",
    "all_negative_ones = ( (data['dec_will'] == -1) &\n",
    "                     (data['cross_MA'] == -1) &\n",
    "                     (data['MACD_decision'] == -1) )\n",
    "\n",
    "# Sprawdzenie miejsc, gdzie wszystkie wskaźniki są równe 1\n",
    "all_positive_ones = ((data['dec_will'] == 1) &\n",
    "                     (data['cross_MA'] == 1) &\n",
    "                     (data['MACD_decision'] == 1) )\n",
    "\n",
    "# Aktualizacja nowej kolumny 'all_decisions'\n",
    "data.loc[all_negative_ones, 'all_decisions'] = -1\n",
    "data.loc[all_positive_ones, 'all_decisions'] = 1\n",
    "data.all_decisions.value_counts()"
   ]
  },
  {
   "cell_type": "code",
   "execution_count": 22,
   "id": "d13f5a5a",
   "metadata": {},
   "outputs": [
    {
     "data": {
      "text/plain": [
       "all_decisions\n",
       "0    5298\n",
       "Name: count, dtype: int64"
      ]
     },
     "execution_count": 22,
     "metadata": {},
     "output_type": "execute_result"
    }
   ],
   "source": [
    "# Inicjalizacja nowej kolumny z domyślnymi wartościami\n",
    "data['all_decisions'] = 0\n",
    "\n",
    "# Sprawdzenie miejsc, gdzie wszystkie wskaźniki są równe -1\n",
    "all_negative_ones = ( (data['dec_will'] == -1) &\n",
    "                     (data['cross_MA'] == -1) &\n",
    "                     (data['dec_bollinger'] == -1) )\n",
    "\n",
    "# Sprawdzenie miejsc, gdzie wszystkie wskaźniki są równe 1\n",
    "all_positive_ones = ((data['dec_will'] == 1) &\n",
    "                     (data['cross_MA'] == 1) &\n",
    "                     (data['dec_bollinger'] == 1) )\n",
    "\n",
    "# Aktualizacja nowej kolumny 'all_decisions'\n",
    "data.loc[all_negative_ones, 'all_decisions'] = -1\n",
    "data.loc[all_positive_ones, 'all_decisions'] = 1\n",
    "data.all_decisions.value_counts()"
   ]
  },
  {
   "cell_type": "code",
   "execution_count": 23,
   "id": "83ef613c",
   "metadata": {},
   "outputs": [
    {
     "data": {
      "text/plain": [
       "all_decisions\n",
       "0    5298\n",
       "Name: count, dtype: int64"
      ]
     },
     "execution_count": 23,
     "metadata": {},
     "output_type": "execute_result"
    }
   ],
   "source": [
    "# Inicjalizacja nowej kolumny z domyślnymi wartościami\n",
    "data['all_decisions'] = 0\n",
    "\n",
    "# Sprawdzenie miejsc, gdzie wszystkie wskaźniki są równe -1\n",
    "all_negative_ones = ( (data['dec_will'] == -1) &\n",
    "                     (data['MACD_decision'] == -1) &\n",
    "                     (data['dec_bollinger'] == -1) )\n",
    "\n",
    "# Sprawdzenie miejsc, gdzie wszystkie wskaźniki są równe 1\n",
    "all_positive_ones = ((data['dec_will'] == 1) &\n",
    "                     (data['MACD_decision'] == 1) &\n",
    "                     (data['dec_bollinger'] == 1) )\n",
    "\n",
    "# Aktualizacja nowej kolumny 'all_decisions'\n",
    "data.loc[all_negative_ones, 'all_decisions'] = -1\n",
    "data.loc[all_positive_ones, 'all_decisions'] = 1\n",
    "data.all_decisions.value_counts()"
   ]
  },
  {
   "cell_type": "code",
   "execution_count": 24,
   "id": "4c4c70cf",
   "metadata": {},
   "outputs": [
    {
     "data": {
      "text/plain": [
       "all_decisions\n",
       "0    5298\n",
       "Name: count, dtype: int64"
      ]
     },
     "execution_count": 24,
     "metadata": {},
     "output_type": "execute_result"
    }
   ],
   "source": [
    "# Inicjalizacja nowej kolumny z domyślnymi wartościami\n",
    "data['all_decisions'] = 0\n",
    "\n",
    "# Sprawdzenie miejsc, gdzie wszystkie wskaźniki są równe -1\n",
    "all_negative_ones = ( (data['cross_MA'] == -1) &\n",
    "                     (data['MACD_decision'] == -1) &\n",
    "                     (data['dec_bollinger'] == -1) )\n",
    "\n",
    "# Sprawdzenie miejsc, gdzie wszystkie wskaźniki są równe 1\n",
    "all_positive_ones = ((data['cross_MA'] == 1) &\n",
    "                     (data['MACD_decision'] == 1) &\n",
    "                     (data['dec_bollinger'] == 1) )\n",
    "\n",
    "# Aktualizacja nowej kolumny 'all_decisions'\n",
    "data.loc[all_negative_ones, 'all_decisions'] = -1\n",
    "data.loc[all_positive_ones, 'all_decisions'] = 1\n",
    "data.all_decisions.value_counts()"
   ]
  },
  {
   "cell_type": "code",
   "execution_count": null,
   "id": "fd2b6b56",
   "metadata": {},
   "outputs": [],
   "source": []
  },
  {
   "cell_type": "code",
   "execution_count": null,
   "id": "6a529242",
   "metadata": {},
   "outputs": [],
   "source": []
  }
 ],
 "metadata": {
  "kernelspec": {
   "display_name": "Python 3 (ipykernel)",
   "language": "python",
   "name": "python3"
  },
  "language_info": {
   "codemirror_mode": {
    "name": "ipython",
    "version": 3
   },
   "file_extension": ".py",
   "mimetype": "text/x-python",
   "name": "python",
   "nbconvert_exporter": "python",
   "pygments_lexer": "ipython3",
   "version": "3.10.11"
  }
 },
 "nbformat": 4,
 "nbformat_minor": 5
}
